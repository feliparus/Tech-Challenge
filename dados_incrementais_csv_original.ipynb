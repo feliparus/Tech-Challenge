{
 "cells": [
  {
   "cell_type": "code",
   "execution_count": 1,
   "id": "34de10d6-fd99-4d7b-92c0-6c7a70892906",
   "metadata": {},
   "outputs": [
    {
     "name": "stdout",
     "output_type": "stream",
     "text": [
      "Requirement already satisfied: pandas in c:\\users\\luiz.santos\\documents\\fiap grupo\\tech challenge\\.venv\\lib\\site-packages (2.2.1)\n",
      "Requirement already satisfied: numpy in c:\\users\\luiz.santos\\documents\\fiap grupo\\tech challenge\\.venv\\lib\\site-packages (1.26.4)\n",
      "Requirement already satisfied: python-dateutil>=2.8.2 in c:\\users\\luiz.santos\\documents\\fiap grupo\\tech challenge\\.venv\\lib\\site-packages (from pandas) (2.9.0.post0)\n",
      "Requirement already satisfied: pytz>=2020.1 in c:\\users\\luiz.santos\\documents\\fiap grupo\\tech challenge\\.venv\\lib\\site-packages (from pandas) (2024.1)\n",
      "Requirement already satisfied: tzdata>=2022.7 in c:\\users\\luiz.santos\\documents\\fiap grupo\\tech challenge\\.venv\\lib\\site-packages (from pandas) (2024.1)\n",
      "Requirement already satisfied: six>=1.5 in c:\\users\\luiz.santos\\documents\\fiap grupo\\tech challenge\\.venv\\lib\\site-packages (from python-dateutil>=2.8.2->pandas) (1.16.0)\n"
     ]
    }
   ],
   "source": [
    "!pip install pandas numpy"
   ]
  },
  {
   "cell_type": "code",
   "execution_count": 2,
   "id": "517d5164-ec47-421b-95c6-338c2a74518b",
   "metadata": {},
   "outputs": [],
   "source": [
    "import pandas as pd\n",
    "import numpy as np"
   ]
  },
  {
   "cell_type": "code",
   "execution_count": 3,
   "id": "8c4bf0f4-cafb-4570-9640-71a8dd63ef32",
   "metadata": {},
   "outputs": [],
   "source": [
    "def incrementar_dados_aleatorios_csv(dados):\n",
    "    try:\n",
    "        # Exibir os dados antes de concatenar (para debug)\n",
    "        print(\"Dados antes da concatenação:\\n\\n\", dados)\n",
    "        print('-' * 100)\n",
    "        \n",
    "        # Carregar o arquivo CSV existente (se necessário)\n",
    "        # dados_existente = pd.read_csv('dados.csv')\n",
    "\n",
    "        # Gerar 200 linhas de dados\n",
    "        num_linhas = 200\n",
    "\n",
    "        # Criar listas para cada coluna\n",
    "        idades = np.random.randint(18, 80, size=num_linhas).astype(float)\n",
    "        generos = np.random.choice(['masculino', 'feminino'], size=num_linhas)\n",
    "        imcs = np.random.uniform(18, 35, size=num_linhas).astype(float)\n",
    "        filhos = np.random.randint(0, 5, size=num_linhas).astype(float)\n",
    "        fumante = np.random.choice(['sim', 'não'], size=num_linhas)\n",
    "        regioes = np.random.choice(['sudoeste', 'sudeste', 'nordeste', 'noroeste'], size=num_linhas)\n",
    "        encargos = np.random.uniform(10000, 50000, size=num_linhas).astype(float)\n",
    "\n",
    "        # Introduzir valores nulos manualmente em algumas colunas\n",
    "        # Vamos forçar 20 ausências em cada coluna\n",
    "        ausencias_por_coluna = 20\n",
    "\n",
    "        indices_nans = np.random.choice(num_linhas, size=ausencias_por_coluna, replace=False)\n",
    "\n",
    "        idades[indices_nans] = np.nan\n",
    "        generos[indices_nans] = np.nan\n",
    "        imcs[indices_nans] = np.nan\n",
    "        filhos[indices_nans] = np.nan\n",
    "        fumante[indices_nans] = np.nan\n",
    "        regioes[indices_nans] = np.nan\n",
    "        encargos[indices_nans] = np.nan\n",
    "\n",
    "        # Criar DataFrame com os dados adicionais\n",
    "        dados_adicionais = pd.DataFrame({\n",
    "            'Idade': idades,\n",
    "            'Gênero': generos,\n",
    "            'IMC': imcs,\n",
    "            'Filhos': filhos,\n",
    "            'Fumante': fumante,\n",
    "            'Região': regioes,\n",
    "            'Encargos': encargos\n",
    "        })\n",
    "\n",
    "        # Concatenar os DataFrames 'dados' e 'dados_adicionais'\n",
    "        dados = pd.concat([dados, dados_adicionais], ignore_index=True)\n",
    "\n",
    "        # Tratando os dados\n",
    "        dados['Filhos'] = dados['Filhos'].fillna(0).astype(np.int64)\n",
    "\n",
    "        # Retornar os dados concatenados\n",
    "        return dados\n",
    "    except Exception as e:\n",
    "        print(\"Ocorreu uma exceção:\", e)"
   ]
  }
 ],
 "metadata": {
  "kernelspec": {
   "display_name": "Python 3 (ipykernel)",
   "language": "python",
   "name": "python3"
  },
  "language_info": {
   "codemirror_mode": {
    "name": "ipython",
    "version": 3
   },
   "file_extension": ".py",
   "mimetype": "text/x-python",
   "name": "python",
   "nbconvert_exporter": "python",
   "pygments_lexer": "ipython3",
   "version": "3.12.2"
  }
 },
 "nbformat": 4,
 "nbformat_minor": 5
}

{
 "cells": [
  {
   "cell_type": "code",
   "execution_count": 1,
   "id": "dbc0af4c-ddf6-4729-8cea-952f3c7d1104",
   "metadata": {},
   "outputs": [
    {
     "name": "stdout",
     "output_type": "stream",
     "text": [
      "Requirement already satisfied: pandas in c:\\users\\luiz.santos\\documents\\fiap grupo\\tech challenge\\.venv\\lib\\site-packages (2.2.1)\n",
      "Requirement already satisfied: scikit-learn in c:\\users\\luiz.santos\\documents\\fiap grupo\\tech challenge\\.venv\\lib\\site-packages (1.4.1.post1)\n",
      "Requirement already satisfied: optuna in c:\\users\\luiz.santos\\documents\\fiap grupo\\tech challenge\\.venv\\lib\\site-packages (3.6.1)\n",
      "Requirement already satisfied: seaborn in c:\\users\\luiz.santos\\documents\\fiap grupo\\tech challenge\\.venv\\lib\\site-packages (0.13.2)\n",
      "Requirement already satisfied: statsmodels in c:\\users\\luiz.santos\\documents\\fiap grupo\\tech challenge\\.venv\\lib\\site-packages (0.14.1)\n",
      "Requirement already satisfied: numpy<2,>=1.26.0 in c:\\users\\luiz.santos\\documents\\fiap grupo\\tech challenge\\.venv\\lib\\site-packages (from pandas) (1.26.4)\n",
      "Requirement already satisfied: python-dateutil>=2.8.2 in c:\\users\\luiz.santos\\documents\\fiap grupo\\tech challenge\\.venv\\lib\\site-packages (from pandas) (2.9.0.post0)\n",
      "Requirement already satisfied: pytz>=2020.1 in c:\\users\\luiz.santos\\documents\\fiap grupo\\tech challenge\\.venv\\lib\\site-packages (from pandas) (2024.1)\n",
      "Requirement already satisfied: tzdata>=2022.7 in c:\\users\\luiz.santos\\documents\\fiap grupo\\tech challenge\\.venv\\lib\\site-packages (from pandas) (2024.1)\n",
      "Requirement already satisfied: scipy>=1.6.0 in c:\\users\\luiz.santos\\documents\\fiap grupo\\tech challenge\\.venv\\lib\\site-packages (from scikit-learn) (1.13.0)\n",
      "Requirement already satisfied: joblib>=1.2.0 in c:\\users\\luiz.santos\\documents\\fiap grupo\\tech challenge\\.venv\\lib\\site-packages (from scikit-learn) (1.3.2)\n",
      "Requirement already satisfied: threadpoolctl>=2.0.0 in c:\\users\\luiz.santos\\documents\\fiap grupo\\tech challenge\\.venv\\lib\\site-packages (from scikit-learn) (3.4.0)\n",
      "Requirement already satisfied: alembic>=1.5.0 in c:\\users\\luiz.santos\\documents\\fiap grupo\\tech challenge\\.venv\\lib\\site-packages (from optuna) (1.13.1)\n",
      "Requirement already satisfied: colorlog in c:\\users\\luiz.santos\\documents\\fiap grupo\\tech challenge\\.venv\\lib\\site-packages (from optuna) (6.8.2)\n",
      "Requirement already satisfied: packaging>=20.0 in c:\\users\\luiz.santos\\documents\\fiap grupo\\tech challenge\\.venv\\lib\\site-packages (from optuna) (24.0)\n",
      "Requirement already satisfied: sqlalchemy>=1.3.0 in c:\\users\\luiz.santos\\documents\\fiap grupo\\tech challenge\\.venv\\lib\\site-packages (from optuna) (2.0.29)\n",
      "Requirement already satisfied: tqdm in c:\\users\\luiz.santos\\documents\\fiap grupo\\tech challenge\\.venv\\lib\\site-packages (from optuna) (4.66.2)\n",
      "Requirement already satisfied: PyYAML in c:\\users\\luiz.santos\\documents\\fiap grupo\\tech challenge\\.venv\\lib\\site-packages (from optuna) (6.0.1)\n",
      "Requirement already satisfied: matplotlib!=3.6.1,>=3.4 in c:\\users\\luiz.santos\\documents\\fiap grupo\\tech challenge\\.venv\\lib\\site-packages (from seaborn) (3.8.3)\n",
      "Requirement already satisfied: patsy>=0.5.4 in c:\\users\\luiz.santos\\documents\\fiap grupo\\tech challenge\\.venv\\lib\\site-packages (from statsmodels) (0.5.6)\n",
      "Requirement already satisfied: Mako in c:\\users\\luiz.santos\\documents\\fiap grupo\\tech challenge\\.venv\\lib\\site-packages (from alembic>=1.5.0->optuna) (1.3.2)\n",
      "Requirement already satisfied: typing-extensions>=4 in c:\\users\\luiz.santos\\documents\\fiap grupo\\tech challenge\\.venv\\lib\\site-packages (from alembic>=1.5.0->optuna) (4.11.0)\n",
      "Requirement already satisfied: contourpy>=1.0.1 in c:\\users\\luiz.santos\\documents\\fiap grupo\\tech challenge\\.venv\\lib\\site-packages (from matplotlib!=3.6.1,>=3.4->seaborn) (1.2.1)\n",
      "Requirement already satisfied: cycler>=0.10 in c:\\users\\luiz.santos\\documents\\fiap grupo\\tech challenge\\.venv\\lib\\site-packages (from matplotlib!=3.6.1,>=3.4->seaborn) (0.12.1)\n",
      "Requirement already satisfied: fonttools>=4.22.0 in c:\\users\\luiz.santos\\documents\\fiap grupo\\tech challenge\\.venv\\lib\\site-packages (from matplotlib!=3.6.1,>=3.4->seaborn) (4.50.0)\n",
      "Requirement already satisfied: kiwisolver>=1.3.1 in c:\\users\\luiz.santos\\documents\\fiap grupo\\tech challenge\\.venv\\lib\\site-packages (from matplotlib!=3.6.1,>=3.4->seaborn) (1.4.5)\n",
      "Requirement already satisfied: pillow>=8 in c:\\users\\luiz.santos\\documents\\fiap grupo\\tech challenge\\.venv\\lib\\site-packages (from matplotlib!=3.6.1,>=3.4->seaborn) (10.3.0)\n",
      "Requirement already satisfied: pyparsing>=2.3.1 in c:\\users\\luiz.santos\\documents\\fiap grupo\\tech challenge\\.venv\\lib\\site-packages (from matplotlib!=3.6.1,>=3.4->seaborn) (3.1.2)\n",
      "Requirement already satisfied: six in c:\\users\\luiz.santos\\documents\\fiap grupo\\tech challenge\\.venv\\lib\\site-packages (from patsy>=0.5.4->statsmodels) (1.16.0)\n",
      "Requirement already satisfied: greenlet!=0.4.17 in c:\\users\\luiz.santos\\documents\\fiap grupo\\tech challenge\\.venv\\lib\\site-packages (from sqlalchemy>=1.3.0->optuna) (3.0.3)\n",
      "Requirement already satisfied: colorama in c:\\users\\luiz.santos\\documents\\fiap grupo\\tech challenge\\.venv\\lib\\site-packages (from colorlog->optuna) (0.4.6)\n",
      "Requirement already satisfied: MarkupSafe>=0.9.2 in c:\\users\\luiz.santos\\documents\\fiap grupo\\tech challenge\\.venv\\lib\\site-packages (from Mako->alembic>=1.5.0->optuna) (2.1.5)\n"
     ]
    }
   ],
   "source": [
    "!pip install pandas scikit-learn optuna seaborn statsmodels"
   ]
  },
  {
   "cell_type": "code",
   "execution_count": 2,
   "id": "88537431-7a90-4c7c-a1d0-5eeb475c641e",
   "metadata": {},
   "outputs": [],
   "source": [
    "import pandas as pd\n",
    "import numpy as np\n",
    "import seaborn as sns\n",
    "import statsmodels.api as sm\n",
    "import matplotlib.pyplot as plt\n",
    "import optuna\n",
    "import os\n",
    "from include.utils import incrementar_dados_aleatorios_csv, categorizar_imc\n",
    "from include.utils import prever_encargos_futuros, segmentacao_de_risco, analise_de_sensibilidade, otimizacao_de_recursos, planejamento_estrategico"
   ]
  },
  {
   "cell_type": "code",
   "execution_count": 3,
   "id": "a2f178e3-93ea-45ca-8c37-9aeb74ea7184",
   "metadata": {},
   "outputs": [],
   "source": [
    "from sklearn.model_selection import train_test_split, cross_val_score\n",
    "from sklearn.ensemble import RandomForestRegressor\n",
    "from sklearn.linear_model import LinearRegression\n",
    "from sklearn.metrics import mean_squared_error\n",
    "from sklearn.preprocessing import OneHotEncoder, LabelEncoder, StandardScaler\n",
    "from sklearn.svm import SVR\n",
    "from sklearn.tree import DecisionTreeRegressor\n",
    "from sklearn.neighbors import KNeighborsRegressor\n",
    "from sklearn.ensemble import GradientBoostingRegressor"
   ]
  },
  {
   "cell_type": "markdown",
   "id": "320499db-f973-450a-9aab-316e6426be3a",
   "metadata": {},
   "source": [
    "**1. Engenharia de Recursos**"
   ]
  },
  {
   "cell_type": "markdown",
   "id": "2a110e58-c228-4985-a256-24ffc5dcc631",
   "metadata": {},
   "source": [
    "Novos recursos derivados dos dados existentes"
   ]
  },
  {
   "cell_type": "code",
   "execution_count": 4,
   "id": "31b10de9-2b41-4f53-b88d-2d46be3eb795",
   "metadata": {},
   "outputs": [
    {
     "name": "stdout",
     "output_type": "stream",
     "text": [
      "      Idade     Gênero    IMC  Filhos Fumante    Região  Encargos  \\\n",
      "0      56.0   feminino  29.77     2.0     sim  sudoeste  31109.89   \n",
      "1      46.0  masculino  25.86     1.0     não  nordeste  26650.70   \n",
      "2      32.0  masculino  23.01     0.0     não  sudoeste  21459.04   \n",
      "3      40.0   feminino  21.51     1.0     não  noroeste  29513.47   \n",
      "4      35.0   feminino  30.34     0.0     sim  sudoeste  24925.01   \n",
      "...     ...        ...    ...     ...     ...       ...       ...   \n",
      "1998    NaN        NaN    NaN     NaN     NaN       NaN       NaN   \n",
      "1999   36.0   feminino  31.84     3.0     sim  nordeste  24787.02   \n",
      "2000   48.0  masculino  20.75     2.0     sim   sudeste  33152.85   \n",
      "2001   74.0  masculino  19.99     2.0     não  nordeste  43367.61   \n",
      "2002   46.0   feminino  29.59     1.0     não  noroeste  28691.27   \n",
      "\n",
      "       Categoria_IMC  \n",
      "0          Sobrepeso  \n",
      "1          Sobrepeso  \n",
      "2        Peso normal  \n",
      "3        Peso normal  \n",
      "4              Obeso  \n",
      "...              ...  \n",
      "1998  Valor Inválido  \n",
      "1999           Obeso  \n",
      "2000     Peso normal  \n",
      "2001     Peso normal  \n",
      "2002       Sobrepeso  \n",
      "\n",
      "[2003 rows x 8 columns]\n"
     ]
    }
   ],
   "source": [
    "# Obtém a largura do terminal - uso mais embaixo nos prints\n",
    "terminal_width = os.get_terminal_size().columns\n",
    "\n",
    "dados = pd.read_csv('../planilhas/2_dados_aleatorios_sobre_original.csv', encoding='latin-1')\n",
    "\n",
    "# Aplicar a função para categorizar IMC e criar uma nova coluna 'Categoria_IMC'\n",
    "dados['Categoria_IMC'] = dados['IMC'].apply(categorizar_imc)\n",
    "\n",
    "print(dados)"
   ]
  },
  {
   "cell_type": "markdown",
   "id": "eebb4b2f-58ca-4fa7-97d1-af96eb7d266d",
   "metadata": {},
   "source": [
    "**2. Limpeza de Dados**"
   ]
  },
  {
   "cell_type": "code",
   "execution_count": 5,
   "id": "7be726d7-f49f-4115-9c22-9bf83b87f4bf",
   "metadata": {},
   "outputs": [
    {
     "name": "stdout",
     "output_type": "stream",
     "text": [
      "      Idade     Gênero    IMC  Filhos Fumante    Região  Encargos  \\\n",
      "0        56   feminino  29.77       2     sim  sudoeste  31109.89   \n",
      "1        46  masculino  25.86       1     não  nordeste  26650.70   \n",
      "2        32  masculino  23.01       0     não  sudoeste  21459.04   \n",
      "3        40   feminino  21.51       1     não  noroeste  29513.47   \n",
      "4        35   feminino  30.34       0     sim  sudoeste  24925.01   \n",
      "...     ...        ...    ...     ...     ...       ...       ...   \n",
      "1997     23   feminino  29.45       0     sim  noroeste  15843.09   \n",
      "1999     36   feminino  31.84       3     sim  nordeste  24787.02   \n",
      "2000     48  masculino  20.75       2     sim   sudeste  33152.85   \n",
      "2001     74  masculino  19.99       2     não  nordeste  43367.61   \n",
      "2002     46   feminino  29.59       1     não  noroeste  28691.27   \n",
      "\n",
      "     Categoria_IMC  \n",
      "0        Sobrepeso  \n",
      "1        Sobrepeso  \n",
      "2      Peso normal  \n",
      "3      Peso normal  \n",
      "4            Obeso  \n",
      "...            ...  \n",
      "1997     Sobrepeso  \n",
      "1999         Obeso  \n",
      "2000   Peso normal  \n",
      "2001   Peso normal  \n",
      "2002     Sobrepeso  \n",
      "\n",
      "[1803 rows x 8 columns]\n"
     ]
    }
   ],
   "source": [
    "# Remover linhas com valores NaN\n",
    "dados = dados.dropna()\n",
    "\n",
    "# Substituir valores nulos por zero\n",
    "dados['Filhos'] = dados['Filhos'].fillna(0)\n",
    "dados['Filhos'] = dados['Filhos'].astype(int)\n",
    "dados['Idade'] = dados['Idade'].fillna(0)\n",
    "dados['Idade'] = dados['Idade'].astype(int)\n",
    "dados['Encargos'] = dados['Encargos'].fillna(0)\n",
    "\n",
    "dados['Gênero'] = dados['Gênero'].str.replace('nan', 'Não informado')\n",
    "\n",
    "print(dados)"
   ]
  },
  {
   "cell_type": "markdown",
   "id": "ad26fe86-4dd4-488f-90ee-3a86ac237459",
   "metadata": {},
   "source": [
    "**3. Pré-processamento**"
   ]
  },
  {
   "cell_type": "code",
   "execution_count": 6,
   "id": "969de9b6-fa98-4951-b1b6-cfb5ea261c58",
   "metadata": {},
   "outputs": [
    {
     "name": "stdout",
     "output_type": "stream",
     "text": [
      "      Idade  Gênero    IMC  Filhos  Fumante  Categoria_IMC  Região_noroeste  \\\n",
      "0        56       0  29.77       2        1              3              0.0   \n",
      "1        46       1  25.86       1        0              3              0.0   \n",
      "2        32       1  23.01       0        0              2              0.0   \n",
      "3        40       0  21.51       1        0              2              1.0   \n",
      "4        35       0  30.34       0        1              1              0.0   \n",
      "...     ...     ...    ...     ...      ...            ...              ...   \n",
      "1997     23       0  29.45       0        1              3              1.0   \n",
      "1999     36       0  31.84       3        1              1              0.0   \n",
      "2000     48       1  20.75       2        1              2              0.0   \n",
      "2001     74       1  19.99       2        0              2              0.0   \n",
      "2002     46       0  29.59       1        0              3              1.0   \n",
      "\n",
      "      Região_sudeste  Região_sudoeste  \n",
      "0                0.0              1.0  \n",
      "1                0.0              0.0  \n",
      "2                0.0              1.0  \n",
      "3                0.0              0.0  \n",
      "4                0.0              1.0  \n",
      "...              ...              ...  \n",
      "1997             0.0              0.0  \n",
      "1999             0.0              0.0  \n",
      "2000             1.0              0.0  \n",
      "2001             0.0              0.0  \n",
      "2002             0.0              0.0  \n",
      "\n",
      "[1803 rows x 9 columns]\n"
     ]
    }
   ],
   "source": [
    "# Dividir os dados em features (X) e target (y)\n",
    "X = dados.drop(['Encargos'], axis=1)  # descartando colunas não necessárias para o teste\n",
    "y = dados['Encargos']\n",
    "\n",
    "# Codificar variáveis categóricas usando one-hot encoding\n",
    "colunas_codificadas_via_one_hot = ['Região']\n",
    "encoder = OneHotEncoder(drop='first')\n",
    "X_encoded = encoder.fit_transform(X[colunas_codificadas_via_one_hot])\n",
    "\n",
    "# Concatenar features codificadas com as restantes\n",
    "X_encoded = pd.DataFrame(X_encoded.toarray(), columns=encoder.get_feature_names_out(colunas_codificadas_via_one_hot), index=X.index)\n",
    "X = pd.concat([X.drop(colunas_codificadas_via_one_hot, axis=1), X_encoded], axis=1)\n",
    "\n",
    "# Codificar variáveis com LabelEncoder\n",
    "label_encoder = LabelEncoder()\n",
    "X['Categoria_IMC'] = label_encoder.fit_transform(X['Categoria_IMC'])\n",
    "X['Gênero'] = label_encoder.fit_transform(X['Gênero'])\n",
    "X['Fumante'] = label_encoder.fit_transform(X['Fumante'])\n",
    "\n",
    "# Substituir valores 'sim' e 'não' por 1 e 0 (comentei porque o resultado é o mesmo no LabelEncoder\n",
    "#X['Fumante'] = X['Fumante'].map({'sim': 1, 'não': 0})\n",
    "\n",
    "print(X)"
   ]
  },
  {
   "cell_type": "code",
   "execution_count": 7,
   "id": "a17d1075-c010-4b2d-bb6a-1f63dc89cd3f",
   "metadata": {},
   "outputs": [
    {
     "name": "stdout",
     "output_type": "stream",
     "text": [
      "Visualizar a matriz de correlação:\n",
      "                    Idade    Gênero       IMC    Filhos   Fumante  \\\n",
      "Idade            1.000000 -0.008082  0.011023  0.002965  0.010998   \n",
      "Gênero          -0.008082  1.000000  0.017750  0.066610 -0.000096   \n",
      "IMC              0.011023  0.017750  1.000000 -0.055861  0.049012   \n",
      "Filhos           0.002965  0.066610 -0.055861  1.000000  0.030299   \n",
      "Fumante          0.010998 -0.000096  0.049012  0.030299  1.000000   \n",
      "Categoria_IMC   -0.017933  0.004381 -0.228550 -0.013393 -0.036806   \n",
      "Região_noroeste -0.028351  0.016284 -0.041607 -0.006568 -0.034140   \n",
      "Região_sudeste  -0.002943  0.014352  0.041544 -0.010253  0.062902   \n",
      "Região_sudoeste  0.029102 -0.027278 -0.004542 -0.010261  0.008973   \n",
      "\n",
      "                 Categoria_IMC  Região_noroeste  Região_sudeste  \\\n",
      "Idade                -0.017933        -0.028351       -0.002943   \n",
      "Gênero                0.004381         0.016284        0.014352   \n",
      "IMC                  -0.228550        -0.041607        0.041544   \n",
      "Filhos               -0.013393        -0.006568       -0.010253   \n",
      "Fumante              -0.036806        -0.034140        0.062902   \n",
      "Categoria_IMC         1.000000         0.007907       -0.010312   \n",
      "Região_noroeste       0.007907         1.000000       -0.327114   \n",
      "Região_sudeste       -0.010312        -0.327114        1.000000   \n",
      "Região_sudoeste       0.039985        -0.323508       -0.333940   \n",
      "\n",
      "                 Região_sudoeste  \n",
      "Idade                   0.029102  \n",
      "Gênero                 -0.027278  \n",
      "IMC                    -0.004542  \n",
      "Filhos                 -0.010261  \n",
      "Fumante                 0.008973  \n",
      "Categoria_IMC           0.039985  \n",
      "Região_noroeste        -0.323508  \n",
      "Região_sudeste         -0.333940  \n",
      "Região_sudoeste         1.000000  \n"
     ]
    }
   ],
   "source": [
    "# Dividir os dados em conjuntos de treinamento e teste\n",
    "X_train, X_test, y_train, y_test = train_test_split(X, y, test_size=0.2, random_state=7)\n",
    "\n",
    "# Inicializar o StandardScaler, que é usado para padronizar os recursos\n",
    "scaler = StandardScaler()\n",
    "\n",
    "# Aplicar a transformação de padronização nos dados de treinamento e ajustar o scaler aos dados\n",
    "X_train_scaled = scaler.fit_transform(X_train)\n",
    "\n",
    "# Aplicar a mesma transformação de padronização aos dados de teste\n",
    "X_test_scaled = scaler.transform(X_test)\n",
    "\n",
    "# Calcular a matriz de correlação dos dados de treinamento\n",
    "correlation_matrix = X_train.corr()\n",
    "print('Visualizar a matriz de correlação:')\n",
    "print(correlation_matrix)"
   ]
  },
  {
   "cell_type": "markdown",
   "id": "464d0f57-fd29-48b2-a59e-42e36e34e72d",
   "metadata": {},
   "source": [
    "**Validação estatística**"
   ]
  },
  {
   "cell_type": "markdown",
   "id": "64155550-918c-4280-b673-b8eb7e920084",
   "metadata": {},
   "source": [
    "Utilizando métricas estatísticas para validar a eficácia do modelo (p-value, intervalos de confiança):            "
   ]
  },
  {
   "cell_type": "code",
   "execution_count": 8,
   "id": "41e44b40-d5be-4983-8bf9-ed753892fcc1",
   "metadata": {},
   "outputs": [
    {
     "name": "stdout",
     "output_type": "stream",
     "text": [
      "P-values dos coeficientes:\n",
      "Idade      0.000000e+00\n",
      "Filhos     4.653095e-34\n",
      "Fumante    3.333993e-11\n",
      "Name: P>|t|, dtype: float64\n",
      "\n",
      "Intervalos de Confiança dos coeficientes:\n",
      "              0        1\n",
      "Idade    576.44   586.00\n",
      "Filhos   647.18   889.83\n",
      "Fumante  674.79  1236.61\n"
     ]
    }
   ],
   "source": [
    "dados_aux = dados.copy()\n",
    "\n",
    "dados_aux['Fumante'] = dados_aux['Fumante'].map({'sim': 1, 'não': 0})\n",
    "\n",
    "# Adicione uma coluna de intercepto aos dados\n",
    "dados_aux['Intercepto'] = 1\n",
    "\n",
    "# Dividindo os dados em variáveis independentes (X) e variável dependente (y)\n",
    "X = dados_aux[['Idade', 'Filhos', 'Fumante']]\n",
    "y = dados_aux['Encargos']\n",
    "\n",
    "# Ajustando o modelo de regressão linear usando OLS (Ordinary Least Squares)\n",
    "modelo = sm.OLS(y, X).fit()\n",
    "\n",
    "# Calculando os p-values dos coeficientes\n",
    "p_values = modelo.summary2().tables[1]['P>|t|']\n",
    "\n",
    "# Calculando os intervalos de confiança dos coeficientes\n",
    "conf_intervals = modelo.conf_int()\n",
    "\n",
    "# Imprima os resultados\n",
    "print(\"P-values dos coeficientes:\")\n",
    "print(p_values)\n",
    "print(\"\\nIntervalos de Confiança dos coeficientes:\")\n",
    "print(round(conf_intervals,2))"
   ]
  },
  {
   "cell_type": "markdown",
   "id": "d97c5862-6ad0-4e20-9e49-a447bfaa48c2",
   "metadata": {},
   "source": [
    "**4. Treinamento do Modelo**"
   ]
  },
  {
   "cell_type": "code",
   "execution_count": 9,
   "id": "be67531c-1538-4d5e-858f-7ab5406ffd2e",
   "metadata": {},
   "outputs": [
    {
     "name": "stdout",
     "output_type": "stream",
     "text": [
      "--------------------------------------------------------------------------------------------------------------------------------------------------------------\n",
      "Random Forest Regressor MSE: 8825151.07\n",
      "Acurácia média com validação cruzada para Random Forest Regressor: 0.91\n",
      "Importância das características para Random Forest Regressor:\n",
      "           Colunas  Importância\n",
      "0            Idade         0.93\n",
      "2              IMC         0.03\n",
      "3           Filhos         0.01\n",
      "4          Fumante         0.00\n",
      "1           Gênero         0.00\n",
      "7   Região_sudeste         0.00\n",
      "8  Região_sudoeste         0.00\n",
      "6  Região_noroeste         0.00\n",
      "5    Categoria_IMC         0.00\n",
      "--------------------------------------------------------------------------------------------------------------------------------------------------------------\n",
      "Linear Regression MSE: 7399729.94\n",
      "Acurácia média com validação cruzada para Linear Regression: 0.92\n",
      "Coeficientes das características para Linear Regression:\n",
      "           Colunas  Coeficiente\n",
      "0            Idade       502.65\n",
      "3           Filhos       155.95\n",
      "4          Fumante       109.47\n",
      "2              IMC        -0.46\n",
      "5    Categoria_IMC       -18.21\n",
      "1           Gênero       -47.08\n",
      "8  Região_sudoeste      -177.02\n",
      "6  Região_noroeste      -177.28\n",
      "7   Região_sudeste      -284.62\n",
      "--------------------------------------------------------------------------------------------------------------------------------------------------------------\n",
      "Support Vector Regression MSE: 83943679.55\n",
      "Acurácia média com validação cruzada para Support Vector Regression: 0.02\n",
      "Importância das características para Support Vector Regression:\n",
      "                         Colunas  Importância\n",
      "Idade                      Idade        48.76\n",
      "IMC                          IMC        26.43\n",
      "Categoria_IMC      Categoria_IMC         1.92\n",
      "Filhos                    Filhos         1.51\n",
      "Fumante                  Fumante         0.52\n",
      "Gênero                    Gênero         0.50\n",
      "Região_sudeste    Região_sudeste         0.25\n",
      "Região_sudoeste  Região_sudoeste         0.25\n",
      "Região_noroeste  Região_noroeste         0.24\n",
      "--------------------------------------------------------------------------------------------------------------------------------------------------------------\n",
      "Decision Tree Regressor MSE: 15987685.59\n",
      "Acurácia média com validação cruzada para Decision Tree Regressor: 0.84\n",
      "Importância das características para Decision Tree Regressor:\n",
      "           Colunas  Importância\n",
      "0            Idade         0.93\n",
      "2              IMC         0.04\n",
      "3           Filhos         0.01\n",
      "4          Fumante         0.00\n",
      "1           Gênero         0.00\n",
      "8  Região_sudoeste         0.00\n",
      "6  Região_noroeste         0.00\n",
      "7   Região_sudeste         0.00\n",
      "5    Categoria_IMC         0.00\n",
      "--------------------------------------------------------------------------------------------------------------------------------------------------------------\n",
      "K-Nearest Neighbors Regressor MSE: 9414196.75\n",
      "Acurácia média com validação cruzada para K-Nearest Neighbors Regressor: 0.91\n",
      "Não é possível calcular a importância das características para o modelo K-Nearest Neighbors Regressor\n",
      "--------------------------------------------------------------------------------------------------------------------------------------------------------------\n",
      "Gradient Boosting Regressor MSE: 7483201.93\n",
      "Acurácia média com validação cruzada para Gradient Boosting Regressor: 0.92\n",
      "Importância das características para Gradient Boosting Regressor:\n",
      "           Colunas  Importância\n",
      "0            Idade         0.99\n",
      "2              IMC         0.01\n",
      "3           Filhos         0.00\n",
      "7   Região_sudeste         0.00\n",
      "1           Gênero         0.00\n",
      "4          Fumante         0.00\n",
      "8  Região_sudoeste         0.00\n",
      "6  Região_noroeste         0.00\n",
      "5    Categoria_IMC         0.00\n"
     ]
    }
   ],
   "source": [
    "# Adicionando mais modelos ao dicionário de modelos\n",
    "models = {\n",
    "    'Random Forest Regressor': RandomForestRegressor(),\n",
    "    'Linear Regression': LinearRegression(),\n",
    "    'Support Vector Regression': SVR(),\n",
    "    'Decision Tree Regressor': DecisionTreeRegressor(),\n",
    "    'K-Nearest Neighbors Regressor': KNeighborsRegressor(),\n",
    "    'Gradient Boosting Regressor': GradientBoostingRegressor()\n",
    "}\n",
    "\n",
    "# Treinamento e avaliação dos modelos\n",
    "for name, model in models.items():\n",
    "    model.fit(X_train, y_train)\n",
    "    y_pred = model.predict(X_test)\n",
    "    mse = mean_squared_error(y_test, y_pred)\n",
    "\n",
    "    # Imprime uma linha separadora com base na largura do terminal\n",
    "    print('-' * terminal_width)\n",
    "    print(f'{name} MSE: {round(mse,2)}')\n",
    "    # Calcular acurácia média usando validação cruzada\n",
    "    scores = cross_val_score(model, X_train, y_train, cv=5)\n",
    "    print(f'Acurácia média com validação cruzada para {name}: {round(scores.mean(),2)}')\n",
    "    \n",
    "    # Calcula e exibe a importância das características para o modelo atual\n",
    "    if hasattr(model, 'feature_importances_'):\n",
    "        importance_df = pd.DataFrame({'Colunas': X_train.columns, 'Importância': model.feature_importances_})\n",
    "        importance_df = importance_df.sort_values(by='Importância', ascending=False)\n",
    "        print(f\"Importância das características para {name}:\")\n",
    "        print(round(importance_df,2))\n",
    "    elif isinstance(model, LinearRegression):\n",
    "        importance_df = pd.DataFrame({'Colunas': X_train.columns, 'Coeficiente': model.coef_})\n",
    "        importance_df = importance_df.sort_values(by='Coeficiente', ascending=False)\n",
    "        print(f\"Coeficientes das características para {name}:\")\n",
    "        print(round(importance_df,2))\n",
    "    elif isinstance(model, SVR):\n",
    "        support_indices = model.support_\n",
    "        support_features = X_train.iloc[support_indices]\n",
    "        feature_importance_svr = support_features.mean(axis=0)\n",
    "        importance_df = pd.DataFrame({'Colunas': X_train.columns, 'Importância': feature_importance_svr})\n",
    "        importance_df = importance_df.sort_values(by='Importância', ascending=False)\n",
    "        print(f\"Importância das características para {name}:\")\n",
    "        print(round(importance_df,2))\n",
    "    else:\n",
    "        print(f\"Não é possível calcular a importância das características para o modelo {name}\")"
   ]
  },
  {
   "cell_type": "markdown",
   "id": "48fb4ff9-f2ce-4114-bc95-28f313d6690f",
   "metadata": {},
   "source": [
    "**5. Comparação de Modelos**"
   ]
  },
  {
   "cell_type": "code",
   "execution_count": 10,
   "id": "955fbdea-faea-4285-8298-76b32a8bd648",
   "metadata": {},
   "outputs": [],
   "source": [
    "# Seleção de modelo com base na maior pontuação de validação cruzada\n",
    "best_model_name = max(models, key=lambda model: cross_val_score(models[model], X_train, y_train, cv=5).mean())"
   ]
  },
  {
   "cell_type": "markdown",
   "id": "d9684717-7ac2-4c36-a697-1f3a72d85d51",
   "metadata": {},
   "source": [
    "**6. Seleção de Modelo**"
   ]
  },
  {
   "cell_type": "code",
   "execution_count": 11,
   "id": "16947f1b-a506-4540-9068-99f278e9d558",
   "metadata": {},
   "outputs": [
    {
     "name": "stdout",
     "output_type": "stream",
     "text": [
      "Best Model: Linear Regression\n"
     ]
    }
   ],
   "source": [
    "best_model = models[best_model_name]\n",
    "print(f'Best Model: {best_model_name}')"
   ]
  },
  {
   "cell_type": "markdown",
   "id": "eb2c235a-b688-4d6b-8820-de8a50e3e4a8",
   "metadata": {},
   "source": [
    "**7. Otimização de Modelo**"
   ]
  },
  {
   "cell_type": "code",
   "execution_count": 12,
   "id": "e36479d9-807c-4862-bcd6-a1b06426edce",
   "metadata": {},
   "outputs": [
    {
     "name": "stderr",
     "output_type": "stream",
     "text": [
      "[I 2024-04-10 12:44:35,881] A new study created in memory with name: no-name-7592a2a3-2398-415e-97fd-48349899703c\n",
      "[I 2024-04-10 12:44:38,189] Trial 0 finished with value: -7026979.82934121 and parameters: {}. Best is trial 0 with value: -7026979.82934121.\n",
      "[I 2024-04-10 12:44:39,740] Trial 1 finished with value: -7026979.82934121 and parameters: {}. Best is trial 0 with value: -7026979.82934121.\n",
      "[I 2024-04-10 12:44:41,464] Trial 2 finished with value: -7026979.82934121 and parameters: {}. Best is trial 0 with value: -7026979.82934121.\n",
      "[I 2024-04-10 12:44:41,494] Trial 3 finished with value: -7026979.82934121 and parameters: {}. Best is trial 0 with value: -7026979.82934121.\n",
      "[I 2024-04-10 12:44:41,521] Trial 4 finished with value: -7026979.82934121 and parameters: {}. Best is trial 0 with value: -7026979.82934121.\n",
      "[I 2024-04-10 12:44:41,549] Trial 5 finished with value: -7026979.82934121 and parameters: {}. Best is trial 0 with value: -7026979.82934121.\n",
      "[I 2024-04-10 12:44:41,576] Trial 6 finished with value: -7026979.82934121 and parameters: {}. Best is trial 0 with value: -7026979.82934121.\n",
      "[I 2024-04-10 12:44:41,604] Trial 7 finished with value: -7026979.82934121 and parameters: {}. Best is trial 0 with value: -7026979.82934121.\n",
      "[I 2024-04-10 12:44:41,632] Trial 8 finished with value: -7026979.82934121 and parameters: {}. Best is trial 0 with value: -7026979.82934121.\n",
      "[I 2024-04-10 12:44:41,661] Trial 9 finished with value: -7026979.82934121 and parameters: {}. Best is trial 0 with value: -7026979.82934121.\n",
      "[I 2024-04-10 12:44:41,689] Trial 10 finished with value: -7026979.82934121 and parameters: {}. Best is trial 0 with value: -7026979.82934121.\n",
      "[I 2024-04-10 12:44:41,714] Trial 11 finished with value: -7026979.82934121 and parameters: {}. Best is trial 0 with value: -7026979.82934121.\n",
      "[I 2024-04-10 12:44:41,740] Trial 12 finished with value: -7026979.82934121 and parameters: {}. Best is trial 0 with value: -7026979.82934121.\n",
      "[I 2024-04-10 12:44:41,771] Trial 13 finished with value: -7026979.82934121 and parameters: {}. Best is trial 0 with value: -7026979.82934121.\n",
      "[I 2024-04-10 12:44:41,800] Trial 14 finished with value: -7026979.82934121 and parameters: {}. Best is trial 0 with value: -7026979.82934121.\n",
      "[I 2024-04-10 12:44:41,828] Trial 15 finished with value: -7026979.82934121 and parameters: {}. Best is trial 0 with value: -7026979.82934121.\n",
      "[I 2024-04-10 12:44:41,854] Trial 16 finished with value: -7026979.82934121 and parameters: {}. Best is trial 0 with value: -7026979.82934121.\n",
      "[I 2024-04-10 12:44:41,879] Trial 17 finished with value: -7026979.82934121 and parameters: {}. Best is trial 0 with value: -7026979.82934121.\n",
      "[I 2024-04-10 12:44:41,907] Trial 18 finished with value: -7026979.82934121 and parameters: {}. Best is trial 0 with value: -7026979.82934121.\n",
      "[I 2024-04-10 12:44:41,923] Trial 19 finished with value: -7026979.82934121 and parameters: {}. Best is trial 0 with value: -7026979.82934121.\n",
      "[I 2024-04-10 12:44:41,950] Trial 20 finished with value: -7026979.82934121 and parameters: {}. Best is trial 0 with value: -7026979.82934121.\n",
      "[I 2024-04-10 12:44:41,966] Trial 21 finished with value: -7026979.82934121 and parameters: {}. Best is trial 0 with value: -7026979.82934121.\n",
      "[I 2024-04-10 12:44:41,992] Trial 22 finished with value: -7026979.82934121 and parameters: {}. Best is trial 0 with value: -7026979.82934121.\n",
      "[I 2024-04-10 12:44:42,019] Trial 23 finished with value: -7026979.82934121 and parameters: {}. Best is trial 0 with value: -7026979.82934121.\n",
      "[I 2024-04-10 12:44:42,048] Trial 24 finished with value: -7026979.82934121 and parameters: {}. Best is trial 0 with value: -7026979.82934121.\n",
      "[I 2024-04-10 12:44:42,066] Trial 25 finished with value: -7026979.82934121 and parameters: {}. Best is trial 0 with value: -7026979.82934121.\n",
      "[I 2024-04-10 12:44:42,082] Trial 26 finished with value: -7026979.82934121 and parameters: {}. Best is trial 0 with value: -7026979.82934121.\n",
      "[I 2024-04-10 12:44:42,097] Trial 27 finished with value: -7026979.82934121 and parameters: {}. Best is trial 0 with value: -7026979.82934121.\n",
      "[I 2024-04-10 12:44:42,123] Trial 28 finished with value: -7026979.82934121 and parameters: {}. Best is trial 0 with value: -7026979.82934121.\n",
      "[I 2024-04-10 12:44:42,139] Trial 29 finished with value: -7026979.82934121 and parameters: {}. Best is trial 0 with value: -7026979.82934121.\n",
      "[I 2024-04-10 12:44:42,165] Trial 30 finished with value: -7026979.82934121 and parameters: {}. Best is trial 0 with value: -7026979.82934121.\n",
      "[I 2024-04-10 12:44:42,192] Trial 31 finished with value: -7026979.82934121 and parameters: {}. Best is trial 0 with value: -7026979.82934121.\n",
      "[I 2024-04-10 12:44:42,217] Trial 32 finished with value: -7026979.82934121 and parameters: {}. Best is trial 0 with value: -7026979.82934121.\n",
      "[I 2024-04-10 12:44:42,247] Trial 33 finished with value: -7026979.82934121 and parameters: {}. Best is trial 0 with value: -7026979.82934121.\n",
      "[I 2024-04-10 12:44:42,275] Trial 34 finished with value: -7026979.82934121 and parameters: {}. Best is trial 0 with value: -7026979.82934121.\n",
      "[I 2024-04-10 12:44:42,303] Trial 35 finished with value: -7026979.82934121 and parameters: {}. Best is trial 0 with value: -7026979.82934121.\n",
      "[I 2024-04-10 12:44:42,330] Trial 36 finished with value: -7026979.82934121 and parameters: {}. Best is trial 0 with value: -7026979.82934121.\n",
      "[I 2024-04-10 12:44:42,359] Trial 37 finished with value: -7026979.82934121 and parameters: {}. Best is trial 0 with value: -7026979.82934121.\n",
      "[I 2024-04-10 12:44:42,388] Trial 38 finished with value: -7026979.82934121 and parameters: {}. Best is trial 0 with value: -7026979.82934121.\n",
      "[I 2024-04-10 12:44:42,413] Trial 39 finished with value: -7026979.82934121 and parameters: {}. Best is trial 0 with value: -7026979.82934121.\n",
      "[I 2024-04-10 12:44:42,440] Trial 40 finished with value: -7026979.82934121 and parameters: {}. Best is trial 0 with value: -7026979.82934121.\n",
      "[I 2024-04-10 12:44:42,466] Trial 41 finished with value: -7026979.82934121 and parameters: {}. Best is trial 0 with value: -7026979.82934121.\n",
      "[I 2024-04-10 12:44:42,482] Trial 42 finished with value: -7026979.82934121 and parameters: {}. Best is trial 0 with value: -7026979.82934121.\n",
      "[I 2024-04-10 12:44:42,509] Trial 43 finished with value: -7026979.82934121 and parameters: {}. Best is trial 0 with value: -7026979.82934121.\n",
      "[I 2024-04-10 12:44:42,536] Trial 44 finished with value: -7026979.82934121 and parameters: {}. Best is trial 0 with value: -7026979.82934121.\n",
      "[I 2024-04-10 12:44:42,565] Trial 45 finished with value: -7026979.82934121 and parameters: {}. Best is trial 0 with value: -7026979.82934121.\n",
      "[I 2024-04-10 12:44:42,593] Trial 46 finished with value: -7026979.82934121 and parameters: {}. Best is trial 0 with value: -7026979.82934121.\n",
      "[I 2024-04-10 12:44:42,622] Trial 47 finished with value: -7026979.82934121 and parameters: {}. Best is trial 0 with value: -7026979.82934121.\n",
      "[I 2024-04-10 12:44:42,652] Trial 48 finished with value: -7026979.82934121 and parameters: {}. Best is trial 0 with value: -7026979.82934121.\n",
      "[I 2024-04-10 12:44:42,681] Trial 49 finished with value: -7026979.82934121 and parameters: {}. Best is trial 0 with value: -7026979.82934121.\n",
      "[I 2024-04-10 12:44:42,697] Trial 50 finished with value: -7026979.82934121 and parameters: {}. Best is trial 0 with value: -7026979.82934121.\n",
      "[I 2024-04-10 12:44:42,723] Trial 51 finished with value: -7026979.82934121 and parameters: {}. Best is trial 0 with value: -7026979.82934121.\n",
      "[I 2024-04-10 12:44:42,751] Trial 52 finished with value: -7026979.82934121 and parameters: {}. Best is trial 0 with value: -7026979.82934121.\n",
      "[I 2024-04-10 12:44:42,777] Trial 53 finished with value: -7026979.82934121 and parameters: {}. Best is trial 0 with value: -7026979.82934121.\n",
      "[I 2024-04-10 12:44:42,808] Trial 54 finished with value: -7026979.82934121 and parameters: {}. Best is trial 0 with value: -7026979.82934121.\n",
      "[I 2024-04-10 12:44:42,835] Trial 55 finished with value: -7026979.82934121 and parameters: {}. Best is trial 0 with value: -7026979.82934121.\n",
      "[I 2024-04-10 12:44:42,864] Trial 56 finished with value: -7026979.82934121 and parameters: {}. Best is trial 0 with value: -7026979.82934121.\n",
      "[I 2024-04-10 12:44:42,895] Trial 57 finished with value: -7026979.82934121 and parameters: {}. Best is trial 0 with value: -7026979.82934121.\n",
      "[I 2024-04-10 12:44:42,921] Trial 58 finished with value: -7026979.82934121 and parameters: {}. Best is trial 0 with value: -7026979.82934121.\n",
      "[I 2024-04-10 12:44:42,936] Trial 59 finished with value: -7026979.82934121 and parameters: {}. Best is trial 0 with value: -7026979.82934121.\n",
      "[I 2024-04-10 12:44:42,961] Trial 60 finished with value: -7026979.82934121 and parameters: {}. Best is trial 0 with value: -7026979.82934121.\n",
      "[I 2024-04-10 12:44:42,989] Trial 61 finished with value: -7026979.82934121 and parameters: {}. Best is trial 0 with value: -7026979.82934121.\n",
      "[I 2024-04-10 12:44:43,017] Trial 62 finished with value: -7026979.82934121 and parameters: {}. Best is trial 0 with value: -7026979.82934121.\n",
      "[I 2024-04-10 12:44:43,045] Trial 63 finished with value: -7026979.82934121 and parameters: {}. Best is trial 0 with value: -7026979.82934121.\n",
      "[I 2024-04-10 12:44:43,068] Trial 64 finished with value: -7026979.82934121 and parameters: {}. Best is trial 0 with value: -7026979.82934121.\n",
      "[I 2024-04-10 12:44:43,097] Trial 65 finished with value: -7026979.82934121 and parameters: {}. Best is trial 0 with value: -7026979.82934121.\n",
      "[I 2024-04-10 12:44:43,122] Trial 66 finished with value: -7026979.82934121 and parameters: {}. Best is trial 0 with value: -7026979.82934121.\n",
      "[I 2024-04-10 12:44:43,154] Trial 67 finished with value: -7026979.82934121 and parameters: {}. Best is trial 0 with value: -7026979.82934121.\n",
      "[I 2024-04-10 12:44:43,168] Trial 68 finished with value: -7026979.82934121 and parameters: {}. Best is trial 0 with value: -7026979.82934121.\n",
      "[I 2024-04-10 12:44:43,194] Trial 69 finished with value: -7026979.82934121 and parameters: {}. Best is trial 0 with value: -7026979.82934121.\n",
      "[I 2024-04-10 12:44:43,222] Trial 70 finished with value: -7026979.82934121 and parameters: {}. Best is trial 0 with value: -7026979.82934121.\n",
      "[I 2024-04-10 12:44:43,247] Trial 71 finished with value: -7026979.82934121 and parameters: {}. Best is trial 0 with value: -7026979.82934121.\n",
      "[I 2024-04-10 12:44:43,276] Trial 72 finished with value: -7026979.82934121 and parameters: {}. Best is trial 0 with value: -7026979.82934121.\n",
      "[I 2024-04-10 12:44:43,314] Trial 73 finished with value: -7026979.82934121 and parameters: {}. Best is trial 0 with value: -7026979.82934121.\n",
      "[I 2024-04-10 12:44:43,343] Trial 74 finished with value: -7026979.82934121 and parameters: {}. Best is trial 0 with value: -7026979.82934121.\n",
      "[I 2024-04-10 12:44:43,374] Trial 75 finished with value: -7026979.82934121 and parameters: {}. Best is trial 0 with value: -7026979.82934121.\n",
      "[I 2024-04-10 12:44:43,413] Trial 76 finished with value: -7026979.82934121 and parameters: {}. Best is trial 0 with value: -7026979.82934121.\n",
      "[I 2024-04-10 12:44:43,442] Trial 77 finished with value: -7026979.82934121 and parameters: {}. Best is trial 0 with value: -7026979.82934121.\n",
      "[I 2024-04-10 12:44:43,466] Trial 78 finished with value: -7026979.82934121 and parameters: {}. Best is trial 0 with value: -7026979.82934121.\n",
      "[I 2024-04-10 12:44:43,506] Trial 79 finished with value: -7026979.82934121 and parameters: {}. Best is trial 0 with value: -7026979.82934121.\n",
      "[I 2024-04-10 12:44:43,534] Trial 80 finished with value: -7026979.82934121 and parameters: {}. Best is trial 0 with value: -7026979.82934121.\n",
      "[I 2024-04-10 12:44:43,562] Trial 81 finished with value: -7026979.82934121 and parameters: {}. Best is trial 0 with value: -7026979.82934121.\n",
      "[I 2024-04-10 12:44:43,590] Trial 82 finished with value: -7026979.82934121 and parameters: {}. Best is trial 0 with value: -7026979.82934121.\n",
      "[I 2024-04-10 12:44:43,616] Trial 83 finished with value: -7026979.82934121 and parameters: {}. Best is trial 0 with value: -7026979.82934121.\n",
      "[I 2024-04-10 12:44:43,646] Trial 84 finished with value: -7026979.82934121 and parameters: {}. Best is trial 0 with value: -7026979.82934121.\n",
      "[I 2024-04-10 12:44:43,672] Trial 85 finished with value: -7026979.82934121 and parameters: {}. Best is trial 0 with value: -7026979.82934121.\n",
      "[I 2024-04-10 12:44:43,699] Trial 86 finished with value: -7026979.82934121 and parameters: {}. Best is trial 0 with value: -7026979.82934121.\n",
      "[I 2024-04-10 12:44:43,726] Trial 87 finished with value: -7026979.82934121 and parameters: {}. Best is trial 0 with value: -7026979.82934121.\n",
      "[I 2024-04-10 12:44:43,743] Trial 88 finished with value: -7026979.82934121 and parameters: {}. Best is trial 0 with value: -7026979.82934121.\n",
      "[I 2024-04-10 12:44:43,770] Trial 89 finished with value: -7026979.82934121 and parameters: {}. Best is trial 0 with value: -7026979.82934121.\n",
      "[I 2024-04-10 12:44:43,785] Trial 90 finished with value: -7026979.82934121 and parameters: {}. Best is trial 0 with value: -7026979.82934121.\n",
      "[I 2024-04-10 12:44:43,810] Trial 91 finished with value: -7026979.82934121 and parameters: {}. Best is trial 0 with value: -7026979.82934121.\n",
      "[I 2024-04-10 12:44:43,839] Trial 92 finished with value: -7026979.82934121 and parameters: {}. Best is trial 0 with value: -7026979.82934121.\n",
      "[I 2024-04-10 12:44:43,867] Trial 93 finished with value: -7026979.82934121 and parameters: {}. Best is trial 0 with value: -7026979.82934121.\n",
      "[I 2024-04-10 12:44:43,896] Trial 94 finished with value: -7026979.82934121 and parameters: {}. Best is trial 0 with value: -7026979.82934121.\n",
      "[I 2024-04-10 12:44:43,913] Trial 95 finished with value: -7026979.82934121 and parameters: {}. Best is trial 0 with value: -7026979.82934121.\n",
      "[I 2024-04-10 12:44:43,939] Trial 96 finished with value: -7026979.82934121 and parameters: {}. Best is trial 0 with value: -7026979.82934121.\n",
      "[I 2024-04-10 12:44:43,965] Trial 97 finished with value: -7026979.82934121 and parameters: {}. Best is trial 0 with value: -7026979.82934121.\n",
      "[I 2024-04-10 12:44:43,984] Trial 98 finished with value: -7026979.82934121 and parameters: {}. Best is trial 0 with value: -7026979.82934121.\n",
      "[I 2024-04-10 12:44:44,015] Trial 99 finished with value: -7026979.82934121 and parameters: {}. Best is trial 0 with value: -7026979.82934121.\n"
     ]
    }
   ],
   "source": [
    "# Função para criar uma nova instância do modelo com hiperparâmetros definidos\n",
    "def create_model(trial):\n",
    "    if best_model_name == 'Random Forest Regressor':\n",
    "        n_estimators = trial.suggest_int('n_estimators', 10, 100)\n",
    "        max_depth = trial.suggest_int('max_depth', 2, 32)\n",
    "        min_samples_split = trial.suggest_int('min_samples_split', 2, 20)\n",
    "        min_samples_leaf = trial.suggest_int('min_samples_leaf', 1, 10)\n",
    "        model = RandomForestRegressor(n_estimators=n_estimators, \n",
    "                                       max_depth=max_depth, \n",
    "                                       min_samples_split=min_samples_split,\n",
    "                                       min_samples_leaf=min_samples_leaf)\n",
    "    elif best_model_name == 'Decision Tree Regressor':\n",
    "        max_depth = trial.suggest_int('max_depth', 2, 32)\n",
    "        min_samples_split = trial.suggest_int('min_samples_split', 2, 20)\n",
    "        min_samples_leaf = trial.suggest_int('min_samples_leaf', 1, 10)\n",
    "        model = DecisionTreeRegressor(max_depth=max_depth,\n",
    "                                       min_samples_split=min_samples_split,\n",
    "                                       min_samples_leaf=min_samples_leaf)\n",
    "    elif best_model_name == 'Support Vector Regression':\n",
    "        C = trial.suggest_loguniform('C', 1e-3, 1e3)\n",
    "        epsilon = trial.suggest_loguniform('epsilon', 1e-3, 1e1)\n",
    "        kernel = trial.suggest_categorical('kernel', ['linear', 'rbf', 'poly'])\n",
    "        model = SVR(C=C, epsilon=epsilon, kernel=kernel)\n",
    "    elif best_model_name == 'Linear Regression':\n",
    "        model = LinearRegression()\n",
    "    elif best_model_name == 'K-Nearest Neighbors Regressor':\n",
    "        n_neighbors = trial.suggest_int('n_neighbors', 1, 20)\n",
    "        model = KNeighborsRegressor(n_neighbors=n_neighbors)\n",
    "    elif best_model_name == 'Gradient Boosting Regressor':\n",
    "        learning_rate = trial.suggest_loguniform('learning_rate', 0.01, 0.1)\n",
    "        n_estimators = trial.suggest_int('n_estimators', 50, 200)\n",
    "        max_depth = trial.suggest_int('max_depth', 3, 10)\n",
    "        model = GradientBoostingRegressor(learning_rate=learning_rate, \n",
    "                                           n_estimators=n_estimators, \n",
    "                                           max_depth=max_depth)\n",
    "    else:\n",
    "        model = models[best_model_name]  # Usar os hiperparâmetros padrão para outros modelos\n",
    "    return model\n",
    "\n",
    "# Função para otimização de hiperparâmetros\n",
    "def objective(trial):\n",
    "    # Criar uma nova instância do modelo com hiperparâmetros definidos pelo Optuna\n",
    "    model = create_model(trial)\n",
    "    \n",
    "    # Avaliação do modelo utilizando validação cruzada\n",
    "    score = cross_val_score(model, X_train, y_train, n_jobs=-1, cv=3, scoring='neg_mean_squared_error').mean()\n",
    "    return score\n",
    "\n",
    "# Criar o objeto de estudo Optuna\n",
    "study = optuna.create_study(direction='minimize')\n",
    "\n",
    "# Realizar a otimização dos hiperparâmetros\n",
    "study.optimize(objective, n_trials=100)"
   ]
  },
  {
   "cell_type": "code",
   "execution_count": 13,
   "id": "4c466152-7210-4ae6-bbe2-50bbd3fcd988",
   "metadata": {},
   "outputs": [
    {
     "name": "stdout",
     "output_type": "stream",
     "text": [
      "Optimized Linear Regression MSE: 7399729.94\n",
      "X_test:\n",
      "      Idade  Gênero    IMC  Filhos  Fumante  Categoria_IMC  Região_noroeste  \\\n",
      "1728     24       0  28.58       2        0              3              0.0   \n",
      "153      66       0  18.91       2        0              2              0.0   \n",
      "38       18       0  31.89       1        0              1              0.0   \n",
      "382      42       0  23.98       0        0              2              1.0   \n",
      "1124     60       1  18.56       3        1              2              0.0   \n",
      "...     ...     ...    ...     ...      ...            ...              ...   \n",
      "191      51       1  33.59       2        0              1              1.0   \n",
      "276      21       0  32.70       1        1              1              0.0   \n",
      "1531     62       0  27.09       0        1              3              1.0   \n",
      "1188     68       1  22.95       0        1              2              0.0   \n",
      "224      60       1  27.16       1        1              3              0.0   \n",
      "\n",
      "      Região_sudeste  Região_sudoeste  \n",
      "1728             1.0              0.0  \n",
      "153              1.0              0.0  \n",
      "38               0.0              1.0  \n",
      "382              0.0              0.0  \n",
      "1124             0.0              0.0  \n",
      "...              ...              ...  \n",
      "191              0.0              0.0  \n",
      "276              0.0              1.0  \n",
      "1531             0.0              0.0  \n",
      "1188             0.0              0.0  \n",
      "224              0.0              0.0  \n",
      "\n",
      "[361 rows x 9 columns]\n",
      "--------------------------------------------------------------------------------------------------------------------------------------------------------------\n",
      "y_test:\n",
      "1728    18373.43\n",
      "153     43238.16\n",
      "38      13760.83\n",
      "382     26972.99\n",
      "1124    40591.17\n",
      "          ...   \n",
      "191     30133.99\n",
      "276     16037.13\n",
      "1531    33769.20\n",
      "1188    37526.91\n",
      "224     33949.10\n",
      "Name: Encargos, Length: 361, dtype: float64\n",
      "--------------------------------------------------------------------------------------------------------------------------------------------------------------\n",
      "y_pred:\n",
      "[17924.45873796 39058.40511416 14895.12207443 26787.92943531\n",
      " 36545.62468965 26945.97600519 22401.27531078 32060.72429612\n",
      " 21286.52215496 35076.44451022 37254.2717753  23849.40922602\n",
      " 24230.26949672 22999.0814467  23066.80304473 20799.92023688\n",
      " 20737.10068579 26564.47559158 19168.48118227 36857.04885913\n",
      " 33267.35669497 23271.41213419 29989.55642538 22318.01705966\n",
      " 21744.05505365 18537.50385502 40841.12037081 20976.0542678\n",
      " 43176.61009787 28084.73818008 22699.52444392 16704.74861571\n",
      " 32801.22750094 30072.24650804 34150.43527278 29505.78171046\n",
      " 35746.25688628 38832.73242806 46073.2089262  34965.68411383\n",
      " 25376.89288424 15243.0680315  19984.63481624 39011.67397495\n",
      " 21740.72478987 18366.55889053 35255.54473023 19405.50991708\n",
      " 43273.86299459 33744.69031809 26992.44330493 27088.21884054\n",
      " 30899.88438817 44023.05294283 39553.47477126 23847.23007239\n",
      " 28875.14130254 40994.63132117 18019.41134415 38015.84207774\n",
      " 38317.10406202 24886.62869147 34526.27525556 24051.95557986\n",
      " 38806.82775846 22734.53214008 26417.87345931 44360.09323531\n",
      " 38424.97367862 38867.554004   35396.33666546 26407.55103073\n",
      " 28934.32414248 22842.41416886 43165.20714175 40992.86635576\n",
      " 24388.12697397 36624.88997568 27692.06676682 36627.4262431\n",
      " 40973.11290098 25676.82605371 29350.62326977 33111.05978552\n",
      " 33363.57564457 27066.38042822 41319.54695502 17191.77656242\n",
      " 27054.96384677 20724.08802468 27292.73456737 44254.93083693\n",
      " 23394.40610639 24995.72917314 19010.83562533 17029.02113426\n",
      " 18115.28779645 23691.89661926 31257.29806249 18990.90679771\n",
      " 26756.73262924 39836.14160486 16236.24341502 27379.50952752\n",
      " 16234.6996951  42277.80691434 38854.0113451  43552.47714254\n",
      " 21572.18851527 29953.9705264  38975.19798296 33555.94736421\n",
      " 26918.70391609 33936.20380204 34975.72720772 32427.77445231\n",
      " 39156.09219072 15886.04770147 23564.02963304 15587.54116829\n",
      " 16024.61217871 43201.56963308 29785.81500354 17001.60906716\n",
      " 31712.00695773 30035.83802264 24743.77878127 42358.32264086\n",
      " 22442.53205862 16376.7220842  31902.90316103 22436.29213943\n",
      " 42125.13462668 36257.28215853 40402.04406229 43785.63433295\n",
      " 29602.19731786 18209.07617383 39008.78441206 39180.01666379\n",
      " 39198.16831941 19404.90152416 24371.91093061 38928.42173821\n",
      " 29701.42566885 21994.59742729 42004.06512614 40402.11563384\n",
      " 25200.22402247 25323.04584164 27318.89230933 28971.33890642\n",
      " 38412.433929   25572.79901513 29412.91979372 19623.1324036\n",
      " 22795.34020741 38581.46263094 44696.29190599 21057.27038962\n",
      " 15731.8040789  40761.16023061 31375.71967745 34465.53472696\n",
      " 36188.74576267 38404.22397197 29981.03815363 17327.91779967\n",
      " 40121.88108188 28302.78450721 44490.6394965  24053.27380785\n",
      " 32672.79861202 44098.1629652  38099.5760804  36848.80266318\n",
      " 39858.70556043 24603.88378556 23475.74774939 20901.39558742\n",
      " 23079.67300018 15159.12978165 18114.92215863 43593.61627954\n",
      " 34199.36144898 18005.47374312 26613.6527661  45543.60978784\n",
      " 15086.45706497 15887.6906848  27055.36919471 37501.69747307\n",
      " 27428.07263123 44346.0231447  29912.83141323 32931.26146997\n",
      " 32993.0945054  37264.26083056 16322.15700895 14788.28631774\n",
      " 31911.10890738 43594.88277688 15861.06507897 29302.90769138\n",
      " 41461.29983918 21437.88076326 19492.63961462 43511.68099519\n",
      " 30790.85639901 28548.15732158 26408.20452919 38330.72821443\n",
      " 43942.09585057 42216.31220118 30620.73807914 38758.30837631\n",
      " 42243.71696242 33087.0496528  42615.14600366 18028.30007406\n",
      " 24465.56622058 33982.70673407 26299.37193847 43966.9461292\n",
      " 36345.76530105 18341.24597155 40639.26888354 19057.95372363\n",
      " 24540.11070117 30754.29727995 38805.23038603 39619.16220357\n",
      " 43377.88561466 15873.26704155 22184.82981488 37957.81191029\n",
      " 44301.8645265  15411.08389505 21213.38625831 20104.46543062\n",
      " 44252.68576434 22935.97826701 18305.35798647 25213.30790596\n",
      " 36963.56488504 27822.72719353 35729.47059067 39750.91076175\n",
      " 35948.20576999 16823.80752177 27916.88278514 30309.56308211\n",
      " 42542.4684107  35146.13298134 21715.04274076 26517.70016981\n",
      " 36346.16767659 41317.58107141 21981.30481118 37202.33373005\n",
      " 22123.06732254 43119.21216687 33386.59401837 43511.80445132\n",
      " 18006.25590152 29804.70909503 38818.55418631 23393.81784807\n",
      " 34092.46886247 39763.04190465 16167.9389541  25077.2898998\n",
      " 21838.48532048 23188.13522252 35946.88269999 40258.10443297\n",
      " 15206.33974422 26790.8555778  16940.77727212 20304.04741634\n",
      " 25730.13523316 38270.25764289 37612.70046643 42902.9293655\n",
      " 19922.16612685 15712.09136087 29282.04430378 27102.26657426\n",
      " 31985.74546498 18724.34750568 18905.03732823 37970.59399973\n",
      " 32501.01083961 29649.26681831 26877.53894324 16594.77589748\n",
      " 41537.50017442 35502.48704115 39755.99369041 31074.06152226\n",
      " 45782.5770872  29473.97548065 18006.79060851 18243.41859995\n",
      " 15336.62183    19276.47723982 28325.73254851 30729.15616462\n",
      " 36794.31988081 30933.21999742 27053.57222215 36260.74929195\n",
      " 16499.53203082 34662.66001594 20147.110364   32093.45803068\n",
      " 20648.87367153 20735.94562405 41869.59021859 16186.35751087\n",
      " 38906.45817067 29413.50963968 34090.79221551 30417.19595799\n",
      " 35279.83234044 20927.98317174 19323.59379523 23598.44305652\n",
      " 39164.63443837 35170.15225896 38004.17404371 40481.30194997\n",
      " 17218.92992596 36930.43190548 20486.27808884 16130.85843011\n",
      " 39643.21825378 17637.75306907 25655.21939438 41127.62533833\n",
      " 24818.63658662 28561.63623577 30838.48719706 21437.24519281\n",
      " 43463.42398901 41847.51992943 36632.76803343 22136.27571034\n",
      " 41692.40850122 35815.56569779 35144.28567971 38125.43071023\n",
      " 36929.9609432  22986.45291587 35252.86984741 28264.42960865\n",
      " 31590.41753802 16512.17232958 36930.77041244 40096.97150713\n",
      " 36211.58100517]\n"
     ]
    }
   ],
   "source": [
    "# Obtenha os melhores parâmetros do estudo Optuna\n",
    "best_params = study.best_params\n",
    "\n",
    "# Configure o modelo com os melhores parâmetros\n",
    "best_model.set_params(**best_params)\n",
    "\n",
    "# Ajuste o modelo aos dados de treinamento\n",
    "best_model.fit(X_train, y_train)\n",
    "\n",
    "y_pred = best_model.predict(X_test)\n",
    "mse = mean_squared_error(y_test, y_pred)\n",
    "print(f'Optimized {best_model_name} MSE: {round(mse,2)}')"
   ]
  },
  {
   "cell_type": "code",
   "execution_count": 14,
   "id": "33547ecc-41db-4611-b112-781aa8ad267f",
   "metadata": {},
   "outputs": [
    {
     "name": "stdout",
     "output_type": "stream",
     "text": [
      "O modelo selecionado não suporta o cálculo de importância das características.\n"
     ]
    }
   ],
   "source": [
    "# Obter a importância das características apenas para modelos que suportam esse atributo\n",
    "if hasattr(best_model, 'feature_importances_'):\n",
    "    # Obter a importância das características do modelo\n",
    "    feature_importances = best_model.feature_importances_\n",
    "    \n",
    "    # Criar um DataFrame para visualizar a importância das características\n",
    "    importance_df = pd.DataFrame({'Colunas': X_train.columns, 'Importância': feature_importances})\n",
    "\n",
    "    # Ordenar as características por importância\n",
    "    importance_df = importance_df.sort_values(by='Importância', ascending=False)\n",
    "    \n",
    "    print(\"\\nQuais características individuais têm maior impacto nos custos médicos cobrados pelo seguro de saúde?\")\n",
    "    print(round(importance_df,2))\n",
    "\n",
    "    # Selecionar as características mais importantes (por exemplo, as 10 mais importantes)\n",
    "    top_features = importance_df.head(10)['Colunas'].tolist()  # Ajuste o número conforme necessário\n",
    "    \n",
    "    # Calcular a matriz de correlação apenas para as características mais importantes\n",
    "    correlation_matrix = X_train[top_features].corr()\n",
    "    \n",
    "    # Visualizar a matriz de correlação\n",
    "    print(\"\\nExiste alguma correlação entre certas características (por exemplo, idade, IMC) e os custos médicos?\")\n",
    "    print(correlation_matrix)\n",
    "else:\n",
    "    print(\"O modelo selecionado não suporta o cálculo de importância das características.\")"
   ]
  },
  {
   "cell_type": "code",
   "execution_count": 15,
   "id": "88a03c62-b587-404f-a8bd-5f6ae92ba516",
   "metadata": {},
   "outputs": [
    {
     "name": "stdout",
     "output_type": "stream",
     "text": [
      "MSE no conjunto de treinamento: 7040631.464216262\n",
      "MSE no conjunto de teste: 6917920.52140043\n"
     ]
    }
   ],
   "source": [
    "# Validação cruzada para detecção de overfitting\n",
    "def overfitting_detection(model, X, y, cv=5):\n",
    "    train_mse = -cross_val_score(model, X, y, cv=cv, scoring='neg_mean_squared_error').mean()\n",
    "    model.fit(X, y)\n",
    "    y_pred_train = model.predict(X)\n",
    "    test_mse = np.mean((y - y_pred_train) ** 2)\n",
    "    return train_mse, test_mse\n",
    "\n",
    "# Exemplo de uso\n",
    "train_mse, test_mse = overfitting_detection(best_model, X_train_scaled, y_train)\n",
    "\n",
    "print(\"MSE no conjunto de treinamento:\", train_mse)\n",
    "print(\"MSE no conjunto de teste:\", test_mse)"
   ]
  },
  {
   "cell_type": "code",
   "execution_count": 16,
   "id": "3ff98bdc-0c3b-47f8-8286-bfe6f7e6425d",
   "metadata": {},
   "outputs": [
    {
     "name": "stdout",
     "output_type": "stream",
     "text": [
      "      Idade    Gênero       IMC    Filhos   Fumante  Categoria_IMC  \\\n",
      "0  0.488820  0.513255  0.261273  0.057026  0.666187       0.674471   \n",
      "1  0.397844  0.046746  0.781430  0.949339  0.830982       0.506597   \n",
      "2  0.182079  0.525969  0.575686  0.044172  0.083166       0.775314   \n",
      "3  0.751997  0.460644  0.051344  0.049746  0.800277       0.189556   \n",
      "4  0.724854  0.821268  0.644981  0.921554  0.595590       0.064570   \n",
      "\n",
      "   Região_noroeste  Região_sudeste  Região_sudoeste  \n",
      "0         0.710497        0.589361         0.033401  \n",
      "1         0.433285        0.971427         0.143626  \n",
      "2         0.169533        0.529637         0.975662  \n",
      "3         0.628302        0.192678         0.896468  \n",
      "4         0.599699        0.020547         0.944087  \n"
     ]
    }
   ],
   "source": [
    "# Definição de dados futuros - 200 linhas\n",
    "dados_futuros = pd.DataFrame(np.random.rand(200, len(X_test.columns)), columns=X_test.columns)\n",
    "print(dados_futuros.head())"
   ]
  },
  {
   "cell_type": "markdown",
   "id": "5b6d667b-d351-4280-acc0-e3eadcd2691a",
   "metadata": {},
   "source": [
    "Modelo treinado para fazer previsões dos encargos futuros:"
   ]
  },
  {
   "cell_type": "code",
   "execution_count": 17,
   "id": "ef157340-e0fe-40af-99cf-c51dc182c8d8",
   "metadata": {},
   "outputs": [
    {
     "name": "stderr",
     "output_type": "stream",
     "text": [
      "C:\\Users\\luiz.santos\\Documents\\FIAP Grupo\\Tech Challenge\\.venv\\Lib\\site-packages\\sklearn\\base.py:486: UserWarning: X has feature names, but LinearRegression was fitted without feature names\n",
      "  warnings.warn(\n"
     ]
    }
   ],
   "source": [
    "encargos_futuros = prever_encargos_futuros(best_model, dados_futuros)"
   ]
  },
  {
   "cell_type": "markdown",
   "id": "5a705801-4d0c-49a5-b8c2-0179edc79268",
   "metadata": {},
   "source": [
    "Grupos de indivíduos com diferentes níveis de risco"
   ]
  },
  {
   "cell_type": "code",
   "execution_count": 18,
   "id": "9fca20a5-19a3-4b6e-813a-8e3bc3eff4b0",
   "metadata": {},
   "outputs": [
    {
     "name": "stderr",
     "output_type": "stream",
     "text": [
      "C:\\Users\\luiz.santos\\Documents\\FIAP Grupo\\Tech Challenge\\.venv\\Lib\\site-packages\\sklearn\\base.py:486: UserWarning: X has feature names, but LinearRegression was fitted without feature names\n",
      "  warnings.warn(\n"
     ]
    }
   ],
   "source": [
    "grupos_risco = segmentacao_de_risco(best_model, dados_futuros)"
   ]
  },
  {
   "cell_type": "markdown",
   "id": "e0f827ad-ea14-449f-ac30-740f7847e0ad",
   "metadata": {},
   "source": [
    "Análises de sensibilidade para entender o impacto das mudanças nas características dos segurados nos encargos previstos:"
   ]
  },
  {
   "cell_type": "code",
   "execution_count": 19,
   "id": "8e827e0d-72e5-4bbf-b458-7bab84abfdcb",
   "metadata": {},
   "outputs": [
    {
     "name": "stderr",
     "output_type": "stream",
     "text": [
      "C:\\Users\\luiz.santos\\Documents\\FIAP Grupo\\Tech Challenge\\.venv\\Lib\\site-packages\\sklearn\\base.py:486: UserWarning: X has feature names, but LinearRegression was fitted without feature names\n",
      "  warnings.warn(\n"
     ]
    }
   ],
   "source": [
    "custos_previstos_alterados = analise_de_sensibilidade(best_model, dados_futuros, 'Idade', novo_valor=40)"
   ]
  },
  {
   "cell_type": "markdown",
   "id": "c38da1be-74f3-4fc5-9ab3-da6447d943ef",
   "metadata": {},
   "source": [
    "Utilizando as previsões dos encargos para otimizar a alocação de recursos:"
   ]
  },
  {
   "cell_type": "code",
   "execution_count": 20,
   "id": "3740e3ff-fcdf-416f-9aa4-3f54b5d2f539",
   "metadata": {},
   "outputs": [],
   "source": [
    "recursos_otimizados = otimizacao_de_recursos(encargos_futuros)"
   ]
  },
  {
   "cell_type": "markdown",
   "id": "a6e3345c-a5d0-4a2c-aa64-7c675cf967d6",
   "metadata": {},
   "source": [
    "Utilizando as informações obtidas com o modelo para desenvolver planos estratégicos:"
   ]
  },
  {
   "cell_type": "code",
   "execution_count": 21,
   "id": "160d53a4-3d2b-4a41-af3b-cbbbf91116c8",
   "metadata": {},
   "outputs": [
    {
     "name": "stderr",
     "output_type": "stream",
     "text": [
      "C:\\Users\\luiz.santos\\Documents\\FIAP Grupo\\Tech Challenge\\.venv\\Lib\\site-packages\\sklearn\\base.py:486: UserWarning: X has feature names, but LinearRegression was fitted without feature names\n",
      "  warnings.warn(\n",
      "C:\\Users\\luiz.santos\\Documents\\FIAP Grupo\\Tech Challenge\\.venv\\Lib\\site-packages\\sklearn\\base.py:486: UserWarning: X has feature names, but LinearRegression was fitted without feature names\n",
      "  warnings.warn(\n"
     ]
    }
   ],
   "source": [
    "planos_estrategicos = planejamento_estrategico(best_model, dados_futuros)"
   ]
  },
  {
   "cell_type": "code",
   "execution_count": 22,
   "id": "b5651aad-ab93-4e5d-9119-62173d584776",
   "metadata": {},
   "outputs": [],
   "source": [
    "# Adicionando as novas colunas na planilha dados futuros\n",
    "dados_futuros['Encargo Futuro'] = encargos_futuros\n",
    "dados_futuros['Grupos Risco'] = grupos_risco\n",
    "dados_futuros['Recursos Otimizados'] = custos_previstos_alterados\n",
    "dados_futuros['Planos estratégicos'] = planos_estrategicos\n",
    "dados_futuros['Encargos'] = np.nan\n",
    "\n",
    "# Salvar os dados randômicos futuros\n",
    "dados_futuros.to_csv(\"../planilhas/4_dados_futuros.csv\", index=False, encoding='latin1')"
   ]
  },
  {
   "cell_type": "code",
   "execution_count": 23,
   "id": "34520248-7ad9-4789-88c9-d3e48b98ffcb",
   "metadata": {},
   "outputs": [
    {
     "data": {
      "image/png": "[encoded data removed]",
      "text/plain": [
       "<Figure size 1500x500 with 1 Axes>"
      ]
     },
     "metadata": {},
     "output_type": "display_data"
    }
   ],
   "source": [
    "fig, axs = plt.subplots(figsize=(15, 5))\n",
    "\n",
    "# Criar gráfico\n",
    "plt.plot(dados_futuros['Encargo Futuro'], label='Previsões', color='blue', marker='o')\n",
    "plt.plot(dados_futuros['Encargos'], label='Valores Reais', color='green', marker='x')\n",
    "\n",
    "# Adicionar rótulos e legenda\n",
    "plt.xlabel('Período')\n",
    "plt.ylabel('Valor')\n",
    "plt.legend()\n",
    "\n",
    "# Exibir gráfico\n",
    "plt.title('Previsões vs. Valores Reais')\n",
    "plt.show()"
   ]
  }
 ],
 "metadata": {
  "kernelspec": {
   "display_name": "Python 3 (ipykernel)",
   "language": "python",
   "name": "python3"
  },
  "language_info": {
   "codemirror_mode": {
    "name": "ipython",
    "version": 3
   },
   "file_extension": ".py",
   "mimetype": "text/x-python",
   "name": "python",
   "nbconvert_exporter": "python",
   "pygments_lexer": "ipython3",
   "version": "3.12.2"
  }
 },
 "nbformat": 4,
 "nbformat_minor": 5
}

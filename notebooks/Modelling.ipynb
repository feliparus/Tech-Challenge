{
 "cells": [
  {
   "cell_type": "code",
   "execution_count": 1,
   "id": "dbc0af4c-ddf6-4729-8cea-952f3c7d1104",
   "metadata": {},
   "outputs": [
    {
     "name": "stdout",
     "output_type": "stream",
     "text": [
      "Requirement already satisfied: pandas in c:\\users\\luiz.santos\\documents\\fiap grupo\\tech challenge\\.venv\\lib\\site-packages (2.2.1)\n",
      "Requirement already satisfied: scikit-learn in c:\\users\\luiz.santos\\documents\\fiap grupo\\tech challenge\\.venv\\lib\\site-packages (1.4.1.post1)\n",
      "Requirement already satisfied: optuna in c:\\users\\luiz.santos\\documents\\fiap grupo\\tech challenge\\.venv\\lib\\site-packages (3.6.1)\n",
      "Requirement already satisfied: numpy<2,>=1.26.0 in c:\\users\\luiz.santos\\documents\\fiap grupo\\tech challenge\\.venv\\lib\\site-packages (from pandas) (1.26.4)\n",
      "Requirement already satisfied: python-dateutil>=2.8.2 in c:\\users\\luiz.santos\\documents\\fiap grupo\\tech challenge\\.venv\\lib\\site-packages (from pandas) (2.9.0.post0)\n",
      "Requirement already satisfied: pytz>=2020.1 in c:\\users\\luiz.santos\\documents\\fiap grupo\\tech challenge\\.venv\\lib\\site-packages (from pandas) (2024.1)\n",
      "Requirement already satisfied: tzdata>=2022.7 in c:\\users\\luiz.santos\\documents\\fiap grupo\\tech challenge\\.venv\\lib\\site-packages (from pandas) (2024.1)\n",
      "Requirement already satisfied: scipy>=1.6.0 in c:\\users\\luiz.santos\\documents\\fiap grupo\\tech challenge\\.venv\\lib\\site-packages (from scikit-learn) (1.13.0)\n",
      "Requirement already satisfied: joblib>=1.2.0 in c:\\users\\luiz.santos\\documents\\fiap grupo\\tech challenge\\.venv\\lib\\site-packages (from scikit-learn) (1.3.2)\n",
      "Requirement already satisfied: threadpoolctl>=2.0.0 in c:\\users\\luiz.santos\\documents\\fiap grupo\\tech challenge\\.venv\\lib\\site-packages (from scikit-learn) (3.4.0)\n",
      "Requirement already satisfied: alembic>=1.5.0 in c:\\users\\luiz.santos\\documents\\fiap grupo\\tech challenge\\.venv\\lib\\site-packages (from optuna) (1.13.1)\n",
      "Requirement already satisfied: colorlog in c:\\users\\luiz.santos\\documents\\fiap grupo\\tech challenge\\.venv\\lib\\site-packages (from optuna) (6.8.2)\n",
      "Requirement already satisfied: packaging>=20.0 in c:\\users\\luiz.santos\\documents\\fiap grupo\\tech challenge\\.venv\\lib\\site-packages (from optuna) (24.0)\n",
      "Requirement already satisfied: sqlalchemy>=1.3.0 in c:\\users\\luiz.santos\\documents\\fiap grupo\\tech challenge\\.venv\\lib\\site-packages (from optuna) (2.0.29)\n",
      "Requirement already satisfied: tqdm in c:\\users\\luiz.santos\\documents\\fiap grupo\\tech challenge\\.venv\\lib\\site-packages (from optuna) (4.66.2)\n",
      "Requirement already satisfied: PyYAML in c:\\users\\luiz.santos\\documents\\fiap grupo\\tech challenge\\.venv\\lib\\site-packages (from optuna) (6.0.1)\n",
      "Requirement already satisfied: Mako in c:\\users\\luiz.santos\\documents\\fiap grupo\\tech challenge\\.venv\\lib\\site-packages (from alembic>=1.5.0->optuna) (1.3.2)\n",
      "Requirement already satisfied: typing-extensions>=4 in c:\\users\\luiz.santos\\documents\\fiap grupo\\tech challenge\\.venv\\lib\\site-packages (from alembic>=1.5.0->optuna) (4.11.0)\n",
      "Requirement already satisfied: six>=1.5 in c:\\users\\luiz.santos\\documents\\fiap grupo\\tech challenge\\.venv\\lib\\site-packages (from python-dateutil>=2.8.2->pandas) (1.16.0)\n",
      "Requirement already satisfied: greenlet!=0.4.17 in c:\\users\\luiz.santos\\documents\\fiap grupo\\tech challenge\\.venv\\lib\\site-packages (from sqlalchemy>=1.3.0->optuna) (3.0.3)\n",
      "Requirement already satisfied: colorama in c:\\users\\luiz.santos\\documents\\fiap grupo\\tech challenge\\.venv\\lib\\site-packages (from colorlog->optuna) (0.4.6)\n",
      "Requirement already satisfied: MarkupSafe>=0.9.2 in c:\\users\\luiz.santos\\documents\\fiap grupo\\tech challenge\\.venv\\lib\\site-packages (from Mako->alembic>=1.5.0->optuna) (2.1.5)\n"
     ]
    }
   ],
   "source": [
    "!pip install pandas scikit-learn optuna"
   ]
  },
  {
   "cell_type": "code",
   "execution_count": 2,
   "id": "88537431-7a90-4c7c-a1d0-5eeb475c641e",
   "metadata": {},
   "outputs": [],
   "source": [
    "import pandas as pd\n",
    "from include.utils import incrementar_dados_aleatorios_csv, categorizar_imc\n",
    "from sklearn.model_selection import train_test_split, cross_val_score\n",
    "from sklearn.ensemble import RandomForestRegressor\n",
    "from sklearn.linear_model import LinearRegression\n",
    "from sklearn.metrics import mean_squared_error\n",
    "from sklearn.preprocessing import OneHotEncoder, LabelEncoder\n",
    "import optuna"
   ]
  },
  {
   "cell_type": "markdown",
   "id": "320499db-f973-450a-9aab-316e6426be3a",
   "metadata": {},
   "source": [
    "**1. Engenharia de Recursos**"
   ]
  },
  {
   "cell_type": "markdown",
   "id": "2a110e58-c228-4985-a256-24ffc5dcc631",
   "metadata": {},
   "source": [
    "Novos recursos derivados dos dados existentes"
   ]
  },
  {
   "cell_type": "code",
   "execution_count": 3,
   "id": "f33739b5-0572-464a-af36-3a517bad8e10",
   "metadata": {},
   "outputs": [],
   "source": [
    "# leia os dados CSV indicados no site da FIAP\n",
    "dados = pd.read_csv('../base_dados.csv', encoding='latin-1')\n",
    "\n",
    "# aqui chamo a função incrementar_dados_aleatorios, para aumentar o volume da variável dados\n",
    "dados = incrementar_dados_aleatorios_csv(dados)\n",
    "\n",
    "# Aplicar a função para categorizar IMC e criar uma nova coluna 'Categoria IMC'\n",
    "dados['Categoria IMC'] = dados['IMC'].apply(categorizar_imc)"
   ]
  },
  {
   "cell_type": "markdown",
   "id": "eebb4b2f-58ca-4fa7-97d1-af96eb7d266d",
   "metadata": {},
   "source": [
    "**2. Limpeza de Dados**"
   ]
  },
  {
   "cell_type": "code",
   "execution_count": 4,
   "id": "7be726d7-f49f-4115-9c22-9bf83b87f4bf",
   "metadata": {},
   "outputs": [],
   "source": [
    "# Remover linhas com valores NaN\n",
    "dados = dados.dropna()\n",
    "\n",
    "# Substituir valores nulos por zero\n",
    "dados['Filhos'] = dados['Filhos'].fillna(0)\n",
    "dados['Filhos'] = dados['Filhos'].astype(int)\n",
    "dados['Idade'] = dados['Idade'].fillna(0)\n",
    "dados['Idade'] = dados['Idade'].astype(int)\n",
    "dados['Encargos'] = dados['Encargos'].fillna(0)\n",
    "\n",
    "dados['Gênero'] = dados['Gênero'].str.replace('nan', 'Não informado')"
   ]
  },
  {
   "cell_type": "markdown",
   "id": "ad26fe86-4dd4-488f-90ee-3a86ac237459",
   "metadata": {},
   "source": [
    "**3. Pré-processamento**"
   ]
  },
  {
   "cell_type": "code",
   "execution_count": 5,
   "id": "766f9565-948e-4563-8f7f-e16ccf5f029a",
   "metadata": {},
   "outputs": [],
   "source": [
    "def pre_processamento(data):\n",
    "    # Exemplo de pré-processamento: padronização dos dados\n",
    "    scaler = StandardScaler()\n",
    "    X_train_scaled = scaler.fit_transform(X_train)\n",
    "    X_test_scaled = scaler.transform(X_test)"
   ]
  },
  {
   "cell_type": "markdown",
   "id": "d97c5862-6ad0-4e20-9e49-a447bfaa48c2",
   "metadata": {},
   "source": [
    "**4. Treinamento do Modelo**"
   ]
  },
  {
   "cell_type": "code",
   "execution_count": 6,
   "id": "969de9b6-fa98-4951-b1b6-cfb5ea261c58",
   "metadata": {},
   "outputs": [],
   "source": [
    "# Dividir os dados em features (X) e target (y)\n",
    "X = dados.drop('Encargos', axis=1)  # Substitua 'target_column_name' pelo nome da coluna alvo\n",
    "y = dados['Encargos']\n",
    "\n",
    "# Codificar variáveis categóricas usando one-hot encoding\n",
    "encoder = OneHotEncoder(drop='first')\n",
    "X_encoded = encoder.fit_transform(X[['Gênero', 'Região']])\n",
    "\n",
    "# Concatenar features codificadas com as restantes\n",
    "X_encoded = pd.DataFrame(X_encoded.toarray(), columns=encoder.get_feature_names_out(['Gênero', 'Região']), index=X.index)\n",
    "X = pd.concat([X.drop(['Gênero', 'Região'], axis=1), X_encoded], axis=1)\n",
    "\n",
    "# Codificar variável categórica 'IMC' com LabelEncoder\n",
    "label_encoder = LabelEncoder()\n",
    "X['Categoria IMC'] = label_encoder.fit_transform(X['Categoria IMC'])\n",
    "\n",
    "# Substituir valores 'sim' e 'não' por 1 e 0\n",
    "X['Fumante'] = X['Fumante'].map({'sim': 1, 'não': 0})\n",
    "\n",
    "# Dividir os dados em conjuntos de treinamento e teste\n",
    "X_train, X_test, y_train, y_test = train_test_split(X, y, test_size=0.2, random_state=42)"
   ]
  },
  {
   "cell_type": "code",
   "execution_count": 7,
   "id": "be67531c-1538-4d5e-858f-7ab5406ffd2e",
   "metadata": {},
   "outputs": [
    {
     "name": "stdout",
     "output_type": "stream",
     "text": [
      "Random Forest Regressor MSE: 138188527.28654644\n",
      "Acurácia média com validação cruzada para Random Forest Regressor: -0.1908849290695597\n",
      "Linear Regression MSE: 126944222.75527039\n",
      "Acurácia média com validação cruzada para Linear Regression: -0.1389338848568758\n"
     ]
    }
   ],
   "source": [
    "# Treinar e avaliar os modelos de regressão\n",
    "models = {\n",
    "    'Random Forest Regressor': RandomForestRegressor(),\n",
    "    'Linear Regression': LinearRegression()\n",
    "}\n",
    "\n",
    "for name, model in models.items():\n",
    "    model.fit(X_train, y_train)\n",
    "    y_pred = model.predict(X_test)\n",
    "    mse = mean_squared_error(y_test, y_pred)\n",
    "    print(f'{name} MSE: {mse}')\n",
    "    # Calcular acurácia média usando validação cruzada\n",
    "    scores = cross_val_score(model, X_train, y_train, cv=5)\n",
    "    print(f'Acurácia média com validação cruzada para {name}: {scores.mean()}')"
   ]
  },
  {
   "cell_type": "markdown",
   "id": "48fb4ff9-f2ce-4114-bc95-28f313d6690f",
   "metadata": {},
   "source": [
    "**5. Comparação de Modelos**"
   ]
  },
  {
   "cell_type": "code",
   "execution_count": 8,
   "id": "955fbdea-faea-4285-8298-76b32a8bd648",
   "metadata": {},
   "outputs": [],
   "source": [
    "# Seleção de modelo com base na menor pontuação de validação cruzada\n",
    "best_model_name = min(models, key=lambda model: cross_val_score(models[model], X_train, y_train, cv=5).mean())"
   ]
  },
  {
   "cell_type": "markdown",
   "id": "d9684717-7ac2-4c36-a697-1f3a72d85d51",
   "metadata": {},
   "source": [
    "**6. Seleção de Modelo**"
   ]
  },
  {
   "cell_type": "code",
   "execution_count": 9,
   "id": "16947f1b-a506-4540-9068-99f278e9d558",
   "metadata": {},
   "outputs": [
    {
     "name": "stdout",
     "output_type": "stream",
     "text": [
      "Best Model: Random Forest Regressor\n"
     ]
    }
   ],
   "source": [
    "best_model = models[best_model_name]\n",
    "print(f'Best Model: {best_model_name}')"
   ]
  },
  {
   "cell_type": "markdown",
   "id": "eb2c235a-b688-4d6b-8820-de8a50e3e4a8",
   "metadata": {},
   "source": [
    "**7. Otimização de Modelo**"
   ]
  },
  {
   "cell_type": "code",
   "execution_count": 10,
   "id": "e36479d9-807c-4862-bcd6-a1b06426edce",
   "metadata": {},
   "outputs": [
    {
     "name": "stderr",
     "output_type": "stream",
     "text": [
      "[I 2024-04-06 11:04:01,573] A new study created in memory with name: no-name-6cc3dc67-ba28-4308-80e3-5e0b124dff3f\n",
      "[I 2024-04-06 11:04:03,812] Trial 0 finished with value: -168602413.92700645 and parameters: {'n_estimators': 18, 'max_depth': 25}. Best is trial 0 with value: -168602413.92700645.\n",
      "[I 2024-04-06 11:04:05,514] Trial 1 finished with value: -173215176.2839093 and parameters: {'n_estimators': 60, 'max_depth': 18}. Best is trial 1 with value: -173215176.2839093.\n",
      "[I 2024-04-06 11:04:07,336] Trial 2 finished with value: -165574186.4970326 and parameters: {'n_estimators': 44, 'max_depth': 5}. Best is trial 1 with value: -173215176.2839093.\n",
      "[I 2024-04-06 11:04:07,490] Trial 3 finished with value: -173106547.38634184 and parameters: {'n_estimators': 75, 'max_depth': 16}. Best is trial 1 with value: -173215176.2839093.\n",
      "[I 2024-04-06 11:04:07,617] Trial 4 finished with value: -175207217.68983126 and parameters: {'n_estimators': 55, 'max_depth': 23}. Best is trial 4 with value: -175207217.68983126.\n",
      "[I 2024-04-06 11:04:07,751] Trial 5 finished with value: -155702846.87862316 and parameters: {'n_estimators': 68, 'max_depth': 3}. Best is trial 4 with value: -175207217.68983126.\n",
      "[I 2024-04-06 11:04:07,936] Trial 6 finished with value: -173352059.552278 and parameters: {'n_estimators': 84, 'max_depth': 26}. Best is trial 4 with value: -175207217.68983126.\n",
      "[I 2024-04-06 11:04:08,003] Trial 7 finished with value: -174885278.24982986 and parameters: {'n_estimators': 29, 'max_depth': 26}. Best is trial 4 with value: -175207217.68983126.\n",
      "[I 2024-04-06 11:04:08,049] Trial 8 finished with value: -180049914.1001916 and parameters: {'n_estimators': 17, 'max_depth': 28}. Best is trial 8 with value: -180049914.1001916.\n",
      "[I 2024-04-06 11:04:08,227] Trial 9 finished with value: -174610124.23789796 and parameters: {'n_estimators': 95, 'max_depth': 32}. Best is trial 8 with value: -180049914.1001916.\n",
      "[I 2024-04-06 11:04:08,286] Trial 10 finished with value: -182003706.905949 and parameters: {'n_estimators': 12, 'max_depth': 32}. Best is trial 10 with value: -182003706.905949.\n",
      "[I 2024-04-06 11:04:08,340] Trial 11 finished with value: -183159243.98819575 and parameters: {'n_estimators': 11, 'max_depth': 32}. Best is trial 11 with value: -183159243.98819575.\n",
      "[I 2024-04-06 11:04:08,396] Trial 12 finished with value: -191618651.77260378 and parameters: {'n_estimators': 11, 'max_depth': 32}. Best is trial 12 with value: -191618651.77260378.\n",
      "[I 2024-04-06 11:04:08,496] Trial 13 finished with value: -178053124.09306273 and parameters: {'n_estimators': 34, 'max_depth': 11}. Best is trial 12 with value: -191618651.77260378.\n",
      "[I 2024-04-06 11:04:08,599] Trial 14 finished with value: -176749200.15098798 and parameters: {'n_estimators': 31, 'max_depth': 20}. Best is trial 12 with value: -191618651.77260378.\n",
      "[I 2024-04-06 11:04:08,653] Trial 15 finished with value: -181319744.12583625 and parameters: {'n_estimators': 10, 'max_depth': 30}. Best is trial 12 with value: -191618651.77260378.\n",
      "[I 2024-04-06 11:04:08,755] Trial 16 finished with value: -176060769.48851717 and parameters: {'n_estimators': 42, 'max_depth': 14}. Best is trial 12 with value: -191618651.77260378.\n",
      "[I 2024-04-06 11:04:08,832] Trial 17 finished with value: -180601044.69631287 and parameters: {'n_estimators': 25, 'max_depth': 22}. Best is trial 12 with value: -191618651.77260378.\n",
      "[I 2024-04-06 11:04:08,945] Trial 18 finished with value: -171789860.20339465 and parameters: {'n_estimators': 43, 'max_depth': 10}. Best is trial 12 with value: -191618651.77260378.\n",
      "[I 2024-04-06 11:04:09,023] Trial 19 finished with value: -178987513.03636897 and parameters: {'n_estimators': 22, 'max_depth': 28}. Best is trial 12 with value: -191618651.77260378.\n",
      "[I 2024-04-06 11:04:09,137] Trial 20 finished with value: -171123810.42736593 and parameters: {'n_estimators': 37, 'max_depth': 29}. Best is trial 12 with value: -191618651.77260378.\n",
      "[I 2024-04-06 11:04:09,202] Trial 21 finished with value: -182522114.12476596 and parameters: {'n_estimators': 10, 'max_depth': 32}. Best is trial 12 with value: -191618651.77260378.\n",
      "[I 2024-04-06 11:04:09,249] Trial 22 finished with value: -193068997.37428808 and parameters: {'n_estimators': 10, 'max_depth': 32}. Best is trial 22 with value: -193068997.37428808.\n",
      "[I 2024-04-06 11:04:09,325] Trial 23 finished with value: -183195293.88786677 and parameters: {'n_estimators': 21, 'max_depth': 30}. Best is trial 22 with value: -193068997.37428808.\n",
      "[I 2024-04-06 11:04:09,394] Trial 24 finished with value: -178553997.7524111 and parameters: {'n_estimators': 23, 'max_depth': 29}. Best is trial 22 with value: -193068997.37428808.\n",
      "[I 2024-04-06 11:04:09,471] Trial 25 finished with value: -181341119.0506401 and parameters: {'n_estimators': 18, 'max_depth': 23}. Best is trial 22 with value: -193068997.37428808.\n",
      "[I 2024-04-06 11:04:09,540] Trial 26 finished with value: -177563179.86669257 and parameters: {'n_estimators': 24, 'max_depth': 25}. Best is trial 22 with value: -193068997.37428808.\n",
      "[I 2024-04-06 11:04:09,642] Trial 27 finished with value: -176659067.94498852 and parameters: {'n_estimators': 53, 'max_depth': 30}. Best is trial 22 with value: -193068997.37428808.\n",
      "[I 2024-04-06 11:04:09,705] Trial 28 finished with value: -189924907.19569895 and parameters: {'n_estimators': 16, 'max_depth': 27}. Best is trial 22 with value: -193068997.37428808.\n",
      "[I 2024-04-06 11:04:09,769] Trial 29 finished with value: -169078940.47279432 and parameters: {'n_estimators': 16, 'max_depth': 26}. Best is trial 22 with value: -193068997.37428808.\n",
      "[I 2024-04-06 11:04:09,846] Trial 30 finished with value: -176938401.54147866 and parameters: {'n_estimators': 27, 'max_depth': 21}. Best is trial 22 with value: -193068997.37428808.\n",
      "[I 2024-04-06 11:04:09,915] Trial 31 finished with value: -187655204.49970034 and parameters: {'n_estimators': 18, 'max_depth': 30}. Best is trial 22 with value: -193068997.37428808.\n",
      "[I 2024-04-06 11:04:09,990] Trial 32 finished with value: -175264716.1435939 and parameters: {'n_estimators': 16, 'max_depth': 27}. Best is trial 22 with value: -193068997.37428808.\n",
      "[I 2024-04-06 11:04:10,105] Trial 33 finished with value: -173498116.5752283 and parameters: {'n_estimators': 37, 'max_depth': 24}. Best is trial 22 with value: -193068997.37428808.\n",
      "[I 2024-04-06 11:04:10,176] Trial 34 finished with value: -186938465.40077642 and parameters: {'n_estimators': 16, 'max_depth': 30}. Best is trial 22 with value: -193068997.37428808.\n",
      "[I 2024-04-06 11:04:10,260] Trial 35 finished with value: -176651809.07405427 and parameters: {'n_estimators': 30, 'max_depth': 19}. Best is trial 22 with value: -193068997.37428808.\n",
      "[I 2024-04-06 11:04:10,374] Trial 36 finished with value: -171307765.81922355 and parameters: {'n_estimators': 49, 'max_depth': 28}. Best is trial 22 with value: -193068997.37428808.\n",
      "[I 2024-04-06 11:04:10,443] Trial 37 finished with value: -177055564.09778678 and parameters: {'n_estimators': 20, 'max_depth': 31}. Best is trial 22 with value: -193068997.37428808.\n",
      "[I 2024-04-06 11:04:10,596] Trial 38 finished with value: -174740639.5822287 and parameters: {'n_estimators': 63, 'max_depth': 24}. Best is trial 22 with value: -193068997.37428808.\n",
      "[I 2024-04-06 11:04:10,753] Trial 39 finished with value: -172732608.0251397 and parameters: {'n_estimators': 78, 'max_depth': 17}. Best is trial 22 with value: -193068997.37428808.\n",
      "[I 2024-04-06 11:04:10,819] Trial 40 finished with value: -176391950.3475732 and parameters: {'n_estimators': 14, 'max_depth': 26}. Best is trial 22 with value: -193068997.37428808.\n",
      "[I 2024-04-06 11:04:10,892] Trial 41 finished with value: -188694529.40334776 and parameters: {'n_estimators': 16, 'max_depth': 30}. Best is trial 22 with value: -193068997.37428808.\n",
      "[I 2024-04-06 11:04:10,961] Trial 42 finished with value: -180310564.7726407 and parameters: {'n_estimators': 19, 'max_depth': 28}. Best is trial 22 with value: -193068997.37428808.\n",
      "[I 2024-04-06 11:04:11,019] Trial 43 finished with value: -184989791.9945848 and parameters: {'n_estimators': 13, 'max_depth': 31}. Best is trial 22 with value: -193068997.37428808.\n",
      "[I 2024-04-06 11:04:11,068] Trial 44 finished with value: -181307377.50325248 and parameters: {'n_estimators': 10, 'max_depth': 32}. Best is trial 22 with value: -193068997.37428808.\n",
      "[I 2024-04-06 11:04:11,261] Trial 45 finished with value: -172151206.83622777 and parameters: {'n_estimators': 99, 'max_depth': 27}. Best is trial 22 with value: -193068997.37428808.\n",
      "[I 2024-04-06 11:04:11,338] Trial 46 finished with value: -178859830.95960546 and parameters: {'n_estimators': 26, 'max_depth': 29}. Best is trial 22 with value: -193068997.37428808.\n",
      "[I 2024-04-06 11:04:11,428] Trial 47 finished with value: -177959062.2059584 and parameters: {'n_estimators': 33, 'max_depth': 31}. Best is trial 22 with value: -193068997.37428808.\n",
      "[I 2024-04-06 11:04:11,513] Trial 48 finished with value: -188437419.51430783 and parameters: {'n_estimators': 14, 'max_depth': 30}. Best is trial 22 with value: -193068997.37428808.\n",
      "[I 2024-04-06 11:04:11,579] Trial 49 finished with value: -167249514.22524667 and parameters: {'n_estimators': 13, 'max_depth': 5}. Best is trial 22 with value: -193068997.37428808.\n",
      "[I 2024-04-06 11:04:11,676] Trial 50 finished with value: -171333524.43228054 and parameters: {'n_estimators': 21, 'max_depth': 11}. Best is trial 22 with value: -193068997.37428808.\n",
      "[I 2024-04-06 11:04:11,738] Trial 51 finished with value: -173974854.10275137 and parameters: {'n_estimators': 15, 'max_depth': 31}. Best is trial 22 with value: -193068997.37428808.\n",
      "[I 2024-04-06 11:04:11,816] Trial 52 finished with value: -172818686.34685656 and parameters: {'n_estimators': 18, 'max_depth': 29}. Best is trial 22 with value: -193068997.37428808.\n",
      "[I 2024-04-06 11:04:11,904] Trial 53 finished with value: -182910584.72880015 and parameters: {'n_estimators': 27, 'max_depth': 27}. Best is trial 22 with value: -193068997.37428808.\n",
      "[I 2024-04-06 11:04:11,962] Trial 54 finished with value: -175099683.34729096 and parameters: {'n_estimators': 12, 'max_depth': 32}. Best is trial 22 with value: -193068997.37428808.\n",
      "[I 2024-04-06 11:04:12,016] Trial 55 finished with value: -185247569.94244727 and parameters: {'n_estimators': 10, 'max_depth': 30}. Best is trial 22 with value: -193068997.37428808.\n",
      "[I 2024-04-06 11:04:12,089] Trial 56 finished with value: -179698322.13325384 and parameters: {'n_estimators': 22, 'max_depth': 29}. Best is trial 22 with value: -193068997.37428808.\n",
      "[I 2024-04-06 11:04:12,170] Trial 57 finished with value: -169720438.78948686 and parameters: {'n_estimators': 19, 'max_depth': 32}. Best is trial 22 with value: -193068997.37428808.\n",
      "[I 2024-04-06 11:04:12,378] Trial 58 finished with value: -173507318.6951817 and parameters: {'n_estimators': 87, 'max_depth': 28}. Best is trial 22 with value: -193068997.37428808.\n",
      "[I 2024-04-06 11:04:12,438] Trial 59 finished with value: -190912110.8199823 and parameters: {'n_estimators': 14, 'max_depth': 14}. Best is trial 22 with value: -193068997.37428808.\n",
      "[I 2024-04-06 11:04:12,539] Trial 60 finished with value: -169288757.10691616 and parameters: {'n_estimators': 38, 'max_depth': 15}. Best is trial 22 with value: -193068997.37428808.\n",
      "[I 2024-04-06 11:04:12,587] Trial 61 finished with value: -176731328.3411659 and parameters: {'n_estimators': 13, 'max_depth': 13}. Best is trial 22 with value: -193068997.37428808.\n",
      "[I 2024-04-06 11:04:12,669] Trial 62 finished with value: -181553223.43577182 and parameters: {'n_estimators': 24, 'max_depth': 16}. Best is trial 22 with value: -193068997.37428808.\n",
      "[I 2024-04-06 11:04:12,736] Trial 63 finished with value: -178276950.0503817 and parameters: {'n_estimators': 16, 'max_depth': 9}. Best is trial 22 with value: -193068997.37428808.\n",
      "[I 2024-04-06 11:04:12,806] Trial 64 finished with value: -179501556.51036605 and parameters: {'n_estimators': 18, 'max_depth': 30}. Best is trial 22 with value: -193068997.37428808.\n",
      "[I 2024-04-06 11:04:12,855] Trial 65 finished with value: -174945320.49580362 and parameters: {'n_estimators': 10, 'max_depth': 14}. Best is trial 22 with value: -193068997.37428808.\n",
      "[I 2024-04-06 11:04:12,935] Trial 66 finished with value: -184867668.44681993 and parameters: {'n_estimators': 28, 'max_depth': 31}. Best is trial 22 with value: -193068997.37428808.\n",
      "[I 2024-04-06 11:04:12,995] Trial 67 finished with value: -172444929.39517152 and parameters: {'n_estimators': 14, 'max_depth': 25}. Best is trial 22 with value: -193068997.37428808.\n",
      "[I 2024-04-06 11:04:13,072] Trial 68 finished with value: -179410077.55944118 and parameters: {'n_estimators': 23, 'max_depth': 8}. Best is trial 22 with value: -193068997.37428808.\n",
      "[I 2024-04-06 11:04:13,228] Trial 69 finished with value: -174151917.0628489 and parameters: {'n_estimators': 67, 'max_depth': 13}. Best is trial 22 with value: -193068997.37428808.\n",
      "[I 2024-04-06 11:04:13,304] Trial 70 finished with value: -173815941.91943508 and parameters: {'n_estimators': 20, 'max_depth': 27}. Best is trial 22 with value: -193068997.37428808.\n",
      "[I 2024-04-06 11:04:13,366] Trial 71 finished with value: -184245959.65541753 and parameters: {'n_estimators': 17, 'max_depth': 30}. Best is trial 22 with value: -193068997.37428808.\n",
      "[I 2024-04-06 11:04:13,430] Trial 72 finished with value: -180375353.6353055 and parameters: {'n_estimators': 15, 'max_depth': 31}. Best is trial 22 with value: -193068997.37428808.\n",
      "[I 2024-04-06 11:04:13,488] Trial 73 finished with value: -180796495.48341045 and parameters: {'n_estimators': 12, 'max_depth': 29}. Best is trial 22 with value: -193068997.37428808.\n",
      "[I 2024-04-06 11:04:13,556] Trial 74 finished with value: -173592429.17255887 and parameters: {'n_estimators': 16, 'max_depth': 18}. Best is trial 22 with value: -193068997.37428808.\n",
      "[I 2024-04-06 11:04:13,663] Trial 75 finished with value: -181805150.34653902 and parameters: {'n_estimators': 32, 'max_depth': 32}. Best is trial 22 with value: -193068997.37428808.\n",
      "[I 2024-04-06 11:04:13,732] Trial 76 finished with value: -180491774.61438978 and parameters: {'n_estimators': 25, 'max_depth': 30}. Best is trial 22 with value: -193068997.37428808.\n",
      "[I 2024-04-06 11:04:13,805] Trial 77 finished with value: -175364196.0790638 and parameters: {'n_estimators': 21, 'max_depth': 26}. Best is trial 22 with value: -193068997.37428808.\n",
      "[I 2024-04-06 11:04:13,857] Trial 78 finished with value: -177854026.56476828 and parameters: {'n_estimators': 10, 'max_depth': 28}. Best is trial 22 with value: -193068997.37428808.\n",
      "[I 2024-04-06 11:04:13,916] Trial 79 finished with value: -173836068.6006281 and parameters: {'n_estimators': 14, 'max_depth': 31}. Best is trial 22 with value: -193068997.37428808.\n",
      "[I 2024-04-06 11:04:14,013] Trial 80 finished with value: -170505635.0229628 and parameters: {'n_estimators': 29, 'max_depth': 30}. Best is trial 22 with value: -193068997.37428808.\n",
      "[I 2024-04-06 11:04:14,070] Trial 81 finished with value: -188170527.93561158 and parameters: {'n_estimators': 10, 'max_depth': 30}. Best is trial 22 with value: -193068997.37428808.\n",
      "[I 2024-04-06 11:04:14,134] Trial 82 finished with value: -180424249.03947285 and parameters: {'n_estimators': 12, 'max_depth': 29}. Best is trial 22 with value: -193068997.37428808.\n",
      "[I 2024-04-06 11:04:14,200] Trial 83 finished with value: -169754091.02243444 and parameters: {'n_estimators': 16, 'max_depth': 32}. Best is trial 22 with value: -193068997.37428808.\n",
      "[I 2024-04-06 11:04:14,270] Trial 84 finished with value: -186708783.81723705 and parameters: {'n_estimators': 18, 'max_depth': 28}. Best is trial 22 with value: -193068997.37428808.\n",
      "[I 2024-04-06 11:04:14,339] Trial 85 finished with value: -162774298.4978343 and parameters: {'n_estimators': 12, 'max_depth': 27}. Best is trial 22 with value: -193068997.37428808.\n",
      "[I 2024-04-06 11:04:14,499] Trial 86 finished with value: -173966668.75943562 and parameters: {'n_estimators': 49, 'max_depth': 31}. Best is trial 22 with value: -193068997.37428808.\n",
      "[I 2024-04-06 11:04:14,633] Trial 87 finished with value: -176469791.0596109 and parameters: {'n_estimators': 20, 'max_depth': 29}. Best is trial 22 with value: -193068997.37428808.\n",
      "[I 2024-04-06 11:04:14,718] Trial 88 finished with value: -169279328.59837192 and parameters: {'n_estimators': 15, 'max_depth': 30}. Best is trial 22 with value: -193068997.37428808.\n",
      "[I 2024-04-06 11:04:14,818] Trial 89 finished with value: -148374054.61512527 and parameters: {'n_estimators': 23, 'max_depth': 2}. Best is trial 22 with value: -193068997.37428808.\n",
      "[I 2024-04-06 11:04:15,019] Trial 90 finished with value: -177823848.5240279 and parameters: {'n_estimators': 59, 'max_depth': 32}. Best is trial 22 with value: -193068997.37428808.\n",
      "[I 2024-04-06 11:04:15,111] Trial 91 finished with value: -182824508.59442708 and parameters: {'n_estimators': 18, 'max_depth': 28}. Best is trial 22 with value: -193068997.37428808.\n",
      "[I 2024-04-06 11:04:15,196] Trial 92 finished with value: -178184789.81751287 and parameters: {'n_estimators': 18, 'max_depth': 31}. Best is trial 22 with value: -193068997.37428808.\n",
      "[I 2024-04-06 11:04:15,283] Trial 93 finished with value: -194916080.57104266 and parameters: {'n_estimators': 13, 'max_depth': 25}. Best is trial 93 with value: -194916080.57104266.\n",
      "[I 2024-04-06 11:04:15,355] Trial 94 finished with value: -181984710.0398184 and parameters: {'n_estimators': 12, 'max_depth': 20}. Best is trial 93 with value: -194916080.57104266.\n",
      "[I 2024-04-06 11:04:15,413] Trial 95 finished with value: -175217362.82410565 and parameters: {'n_estimators': 10, 'max_depth': 22}. Best is trial 93 with value: -194916080.57104266.\n",
      "[I 2024-04-06 11:04:15,499] Trial 96 finished with value: -169384074.8280265 and parameters: {'n_estimators': 14, 'max_depth': 24}. Best is trial 93 with value: -194916080.57104266.\n",
      "[I 2024-04-06 11:04:15,560] Trial 97 finished with value: -177288011.13291183 and parameters: {'n_estimators': 14, 'max_depth': 25}. Best is trial 93 with value: -194916080.57104266.\n",
      "[I 2024-04-06 11:04:15,636] Trial 98 finished with value: -172021914.751233 and parameters: {'n_estimators': 22, 'max_depth': 30}. Best is trial 93 with value: -194916080.57104266.\n",
      "[I 2024-04-06 11:04:15,701] Trial 99 finished with value: -176870498.88420814 and parameters: {'n_estimators': 16, 'max_depth': 26}. Best is trial 93 with value: -194916080.57104266.\n"
     ]
    },
    {
     "name": "stdout",
     "output_type": "stream",
     "text": [
      "Optimized Random Forest Regressor MSE: 161245964.26337922\n"
     ]
    }
   ],
   "source": [
    "# Otimização de hiperparâmetros com Optuna (exemplo com RandomForestRegressor)\n",
    "def objective(trial):\n",
    "    n_estimators = trial.suggest_int('n_estimators', 10, 100)\n",
    "    max_depth = trial.suggest_int('max_depth', 2, 32)\n",
    "    model = RandomForestRegressor(n_estimators=n_estimators, max_depth=max_depth)\n",
    "    score = cross_val_score(model, X_train, y_train, n_jobs=-1, cv=3, scoring='neg_mean_squared_error').mean()\n",
    "    return score\n",
    "\n",
    "study = optuna.create_study(direction='minimize')\n",
    "study.optimize(objective, n_trials=100)\n",
    "\n",
    "best_params = study.best_params\n",
    "best_model.set_params(**best_params)\n",
    "best_model.fit(X_train, y_train)\n",
    "y_pred = best_model.predict(X_test)\n",
    "mse = mean_squared_error(y_test, y_pred)\n",
    "print(f'Optimized {best_model_name} MSE: {mse}')"
   ]
  }
 ],
 "metadata": {
  "kernelspec": {
   "display_name": "Python 3 (ipykernel)",
   "language": "python",
   "name": "python3"
  },
  "language_info": {
   "codemirror_mode": {
    "name": "ipython",
    "version": 3
   },
   "file_extension": ".py",
   "mimetype": "text/x-python",
   "name": "python",
   "nbconvert_exporter": "python",
   "pygments_lexer": "ipython3",
   "version": "3.12.2"
  }
 },
 "nbformat": 4,
 "nbformat_minor": 5
}

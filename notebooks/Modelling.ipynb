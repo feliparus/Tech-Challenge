{
 "cells": [
  {
   "cell_type": "code",
   "execution_count": null,
   "id": "88537431-7a90-4c7c-a1d0-5eeb475c641e",
   "metadata": {},
   "outputs": [],
   "source": [
    "import pandas as pd\n",
    "from sklearn.preprocessing import StandardScaler\n",
    "from sklearn.model_selection import cross_val_score\n",
    "from sklearn.linear_model import LogisticRegression"
   ]
  },
  {
   "cell_type": "markdown",
   "id": "320499db-f973-450a-9aab-316e6426be3a",
   "metadata": {},
   "source": [
    "**1. Engenharia de Recursos**"
   ]
  },
  {
   "cell_type": "markdown",
   "id": "2a110e58-c228-4985-a256-24ffc5dcc631",
   "metadata": {},
   "source": [
    "Novos recursos derivados dos dados existentes"
   ]
  },
  {
   "cell_type": "code",
   "execution_count": null,
   "id": "f33739b5-0572-464a-af36-3a517bad8e10",
   "metadata": {},
   "outputs": [],
   "source": [
    "def incrementar_dados_aleatorios_csv(dados):\n",
    "    try:\n",
    "        # Exibir os dados antes de concatenar (para debug)\n",
    "        #print(\"Dados antes da concatenação:\\n\\n\", dados)\n",
    "        #print('-' * 100)\n",
    "        \n",
    "        # Carregar o arquivo CSV existente (se necessário)\n",
    "        # dados_existente = pd.read_csv('dados.csv')\n",
    "\n",
    "        # Gerar 200 linhas de dados\n",
    "        num_linhas = 200\n",
    "\n",
    "        # Criar listas para cada coluna\n",
    "        idades = np.random.randint(18, 80, size=num_linhas).astype(float)\n",
    "        generos = np.random.choice(['masculino', 'feminino'], size=num_linhas)\n",
    "        imcs = np.random.uniform(18, 35, size=num_linhas).astype(float)\n",
    "        filhos = np.random.randint(0, 5, size=num_linhas).astype(float)\n",
    "        fumante = np.random.choice(['sim', 'não'], size=num_linhas)\n",
    "        regioes = np.random.choice(['sudoeste', 'sudeste', 'nordeste', 'noroeste'], size=num_linhas)\n",
    "        encargos = np.random.uniform(10000, 50000, size=num_linhas).astype(float)\n",
    "\n",
    "        # Introduzir valores nulos manualmente em algumas colunas\n",
    "        # Vamos forçar 20 ausências em cada coluna\n",
    "        ausencias_por_coluna = 20\n",
    "\n",
    "        indices_nans = np.random.choice(num_linhas, size=ausencias_por_coluna, replace=False)\n",
    "\n",
    "        idades[indices_nans] = np.nan\n",
    "        generos[indices_nans] = np.nan\n",
    "        imcs[indices_nans] = np.nan\n",
    "        filhos[indices_nans] = np.nan\n",
    "        fumante[indices_nans] = np.nan\n",
    "        regioes[indices_nans] = np.nan\n",
    "        encargos[indices_nans] = np.nan\n",
    "\n",
    "        # Criar DataFrame com os dados adicionais\n",
    "        dados_adicionais = pd.DataFrame({\n",
    "            'Idade': idades,\n",
    "            'Gênero': generos,\n",
    "            'IMC': imcs,\n",
    "            'Filhos': filhos,\n",
    "            'Fumante': fumante,\n",
    "            'Região': regioes,\n",
    "            'Encargos': encargos\n",
    "        })\n",
    "\n",
    "        # Concatenar os DataFrames 'dados' e 'dados_adicionais'\n",
    "        dados = pd.concat([dados, dados_adicionais], ignore_index=True)\n",
    "\n",
    "        # Retornar os dados concatenados\n",
    "        return dados\n",
    "    except Exception as e:\n",
    "        print(\"Ocorreu uma exceção:\", e)"
   ]
  },
  {
   "cell_type": "markdown",
   "id": "eebb4b2f-58ca-4fa7-97d1-af96eb7d266d",
   "metadata": {},
   "source": [
    "**2. Limpeza de Dados**"
   ]
  },
  {
   "cell_type": "code",
   "execution_count": null,
   "id": "7be726d7-f49f-4115-9c22-9bf83b87f4bf",
   "metadata": {},
   "outputs": [],
   "source": [
    "def limpeza_dados(data):\n",
    "    # Substituir valores nulos por zero\n",
    "    dados['Filhos'] = dados['Filhos'].fillna(0)\n",
    "    dados['Filhos'] = dados['Filhos'].astype(int)\n",
    "    \n",
    "    dados['Idade'] = dados['Idade'].fillna(0)\n",
    "    dados['Idade'] = dados['Idade'].astype(int)\n",
    "    \n",
    "    dados['Gênero'] = dados['Gênero'].str.replace('nan', 'Não informado')"
   ]
  },
  {
   "cell_type": "markdown",
   "id": "ad26fe86-4dd4-488f-90ee-3a86ac237459",
   "metadata": {},
   "source": [
    "**3. Pré-processamento**"
   ]
  },
  {
   "cell_type": "code",
   "execution_count": null,
   "id": "766f9565-948e-4563-8f7f-e16ccf5f029a",
   "metadata": {},
   "outputs": [],
   "source": [
    "def pre_processamento(data):\n",
    "    # Exemplo de pré-processamento: padronização dos dados\n",
    "    scaler = StandardScaler()\n",
    "    X_train_scaled = scaler.fit_transform(X_train)\n",
    "    X_test_scaled = scaler.transform(X_test)"
   ]
  },
  {
   "cell_type": "markdown",
   "id": "d97c5862-6ad0-4e20-9e49-a447bfaa48c2",
   "metadata": {},
   "source": [
    "**4. Treinamento do Modelo**"
   ]
  },
  {
   "cell_type": "code",
   "execution_count": null,
   "id": "be67531c-1538-4d5e-858f-7ab5406ffd2e",
   "metadata": {},
   "outputs": [],
   "source": [
    "def treinamento_modelo(data):\n",
    "    model = LogisticRegression()\n",
    "    scores = cross_val_score(model, X_train_scaled, y_train, cv=5)\n",
    "    print(\"Acurácia média:\", scores.mean())"
   ]
  },
  {
   "cell_type": "markdown",
   "id": "48fb4ff9-f2ce-4114-bc95-28f313d6690f",
   "metadata": {},
   "source": [
    "**5. Comparação de Modelos**"
   ]
  },
  {
   "cell_type": "markdown",
   "id": "97f2de42-92de-47c6-9f2e-f76068d3a7e7",
   "metadata": {},
   "source": [
    "Comparar o desempenho de diferentes modelos usando validação cruzada."
   ]
  },
  {
   "cell_type": "markdown",
   "id": "d9684717-7ac2-4c36-a697-1f3a72d85d51",
   "metadata": {},
   "source": [
    "**6. Seleção de Modelo**"
   ]
  },
  {
   "cell_type": "markdown",
   "id": "4aca923c-9d70-41f0-bf8f-002556bc2ad8",
   "metadata": {},
   "source": [
    "Selecionar o melhor modelo com base nos resultados da comparação."
   ]
  },
  {
   "cell_type": "markdown",
   "id": "eb2c235a-b688-4d6b-8820-de8a50e3e4a8",
   "metadata": {},
   "source": [
    "**7. Otimização de Modelo**"
   ]
  },
  {
   "cell_type": "markdown",
   "id": "1c916788-a1fd-47a7-aa86-594d23309e36",
   "metadata": {},
   "source": [
    "Otimizar hiperparâmetros do modelo selecionado."
   ]
  },
  {
   "cell_type": "code",
   "execution_count": null,
   "id": "b9b31d92-680b-43c8-9a9d-c817a29d3b60",
   "metadata": {},
   "outputs": [],
   "source": []
  }
 ],
 "metadata": {
  "kernelspec": {
   "display_name": "Python 3 (ipykernel)",
   "language": "python",
   "name": "python3"
  },
  "language_info": {
   "codemirror_mode": {
    "name": "ipython",
    "version": 3
   },
   "file_extension": ".py",
   "mimetype": "text/x-python",
   "name": "python",
   "nbconvert_exporter": "python",
   "pygments_lexer": "ipython3",
   "version": "3.12.2"
  }
 },
 "nbformat": 4,
 "nbformat_minor": 5
}

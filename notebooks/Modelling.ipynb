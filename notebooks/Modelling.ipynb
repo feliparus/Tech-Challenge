{
 "cells": [
  {
   "cell_type": "code",
   "execution_count": 1,
   "id": "dbc0af4c-ddf6-4729-8cea-952f3c7d1104",
   "metadata": {},
   "outputs": [
    {
     "name": "stdout",
     "output_type": "stream",
     "text": [
      "Requirement already satisfied: pandas in c:\\users\\luiz.santos\\documents\\fiap grupo\\tech challenge\\.venv\\lib\\site-packages (2.2.1)\n",
      "Requirement already satisfied: scikit-learn in c:\\users\\luiz.santos\\documents\\fiap grupo\\tech challenge\\.venv\\lib\\site-packages (1.4.1.post1)\n",
      "Requirement already satisfied: optuna in c:\\users\\luiz.santos\\documents\\fiap grupo\\tech challenge\\.venv\\lib\\site-packages (3.6.1)\n",
      "Requirement already satisfied: seaborn in c:\\users\\luiz.santos\\documents\\fiap grupo\\tech challenge\\.venv\\lib\\site-packages (0.13.2)\n",
      "Requirement already satisfied: statsmodels in c:\\users\\luiz.santos\\documents\\fiap grupo\\tech challenge\\.venv\\lib\\site-packages (0.14.1)\n",
      "Requirement already satisfied: numpy<2,>=1.26.0 in c:\\users\\luiz.santos\\documents\\fiap grupo\\tech challenge\\.venv\\lib\\site-packages (from pandas) (1.26.4)\n",
      "Requirement already satisfied: python-dateutil>=2.8.2 in c:\\users\\luiz.santos\\documents\\fiap grupo\\tech challenge\\.venv\\lib\\site-packages (from pandas) (2.9.0.post0)\n",
      "Requirement already satisfied: pytz>=2020.1 in c:\\users\\luiz.santos\\documents\\fiap grupo\\tech challenge\\.venv\\lib\\site-packages (from pandas) (2024.1)\n",
      "Requirement already satisfied: tzdata>=2022.7 in c:\\users\\luiz.santos\\documents\\fiap grupo\\tech challenge\\.venv\\lib\\site-packages (from pandas) (2024.1)\n",
      "Requirement already satisfied: scipy>=1.6.0 in c:\\users\\luiz.santos\\documents\\fiap grupo\\tech challenge\\.venv\\lib\\site-packages (from scikit-learn) (1.13.0)\n",
      "Requirement already satisfied: joblib>=1.2.0 in c:\\users\\luiz.santos\\documents\\fiap grupo\\tech challenge\\.venv\\lib\\site-packages (from scikit-learn) (1.3.2)\n",
      "Requirement already satisfied: threadpoolctl>=2.0.0 in c:\\users\\luiz.santos\\documents\\fiap grupo\\tech challenge\\.venv\\lib\\site-packages (from scikit-learn) (3.4.0)\n",
      "Requirement already satisfied: alembic>=1.5.0 in c:\\users\\luiz.santos\\documents\\fiap grupo\\tech challenge\\.venv\\lib\\site-packages (from optuna) (1.13.1)\n",
      "Requirement already satisfied: colorlog in c:\\users\\luiz.santos\\documents\\fiap grupo\\tech challenge\\.venv\\lib\\site-packages (from optuna) (6.8.2)\n",
      "Requirement already satisfied: packaging>=20.0 in c:\\users\\luiz.santos\\documents\\fiap grupo\\tech challenge\\.venv\\lib\\site-packages (from optuna) (24.0)\n",
      "Requirement already satisfied: sqlalchemy>=1.3.0 in c:\\users\\luiz.santos\\documents\\fiap grupo\\tech challenge\\.venv\\lib\\site-packages (from optuna) (2.0.29)\n",
      "Requirement already satisfied: tqdm in c:\\users\\luiz.santos\\documents\\fiap grupo\\tech challenge\\.venv\\lib\\site-packages (from optuna) (4.66.2)\n",
      "Requirement already satisfied: PyYAML in c:\\users\\luiz.santos\\documents\\fiap grupo\\tech challenge\\.venv\\lib\\site-packages (from optuna) (6.0.1)\n",
      "Requirement already satisfied: matplotlib!=3.6.1,>=3.4 in c:\\users\\luiz.santos\\documents\\fiap grupo\\tech challenge\\.venv\\lib\\site-packages (from seaborn) (3.8.3)\n",
      "Requirement already satisfied: patsy>=0.5.4 in c:\\users\\luiz.santos\\documents\\fiap grupo\\tech challenge\\.venv\\lib\\site-packages (from statsmodels) (0.5.6)\n",
      "Requirement already satisfied: Mako in c:\\users\\luiz.santos\\documents\\fiap grupo\\tech challenge\\.venv\\lib\\site-packages (from alembic>=1.5.0->optuna) (1.3.2)\n",
      "Requirement already satisfied: typing-extensions>=4 in c:\\users\\luiz.santos\\documents\\fiap grupo\\tech challenge\\.venv\\lib\\site-packages (from alembic>=1.5.0->optuna) (4.11.0)\n",
      "Requirement already satisfied: contourpy>=1.0.1 in c:\\users\\luiz.santos\\documents\\fiap grupo\\tech challenge\\.venv\\lib\\site-packages (from matplotlib!=3.6.1,>=3.4->seaborn) (1.2.1)\n",
      "Requirement already satisfied: cycler>=0.10 in c:\\users\\luiz.santos\\documents\\fiap grupo\\tech challenge\\.venv\\lib\\site-packages (from matplotlib!=3.6.1,>=3.4->seaborn) (0.12.1)\n",
      "Requirement already satisfied: fonttools>=4.22.0 in c:\\users\\luiz.santos\\documents\\fiap grupo\\tech challenge\\.venv\\lib\\site-packages (from matplotlib!=3.6.1,>=3.4->seaborn) (4.50.0)\n",
      "Requirement already satisfied: kiwisolver>=1.3.1 in c:\\users\\luiz.santos\\documents\\fiap grupo\\tech challenge\\.venv\\lib\\site-packages (from matplotlib!=3.6.1,>=3.4->seaborn) (1.4.5)\n",
      "Requirement already satisfied: pillow>=8 in c:\\users\\luiz.santos\\documents\\fiap grupo\\tech challenge\\.venv\\lib\\site-packages (from matplotlib!=3.6.1,>=3.4->seaborn) (10.3.0)\n",
      "Requirement already satisfied: pyparsing>=2.3.1 in c:\\users\\luiz.santos\\documents\\fiap grupo\\tech challenge\\.venv\\lib\\site-packages (from matplotlib!=3.6.1,>=3.4->seaborn) (3.1.2)\n",
      "Requirement already satisfied: six in c:\\users\\luiz.santos\\documents\\fiap grupo\\tech challenge\\.venv\\lib\\site-packages (from patsy>=0.5.4->statsmodels) (1.16.0)\n",
      "Requirement already satisfied: greenlet!=0.4.17 in c:\\users\\luiz.santos\\documents\\fiap grupo\\tech challenge\\.venv\\lib\\site-packages (from sqlalchemy>=1.3.0->optuna) (3.0.3)\n",
      "Requirement already satisfied: colorama in c:\\users\\luiz.santos\\documents\\fiap grupo\\tech challenge\\.venv\\lib\\site-packages (from colorlog->optuna) (0.4.6)\n",
      "Requirement already satisfied: MarkupSafe>=0.9.2 in c:\\users\\luiz.santos\\documents\\fiap grupo\\tech challenge\\.venv\\lib\\site-packages (from Mako->alembic>=1.5.0->optuna) (2.1.5)\n"
     ]
    }
   ],
   "source": [
    "!pip install pandas scikit-learn optuna seaborn statsmodels"
   ]
  },
  {
   "cell_type": "code",
   "execution_count": 2,
   "id": "88537431-7a90-4c7c-a1d0-5eeb475c641e",
   "metadata": {},
   "outputs": [],
   "source": [
    "import pandas as pd\n",
    "import numpy as np\n",
    "import seaborn as sns\n",
    "import statsmodels.api as sm\n",
    "import matplotlib.pyplot as plt\n",
    "import optuna\n",
    "import os\n",
    "from include.utils import incrementar_dados_aleatorios_csv, categorizar_imc\n",
    "from include.utils import prever_encargos_futuros, segmentacao_de_risco, analise_de_sensibilidade, otimizacao_de_recursos, planejamento_estrategico"
   ]
  },
  {
   "cell_type": "code",
   "execution_count": 3,
   "id": "a2f178e3-93ea-45ca-8c37-9aeb74ea7184",
   "metadata": {},
   "outputs": [],
   "source": [
    "from sklearn.model_selection import train_test_split, cross_val_score\n",
    "from sklearn.ensemble import RandomForestRegressor\n",
    "from sklearn.linear_model import LinearRegression\n",
    "from sklearn.metrics import mean_squared_error\n",
    "from sklearn.preprocessing import OneHotEncoder, LabelEncoder, StandardScaler\n",
    "from sklearn.svm import SVR\n",
    "from sklearn.tree import DecisionTreeRegressor\n",
    "from sklearn.neighbors import KNeighborsRegressor\n",
    "from sklearn.ensemble import GradientBoostingRegressor"
   ]
  },
  {
   "cell_type": "markdown",
   "id": "320499db-f973-450a-9aab-316e6426be3a",
   "metadata": {},
   "source": [
    "**1. Engenharia de Recursos**"
   ]
  },
  {
   "cell_type": "markdown",
   "id": "2a110e58-c228-4985-a256-24ffc5dcc631",
   "metadata": {},
   "source": [
    "Novos recursos derivados dos dados existentes"
   ]
  },
  {
   "cell_type": "code",
   "execution_count": 4,
   "id": "31b10de9-2b41-4f53-b88d-2d46be3eb795",
   "metadata": {},
   "outputs": [
    {
     "name": "stdout",
     "output_type": "stream",
     "text": [
      "      Idade     Gênero    IMC  Filhos Fumante    Região  Encargos  \\\n",
      "0      56.0   feminino  29.77     2.0     sim  sudoeste  31109.89   \n",
      "1      46.0  masculino  25.86     1.0     não  nordeste  26650.70   \n",
      "2      32.0  masculino  23.01     0.0     não  sudoeste  21459.04   \n",
      "3      39.0   feminino  28.54     2.0     não   sudeste  29996.29   \n",
      "4      45.0  masculino  22.26     2.0     sim  noroeste  31594.72   \n",
      "...     ...        ...    ...     ...     ...       ...       ...   \n",
      "1998   39.0   feminino  24.72     2.0     sim   sudeste  28482.43   \n",
      "1999   68.0   feminino  21.66     1.0     sim  sudoeste  38822.71   \n",
      "2000   61.0   feminino  19.49     2.0     sim  nordeste  38162.29   \n",
      "2001   53.0  masculino  34.78     1.0     sim   sudeste  30091.75   \n",
      "2002    NaN        NaN    NaN     NaN     NaN       NaN       NaN   \n",
      "\n",
      "       Categoria IMC  \n",
      "0          Sobrepeso  \n",
      "1          Sobrepeso  \n",
      "2        Peso normal  \n",
      "3          Sobrepeso  \n",
      "4        Peso normal  \n",
      "...              ...  \n",
      "1998     Peso normal  \n",
      "1999     Peso normal  \n",
      "2000     Peso normal  \n",
      "2001           Obeso  \n",
      "2002  Valor Inválido  \n",
      "\n",
      "[2003 rows x 8 columns]\n"
     ]
    }
   ],
   "source": [
    "# Obtém a largura do terminal - uso mais embaixo nos prints\n",
    "terminal_width = os.get_terminal_size().columns\n",
    "\n",
    "dados = pd.read_csv('../planilhas/2_dados_aleatorios_sobre_original.csv', encoding='latin-1')\n",
    "\n",
    "# Aplicar a função para categorizar IMC e criar uma nova coluna 'Categoria IMC'\n",
    "dados['Categoria IMC'] = dados['IMC'].apply(categorizar_imc)\n",
    "\n",
    "print(dados)"
   ]
  },
  {
   "cell_type": "code",
   "execution_count": 5,
   "id": "f33739b5-0572-464a-af36-3a517bad8e10",
   "metadata": {},
   "outputs": [],
   "source": [
    "# Mapeamento das regiões para valores numéricos\n",
    "regiao_numerica = {'sudoeste': 1, 'sudeste': 2, 'nordeste': 3, 'noroeste': 4}\n",
    "\n",
    "# Convertendo os valores da coluna 'Região' para valores numéricos usando o mapeamento\n",
    "dados['Região_numerica'] = dados['Região'].map(regiao_numerica)"
   ]
  },
  {
   "cell_type": "markdown",
   "id": "eebb4b2f-58ca-4fa7-97d1-af96eb7d266d",
   "metadata": {},
   "source": [
    "**2. Limpeza de Dados**"
   ]
  },
  {
   "cell_type": "code",
   "execution_count": 6,
   "id": "7be726d7-f49f-4115-9c22-9bf83b87f4bf",
   "metadata": {},
   "outputs": [],
   "source": [
    "# Remover linhas com valores NaN\n",
    "dados = dados.dropna()\n",
    "\n",
    "# Substituir valores nulos por zero\n",
    "dados['Filhos'] = dados['Filhos'].fillna(0)\n",
    "dados['Filhos'] = dados['Filhos'].astype(int)\n",
    "dados['Idade'] = dados['Idade'].fillna(0)\n",
    "dados['Idade'] = dados['Idade'].astype(int)\n",
    "dados['Encargos'] = dados['Encargos'].fillna(0)\n",
    "\n",
    "dados['Gênero'] = dados['Gênero'].str.replace('nan', 'Não informado')"
   ]
  },
  {
   "cell_type": "markdown",
   "id": "ad26fe86-4dd4-488f-90ee-3a86ac237459",
   "metadata": {},
   "source": [
    "**3. Pré-processamento**"
   ]
  },
  {
   "cell_type": "code",
   "execution_count": 7,
   "id": "969de9b6-fa98-4951-b1b6-cfb5ea261c58",
   "metadata": {},
   "outputs": [],
   "source": [
    "# Dividir os dados em features (X) e target (y)\n",
    "X = dados.drop('Encargos', axis=1)  # descartando colunas não necessárias para o teste\n",
    "y = dados['Encargos']\n",
    "\n",
    "# Codificar variáveis categóricas usando one-hot encoding\n",
    "colunas_codificadas_via_one_hot = ['Gênero', 'Região']\n",
    "encoder = OneHotEncoder(drop='first')\n",
    "X_encoded = encoder.fit_transform(X[colunas_codificadas_via_one_hot])\n",
    "\n",
    "# Concatenar features codificadas com as restantes\n",
    "X_encoded = pd.DataFrame(X_encoded.toarray(), columns=encoder.get_feature_names_out(colunas_codificadas_via_one_hot), index=X.index)\n",
    "X = pd.concat([X.drop(colunas_codificadas_via_one_hot, axis=1), X_encoded], axis=1)\n",
    "\n",
    "# Codificar variável categórica 'IMC' com LabelEncoder\n",
    "label_encoder = LabelEncoder()\n",
    "X['Categoria IMC'] = label_encoder.fit_transform(X['Categoria IMC'])\n",
    "\n",
    "# Substituir valores 'sim' e 'não' por 1 e 0\n",
    "X['Fumante'] = X['Fumante'].map({'sim': 1, 'não': 0})\n",
    "\n",
    "# Dividir os dados em conjuntos de treinamento e teste\n",
    "X_train, X_test, y_train, y_test = train_test_split(X, y, test_size=0.2, random_state=7)"
   ]
  },
  {
   "cell_type": "code",
   "execution_count": 8,
   "id": "766f9565-948e-4563-8f7f-e16ccf5f029a",
   "metadata": {},
   "outputs": [
    {
     "name": "stdout",
     "output_type": "stream",
     "text": [
      "Visualizar a matriz de correlação:\n",
      "                     Idade       IMC    Filhos   Fumante  Categoria IMC  \\\n",
      "Idade             1.000000  0.039183  0.000045 -0.003769      -0.052839   \n",
      "IMC               0.039183  1.000000 -0.054940  0.000288      -0.288376   \n",
      "Filhos            0.000045 -0.054940  1.000000 -0.043190       0.016010   \n",
      "Fumante          -0.003769  0.000288 -0.043190  1.000000      -0.030890   \n",
      "Categoria IMC    -0.052839 -0.288376  0.016010 -0.030890       1.000000   \n",
      "Região_numerica  -0.029334 -0.028151  0.015860  0.027000      -0.055491   \n",
      "Gênero_masculino  0.016950  0.015223 -0.023022  0.012767      -0.018499   \n",
      "Região_noroeste  -0.024409 -0.006173 -0.011653  0.042747      -0.078787   \n",
      "Região_sudeste    0.017327 -0.013235 -0.005903 -0.027553       0.027459   \n",
      "Região_sudoeste   0.017272  0.039930 -0.023609  0.000047       0.018776   \n",
      "\n",
      "                  Região_numerica  Gênero_masculino  Região_noroeste  \\\n",
      "Idade                   -0.029334          0.016950        -0.024409   \n",
      "IMC                     -0.028151          0.015223        -0.006173   \n",
      "Filhos                   0.015860         -0.023022        -0.011653   \n",
      "Fumante                  0.027000          0.012767         0.042747   \n",
      "Categoria IMC           -0.055491         -0.018499        -0.078787   \n",
      "Região_numerica          1.000000         -0.010293         0.770952   \n",
      "Gênero_masculino        -0.010293          1.000000         0.003680   \n",
      "Região_noroeste          0.770952          0.003680         1.000000   \n",
      "Região_sudeste          -0.259732          0.015075        -0.323814   \n",
      "Região_sudoeste         -0.781824          0.007851        -0.336994   \n",
      "\n",
      "                  Região_sudeste  Região_sudoeste  \n",
      "Idade                   0.017327         0.017272  \n",
      "IMC                    -0.013235         0.039930  \n",
      "Filhos                 -0.005903        -0.023609  \n",
      "Fumante                -0.027553         0.000047  \n",
      "Categoria IMC           0.027459         0.018776  \n",
      "Região_numerica        -0.259732        -0.781824  \n",
      "Gênero_masculino        0.015075         0.007851  \n",
      "Região_noroeste        -0.323814        -0.336994  \n",
      "Região_sudeste          1.000000        -0.316163  \n",
      "Região_sudoeste        -0.316163         1.000000  \n"
     ]
    }
   ],
   "source": [
    "# Inicializar o StandardScaler, que é usado para padronizar os recursos\n",
    "scaler = StandardScaler()\n",
    "\n",
    "# Aplicar a transformação de padronização nos dados de treinamento e ajustar o scaler aos dados\n",
    "X_train_scaled = scaler.fit_transform(X_train)\n",
    "\n",
    "# Aplicar a mesma transformação de padronização aos dados de teste\n",
    "X_test_scaled = scaler.transform(X_test)\n",
    "\n",
    "# Calcular a matriz de correlação dos dados de treinamento\n",
    "correlation_matrix = X_train.corr()\n",
    "print('Visualizar a matriz de correlação:')\n",
    "print(correlation_matrix)"
   ]
  },
  {
   "cell_type": "markdown",
   "id": "464d0f57-fd29-48b2-a59e-42e36e34e72d",
   "metadata": {},
   "source": [
    "**Validação estatística**"
   ]
  },
  {
   "cell_type": "markdown",
   "id": "64155550-918c-4280-b673-b8eb7e920084",
   "metadata": {},
   "source": [
    "Utilizando métricas estatísticas para validar a eficácia do modelo (p-value, intervalos de confiança):            "
   ]
  },
  {
   "cell_type": "code",
   "execution_count": 9,
   "id": "41e44b40-d5be-4983-8bf9-ed753892fcc1",
   "metadata": {},
   "outputs": [
    {
     "name": "stdout",
     "output_type": "stream",
     "text": [
      "P-values dos coeficientes:\n",
      "Idade      0.000000e+00\n",
      "Filhos     1.396528e-55\n",
      "Fumante    9.612381e-22\n",
      "Name: P>|t|, dtype: float64\n",
      "\n",
      "Intervalos de Confiança dos coeficientes:\n",
      "               0        1\n",
      "Idade     566.40   575.83\n",
      "Filhos    846.37  1078.53\n",
      "Fumante  1059.78  1596.56\n"
     ]
    }
   ],
   "source": [
    "dados_aux = dados.copy()\n",
    "\n",
    "dados_aux['Fumante'] = dados_aux['Fumante'].map({'sim': 1, 'não': 0})\n",
    "\n",
    "# Adicione uma coluna de intercepto aos dados\n",
    "dados_aux['Intercepto'] = 1\n",
    "\n",
    "# Dividindo os dados em variáveis independentes (X) e variável dependente (y)\n",
    "X = dados_aux[['Idade', 'Filhos', 'Fumante']]\n",
    "y = dados_aux['Encargos']\n",
    "\n",
    "# Ajustando o modelo de regressão linear usando OLS (Ordinary Least Squares)\n",
    "modelo = sm.OLS(y, X).fit()\n",
    "\n",
    "# Calculando os p-values dos coeficientes\n",
    "p_values = modelo.summary2().tables[1]['P>|t|']\n",
    "\n",
    "# Calculando os intervalos de confiança dos coeficientes\n",
    "conf_intervals = modelo.conf_int()\n",
    "\n",
    "# Imprima os resultados\n",
    "print(\"P-values dos coeficientes:\")\n",
    "print(p_values)\n",
    "print(\"\\nIntervalos de Confiança dos coeficientes:\")\n",
    "print(round(conf_intervals,2))"
   ]
  },
  {
   "cell_type": "markdown",
   "id": "d97c5862-6ad0-4e20-9e49-a447bfaa48c2",
   "metadata": {},
   "source": [
    "**4. Treinamento do Modelo**"
   ]
  },
  {
   "cell_type": "code",
   "execution_count": 10,
   "id": "be67531c-1538-4d5e-858f-7ab5406ffd2e",
   "metadata": {},
   "outputs": [
    {
     "name": "stdout",
     "output_type": "stream",
     "text": [
      "--------------------------------------------------------------------------------------------------------------------------------------------------------------\n",
      "Random Forest Regressor MSE: 7348303.42\n",
      "Acurácia média com validação cruzada para Random Forest Regressor: 0.91\n",
      "Importância das características para Random Forest Regressor:\n",
      "            Colunas  Importância\n",
      "0             Idade         0.93\n",
      "1               IMC         0.04\n",
      "2            Filhos         0.01\n",
      "5   Região_numerica         0.01\n",
      "6  Gênero_masculino         0.00\n",
      "3           Fumante         0.00\n",
      "4     Categoria IMC         0.00\n",
      "8    Região_sudeste         0.00\n",
      "7   Região_noroeste         0.00\n",
      "9   Região_sudoeste         0.00\n",
      "--------------------------------------------------------------------------------------------------------------------------------------------------------------\n",
      "Linear Regression MSE: 6463940.65\n",
      "Acurácia média com validação cruzada para Linear Regression: 0.92\n",
      "Coeficientes das características para Linear Regression:\n",
      "            Colunas  Coeficiente\n",
      "0             Idade       495.90\n",
      "3           Fumante       369.85\n",
      "2            Filhos       347.46\n",
      "9   Região_sudoeste       111.83\n",
      "6  Gênero_masculino        89.64\n",
      "4     Categoria IMC       -10.76\n",
      "1               IMC       -28.32\n",
      "5   Região_numerica       -63.48\n",
      "7   Região_noroeste      -146.16\n",
      "8    Região_sudeste      -306.33\n",
      "--------------------------------------------------------------------------------------------------------------------------------------------------------------\n",
      "Support Vector Regression MSE: 87402190.0\n",
      "Acurácia média com validação cruzada para Support Vector Regression: 0.03\n",
      "Importância das características para Support Vector Regression:\n",
      "                           Colunas  Importância\n",
      "Idade                        Idade        48.08\n",
      "IMC                            IMC        26.55\n",
      "Região_numerica    Região_numerica         2.53\n",
      "Categoria IMC        Categoria IMC         1.91\n",
      "Filhos                      Filhos         1.53\n",
      "Fumante                    Fumante         0.50\n",
      "Gênero_masculino  Gênero_masculino         0.48\n",
      "Região_noroeste    Região_noroeste         0.26\n",
      "Região_sudoeste    Região_sudoeste         0.25\n",
      "Região_sudeste      Região_sudeste         0.23\n",
      "--------------------------------------------------------------------------------------------------------------------------------------------------------------\n",
      "Decision Tree Regressor MSE: 12736038.37\n",
      "Acurácia média com validação cruzada para Decision Tree Regressor: 0.84\n",
      "Importância das características para Decision Tree Regressor:\n",
      "            Colunas  Importância\n",
      "0             Idade         0.93\n",
      "1               IMC         0.04\n",
      "2            Filhos         0.01\n",
      "5   Região_numerica         0.01\n",
      "6  Gênero_masculino         0.01\n",
      "3           Fumante         0.00\n",
      "8    Região_sudeste         0.00\n",
      "4     Categoria IMC         0.00\n",
      "7   Região_noroeste         0.00\n",
      "9   Região_sudoeste         0.00\n",
      "--------------------------------------------------------------------------------------------------------------------------------------------------------------\n",
      "K-Nearest Neighbors Regressor MSE: 7553737.25\n",
      "Acurácia média com validação cruzada para K-Nearest Neighbors Regressor: 0.91\n",
      "Não é possível calcular a importância das características para o modelo K-Nearest Neighbors Regressor\n",
      "--------------------------------------------------------------------------------------------------------------------------------------------------------------\n",
      "Gradient Boosting Regressor MSE: 6676075.4\n",
      "Acurácia média com validação cruzada para Gradient Boosting Regressor: 0.91\n",
      "Importância das características para Gradient Boosting Regressor:\n",
      "            Colunas  Importância\n",
      "0             Idade         0.99\n",
      "1               IMC         0.01\n",
      "2            Filhos         0.00\n",
      "5   Região_numerica         0.00\n",
      "3           Fumante         0.00\n",
      "8    Região_sudeste         0.00\n",
      "9   Região_sudoeste         0.00\n",
      "6  Gênero_masculino         0.00\n",
      "7   Região_noroeste         0.00\n",
      "4     Categoria IMC         0.00\n"
     ]
    }
   ],
   "source": [
    "# Adicionando mais modelos ao dicionário de modelos\n",
    "models = {\n",
    "    'Random Forest Regressor': RandomForestRegressor(),\n",
    "    'Linear Regression': LinearRegression(),\n",
    "    'Support Vector Regression': SVR(),\n",
    "    'Decision Tree Regressor': DecisionTreeRegressor(),\n",
    "    'K-Nearest Neighbors Regressor': KNeighborsRegressor(),\n",
    "    'Gradient Boosting Regressor': GradientBoostingRegressor()\n",
    "}\n",
    "\n",
    "# Treinamento e avaliação dos modelos\n",
    "for name, model in models.items():\n",
    "    model.fit(X_train, y_train)\n",
    "    y_pred = model.predict(X_test)\n",
    "    mse = mean_squared_error(y_test, y_pred)\n",
    "\n",
    "    # Imprime uma linha separadora com base na largura do terminal\n",
    "    print('-' * terminal_width)\n",
    "    print(f'{name} MSE: {round(mse,2)}')\n",
    "    # Calcular acurácia média usando validação cruzada\n",
    "    scores = cross_val_score(model, X_train, y_train, cv=5)\n",
    "    print(f'Acurácia média com validação cruzada para {name}: {round(scores.mean(),2)}')\n",
    "    \n",
    "    # Calcula e exibe a importância das características para o modelo atual\n",
    "    if hasattr(model, 'feature_importances_'):\n",
    "        importance_df = pd.DataFrame({'Colunas': X_train.columns, 'Importância': model.feature_importances_})\n",
    "        importance_df = importance_df.sort_values(by='Importância', ascending=False)\n",
    "        print(f\"Importância das características para {name}:\")\n",
    "        print(round(importance_df,2))\n",
    "    elif isinstance(model, LinearRegression):\n",
    "        importance_df = pd.DataFrame({'Colunas': X_train.columns, 'Coeficiente': model.coef_})\n",
    "        importance_df = importance_df.sort_values(by='Coeficiente', ascending=False)\n",
    "        print(f\"Coeficientes das características para {name}:\")\n",
    "        print(round(importance_df,2))\n",
    "    elif isinstance(model, SVR):\n",
    "        support_indices = model.support_\n",
    "        support_features = X_train.iloc[support_indices]\n",
    "        feature_importance_svr = support_features.mean(axis=0)\n",
    "        importance_df = pd.DataFrame({'Colunas': X_train.columns, 'Importância': feature_importance_svr})\n",
    "        importance_df = importance_df.sort_values(by='Importância', ascending=False)\n",
    "        print(f\"Importância das características para {name}:\")\n",
    "        print(round(importance_df,2))\n",
    "    else:\n",
    "        print(f\"Não é possível calcular a importância das características para o modelo {name}\")"
   ]
  },
  {
   "cell_type": "markdown",
   "id": "48fb4ff9-f2ce-4114-bc95-28f313d6690f",
   "metadata": {},
   "source": [
    "**5. Comparação de Modelos**"
   ]
  },
  {
   "cell_type": "code",
   "execution_count": 11,
   "id": "955fbdea-faea-4285-8298-76b32a8bd648",
   "metadata": {},
   "outputs": [],
   "source": [
    "# Seleção de modelo com base na menor pontuação de validação cruzada\n",
    "best_model_name = min(models, key=lambda model: cross_val_score(models[model], X_train, y_train, cv=5).mean())"
   ]
  },
  {
   "cell_type": "markdown",
   "id": "d9684717-7ac2-4c36-a697-1f3a72d85d51",
   "metadata": {},
   "source": [
    "**6. Seleção de Modelo**"
   ]
  },
  {
   "cell_type": "code",
   "execution_count": 12,
   "id": "16947f1b-a506-4540-9068-99f278e9d558",
   "metadata": {},
   "outputs": [
    {
     "name": "stdout",
     "output_type": "stream",
     "text": [
      "Best Model: Support Vector Regression\n"
     ]
    }
   ],
   "source": [
    "best_model = models[best_model_name]\n",
    "print(f'Best Model: {best_model_name}')"
   ]
  },
  {
   "cell_type": "markdown",
   "id": "eb2c235a-b688-4d6b-8820-de8a50e3e4a8",
   "metadata": {},
   "source": [
    "**7. Otimização de Modelo**"
   ]
  },
  {
   "cell_type": "code",
   "execution_count": 13,
   "id": "e36479d9-807c-4862-bcd6-a1b06426edce",
   "metadata": {},
   "outputs": [
    {
     "name": "stderr",
     "output_type": "stream",
     "text": [
      "[I 2024-04-10 00:05:59,076] A new study created in memory with name: no-name-1868e52d-9bb3-46e8-83cd-0939e6d89714\n",
      "[I 2024-04-10 00:06:01,565] Trial 0 finished with value: -83058087.75647253 and parameters: {}. Best is trial 0 with value: -83058087.75647253.\n",
      "[I 2024-04-10 00:06:04,423] Trial 1 finished with value: -83058087.75647253 and parameters: {}. Best is trial 0 with value: -83058087.75647253.\n",
      "[I 2024-04-10 00:06:08,332] Trial 2 finished with value: -83058087.75647253 and parameters: {}. Best is trial 0 with value: -83058087.75647253.\n",
      "[I 2024-04-10 00:06:08,612] Trial 3 finished with value: -83058087.75647253 and parameters: {}. Best is trial 0 with value: -83058087.75647253.\n",
      "[I 2024-04-10 00:06:08,881] Trial 4 finished with value: -83058087.75647253 and parameters: {}. Best is trial 0 with value: -83058087.75647253.\n",
      "[I 2024-04-10 00:06:09,181] Trial 5 finished with value: -83058087.75647253 and parameters: {}. Best is trial 0 with value: -83058087.75647253.\n",
      "[I 2024-04-10 00:06:09,503] Trial 6 finished with value: -83058087.75647253 and parameters: {}. Best is trial 0 with value: -83058087.75647253.\n",
      "[I 2024-04-10 00:06:09,803] Trial 7 finished with value: -83058087.75647253 and parameters: {}. Best is trial 0 with value: -83058087.75647253.\n",
      "[I 2024-04-10 00:06:10,081] Trial 8 finished with value: -83058087.75647253 and parameters: {}. Best is trial 0 with value: -83058087.75647253.\n",
      "[I 2024-04-10 00:06:10,351] Trial 9 finished with value: -83058087.75647253 and parameters: {}. Best is trial 0 with value: -83058087.75647253.\n",
      "[I 2024-04-10 00:06:10,679] Trial 10 finished with value: -83058087.75647253 and parameters: {}. Best is trial 0 with value: -83058087.75647253.\n",
      "[I 2024-04-10 00:06:10,979] Trial 11 finished with value: -83058087.75647253 and parameters: {}. Best is trial 0 with value: -83058087.75647253.\n",
      "[I 2024-04-10 00:06:11,271] Trial 12 finished with value: -83058087.75647253 and parameters: {}. Best is trial 0 with value: -83058087.75647253.\n",
      "[I 2024-04-10 00:06:11,570] Trial 13 finished with value: -83058087.75647253 and parameters: {}. Best is trial 0 with value: -83058087.75647253.\n",
      "[I 2024-04-10 00:06:11,838] Trial 14 finished with value: -83058087.75647253 and parameters: {}. Best is trial 0 with value: -83058087.75647253.\n",
      "[I 2024-04-10 00:06:12,140] Trial 15 finished with value: -83058087.75647253 and parameters: {}. Best is trial 0 with value: -83058087.75647253.\n",
      "[I 2024-04-10 00:06:12,439] Trial 16 finished with value: -83058087.75647253 and parameters: {}. Best is trial 0 with value: -83058087.75647253.\n",
      "[I 2024-04-10 00:06:12,789] Trial 17 finished with value: -83058087.75647253 and parameters: {}. Best is trial 0 with value: -83058087.75647253.\n",
      "[I 2024-04-10 00:06:13,088] Trial 18 finished with value: -83058087.75647253 and parameters: {}. Best is trial 0 with value: -83058087.75647253.\n",
      "[I 2024-04-10 00:06:13,364] Trial 19 finished with value: -83058087.75647253 and parameters: {}. Best is trial 0 with value: -83058087.75647253.\n",
      "[I 2024-04-10 00:06:13,636] Trial 20 finished with value: -83058087.75647253 and parameters: {}. Best is trial 0 with value: -83058087.75647253.\n",
      "[I 2024-04-10 00:06:13,943] Trial 21 finished with value: -83058087.75647253 and parameters: {}. Best is trial 0 with value: -83058087.75647253.\n",
      "[I 2024-04-10 00:06:14,234] Trial 22 finished with value: -83058087.75647253 and parameters: {}. Best is trial 0 with value: -83058087.75647253.\n",
      "[I 2024-04-10 00:06:14,521] Trial 23 finished with value: -83058087.75647253 and parameters: {}. Best is trial 0 with value: -83058087.75647253.\n",
      "[I 2024-04-10 00:06:14,819] Trial 24 finished with value: -83058087.75647253 and parameters: {}. Best is trial 0 with value: -83058087.75647253.\n",
      "[I 2024-04-10 00:06:15,085] Trial 25 finished with value: -83058087.75647253 and parameters: {}. Best is trial 0 with value: -83058087.75647253.\n",
      "[I 2024-04-10 00:06:15,363] Trial 26 finished with value: -83058087.75647253 and parameters: {}. Best is trial 0 with value: -83058087.75647253.\n",
      "[I 2024-04-10 00:06:15,643] Trial 27 finished with value: -83058087.75647253 and parameters: {}. Best is trial 0 with value: -83058087.75647253.\n",
      "[I 2024-04-10 00:06:15,910] Trial 28 finished with value: -83058087.75647253 and parameters: {}. Best is trial 0 with value: -83058087.75647253.\n",
      "[I 2024-04-10 00:06:16,229] Trial 29 finished with value: -83058087.75647253 and parameters: {}. Best is trial 0 with value: -83058087.75647253.\n",
      "[I 2024-04-10 00:06:16,498] Trial 30 finished with value: -83058087.75647253 and parameters: {}. Best is trial 0 with value: -83058087.75647253.\n",
      "[I 2024-04-10 00:06:16,764] Trial 31 finished with value: -83058087.75647253 and parameters: {}. Best is trial 0 with value: -83058087.75647253.\n",
      "[I 2024-04-10 00:06:17,086] Trial 32 finished with value: -83058087.75647253 and parameters: {}. Best is trial 0 with value: -83058087.75647253.\n",
      "[I 2024-04-10 00:06:17,393] Trial 33 finished with value: -83058087.75647253 and parameters: {}. Best is trial 0 with value: -83058087.75647253.\n",
      "[I 2024-04-10 00:06:17,714] Trial 34 finished with value: -83058087.75647253 and parameters: {}. Best is trial 0 with value: -83058087.75647253.\n",
      "[I 2024-04-10 00:06:17,996] Trial 35 finished with value: -83058087.75647253 and parameters: {}. Best is trial 0 with value: -83058087.75647253.\n",
      "[I 2024-04-10 00:06:18,308] Trial 36 finished with value: -83058087.75647253 and parameters: {}. Best is trial 0 with value: -83058087.75647253.\n",
      "[I 2024-04-10 00:06:18,599] Trial 37 finished with value: -83058087.75647253 and parameters: {}. Best is trial 0 with value: -83058087.75647253.\n",
      "[I 2024-04-10 00:06:18,875] Trial 38 finished with value: -83058087.75647253 and parameters: {}. Best is trial 0 with value: -83058087.75647253.\n",
      "[I 2024-04-10 00:06:19,161] Trial 39 finished with value: -83058087.75647253 and parameters: {}. Best is trial 0 with value: -83058087.75647253.\n",
      "[I 2024-04-10 00:06:19,498] Trial 40 finished with value: -83058087.75647253 and parameters: {}. Best is trial 0 with value: -83058087.75647253.\n",
      "[I 2024-04-10 00:06:19,788] Trial 41 finished with value: -83058087.75647253 and parameters: {}. Best is trial 0 with value: -83058087.75647253.\n",
      "[I 2024-04-10 00:06:20,076] Trial 42 finished with value: -83058087.75647253 and parameters: {}. Best is trial 0 with value: -83058087.75647253.\n",
      "[I 2024-04-10 00:06:20,366] Trial 43 finished with value: -83058087.75647253 and parameters: {}. Best is trial 0 with value: -83058087.75647253.\n",
      "[I 2024-04-10 00:06:20,633] Trial 44 finished with value: -83058087.75647253 and parameters: {}. Best is trial 0 with value: -83058087.75647253.\n",
      "[I 2024-04-10 00:06:20,912] Trial 45 finished with value: -83058087.75647253 and parameters: {}. Best is trial 0 with value: -83058087.75647253.\n",
      "[I 2024-04-10 00:06:21,166] Trial 46 finished with value: -83058087.75647253 and parameters: {}. Best is trial 0 with value: -83058087.75647253.\n",
      "[I 2024-04-10 00:06:21,456] Trial 47 finished with value: -83058087.75647253 and parameters: {}. Best is trial 0 with value: -83058087.75647253.\n",
      "[I 2024-04-10 00:06:21,764] Trial 48 finished with value: -83058087.75647253 and parameters: {}. Best is trial 0 with value: -83058087.75647253.\n",
      "[I 2024-04-10 00:06:22,030] Trial 49 finished with value: -83058087.75647253 and parameters: {}. Best is trial 0 with value: -83058087.75647253.\n",
      "[I 2024-04-10 00:06:22,328] Trial 50 finished with value: -83058087.75647253 and parameters: {}. Best is trial 0 with value: -83058087.75647253.\n",
      "[I 2024-04-10 00:06:22,636] Trial 51 finished with value: -83058087.75647253 and parameters: {}. Best is trial 0 with value: -83058087.75647253.\n",
      "[I 2024-04-10 00:06:22,936] Trial 52 finished with value: -83058087.75647253 and parameters: {}. Best is trial 0 with value: -83058087.75647253.\n",
      "[I 2024-04-10 00:06:23,223] Trial 53 finished with value: -83058087.75647253 and parameters: {}. Best is trial 0 with value: -83058087.75647253.\n",
      "[I 2024-04-10 00:06:23,499] Trial 54 finished with value: -83058087.75647253 and parameters: {}. Best is trial 0 with value: -83058087.75647253.\n",
      "[I 2024-04-10 00:06:23,799] Trial 55 finished with value: -83058087.75647253 and parameters: {}. Best is trial 0 with value: -83058087.75647253.\n",
      "[I 2024-04-10 00:06:24,075] Trial 56 finished with value: -83058087.75647253 and parameters: {}. Best is trial 0 with value: -83058087.75647253.\n",
      "[I 2024-04-10 00:06:24,381] Trial 57 finished with value: -83058087.75647253 and parameters: {}. Best is trial 0 with value: -83058087.75647253.\n",
      "[I 2024-04-10 00:06:24,637] Trial 58 finished with value: -83058087.75647253 and parameters: {}. Best is trial 0 with value: -83058087.75647253.\n",
      "[I 2024-04-10 00:06:24,967] Trial 59 finished with value: -83058087.75647253 and parameters: {}. Best is trial 0 with value: -83058087.75647253.\n",
      "[I 2024-04-10 00:06:25,287] Trial 60 finished with value: -83058087.75647253 and parameters: {}. Best is trial 0 with value: -83058087.75647253.\n",
      "[I 2024-04-10 00:06:25,598] Trial 61 finished with value: -83058087.75647253 and parameters: {}. Best is trial 0 with value: -83058087.75647253.\n",
      "[I 2024-04-10 00:06:25,918] Trial 62 finished with value: -83058087.75647253 and parameters: {}. Best is trial 0 with value: -83058087.75647253.\n",
      "[I 2024-04-10 00:06:26,216] Trial 63 finished with value: -83058087.75647253 and parameters: {}. Best is trial 0 with value: -83058087.75647253.\n",
      "[I 2024-04-10 00:06:26,505] Trial 64 finished with value: -83058087.75647253 and parameters: {}. Best is trial 0 with value: -83058087.75647253.\n",
      "[I 2024-04-10 00:06:26,796] Trial 65 finished with value: -83058087.75647253 and parameters: {}. Best is trial 0 with value: -83058087.75647253.\n",
      "[I 2024-04-10 00:06:27,095] Trial 66 finished with value: -83058087.75647253 and parameters: {}. Best is trial 0 with value: -83058087.75647253.\n",
      "[I 2024-04-10 00:06:27,363] Trial 67 finished with value: -83058087.75647253 and parameters: {}. Best is trial 0 with value: -83058087.75647253.\n",
      "[I 2024-04-10 00:06:27,648] Trial 68 finished with value: -83058087.75647253 and parameters: {}. Best is trial 0 with value: -83058087.75647253.\n",
      "[I 2024-04-10 00:06:27,946] Trial 69 finished with value: -83058087.75647253 and parameters: {}. Best is trial 0 with value: -83058087.75647253.\n",
      "[I 2024-04-10 00:06:28,234] Trial 70 finished with value: -83058087.75647253 and parameters: {}. Best is trial 0 with value: -83058087.75647253.\n",
      "[I 2024-04-10 00:06:28,522] Trial 71 finished with value: -83058087.75647253 and parameters: {}. Best is trial 0 with value: -83058087.75647253.\n",
      "[I 2024-04-10 00:06:28,789] Trial 72 finished with value: -83058087.75647253 and parameters: {}. Best is trial 0 with value: -83058087.75647253.\n",
      "[I 2024-04-10 00:06:29,067] Trial 73 finished with value: -83058087.75647253 and parameters: {}. Best is trial 0 with value: -83058087.75647253.\n",
      "[I 2024-04-10 00:06:29,365] Trial 74 finished with value: -83058087.75647253 and parameters: {}. Best is trial 0 with value: -83058087.75647253.\n",
      "[I 2024-04-10 00:06:29,653] Trial 75 finished with value: -83058087.75647253 and parameters: {}. Best is trial 0 with value: -83058087.75647253.\n",
      "[I 2024-04-10 00:06:29,923] Trial 76 finished with value: -83058087.75647253 and parameters: {}. Best is trial 0 with value: -83058087.75647253.\n",
      "[I 2024-04-10 00:06:30,232] Trial 77 finished with value: -83058087.75647253 and parameters: {}. Best is trial 0 with value: -83058087.75647253.\n",
      "[I 2024-04-10 00:06:30,520] Trial 78 finished with value: -83058087.75647253 and parameters: {}. Best is trial 0 with value: -83058087.75647253.\n",
      "[I 2024-04-10 00:06:30,788] Trial 79 finished with value: -83058087.75647253 and parameters: {}. Best is trial 0 with value: -83058087.75647253.\n",
      "[I 2024-04-10 00:06:31,064] Trial 80 finished with value: -83058087.75647253 and parameters: {}. Best is trial 0 with value: -83058087.75647253.\n",
      "[I 2024-04-10 00:06:31,350] Trial 81 finished with value: -83058087.75647253 and parameters: {}. Best is trial 0 with value: -83058087.75647253.\n",
      "[I 2024-04-10 00:06:31,617] Trial 82 finished with value: -83058087.75647253 and parameters: {}. Best is trial 0 with value: -83058087.75647253.\n",
      "[I 2024-04-10 00:06:31,948] Trial 83 finished with value: -83058087.75647253 and parameters: {}. Best is trial 0 with value: -83058087.75647253.\n",
      "[I 2024-04-10 00:06:32,269] Trial 84 finished with value: -83058087.75647253 and parameters: {}. Best is trial 0 with value: -83058087.75647253.\n",
      "[I 2024-04-10 00:06:32,566] Trial 85 finished with value: -83058087.75647253 and parameters: {}. Best is trial 0 with value: -83058087.75647253.\n",
      "[I 2024-04-10 00:06:32,854] Trial 86 finished with value: -83058087.75647253 and parameters: {}. Best is trial 0 with value: -83058087.75647253.\n",
      "[I 2024-04-10 00:06:33,131] Trial 87 finished with value: -83058087.75647253 and parameters: {}. Best is trial 0 with value: -83058087.75647253.\n",
      "[I 2024-04-10 00:06:33,438] Trial 88 finished with value: -83058087.75647253 and parameters: {}. Best is trial 0 with value: -83058087.75647253.\n",
      "[I 2024-04-10 00:06:33,718] Trial 89 finished with value: -83058087.75647253 and parameters: {}. Best is trial 0 with value: -83058087.75647253.\n",
      "[I 2024-04-10 00:06:33,994] Trial 90 finished with value: -83058087.75647253 and parameters: {}. Best is trial 0 with value: -83058087.75647253.\n",
      "[I 2024-04-10 00:06:34,257] Trial 91 finished with value: -83058087.75647253 and parameters: {}. Best is trial 0 with value: -83058087.75647253.\n",
      "[I 2024-04-10 00:06:34,547] Trial 92 finished with value: -83058087.75647253 and parameters: {}. Best is trial 0 with value: -83058087.75647253.\n",
      "[I 2024-04-10 00:06:34,855] Trial 93 finished with value: -83058087.75647253 and parameters: {}. Best is trial 0 with value: -83058087.75647253.\n",
      "[I 2024-04-10 00:06:35,135] Trial 94 finished with value: -83058087.75647253 and parameters: {}. Best is trial 0 with value: -83058087.75647253.\n",
      "[I 2024-04-10 00:06:35,413] Trial 95 finished with value: -83058087.75647253 and parameters: {}. Best is trial 0 with value: -83058087.75647253.\n",
      "[I 2024-04-10 00:06:35,701] Trial 96 finished with value: -83058087.75647253 and parameters: {}. Best is trial 0 with value: -83058087.75647253.\n",
      "[I 2024-04-10 00:06:35,989] Trial 97 finished with value: -83058087.75647253 and parameters: {}. Best is trial 0 with value: -83058087.75647253.\n",
      "[I 2024-04-10 00:06:36,269] Trial 98 finished with value: -83058087.75647253 and parameters: {}. Best is trial 0 with value: -83058087.75647253.\n",
      "[I 2024-04-10 00:06:36,540] Trial 99 finished with value: -83058087.75647253 and parameters: {}. Best is trial 0 with value: -83058087.75647253.\n"
     ]
    }
   ],
   "source": [
    "# Otimização de hiperparâmetros com Optuna (exemplo com RandomForestRegressor)\n",
    "def objective(trial):\n",
    "    if best_model_name == 'Random Forest Regressor':\n",
    "        n_estimators = trial.suggest_int('n_estimators', 10, 100)\n",
    "        max_depth = trial.suggest_int('max_depth', 2, 32)\n",
    "        model = RandomForestRegressor(n_estimators=n_estimators, max_depth=max_depth)\n",
    "    elif best_model_name == 'Decision Tree Regressor':\n",
    "        max_depth = trial.suggest_int('max_depth', 2, 32)\n",
    "        model = DecisionTreeRegressor(max_depth=max_depth)\n",
    "    else:\n",
    "        model = models[best_model_name]  # Use the default hyperparameters for other models\n",
    "    score = cross_val_score(model, X_train, y_train, n_jobs=-1, cv=3, scoring='neg_mean_squared_error').mean()\n",
    "    return score\n",
    "\n",
    "study = optuna.create_study(direction='minimize')\n",
    "study.optimize(objective, n_trials=100)"
   ]
  },
  {
   "cell_type": "code",
   "execution_count": 14,
   "id": "4c466152-7210-4ae6-bbe2-50bbd3fcd988",
   "metadata": {},
   "outputs": [
    {
     "name": "stdout",
     "output_type": "stream",
     "text": [
      "Optimized Support Vector Regression MSE: 87402190.0\n"
     ]
    }
   ],
   "source": [
    "# Obtenha os melhores parâmetros do estudo Optuna\n",
    "best_params = study.best_params\n",
    "\n",
    "# Configure o modelo com os melhores parâmetros\n",
    "best_model.set_params(**best_params)\n",
    "\n",
    "# Ajuste o modelo aos dados de treinamento\n",
    "best_model.fit(X_train, y_train)\n",
    "\n",
    "y_pred = best_model.predict(X_test)\n",
    "mse = mean_squared_error(y_test, y_pred)\n",
    "print(f'Optimized {best_model_name} MSE: {round(mse,2)}')"
   ]
  },
  {
   "cell_type": "code",
   "execution_count": 15,
   "id": "33547ecc-41db-4611-b112-781aa8ad267f",
   "metadata": {},
   "outputs": [
    {
     "name": "stdout",
     "output_type": "stream",
     "text": [
      "O modelo selecionado não suporta o cálculo de importância das características.\n"
     ]
    }
   ],
   "source": [
    "# Obter a importância das características apenas para modelos que suportam esse atributo\n",
    "if hasattr(best_model, 'feature_importances_'):\n",
    "    # Obter a importância das características do modelo\n",
    "    feature_importances = best_model.feature_importances_\n",
    "    \n",
    "    # Criar um DataFrame para visualizar a importância das características\n",
    "    importance_df = pd.DataFrame({'Colunas': X_train.columns, 'Importância': feature_importances})\n",
    "\n",
    "    # Ordenar as características por importância\n",
    "    importance_df = importance_df.sort_values(by='Importância', ascending=False)\n",
    "    \n",
    "    print(\"\\nQuais características individuais têm maior impacto nos custos médicos cobrados pelo seguro de saúde?\")\n",
    "    print(round(importance_df,2))\n",
    "\n",
    "    # Selecionar as características mais importantes (por exemplo, as 10 mais importantes)\n",
    "    top_features = importance_df.head(10)['Colunas'].tolist()  # Ajuste o número conforme necessário\n",
    "    \n",
    "    # Calcular a matriz de correlação apenas para as características mais importantes\n",
    "    correlation_matrix = X_train[top_features].corr()\n",
    "    \n",
    "    # Visualizar a matriz de correlação\n",
    "    print(\"\\nExiste alguma correlação entre certas características (por exemplo, idade, IMC) e os custos médicos?\")\n",
    "    print(correlation_matrix)\n",
    "else:\n",
    "    print(\"O modelo selecionado não suporta o cálculo de importância das características.\")"
   ]
  },
  {
   "cell_type": "code",
   "execution_count": 16,
   "id": "3ff98bdc-0c3b-47f8-8286-bfe6f7e6425d",
   "metadata": {},
   "outputs": [
    {
     "name": "stdout",
     "output_type": "stream",
     "text": [
      "      Idade       IMC    Filhos   Fumante  Categoria IMC  Região_numerica  \\\n",
      "0  0.226565  0.929435  0.261265  0.724007       0.372665         0.865353   \n",
      "1  0.189496  0.275955  0.109003  0.004453       0.208316         0.670130   \n",
      "2  0.847513  0.006761  0.464334  0.790285       0.375507         0.386387   \n",
      "3  0.563451  0.863900  0.678386  0.480290       0.507057         0.099243   \n",
      "4  0.658063  0.203220  0.664274  0.660385       0.805154         0.602796   \n",
      "\n",
      "   Gênero_masculino  Região_noroeste  Região_sudeste  Região_sudoeste  \n",
      "0          0.084143         0.039119        0.488872         0.697382  \n",
      "1          0.685971         0.412151        0.078552         0.197247  \n",
      "2          0.460023         0.336966        0.026452         0.780691  \n",
      "3          0.360456         0.881579        0.611603         0.002289  \n",
      "4          0.859740         0.305271        0.169527         0.848114  \n"
     ]
    }
   ],
   "source": [
    "# Definição de dados futuros - 100 linhas\n",
    "dados_futuros = pd.DataFrame(np.random.rand(200, len(X_train.columns)), columns=X_train.columns)\n",
    "print(dados_futuros.head())"
   ]
  },
  {
   "cell_type": "markdown",
   "id": "5b6d667b-d351-4280-acc0-e3eadcd2691a",
   "metadata": {},
   "source": [
    "Modelo treinado para fazer previsões dos encargos futuros:"
   ]
  },
  {
   "cell_type": "code",
   "execution_count": 17,
   "id": "ef157340-e0fe-40af-99cf-c51dc182c8d8",
   "metadata": {},
   "outputs": [],
   "source": [
    "encargos_futuros = prever_encargos_futuros(best_model, dados_futuros)"
   ]
  },
  {
   "cell_type": "markdown",
   "id": "5a705801-4d0c-49a5-b8c2-0179edc79268",
   "metadata": {},
   "source": [
    "Grupos de indivíduos com diferentes níveis de risco"
   ]
  },
  {
   "cell_type": "code",
   "execution_count": 18,
   "id": "9fca20a5-19a3-4b6e-813a-8e3bc3eff4b0",
   "metadata": {},
   "outputs": [],
   "source": [
    "grupos_risco = segmentacao_de_risco(best_model, dados_futuros)"
   ]
  },
  {
   "cell_type": "markdown",
   "id": "e0f827ad-ea14-449f-ac30-740f7847e0ad",
   "metadata": {},
   "source": [
    "Análises de sensibilidade para entender o impacto das mudanças nas características dos segurados nos encargos previstos:"
   ]
  },
  {
   "cell_type": "code",
   "execution_count": 19,
   "id": "8e827e0d-72e5-4bbf-b458-7bab84abfdcb",
   "metadata": {},
   "outputs": [],
   "source": [
    "custos_previstos_alterados = analise_de_sensibilidade(best_model, dados_futuros, 'Idade', novo_valor=40)"
   ]
  },
  {
   "cell_type": "markdown",
   "id": "c38da1be-74f3-4fc5-9ab3-da6447d943ef",
   "metadata": {},
   "source": [
    "Utilizando as previsões dos encargos para otimizar a alocação de recursos:"
   ]
  },
  {
   "cell_type": "code",
   "execution_count": 20,
   "id": "3740e3ff-fcdf-416f-9aa4-3f54b5d2f539",
   "metadata": {},
   "outputs": [],
   "source": [
    "recursos_otimizados = otimizacao_de_recursos(encargos_futuros)"
   ]
  },
  {
   "cell_type": "markdown",
   "id": "a6e3345c-a5d0-4a2c-aa64-7c675cf967d6",
   "metadata": {},
   "source": [
    "Utilizando as informações obtidas com o modelo para desenvolver planos estratégicos:"
   ]
  },
  {
   "cell_type": "code",
   "execution_count": 21,
   "id": "160d53a4-3d2b-4a41-af3b-cbbbf91116c8",
   "metadata": {},
   "outputs": [],
   "source": [
    "planos_estrategicos = planejamento_estrategico(best_model, dados_futuros)"
   ]
  },
  {
   "cell_type": "code",
   "execution_count": 22,
   "id": "b5651aad-ab93-4e5d-9119-62173d584776",
   "metadata": {},
   "outputs": [],
   "source": [
    "# Adicionando as novas colunas na planilha dados futuros\n",
    "dados_futuros['Encargo Futuro'] = encargos_futuros\n",
    "dados_futuros['Grupos Risco'] = grupos_risco\n",
    "dados_futuros['Recursos Otimizados'] = custos_previstos_alterados\n",
    "dados_futuros['Planos estratégicos'] = planos_estrategicos\n",
    "dados_futuros['Encargos'] = np.nan\n",
    "\n",
    "# Salvar os dados randômicos futuros\n",
    "dados_futuros.to_csv(\"../planilhas/4_dados_futuros.csv\", index=False, encoding='latin1')"
   ]
  },
  {
   "cell_type": "code",
   "execution_count": 23,
   "id": "34520248-7ad9-4789-88c9-d3e48b98ffcb",
   "metadata": {},
   "outputs": [
    {
     "data": {
      "image/png": "[encoded data removed]",
      "text/plain": [
       "<Figure size 1500x500 with 1 Axes>"
      ]
     },
     "metadata": {},
     "output_type": "display_data"
    }
   ],
   "source": [
    "fig, axs = plt.subplots(figsize=(15, 5))\n",
    "\n",
    "# Criar gráfico\n",
    "plt.plot(dados_futuros['Encargo Futuro'], label='Previsões', color='blue', marker='o')\n",
    "plt.plot(dados_futuros['Encargos'], label='Valores Reais', color='green', marker='x')\n",
    "\n",
    "# Adicionar rótulos e legenda\n",
    "plt.xlabel('Período')\n",
    "plt.ylabel('Valor')\n",
    "plt.legend()\n",
    "\n",
    "# Exibir gráfico\n",
    "plt.title('Previsões vs. Valores Reais')\n",
    "plt.show()"
   ]
  }
 ],
 "metadata": {
  "kernelspec": {
   "display_name": "Python 3 (ipykernel)",
   "language": "python",
   "name": "python3"
  },
  "language_info": {
   "codemirror_mode": {
    "name": "ipython",
    "version": 3
   },
   "file_extension": ".py",
   "mimetype": "text/x-python",
   "name": "python",
   "nbconvert_exporter": "python",
   "pygments_lexer": "ipython3",
   "version": "3.12.2"
  }
 },
 "nbformat": 4,
 "nbformat_minor": 5
}

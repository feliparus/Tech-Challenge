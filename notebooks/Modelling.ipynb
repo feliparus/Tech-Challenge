{
 "cells": [
  {
   "cell_type": "code",
   "execution_count": 1,
   "id": "dbc0af4c-ddf6-4729-8cea-952f3c7d1104",
   "metadata": {},
   "outputs": [
    {
     "name": "stdout",
     "output_type": "stream",
     "text": [
      "Requirement already satisfied: pandas in c:\\users\\luiz.santos\\documents\\fiap grupo\\tech challenge\\.venv\\lib\\site-packages (2.2.1)\n",
      "Requirement already satisfied: scikit-learn in c:\\users\\luiz.santos\\documents\\fiap grupo\\tech challenge\\.venv\\lib\\site-packages (1.4.1.post1)\n",
      "Requirement already satisfied: optuna in c:\\users\\luiz.santos\\documents\\fiap grupo\\tech challenge\\.venv\\lib\\site-packages (3.6.1)\n",
      "Requirement already satisfied: seaborn in c:\\users\\luiz.santos\\documents\\fiap grupo\\tech challenge\\.venv\\lib\\site-packages (0.13.2)\n",
      "Requirement already satisfied: statsmodels in c:\\users\\luiz.santos\\documents\\fiap grupo\\tech challenge\\.venv\\lib\\site-packages (0.14.1)\n",
      "Requirement already satisfied: numpy<2,>=1.26.0 in c:\\users\\luiz.santos\\documents\\fiap grupo\\tech challenge\\.venv\\lib\\site-packages (from pandas) (1.26.4)\n",
      "Requirement already satisfied: python-dateutil>=2.8.2 in c:\\users\\luiz.santos\\documents\\fiap grupo\\tech challenge\\.venv\\lib\\site-packages (from pandas) (2.9.0.post0)\n",
      "Requirement already satisfied: pytz>=2020.1 in c:\\users\\luiz.santos\\documents\\fiap grupo\\tech challenge\\.venv\\lib\\site-packages (from pandas) (2024.1)\n",
      "Requirement already satisfied: tzdata>=2022.7 in c:\\users\\luiz.santos\\documents\\fiap grupo\\tech challenge\\.venv\\lib\\site-packages (from pandas) (2024.1)\n",
      "Requirement already satisfied: scipy>=1.6.0 in c:\\users\\luiz.santos\\documents\\fiap grupo\\tech challenge\\.venv\\lib\\site-packages (from scikit-learn) (1.13.0)\n",
      "Requirement already satisfied: joblib>=1.2.0 in c:\\users\\luiz.santos\\documents\\fiap grupo\\tech challenge\\.venv\\lib\\site-packages (from scikit-learn) (1.3.2)\n",
      "Requirement already satisfied: threadpoolctl>=2.0.0 in c:\\users\\luiz.santos\\documents\\fiap grupo\\tech challenge\\.venv\\lib\\site-packages (from scikit-learn) (3.4.0)\n",
      "Requirement already satisfied: alembic>=1.5.0 in c:\\users\\luiz.santos\\documents\\fiap grupo\\tech challenge\\.venv\\lib\\site-packages (from optuna) (1.13.1)\n",
      "Requirement already satisfied: colorlog in c:\\users\\luiz.santos\\documents\\fiap grupo\\tech challenge\\.venv\\lib\\site-packages (from optuna) (6.8.2)\n",
      "Requirement already satisfied: packaging>=20.0 in c:\\users\\luiz.santos\\documents\\fiap grupo\\tech challenge\\.venv\\lib\\site-packages (from optuna) (24.0)\n",
      "Requirement already satisfied: sqlalchemy>=1.3.0 in c:\\users\\luiz.santos\\documents\\fiap grupo\\tech challenge\\.venv\\lib\\site-packages (from optuna) (2.0.29)\n",
      "Requirement already satisfied: tqdm in c:\\users\\luiz.santos\\documents\\fiap grupo\\tech challenge\\.venv\\lib\\site-packages (from optuna) (4.66.2)\n",
      "Requirement already satisfied: PyYAML in c:\\users\\luiz.santos\\documents\\fiap grupo\\tech challenge\\.venv\\lib\\site-packages (from optuna) (6.0.1)\n",
      "Requirement already satisfied: matplotlib!=3.6.1,>=3.4 in c:\\users\\luiz.santos\\documents\\fiap grupo\\tech challenge\\.venv\\lib\\site-packages (from seaborn) (3.8.3)\n",
      "Requirement already satisfied: patsy>=0.5.4 in c:\\users\\luiz.santos\\documents\\fiap grupo\\tech challenge\\.venv\\lib\\site-packages (from statsmodels) (0.5.6)\n",
      "Requirement already satisfied: Mako in c:\\users\\luiz.santos\\documents\\fiap grupo\\tech challenge\\.venv\\lib\\site-packages (from alembic>=1.5.0->optuna) (1.3.2)\n",
      "Requirement already satisfied: typing-extensions>=4 in c:\\users\\luiz.santos\\documents\\fiap grupo\\tech challenge\\.venv\\lib\\site-packages (from alembic>=1.5.0->optuna) (4.11.0)\n",
      "Requirement already satisfied: contourpy>=1.0.1 in c:\\users\\luiz.santos\\documents\\fiap grupo\\tech challenge\\.venv\\lib\\site-packages (from matplotlib!=3.6.1,>=3.4->seaborn) (1.2.1)\n",
      "Requirement already satisfied: cycler>=0.10 in c:\\users\\luiz.santos\\documents\\fiap grupo\\tech challenge\\.venv\\lib\\site-packages (from matplotlib!=3.6.1,>=3.4->seaborn) (0.12.1)\n",
      "Requirement already satisfied: fonttools>=4.22.0 in c:\\users\\luiz.santos\\documents\\fiap grupo\\tech challenge\\.venv\\lib\\site-packages (from matplotlib!=3.6.1,>=3.4->seaborn) (4.50.0)\n",
      "Requirement already satisfied: kiwisolver>=1.3.1 in c:\\users\\luiz.santos\\documents\\fiap grupo\\tech challenge\\.venv\\lib\\site-packages (from matplotlib!=3.6.1,>=3.4->seaborn) (1.4.5)\n",
      "Requirement already satisfied: pillow>=8 in c:\\users\\luiz.santos\\documents\\fiap grupo\\tech challenge\\.venv\\lib\\site-packages (from matplotlib!=3.6.1,>=3.4->seaborn) (10.3.0)\n",
      "Requirement already satisfied: pyparsing>=2.3.1 in c:\\users\\luiz.santos\\documents\\fiap grupo\\tech challenge\\.venv\\lib\\site-packages (from matplotlib!=3.6.1,>=3.4->seaborn) (3.1.2)\n",
      "Requirement already satisfied: six in c:\\users\\luiz.santos\\documents\\fiap grupo\\tech challenge\\.venv\\lib\\site-packages (from patsy>=0.5.4->statsmodels) (1.16.0)\n",
      "Requirement already satisfied: greenlet!=0.4.17 in c:\\users\\luiz.santos\\documents\\fiap grupo\\tech challenge\\.venv\\lib\\site-packages (from sqlalchemy>=1.3.0->optuna) (3.0.3)\n",
      "Requirement already satisfied: colorama in c:\\users\\luiz.santos\\documents\\fiap grupo\\tech challenge\\.venv\\lib\\site-packages (from colorlog->optuna) (0.4.6)\n",
      "Requirement already satisfied: MarkupSafe>=0.9.2 in c:\\users\\luiz.santos\\documents\\fiap grupo\\tech challenge\\.venv\\lib\\site-packages (from Mako->alembic>=1.5.0->optuna) (2.1.5)\n"
     ]
    }
   ],
   "source": [
    "!pip install pandas scikit-learn optuna seaborn statsmodels"
   ]
  },
  {
   "cell_type": "code",
   "execution_count": 2,
   "id": "88537431-7a90-4c7c-a1d0-5eeb475c641e",
   "metadata": {},
   "outputs": [],
   "source": [
    "import pandas as pd\n",
    "import numpy as np\n",
    "import seaborn as sns\n",
    "import statsmodels.api as sm\n",
    "import matplotlib.pyplot as plt\n",
    "import optuna\n",
    "import os\n",
    "from include.utils import incrementar_dados_aleatorios_csv, categorizar_imc\n",
    "from include.utils import prever_encargos_futuros, segmentacao_de_risco, analise_de_sensibilidade, otimizacao_de_recursos, planejamento_estrategico"
   ]
  },
  {
   "cell_type": "code",
   "execution_count": 3,
   "id": "a2f178e3-93ea-45ca-8c37-9aeb74ea7184",
   "metadata": {},
   "outputs": [],
   "source": [
    "from sklearn.model_selection import train_test_split, cross_val_score\n",
    "from sklearn.ensemble import RandomForestRegressor\n",
    "from sklearn.linear_model import LinearRegression\n",
    "from sklearn.metrics import mean_squared_error\n",
    "from sklearn.preprocessing import OneHotEncoder, LabelEncoder, StandardScaler\n",
    "from sklearn.svm import SVR\n",
    "from sklearn.tree import DecisionTreeRegressor\n",
    "from sklearn.neighbors import KNeighborsRegressor\n",
    "from sklearn.ensemble import GradientBoostingRegressor\n",
    "from sklearn.linear_model import Lasso"
   ]
  },
  {
   "cell_type": "markdown",
   "id": "320499db-f973-450a-9aab-316e6426be3a",
   "metadata": {},
   "source": [
    "**1. Engenharia de Recursos**"
   ]
  },
  {
   "cell_type": "markdown",
   "id": "2a110e58-c228-4985-a256-24ffc5dcc631",
   "metadata": {},
   "source": [
    "Novos recursos derivados dos dados existentes"
   ]
  },
  {
   "cell_type": "code",
   "execution_count": 4,
   "id": "31b10de9-2b41-4f53-b88d-2d46be3eb795",
   "metadata": {},
   "outputs": [
    {
     "name": "stdout",
     "output_type": "stream",
     "text": [
      "      Idade     Gênero    IMC  Filhos Fumante    Região  Encargos  \\\n",
      "0      56.0   feminino  29.77     2.0     sim  sudoeste  31109.89   \n",
      "1      46.0  masculino  25.86     1.0     não  nordeste  26650.70   \n",
      "2      32.0  masculino  23.01     0.0     não  sudoeste  21459.04   \n",
      "3      40.0   feminino  21.51     1.0     não  noroeste  29513.47   \n",
      "4      35.0   feminino  30.34     0.0     sim  sudoeste  24925.01   \n",
      "...     ...        ...    ...     ...     ...       ...       ...   \n",
      "1998    NaN        NaN    NaN     NaN     NaN       NaN       NaN   \n",
      "1999   36.0   feminino  31.84     3.0     sim  nordeste  24787.02   \n",
      "2000   48.0  masculino  20.75     2.0     sim   sudeste  33152.85   \n",
      "2001   74.0  masculino  19.99     2.0     não  nordeste  43367.61   \n",
      "2002   46.0   feminino  29.59     1.0     não  noroeste  28691.27   \n",
      "\n",
      "       Categoria_IMC  \n",
      "0          Sobrepeso  \n",
      "1          Sobrepeso  \n",
      "2        Peso normal  \n",
      "3        Peso normal  \n",
      "4              Obeso  \n",
      "...              ...  \n",
      "1998  Valor Inválido  \n",
      "1999           Obeso  \n",
      "2000     Peso normal  \n",
      "2001     Peso normal  \n",
      "2002       Sobrepeso  \n",
      "\n",
      "[2003 rows x 8 columns]\n"
     ]
    }
   ],
   "source": [
    "# Obtém a largura do terminal - uso mais embaixo nos prints\n",
    "terminal_width = os.get_terminal_size().columns\n",
    "\n",
    "dados = pd.read_csv('../planilhas/2_dados_aleatorios_sobre_original.csv', encoding='latin-1')\n",
    "\n",
    "# Aplicar a função para categorizar IMC e criar uma nova coluna 'Categoria_IMC'\n",
    "dados['Categoria_IMC'] = dados['IMC'].apply(categorizar_imc)\n",
    "\n",
    "print(dados)"
   ]
  },
  {
   "cell_type": "markdown",
   "id": "eebb4b2f-58ca-4fa7-97d1-af96eb7d266d",
   "metadata": {},
   "source": [
    "**2. Limpeza de Dados**"
   ]
  },
  {
   "cell_type": "code",
   "execution_count": 5,
   "id": "7be726d7-f49f-4115-9c22-9bf83b87f4bf",
   "metadata": {},
   "outputs": [
    {
     "name": "stdout",
     "output_type": "stream",
     "text": [
      "      Idade     Gênero    IMC  Filhos Fumante    Região  Encargos  \\\n",
      "0        56   feminino  29.77       2     sim  sudoeste  31109.89   \n",
      "1        46  masculino  25.86       1     não  nordeste  26650.70   \n",
      "2        32  masculino  23.01       0     não  sudoeste  21459.04   \n",
      "3        40   feminino  21.51       1     não  noroeste  29513.47   \n",
      "4        35   feminino  30.34       0     sim  sudoeste  24925.01   \n",
      "...     ...        ...    ...     ...     ...       ...       ...   \n",
      "1997     23   feminino  29.45       0     sim  noroeste  15843.09   \n",
      "1999     36   feminino  31.84       3     sim  nordeste  24787.02   \n",
      "2000     48  masculino  20.75       2     sim   sudeste  33152.85   \n",
      "2001     74  masculino  19.99       2     não  nordeste  43367.61   \n",
      "2002     46   feminino  29.59       1     não  noroeste  28691.27   \n",
      "\n",
      "     Categoria_IMC  \n",
      "0        Sobrepeso  \n",
      "1        Sobrepeso  \n",
      "2      Peso normal  \n",
      "3      Peso normal  \n",
      "4            Obeso  \n",
      "...            ...  \n",
      "1997     Sobrepeso  \n",
      "1999         Obeso  \n",
      "2000   Peso normal  \n",
      "2001   Peso normal  \n",
      "2002     Sobrepeso  \n",
      "\n",
      "[1803 rows x 8 columns]\n"
     ]
    }
   ],
   "source": [
    "# Remover linhas com valores NaN\n",
    "dados = dados.dropna()\n",
    "\n",
    "# Substituir valores nulos por zero\n",
    "dados['Filhos'] = dados['Filhos'].fillna(0)\n",
    "dados['Filhos'] = dados['Filhos'].astype(int)\n",
    "dados['Idade'] = dados['Idade'].fillna(0)\n",
    "dados['Idade'] = dados['Idade'].astype(int)\n",
    "dados['Encargos'] = dados['Encargos'].fillna(0)\n",
    "\n",
    "dados['Gênero'] = dados['Gênero'].str.replace('nan', 'Não informado')\n",
    "\n",
    "print(dados)"
   ]
  },
  {
   "cell_type": "markdown",
   "id": "ad26fe86-4dd4-488f-90ee-3a86ac237459",
   "metadata": {},
   "source": [
    "**3. Pré-processamento**"
   ]
  },
  {
   "cell_type": "code",
   "execution_count": 6,
   "id": "969de9b6-fa98-4951-b1b6-cfb5ea261c58",
   "metadata": {},
   "outputs": [
    {
     "name": "stdout",
     "output_type": "stream",
     "text": [
      "      Idade  Gênero    IMC  Filhos  Fumante  Categoria_IMC  Região_noroeste  \\\n",
      "0        56       0  29.77       2        1              3              0.0   \n",
      "1        46       1  25.86       1        0              3              0.0   \n",
      "2        32       1  23.01       0        0              2              0.0   \n",
      "3        40       0  21.51       1        0              2              1.0   \n",
      "4        35       0  30.34       0        1              1              0.0   \n",
      "...     ...     ...    ...     ...      ...            ...              ...   \n",
      "1997     23       0  29.45       0        1              3              1.0   \n",
      "1999     36       0  31.84       3        1              1              0.0   \n",
      "2000     48       1  20.75       2        1              2              0.0   \n",
      "2001     74       1  19.99       2        0              2              0.0   \n",
      "2002     46       0  29.59       1        0              3              1.0   \n",
      "\n",
      "      Região_sudeste  Região_sudoeste  \n",
      "0                0.0              1.0  \n",
      "1                0.0              0.0  \n",
      "2                0.0              1.0  \n",
      "3                0.0              0.0  \n",
      "4                0.0              1.0  \n",
      "...              ...              ...  \n",
      "1997             0.0              0.0  \n",
      "1999             0.0              0.0  \n",
      "2000             1.0              0.0  \n",
      "2001             0.0              0.0  \n",
      "2002             0.0              0.0  \n",
      "\n",
      "[1803 rows x 9 columns]\n"
     ]
    }
   ],
   "source": [
    "# Dividir os dados em features (X) e target (y)\n",
    "X = dados.drop(['Encargos'], axis=1)  # descartando colunas não necessárias para o teste\n",
    "y = dados['Encargos']\n",
    "\n",
    "# Codificar variáveis categóricas usando one-hot encoding\n",
    "colunas_codificadas_via_one_hot = ['Região']\n",
    "encoder = OneHotEncoder(drop='first')\n",
    "X_encoded = encoder.fit_transform(X[colunas_codificadas_via_one_hot])\n",
    "\n",
    "# Concatenar features codificadas com as restantes\n",
    "X_encoded = pd.DataFrame(X_encoded.toarray(), columns=encoder.get_feature_names_out(colunas_codificadas_via_one_hot), index=X.index)\n",
    "X = pd.concat([X.drop(colunas_codificadas_via_one_hot, axis=1), X_encoded], axis=1)\n",
    "\n",
    "# Codificar variáveis com LabelEncoder\n",
    "label_encoder = LabelEncoder()\n",
    "X['Categoria_IMC'] = label_encoder.fit_transform(X['Categoria_IMC'])\n",
    "X['Gênero'] = label_encoder.fit_transform(X['Gênero'])\n",
    "X['Fumante'] = label_encoder.fit_transform(X['Fumante'])\n",
    "\n",
    "# Substituir valores 'sim' e 'não' por 1 e 0 (comentei porque o resultado é o mesmo no LabelEncoder\n",
    "#X['Fumante'] = X['Fumante'].map({'sim': 1, 'não': 0})\n",
    "\n",
    "print(X)"
   ]
  },
  {
   "cell_type": "code",
   "execution_count": 7,
   "id": "a17d1075-c010-4b2d-bb6a-1f63dc89cd3f",
   "metadata": {},
   "outputs": [
    {
     "name": "stdout",
     "output_type": "stream",
     "text": [
      "Visualizar a matriz de correlação:\n",
      "                    Idade    Gênero       IMC    Filhos   Fumante  \\\n",
      "Idade            1.000000 -0.008082  0.011023  0.002965  0.010998   \n",
      "Gênero          -0.008082  1.000000  0.017750  0.066610 -0.000096   \n",
      "IMC              0.011023  0.017750  1.000000 -0.055861  0.049012   \n",
      "Filhos           0.002965  0.066610 -0.055861  1.000000  0.030299   \n",
      "Fumante          0.010998 -0.000096  0.049012  0.030299  1.000000   \n",
      "Categoria_IMC   -0.017933  0.004381 -0.228550 -0.013393 -0.036806   \n",
      "Região_noroeste -0.028351  0.016284 -0.041607 -0.006568 -0.034140   \n",
      "Região_sudeste  -0.002943  0.014352  0.041544 -0.010253  0.062902   \n",
      "Região_sudoeste  0.029102 -0.027278 -0.004542 -0.010261  0.008973   \n",
      "\n",
      "                 Categoria_IMC  Região_noroeste  Região_sudeste  \\\n",
      "Idade                -0.017933        -0.028351       -0.002943   \n",
      "Gênero                0.004381         0.016284        0.014352   \n",
      "IMC                  -0.228550        -0.041607        0.041544   \n",
      "Filhos               -0.013393        -0.006568       -0.010253   \n",
      "Fumante              -0.036806        -0.034140        0.062902   \n",
      "Categoria_IMC         1.000000         0.007907       -0.010312   \n",
      "Região_noroeste       0.007907         1.000000       -0.327114   \n",
      "Região_sudeste       -0.010312        -0.327114        1.000000   \n",
      "Região_sudoeste       0.039985        -0.323508       -0.333940   \n",
      "\n",
      "                 Região_sudoeste  \n",
      "Idade                   0.029102  \n",
      "Gênero                 -0.027278  \n",
      "IMC                    -0.004542  \n",
      "Filhos                 -0.010261  \n",
      "Fumante                 0.008973  \n",
      "Categoria_IMC           0.039985  \n",
      "Região_noroeste        -0.323508  \n",
      "Região_sudeste         -0.333940  \n",
      "Região_sudoeste         1.000000  \n"
     ]
    }
   ],
   "source": [
    "# Dividir os dados em conjuntos de treinamento e teste\n",
    "X_train, X_test, y_train, y_test = train_test_split(X, y, test_size=0.2, random_state=7)\n",
    "\n",
    "# Inicializar o StandardScaler, que é usado para padronizar os recursos\n",
    "scaler = StandardScaler()\n",
    "\n",
    "# Aplicar a transformação de padronização nos dados de treinamento e ajustar o scaler aos dados\n",
    "X_train_scaled = scaler.fit_transform(X_train)\n",
    "\n",
    "# Aplicar a mesma transformação de padronização aos dados de teste\n",
    "X_test_scaled = scaler.transform(X_test)\n",
    "\n",
    "# Calcular a matriz de correlação dos dados de treinamento\n",
    "correlation_matrix = X_train.corr()\n",
    "print('Visualizar a matriz de correlação:')\n",
    "print(correlation_matrix)"
   ]
  },
  {
   "cell_type": "markdown",
   "id": "464d0f57-fd29-48b2-a59e-42e36e34e72d",
   "metadata": {},
   "source": [
    "**Validação estatística**"
   ]
  },
  {
   "cell_type": "markdown",
   "id": "64155550-918c-4280-b673-b8eb7e920084",
   "metadata": {},
   "source": [
    "Utilizando métricas estatísticas para validar a eficácia do modelo (p-value, intervalos de confiança):            "
   ]
  },
  {
   "cell_type": "code",
   "execution_count": 8,
   "id": "41e44b40-d5be-4983-8bf9-ed753892fcc1",
   "metadata": {},
   "outputs": [
    {
     "name": "stdout",
     "output_type": "stream",
     "text": [
      "P-values dos coeficientes:\n",
      "Idade      0.000000e+00\n",
      "Filhos     4.653095e-34\n",
      "Fumante    3.333993e-11\n",
      "Name: P>|t|, dtype: float64\n",
      "\n",
      "Intervalos de Confiança dos coeficientes:\n",
      "              0        1\n",
      "Idade    576.44   586.00\n",
      "Filhos   647.18   889.83\n",
      "Fumante  674.79  1236.61\n"
     ]
    }
   ],
   "source": [
    "dados_aux = dados.copy()\n",
    "\n",
    "dados_aux['Fumante'] = dados_aux['Fumante'].map({'sim': 1, 'não': 0})\n",
    "\n",
    "# Adicione uma coluna de intercepto aos dados\n",
    "dados_aux['Intercepto'] = 1\n",
    "\n",
    "# Dividindo os dados em variáveis independentes (X) e variável dependente (y)\n",
    "X = dados_aux[['Idade', 'Filhos', 'Fumante']]\n",
    "y = dados_aux['Encargos']\n",
    "\n",
    "# Ajustando o modelo de regressão linear usando OLS (Ordinary Least Squares)\n",
    "modelo = sm.OLS(y, X).fit()\n",
    "\n",
    "# Calculando os p-values dos coeficientes\n",
    "p_values = modelo.summary2().tables[1]['P>|t|']\n",
    "\n",
    "# Calculando os intervalos de confiança dos coeficientes\n",
    "conf_intervals = modelo.conf_int()\n",
    "\n",
    "# Imprima os resultados\n",
    "print(\"P-values dos coeficientes:\")\n",
    "print(p_values)\n",
    "print(\"\\nIntervalos de Confiança dos coeficientes:\")\n",
    "print(round(conf_intervals,2))"
   ]
  },
  {
   "cell_type": "markdown",
   "id": "d97c5862-6ad0-4e20-9e49-a447bfaa48c2",
   "metadata": {},
   "source": [
    "**4. Treinamento do Modelo**"
   ]
  },
  {
   "cell_type": "code",
   "execution_count": 9,
   "id": "be67531c-1538-4d5e-858f-7ab5406ffd2e",
   "metadata": {},
   "outputs": [
    {
     "name": "stdout",
     "output_type": "stream",
     "text": [
      "--------------------------------------------------------------------------------------------------------------------------------------------------------------\n",
      "Random Forest Regressor MSE: 8707832.97\n",
      "Acurácia média com validação cruzada para Random Forest Regressor: 0.91\n",
      "Importância das características para Random Forest Regressor:\n",
      "           Colunas  Importância\n",
      "0            Idade         0.93\n",
      "2              IMC         0.04\n",
      "3           Filhos         0.01\n",
      "4          Fumante         0.00\n",
      "1           Gênero         0.00\n",
      "7   Região_sudeste         0.00\n",
      "8  Região_sudoeste         0.00\n",
      "6  Região_noroeste         0.00\n",
      "5    Categoria_IMC         0.00\n",
      "--------------------------------------------------------------------------------------------------------------------------------------------------------------\n",
      "Linear Regression MSE: 7399729.94\n",
      "Acurácia média com validação cruzada para Linear Regression: 0.92\n",
      "Coeficientes das características para Linear Regression:\n",
      "           Colunas  Coeficiente\n",
      "0            Idade       502.65\n",
      "3           Filhos       155.95\n",
      "4          Fumante       109.47\n",
      "2              IMC        -0.46\n",
      "5    Categoria_IMC       -18.21\n",
      "1           Gênero       -47.08\n",
      "8  Região_sudoeste      -177.02\n",
      "6  Região_noroeste      -177.28\n",
      "7   Região_sudeste      -284.62\n",
      "--------------------------------------------------------------------------------------------------------------------------------------------------------------\n",
      "Support Vector Regression MSE: 83943679.55\n",
      "Acurácia média com validação cruzada para Support Vector Regression: 0.02\n",
      "Importância das características para Support Vector Regression:\n",
      "                         Colunas  Importância\n",
      "Idade                      Idade        48.76\n",
      "IMC                          IMC        26.43\n",
      "Categoria_IMC      Categoria_IMC         1.92\n",
      "Filhos                    Filhos         1.51\n",
      "Fumante                  Fumante         0.52\n",
      "Gênero                    Gênero         0.50\n",
      "Região_sudeste    Região_sudeste         0.25\n",
      "Região_sudoeste  Região_sudoeste         0.25\n",
      "Região_noroeste  Região_noroeste         0.24\n",
      "--------------------------------------------------------------------------------------------------------------------------------------------------------------\n",
      "Decision Tree Regressor MSE: 16070338.15\n",
      "Acurácia média com validação cruzada para Decision Tree Regressor: 0.84\n",
      "Importância das características para Decision Tree Regressor:\n",
      "           Colunas  Importância\n",
      "0            Idade         0.93\n",
      "2              IMC         0.04\n",
      "3           Filhos         0.01\n",
      "4          Fumante         0.00\n",
      "1           Gênero         0.00\n",
      "6  Região_noroeste         0.00\n",
      "8  Região_sudoeste         0.00\n",
      "5    Categoria_IMC         0.00\n",
      "7   Região_sudeste         0.00\n",
      "--------------------------------------------------------------------------------------------------------------------------------------------------------------\n",
      "K-Nearest Neighbors Regressor MSE: 9414196.75\n",
      "Acurácia média com validação cruzada para K-Nearest Neighbors Regressor: 0.91\n",
      "Não é possível calcular a importância das características para o modelo K-Nearest Neighbors Regressor\n",
      "--------------------------------------------------------------------------------------------------------------------------------------------------------------\n",
      "Gradient Boosting Regressor MSE: 7481245.43\n",
      "Acurácia média com validação cruzada para Gradient Boosting Regressor: 0.92\n",
      "Importância das características para Gradient Boosting Regressor:\n",
      "           Colunas  Importância\n",
      "0            Idade         0.99\n",
      "2              IMC         0.01\n",
      "3           Filhos         0.00\n",
      "1           Gênero         0.00\n",
      "7   Região_sudeste         0.00\n",
      "4          Fumante         0.00\n",
      "8  Região_sudoeste         0.00\n",
      "6  Região_noroeste         0.00\n",
      "5    Categoria_IMC         0.00\n"
     ]
    }
   ],
   "source": [
    "# Adicionando mais modelos ao dicionário de modelos\n",
    "models = {\n",
    "    'Random Forest Regressor': RandomForestRegressor(),\n",
    "    'Linear Regression': LinearRegression(),\n",
    "    'Support Vector Regression': SVR(),\n",
    "    'Decision Tree Regressor': DecisionTreeRegressor(),\n",
    "    'K-Nearest Neighbors Regressor': KNeighborsRegressor(),\n",
    "    'Gradient Boosting Regressor': GradientBoostingRegressor(),\n",
    "    'Lasso Regression': Lasso(alpha=0.1)  # Aqui incluímos a regressão Lasso com um valor de alpha arbitrário\n",
    "}\n",
    "\n",
    "# Treinamento e avaliação dos modelos\n",
    "for name, model in models.items():\n",
    "    model.fit(X_train, y_train)\n",
    "    y_pred = model.predict(X_test)\n",
    "    mse = mean_squared_error(y_test, y_pred)\n",
    "\n",
    "    # Imprime uma linha separadora com base na largura do terminal\n",
    "    print('-' * terminal_width)\n",
    "    print(f'{name} MSE: {round(mse,2)}')\n",
    "    # Calcular acurácia média usando validação cruzada\n",
    "    scores = cross_val_score(model, X_train, y_train, cv=5)\n",
    "    print(f'Acurácia média com validação cruzada para {name}: {round(scores.mean(),2)}')\n",
    "    \n",
    "    # Calcula e exibe a importância das características para o modelo atual\n",
    "    if hasattr(model, 'feature_importances_'):\n",
    "        importance_df = pd.DataFrame({'Colunas': X_train.columns, 'Importância': model.feature_importances_})\n",
    "        importance_df = importance_df.sort_values(by='Importância', ascending=False)\n",
    "        print(f\"Importância das características para {name}:\")\n",
    "        print(round(importance_df,2))\n",
    "    elif isinstance(model, LinearRegression) or isinstance(model, Lasso):\n",
    "        importance_df = pd.DataFrame({'Colunas': X_train.columns, 'Coeficiente': model.coef_})\n",
    "        importance_df = importance_df.sort_values(by='Coeficiente', ascending=False)\n",
    "        print(f\"Coeficientes das características para {name}:\")\n",
    "        print(round(importance_df,2))\n",
    "    elif isinstance(model, SVR):\n",
    "        support_indices = model.support_\n",
    "        support_features = X_train.iloc[support_indices]\n",
    "        feature_importance_svr = support_features.mean(axis=0)\n",
    "        importance_df = pd.DataFrame({'Colunas': X_train.columns, 'Importância': feature_importance_svr})\n",
    "        importance_df = importance_df.sort_values(by='Importância', ascending=False)\n",
    "        print(f\"Importância das características para {name}:\")\n",
    "        print(round(importance_df,2))\n",
    "    else:\n",
    "        print(f\"Não é possível calcular a importância das características para o modelo {name}\")"
   ]
  },
  {
   "cell_type": "markdown",
   "id": "48fb4ff9-f2ce-4114-bc95-28f313d6690f",
   "metadata": {},
   "source": [
    "**5. Comparação de Modelos**"
   ]
  },
  {
   "cell_type": "code",
   "execution_count": 10,
   "id": "955fbdea-faea-4285-8298-76b32a8bd648",
   "metadata": {},
   "outputs": [],
   "source": [
    "# Seleção de modelo com base na maior pontuação de validação cruzada\n",
    "best_model_name = max(models, key=lambda model: cross_val_score(models[model], X_train, y_train, cv=5).mean())"
   ]
  },
  {
   "cell_type": "markdown",
   "id": "d9684717-7ac2-4c36-a697-1f3a72d85d51",
   "metadata": {},
   "source": [
    "**6. Seleção de Modelo**"
   ]
  },
  {
   "cell_type": "code",
   "execution_count": 11,
   "id": "16947f1b-a506-4540-9068-99f278e9d558",
   "metadata": {},
   "outputs": [
    {
     "name": "stdout",
     "output_type": "stream",
     "text": [
      "Best Model: Linear Regression\n"
     ]
    }
   ],
   "source": [
    "best_model = models[best_model_name]\n",
    "print(f'Best Model: {best_model_name}')"
   ]
  },
  {
   "cell_type": "markdown",
   "id": "eb2c235a-b688-4d6b-8820-de8a50e3e4a8",
   "metadata": {},
   "source": [
    "**7. Otimização de Modelo**"
   ]
  },
  {
   "cell_type": "code",
   "execution_count": 12,
   "id": "e36479d9-807c-4862-bcd6-a1b06426edce",
   "metadata": {},
   "outputs": [
    {
     "name": "stderr",
     "output_type": "stream",
     "text": [
      "[I 2024-04-10 12:45:45,672] A new study created in memory with name: no-name-1eddd7ff-aecd-429c-a3e2-819f8b2fbfd8\n",
      "[I 2024-04-10 12:45:48,091] Trial 0 finished with value: -7026979.82934121 and parameters: {}. Best is trial 0 with value: -7026979.82934121.\n",
      "[I 2024-04-10 12:45:49,784] Trial 1 finished with value: -7026979.82934121 and parameters: {}. Best is trial 0 with value: -7026979.82934121.\n",
      "[I 2024-04-10 12:45:51,433] Trial 2 finished with value: -7026979.82934121 and parameters: {}. Best is trial 0 with value: -7026979.82934121.\n",
      "[I 2024-04-10 12:45:51,460] Trial 3 finished with value: -7026979.82934121 and parameters: {}. Best is trial 0 with value: -7026979.82934121.\n",
      "[I 2024-04-10 12:45:51,480] Trial 4 finished with value: -7026979.82934121 and parameters: {}. Best is trial 0 with value: -7026979.82934121.\n",
      "[I 2024-04-10 12:45:51,509] Trial 5 finished with value: -7026979.82934121 and parameters: {}. Best is trial 0 with value: -7026979.82934121.\n",
      "[I 2024-04-10 12:45:51,539] Trial 6 finished with value: -7026979.82934121 and parameters: {}. Best is trial 0 with value: -7026979.82934121.\n",
      "[I 2024-04-10 12:45:51,565] Trial 7 finished with value: -7026979.82934121 and parameters: {}. Best is trial 0 with value: -7026979.82934121.\n",
      "[I 2024-04-10 12:45:51,604] Trial 8 finished with value: -7026979.82934121 and parameters: {}. Best is trial 0 with value: -7026979.82934121.\n",
      "[I 2024-04-10 12:45:51,633] Trial 9 finished with value: -7026979.82934121 and parameters: {}. Best is trial 0 with value: -7026979.82934121.\n",
      "[I 2024-04-10 12:45:51,664] Trial 10 finished with value: -7026979.82934121 and parameters: {}. Best is trial 0 with value: -7026979.82934121.\n",
      "[I 2024-04-10 12:45:51,695] Trial 11 finished with value: -7026979.82934121 and parameters: {}. Best is trial 0 with value: -7026979.82934121.\n",
      "[I 2024-04-10 12:45:51,723] Trial 12 finished with value: -7026979.82934121 and parameters: {}. Best is trial 0 with value: -7026979.82934121.\n",
      "[I 2024-04-10 12:45:51,782] Trial 13 finished with value: -7026979.82934121 and parameters: {}. Best is trial 0 with value: -7026979.82934121.\n",
      "[I 2024-04-10 12:45:51,802] Trial 14 finished with value: -7026979.82934121 and parameters: {}. Best is trial 0 with value: -7026979.82934121.\n",
      "[I 2024-04-10 12:45:51,818] Trial 15 finished with value: -7026979.82934121 and parameters: {}. Best is trial 0 with value: -7026979.82934121.\n",
      "[I 2024-04-10 12:45:51,833] Trial 16 finished with value: -7026979.82934121 and parameters: {}. Best is trial 0 with value: -7026979.82934121.\n",
      "[I 2024-04-10 12:45:51,861] Trial 17 finished with value: -7026979.82934121 and parameters: {}. Best is trial 0 with value: -7026979.82934121.\n",
      "[I 2024-04-10 12:45:51,888] Trial 18 finished with value: -7026979.82934121 and parameters: {}. Best is trial 0 with value: -7026979.82934121.\n",
      "[I 2024-04-10 12:45:51,915] Trial 19 finished with value: -7026979.82934121 and parameters: {}. Best is trial 0 with value: -7026979.82934121.\n",
      "[I 2024-04-10 12:45:51,943] Trial 20 finished with value: -7026979.82934121 and parameters: {}. Best is trial 0 with value: -7026979.82934121.\n",
      "[I 2024-04-10 12:45:51,974] Trial 21 finished with value: -7026979.82934121 and parameters: {}. Best is trial 0 with value: -7026979.82934121.\n",
      "[I 2024-04-10 12:45:52,004] Trial 22 finished with value: -7026979.82934121 and parameters: {}. Best is trial 0 with value: -7026979.82934121.\n",
      "[I 2024-04-10 12:45:52,030] Trial 23 finished with value: -7026979.82934121 and parameters: {}. Best is trial 0 with value: -7026979.82934121.\n",
      "[I 2024-04-10 12:45:52,060] Trial 24 finished with value: -7026979.82934121 and parameters: {}. Best is trial 0 with value: -7026979.82934121.\n",
      "[I 2024-04-10 12:45:52,087] Trial 25 finished with value: -7026979.82934121 and parameters: {}. Best is trial 0 with value: -7026979.82934121.\n",
      "[I 2024-04-10 12:45:52,113] Trial 26 finished with value: -7026979.82934121 and parameters: {}. Best is trial 0 with value: -7026979.82934121.\n",
      "[I 2024-04-10 12:45:52,144] Trial 27 finished with value: -7026979.82934121 and parameters: {}. Best is trial 0 with value: -7026979.82934121.\n",
      "[I 2024-04-10 12:45:52,183] Trial 28 finished with value: -7026979.82934121 and parameters: {}. Best is trial 0 with value: -7026979.82934121.\n",
      "[I 2024-04-10 12:45:52,213] Trial 29 finished with value: -7026979.82934121 and parameters: {}. Best is trial 0 with value: -7026979.82934121.\n",
      "[I 2024-04-10 12:45:52,240] Trial 30 finished with value: -7026979.82934121 and parameters: {}. Best is trial 0 with value: -7026979.82934121.\n",
      "[I 2024-04-10 12:45:52,281] Trial 31 finished with value: -7026979.82934121 and parameters: {}. Best is trial 0 with value: -7026979.82934121.\n",
      "[I 2024-04-10 12:45:52,312] Trial 32 finished with value: -7026979.82934121 and parameters: {}. Best is trial 0 with value: -7026979.82934121.\n",
      "[I 2024-04-10 12:45:52,343] Trial 33 finished with value: -7026979.82934121 and parameters: {}. Best is trial 0 with value: -7026979.82934121.\n",
      "[I 2024-04-10 12:45:52,370] Trial 34 finished with value: -7026979.82934121 and parameters: {}. Best is trial 0 with value: -7026979.82934121.\n",
      "[I 2024-04-10 12:45:52,397] Trial 35 finished with value: -7026979.82934121 and parameters: {}. Best is trial 0 with value: -7026979.82934121.\n",
      "[I 2024-04-10 12:45:52,413] Trial 36 finished with value: -7026979.82934121 and parameters: {}. Best is trial 0 with value: -7026979.82934121.\n",
      "[I 2024-04-10 12:45:52,441] Trial 37 finished with value: -7026979.82934121 and parameters: {}. Best is trial 0 with value: -7026979.82934121.\n",
      "[I 2024-04-10 12:45:52,469] Trial 38 finished with value: -7026979.82934121 and parameters: {}. Best is trial 0 with value: -7026979.82934121.\n",
      "[I 2024-04-10 12:45:52,495] Trial 39 finished with value: -7026979.82934121 and parameters: {}. Best is trial 0 with value: -7026979.82934121.\n",
      "[I 2024-04-10 12:45:52,522] Trial 40 finished with value: -7026979.82934121 and parameters: {}. Best is trial 0 with value: -7026979.82934121.\n",
      "[I 2024-04-10 12:45:52,548] Trial 41 finished with value: -7026979.82934121 and parameters: {}. Best is trial 0 with value: -7026979.82934121.\n",
      "[I 2024-04-10 12:45:52,575] Trial 42 finished with value: -7026979.82934121 and parameters: {}. Best is trial 0 with value: -7026979.82934121.\n",
      "[I 2024-04-10 12:45:52,604] Trial 43 finished with value: -7026979.82934121 and parameters: {}. Best is trial 0 with value: -7026979.82934121.\n",
      "[I 2024-04-10 12:45:52,629] Trial 44 finished with value: -7026979.82934121 and parameters: {}. Best is trial 0 with value: -7026979.82934121.\n",
      "[I 2024-04-10 12:45:52,647] Trial 45 finished with value: -7026979.82934121 and parameters: {}. Best is trial 0 with value: -7026979.82934121.\n",
      "[I 2024-04-10 12:45:52,674] Trial 46 finished with value: -7026979.82934121 and parameters: {}. Best is trial 0 with value: -7026979.82934121.\n",
      "[I 2024-04-10 12:45:52,699] Trial 47 finished with value: -7026979.82934121 and parameters: {}. Best is trial 0 with value: -7026979.82934121.\n",
      "[I 2024-04-10 12:45:52,725] Trial 48 finished with value: -7026979.82934121 and parameters: {}. Best is trial 0 with value: -7026979.82934121.\n",
      "[I 2024-04-10 12:45:52,751] Trial 49 finished with value: -7026979.82934121 and parameters: {}. Best is trial 0 with value: -7026979.82934121.\n",
      "[I 2024-04-10 12:45:52,767] Trial 50 finished with value: -7026979.82934121 and parameters: {}. Best is trial 0 with value: -7026979.82934121.\n",
      "[I 2024-04-10 12:45:52,793] Trial 51 finished with value: -7026979.82934121 and parameters: {}. Best is trial 0 with value: -7026979.82934121.\n",
      "[I 2024-04-10 12:45:52,819] Trial 52 finished with value: -7026979.82934121 and parameters: {}. Best is trial 0 with value: -7026979.82934121.\n",
      "[I 2024-04-10 12:45:52,835] Trial 53 finished with value: -7026979.82934121 and parameters: {}. Best is trial 0 with value: -7026979.82934121.\n",
      "[I 2024-04-10 12:45:52,862] Trial 54 finished with value: -7026979.82934121 and parameters: {}. Best is trial 0 with value: -7026979.82934121.\n",
      "[I 2024-04-10 12:45:52,889] Trial 55 finished with value: -7026979.82934121 and parameters: {}. Best is trial 0 with value: -7026979.82934121.\n",
      "[I 2024-04-10 12:45:52,916] Trial 56 finished with value: -7026979.82934121 and parameters: {}. Best is trial 0 with value: -7026979.82934121.\n",
      "[I 2024-04-10 12:45:52,943] Trial 57 finished with value: -7026979.82934121 and parameters: {}. Best is trial 0 with value: -7026979.82934121.\n",
      "[I 2024-04-10 12:45:52,971] Trial 58 finished with value: -7026979.82934121 and parameters: {}. Best is trial 0 with value: -7026979.82934121.\n",
      "[I 2024-04-10 12:45:52,997] Trial 59 finished with value: -7026979.82934121 and parameters: {}. Best is trial 0 with value: -7026979.82934121.\n",
      "[I 2024-04-10 12:45:53,026] Trial 60 finished with value: -7026979.82934121 and parameters: {}. Best is trial 0 with value: -7026979.82934121.\n",
      "[I 2024-04-10 12:45:53,055] Trial 61 finished with value: -7026979.82934121 and parameters: {}. Best is trial 0 with value: -7026979.82934121.\n",
      "[I 2024-04-10 12:45:53,082] Trial 62 finished with value: -7026979.82934121 and parameters: {}. Best is trial 0 with value: -7026979.82934121.\n",
      "[I 2024-04-10 12:45:53,109] Trial 63 finished with value: -7026979.82934121 and parameters: {}. Best is trial 0 with value: -7026979.82934121.\n",
      "[I 2024-04-10 12:45:53,135] Trial 64 finished with value: -7026979.82934121 and parameters: {}. Best is trial 0 with value: -7026979.82934121.\n",
      "[I 2024-04-10 12:45:53,165] Trial 65 finished with value: -7026979.82934121 and parameters: {}. Best is trial 0 with value: -7026979.82934121.\n",
      "[I 2024-04-10 12:45:53,192] Trial 66 finished with value: -7026979.82934121 and parameters: {}. Best is trial 0 with value: -7026979.82934121.\n",
      "[I 2024-04-10 12:45:53,220] Trial 67 finished with value: -7026979.82934121 and parameters: {}. Best is trial 0 with value: -7026979.82934121.\n",
      "[I 2024-04-10 12:45:53,247] Trial 68 finished with value: -7026979.82934121 and parameters: {}. Best is trial 0 with value: -7026979.82934121.\n",
      "[I 2024-04-10 12:45:53,263] Trial 69 finished with value: -7026979.82934121 and parameters: {}. Best is trial 0 with value: -7026979.82934121.\n",
      "[I 2024-04-10 12:45:53,289] Trial 70 finished with value: -7026979.82934121 and parameters: {}. Best is trial 0 with value: -7026979.82934121.\n",
      "[I 2024-04-10 12:45:53,316] Trial 71 finished with value: -7026979.82934121 and parameters: {}. Best is trial 0 with value: -7026979.82934121.\n",
      "[I 2024-04-10 12:45:53,343] Trial 72 finished with value: -7026979.82934121 and parameters: {}. Best is trial 0 with value: -7026979.82934121.\n",
      "[I 2024-04-10 12:45:53,369] Trial 73 finished with value: -7026979.82934121 and parameters: {}. Best is trial 0 with value: -7026979.82934121.\n",
      "[I 2024-04-10 12:45:53,398] Trial 74 finished with value: -7026979.82934121 and parameters: {}. Best is trial 0 with value: -7026979.82934121.\n",
      "[I 2024-04-10 12:45:53,426] Trial 75 finished with value: -7026979.82934121 and parameters: {}. Best is trial 0 with value: -7026979.82934121.\n",
      "[I 2024-04-10 12:45:53,455] Trial 76 finished with value: -7026979.82934121 and parameters: {}. Best is trial 0 with value: -7026979.82934121.\n",
      "[I 2024-04-10 12:45:53,501] Trial 77 finished with value: -7026979.82934121 and parameters: {}. Best is trial 0 with value: -7026979.82934121.\n",
      "[I 2024-04-10 12:45:53,521] Trial 78 finished with value: -7026979.82934121 and parameters: {}. Best is trial 0 with value: -7026979.82934121.\n",
      "[I 2024-04-10 12:45:53,546] Trial 79 finished with value: -7026979.82934121 and parameters: {}. Best is trial 0 with value: -7026979.82934121.\n",
      "[I 2024-04-10 12:45:53,574] Trial 80 finished with value: -7026979.82934121 and parameters: {}. Best is trial 0 with value: -7026979.82934121.\n",
      "[I 2024-04-10 12:45:53,614] Trial 81 finished with value: -7026979.82934121 and parameters: {}. Best is trial 0 with value: -7026979.82934121.\n",
      "[I 2024-04-10 12:45:53,654] Trial 82 finished with value: -7026979.82934121 and parameters: {}. Best is trial 0 with value: -7026979.82934121.\n",
      "[I 2024-04-10 12:45:53,684] Trial 83 finished with value: -7026979.82934121 and parameters: {}. Best is trial 0 with value: -7026979.82934121.\n",
      "[I 2024-04-10 12:45:53,720] Trial 84 finished with value: -7026979.82934121 and parameters: {}. Best is trial 0 with value: -7026979.82934121.\n",
      "[I 2024-04-10 12:45:53,749] Trial 85 finished with value: -7026979.82934121 and parameters: {}. Best is trial 0 with value: -7026979.82934121.\n",
      "[I 2024-04-10 12:45:53,776] Trial 86 finished with value: -7026979.82934121 and parameters: {}. Best is trial 0 with value: -7026979.82934121.\n",
      "[I 2024-04-10 12:45:53,805] Trial 87 finished with value: -7026979.82934121 and parameters: {}. Best is trial 0 with value: -7026979.82934121.\n",
      "[I 2024-04-10 12:45:53,834] Trial 88 finished with value: -7026979.82934121 and parameters: {}. Best is trial 0 with value: -7026979.82934121.\n",
      "[I 2024-04-10 12:45:53,860] Trial 89 finished with value: -7026979.82934121 and parameters: {}. Best is trial 0 with value: -7026979.82934121.\n",
      "[I 2024-04-10 12:45:53,886] Trial 90 finished with value: -7026979.82934121 and parameters: {}. Best is trial 0 with value: -7026979.82934121.\n",
      "[I 2024-04-10 12:45:53,910] Trial 91 finished with value: -7026979.82934121 and parameters: {}. Best is trial 0 with value: -7026979.82934121.\n",
      "[I 2024-04-10 12:45:53,936] Trial 92 finished with value: -7026979.82934121 and parameters: {}. Best is trial 0 with value: -7026979.82934121.\n",
      "[I 2024-04-10 12:45:53,952] Trial 93 finished with value: -7026979.82934121 and parameters: {}. Best is trial 0 with value: -7026979.82934121.\n",
      "[I 2024-04-10 12:45:53,989] Trial 94 finished with value: -7026979.82934121 and parameters: {}. Best is trial 0 with value: -7026979.82934121.\n",
      "[I 2024-04-10 12:45:54,016] Trial 95 finished with value: -7026979.82934121 and parameters: {}. Best is trial 0 with value: -7026979.82934121.\n",
      "[I 2024-04-10 12:45:54,043] Trial 96 finished with value: -7026979.82934121 and parameters: {}. Best is trial 0 with value: -7026979.82934121.\n",
      "[I 2024-04-10 12:45:54,072] Trial 97 finished with value: -7026979.82934121 and parameters: {}. Best is trial 0 with value: -7026979.82934121.\n",
      "[I 2024-04-10 12:45:54,099] Trial 98 finished with value: -7026979.82934121 and parameters: {}. Best is trial 0 with value: -7026979.82934121.\n",
      "[I 2024-04-10 12:45:54,114] Trial 99 finished with value: -7026979.82934121 and parameters: {}. Best is trial 0 with value: -7026979.82934121.\n"
     ]
    }
   ],
   "source": [
    "# Função para criar uma nova instância do modelo com hiperparâmetros definidos\n",
    "def create_model(trial):\n",
    "    if best_model_name == 'Random Forest Regressor':\n",
    "        n_estimators = trial.suggest_int('n_estimators', 10, 100)\n",
    "        max_depth = trial.suggest_int('max_depth', 2, 32)\n",
    "        min_samples_split = trial.suggest_int('min_samples_split', 2, 20)\n",
    "        min_samples_leaf = trial.suggest_int('min_samples_leaf', 1, 10)\n",
    "        model = RandomForestRegressor(n_estimators=n_estimators, \n",
    "                                       max_depth=max_depth, \n",
    "                                       min_samples_split=min_samples_split,\n",
    "                                       min_samples_leaf=min_samples_leaf)\n",
    "    elif best_model_name == 'Decision Tree Regressor':\n",
    "        max_depth = trial.suggest_int('max_depth', 2, 32)\n",
    "        min_samples_split = trial.suggest_int('min_samples_split', 2, 20)\n",
    "        min_samples_leaf = trial.suggest_int('min_samples_leaf', 1, 10)\n",
    "        model = DecisionTreeRegressor(max_depth=max_depth,\n",
    "                                       min_samples_split=min_samples_split,\n",
    "                                       min_samples_leaf=min_samples_leaf)\n",
    "    elif best_model_name == 'Support Vector Regression':\n",
    "        C = trial.suggest_loguniform('C', 1e-3, 1e3)\n",
    "        epsilon = trial.suggest_loguniform('epsilon', 1e-3, 1e1)\n",
    "        kernel = trial.suggest_categorical('kernel', ['linear', 'rbf', 'poly'])\n",
    "        model = SVR(C=C, epsilon=epsilon, kernel=kernel)\n",
    "    elif best_model_name == 'Linear Regression':\n",
    "        model = LinearRegression()\n",
    "    elif best_model_name == 'K-Nearest Neighbors Regressor':\n",
    "        n_neighbors = trial.suggest_int('n_neighbors', 1, 20)\n",
    "        model = KNeighborsRegressor(n_neighbors=n_neighbors)\n",
    "    elif best_model_name == 'Gradient Boosting Regressor':\n",
    "        learning_rate = trial.suggest_loguniform('learning_rate', 0.01, 0.1)\n",
    "        n_estimators = trial.suggest_int('n_estimators', 50, 200)\n",
    "        max_depth = trial.suggest_int('max_depth', 3, 10)\n",
    "        model = GradientBoostingRegressor(learning_rate=learning_rate, \n",
    "                                           n_estimators=n_estimators, \n",
    "                                           max_depth=max_depth)\n",
    "    else:\n",
    "        model = models[best_model_name]  # Usar os hiperparâmetros padrão para outros modelos\n",
    "    return model\n",
    "\n",
    "# Função para otimização de hiperparâmetros\n",
    "def objective(trial):\n",
    "    # Criar uma nova instância do modelo com hiperparâmetros definidos pelo Optuna\n",
    "    model = create_model(trial)\n",
    "    \n",
    "    # Avaliação do modelo utilizando validação cruzada\n",
    "    score = cross_val_score(model, X_train, y_train, n_jobs=-1, cv=3, scoring='neg_mean_squared_error').mean()\n",
    "    return score\n",
    "\n",
    "# Criar o objeto de estudo Optuna\n",
    "study = optuna.create_study(direction='minimize')\n",
    "\n",
    "# Realizar a otimização dos hiperparâmetros\n",
    "study.optimize(objective, n_trials=100)"
   ]
  },
  {
   "cell_type": "code",
   "execution_count": 13,
   "id": "4c466152-7210-4ae6-bbe2-50bbd3fcd988",
   "metadata": {},
   "outputs": [
    {
     "name": "stdout",
     "output_type": "stream",
     "text": [
      "Optimized Linear Regression MSE: 7399729.94\n"
     ]
    }
   ],
   "source": [
    "# Obtenha os melhores parâmetros do estudo Optuna\n",
    "best_params = study.best_params\n",
    "\n",
    "# Configure o modelo com os melhores parâmetros\n",
    "best_model.set_params(**best_params)\n",
    "\n",
    "# Ajuste o modelo aos dados de treinamento\n",
    "best_model.fit(X_train, y_train)\n",
    "\n",
    "y_pred = best_model.predict(X_test)\n",
    "mse = mean_squared_error(y_test, y_pred)\n",
    "print(f'Optimized {best_model_name} MSE: {round(mse,2)}')"
   ]
  },
  {
   "cell_type": "code",
   "execution_count": 14,
   "id": "33547ecc-41db-4611-b112-781aa8ad267f",
   "metadata": {},
   "outputs": [
    {
     "name": "stdout",
     "output_type": "stream",
     "text": [
      "O modelo selecionado não suporta o cálculo de importância das características.\n"
     ]
    }
   ],
   "source": [
    "# Obter a importância das características apenas para modelos que suportam esse atributo\n",
    "if hasattr(best_model, 'feature_importances_'):\n",
    "    # Obter a importância das características do modelo\n",
    "    feature_importances = best_model.feature_importances_\n",
    "    \n",
    "    # Criar um DataFrame para visualizar a importância das características\n",
    "    importance_df = pd.DataFrame({'Colunas': X_train.columns, 'Importância': feature_importances})\n",
    "\n",
    "    # Ordenar as características por importância\n",
    "    importance_df = importance_df.sort_values(by='Importância', ascending=False)\n",
    "    \n",
    "    print(\"\\nQuais características individuais têm maior impacto nos custos médicos cobrados pelo seguro de saúde?\")\n",
    "    print(round(importance_df,2))\n",
    "\n",
    "    # Selecionar as características mais importantes (por exemplo, as 10 mais importantes)\n",
    "    top_features = importance_df.head(10)['Colunas'].tolist()  # Ajuste o número conforme necessário\n",
    "    \n",
    "    # Calcular a matriz de correlação apenas para as características mais importantes\n",
    "    correlation_matrix = X_train[top_features].corr()\n",
    "    \n",
    "    # Visualizar a matriz de correlação\n",
    "    print(\"\\nExiste alguma correlação entre certas características (por exemplo, idade, IMC) e os custos médicos?\")\n",
    "    print(correlation_matrix)\n",
    "else:\n",
    "    print(\"O modelo selecionado não suporta o cálculo de importância das características.\")"
   ]
  },
  {
   "cell_type": "code",
   "execution_count": 15,
   "id": "88a03c62-b587-404f-a8bd-5f6ae92ba516",
   "metadata": {},
   "outputs": [
    {
     "name": "stdout",
     "output_type": "stream",
     "text": [
      "MSE no conjunto de treinamento: 7040631.464216262\n",
      "MSE no conjunto de teste: 6917920.52140043\n"
     ]
    }
   ],
   "source": [
    "# Validação cruzada para detecção de overfitting\n",
    "def overfitting_detection(model, X, y, cv=5):\n",
    "    train_mse = -cross_val_score(model, X, y, cv=cv, scoring='neg_mean_squared_error').mean()\n",
    "    model.fit(X, y)\n",
    "    y_pred_train = model.predict(X)\n",
    "    test_mse = np.mean((y - y_pred_train) ** 2)\n",
    "    return train_mse, test_mse\n",
    "\n",
    "# Exemplo de uso\n",
    "train_mse, test_mse = overfitting_detection(best_model, X_train_scaled, y_train)\n",
    "\n",
    "print(\"MSE no conjunto de treinamento:\", train_mse)\n",
    "print(\"MSE no conjunto de teste:\", test_mse)"
   ]
  },
  {
   "cell_type": "code",
   "execution_count": 16,
   "id": "3ff98bdc-0c3b-47f8-8286-bfe6f7e6425d",
   "metadata": {},
   "outputs": [
    {
     "name": "stdout",
     "output_type": "stream",
     "text": [
      "      Idade    Gênero       IMC    Filhos   Fumante  Categoria_IMC  \\\n",
      "0  0.525822  0.168133  0.320166  0.379475  0.126017       0.893933   \n",
      "1  0.323504  0.966941  0.718210  0.532306  0.931282       0.621236   \n",
      "2  0.657345  0.173662  0.868652  0.841027  0.130760       0.665969   \n",
      "3  0.036703  0.190802  0.436952  0.697667  0.050076       0.368991   \n",
      "4  0.797220  0.403832  0.917032  0.775214  0.627542       0.080977   \n",
      "\n",
      "   Região_noroeste  Região_sudeste  Região_sudoeste  \n",
      "0         0.598853        0.294170         0.873822  \n",
      "1         0.787037        0.330442         0.105159  \n",
      "2         0.972160        0.051826         0.856673  \n",
      "3         0.504612        0.791799         0.405873  \n",
      "4         0.722324        0.518011         0.179253  \n"
     ]
    }
   ],
   "source": [
    "# Definição de dados futuros - 200 linhas\n",
    "dados_futuros = pd.DataFrame(np.random.rand(200, len(X_test.columns)), columns=X_test.columns)\n",
    "print(dados_futuros.head())"
   ]
  },
  {
   "cell_type": "markdown",
   "id": "5b6d667b-d351-4280-acc0-e3eadcd2691a",
   "metadata": {},
   "source": [
    "Modelo treinado para fazer previsões dos encargos futuros:"
   ]
  },
  {
   "cell_type": "code",
   "execution_count": 17,
   "id": "ef157340-e0fe-40af-99cf-c51dc182c8d8",
   "metadata": {},
   "outputs": [
    {
     "name": "stderr",
     "output_type": "stream",
     "text": [
      "C:\\Users\\luiz.santos\\Documents\\FIAP Grupo\\Tech Challenge\\.venv\\Lib\\site-packages\\sklearn\\base.py:486: UserWarning: X has feature names, but LinearRegression was fitted without feature names\n",
      "  warnings.warn(\n"
     ]
    }
   ],
   "source": [
    "encargos_futuros = prever_encargos_futuros(best_model, dados_futuros)"
   ]
  },
  {
   "cell_type": "markdown",
   "id": "5a705801-4d0c-49a5-b8c2-0179edc79268",
   "metadata": {},
   "source": [
    "Grupos de indivíduos com diferentes níveis de risco"
   ]
  },
  {
   "cell_type": "code",
   "execution_count": 18,
   "id": "9fca20a5-19a3-4b6e-813a-8e3bc3eff4b0",
   "metadata": {},
   "outputs": [
    {
     "name": "stderr",
     "output_type": "stream",
     "text": [
      "C:\\Users\\luiz.santos\\Documents\\FIAP Grupo\\Tech Challenge\\.venv\\Lib\\site-packages\\sklearn\\base.py:486: UserWarning: X has feature names, but LinearRegression was fitted without feature names\n",
      "  warnings.warn(\n"
     ]
    }
   ],
   "source": [
    "grupos_risco = segmentacao_de_risco(best_model, dados_futuros)"
   ]
  },
  {
   "cell_type": "markdown",
   "id": "e0f827ad-ea14-449f-ac30-740f7847e0ad",
   "metadata": {},
   "source": [
    "Análises de sensibilidade para entender o impacto das mudanças nas características dos segurados nos encargos previstos:"
   ]
  },
  {
   "cell_type": "code",
   "execution_count": 19,
   "id": "8e827e0d-72e5-4bbf-b458-7bab84abfdcb",
   "metadata": {},
   "outputs": [
    {
     "name": "stderr",
     "output_type": "stream",
     "text": [
      "C:\\Users\\luiz.santos\\Documents\\FIAP Grupo\\Tech Challenge\\.venv\\Lib\\site-packages\\sklearn\\base.py:486: UserWarning: X has feature names, but LinearRegression was fitted without feature names\n",
      "  warnings.warn(\n"
     ]
    }
   ],
   "source": [
    "custos_previstos_alterados = analise_de_sensibilidade(best_model, dados_futuros, 'Idade', novo_valor=40)"
   ]
  },
  {
   "cell_type": "markdown",
   "id": "c38da1be-74f3-4fc5-9ab3-da6447d943ef",
   "metadata": {},
   "source": [
    "Utilizando as previsões dos encargos para otimizar a alocação de recursos:"
   ]
  },
  {
   "cell_type": "code",
   "execution_count": 20,
   "id": "3740e3ff-fcdf-416f-9aa4-3f54b5d2f539",
   "metadata": {},
   "outputs": [],
   "source": [
    "recursos_otimizados = otimizacao_de_recursos(encargos_futuros)"
   ]
  },
  {
   "cell_type": "markdown",
   "id": "a6e3345c-a5d0-4a2c-aa64-7c675cf967d6",
   "metadata": {},
   "source": [
    "Utilizando as informações obtidas com o modelo para desenvolver planos estratégicos:"
   ]
  },
  {
   "cell_type": "code",
   "execution_count": 21,
   "id": "160d53a4-3d2b-4a41-af3b-cbbbf91116c8",
   "metadata": {},
   "outputs": [
    {
     "name": "stderr",
     "output_type": "stream",
     "text": [
      "C:\\Users\\luiz.santos\\Documents\\FIAP Grupo\\Tech Challenge\\.venv\\Lib\\site-packages\\sklearn\\base.py:486: UserWarning: X has feature names, but LinearRegression was fitted without feature names\n",
      "  warnings.warn(\n",
      "C:\\Users\\luiz.santos\\Documents\\FIAP Grupo\\Tech Challenge\\.venv\\Lib\\site-packages\\sklearn\\base.py:486: UserWarning: X has feature names, but LinearRegression was fitted without feature names\n",
      "  warnings.warn(\n"
     ]
    }
   ],
   "source": [
    "planos_estrategicos = planejamento_estrategico(best_model, dados_futuros)"
   ]
  },
  {
   "cell_type": "code",
   "execution_count": 22,
   "id": "b5651aad-ab93-4e5d-9119-62173d584776",
   "metadata": {},
   "outputs": [],
   "source": [
    "# Adicionando as novas colunas na planilha dados futuros\n",
    "dados_futuros['Encargo Futuro'] = encargos_futuros\n",
    "dados_futuros['Grupos Risco'] = grupos_risco\n",
    "dados_futuros['Recursos Otimizados'] = custos_previstos_alterados\n",
    "dados_futuros['Planos estratégicos'] = planos_estrategicos\n",
    "dados_futuros['Encargos'] = np.nan\n",
    "\n",
    "# Salvar os dados randômicos futuros\n",
    "dados_futuros.to_csv(\"../planilhas/4_dados_futuros.csv\", index=False, encoding='latin1')"
   ]
  },
  {
   "cell_type": "code",
   "execution_count": 23,
   "id": "34520248-7ad9-4789-88c9-d3e48b98ffcb",
   "metadata": {},
   "outputs": [
    {
     "data": {
      "image/png": "[encoded data removed]",
      "text/plain": [
       "<Figure size 1500x500 with 1 Axes>"
      ]
     },
     "metadata": {},
     "output_type": "display_data"
    }
   ],
   "source": [
    "fig, axs = plt.subplots(figsize=(15, 5))\n",
    "\n",
    "# Criar gráfico\n",
    "plt.plot(dados_futuros['Encargo Futuro'], label='Previsões', color='blue', marker='o')\n",
    "plt.plot(dados_futuros['Encargos'], label='Valores Reais', color='green', marker='x')\n",
    "\n",
    "# Adicionar rótulos e legenda\n",
    "plt.xlabel('Período')\n",
    "plt.ylabel('Valor')\n",
    "plt.legend()\n",
    "\n",
    "# Exibir gráfico\n",
    "plt.title('Previsões vs. Valores Reais')\n",
    "plt.show()"
   ]
  }
 ],
 "metadata": {
  "kernelspec": {
   "display_name": "Python 3 (ipykernel)",
   "language": "python",
   "name": "python3"
  },
  "language_info": {
   "codemirror_mode": {
    "name": "ipython",
    "version": 3
   },
   "file_extension": ".py",
   "mimetype": "text/x-python",
   "name": "python",
   "nbconvert_exporter": "python",
   "pygments_lexer": "ipython3",
   "version": "3.12.2"
  }
 },
 "nbformat": 4,
 "nbformat_minor": 5
}

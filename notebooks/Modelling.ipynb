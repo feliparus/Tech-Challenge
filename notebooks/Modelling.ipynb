{
 "cells": [
  {
   "cell_type": "code",
   "execution_count": 1,
   "id": "dbc0af4c-ddf6-4729-8cea-952f3c7d1104",
   "metadata": {},
   "outputs": [
    {
     "name": "stdout",
     "output_type": "stream",
     "text": [
      "Requirement already satisfied: pandas in c:\\users\\luiz.santos\\documents\\fiap grupo\\tech challenge\\.venv\\lib\\site-packages (2.2.1)\n",
      "Requirement already satisfied: scikit-learn in c:\\users\\luiz.santos\\documents\\fiap grupo\\tech challenge\\.venv\\lib\\site-packages (1.4.1.post1)\n",
      "Requirement already satisfied: optuna in c:\\users\\luiz.santos\\documents\\fiap grupo\\tech challenge\\.venv\\lib\\site-packages (3.6.1)\n",
      "Requirement already satisfied: seaborn in c:\\users\\luiz.santos\\documents\\fiap grupo\\tech challenge\\.venv\\lib\\site-packages (0.13.2)\n",
      "Requirement already satisfied: statsmodels in c:\\users\\luiz.santos\\documents\\fiap grupo\\tech challenge\\.venv\\lib\\site-packages (0.14.1)\n",
      "Requirement already satisfied: numpy<2,>=1.26.0 in c:\\users\\luiz.santos\\documents\\fiap grupo\\tech challenge\\.venv\\lib\\site-packages (from pandas) (1.26.4)\n",
      "Requirement already satisfied: python-dateutil>=2.8.2 in c:\\users\\luiz.santos\\documents\\fiap grupo\\tech challenge\\.venv\\lib\\site-packages (from pandas) (2.9.0.post0)\n",
      "Requirement already satisfied: pytz>=2020.1 in c:\\users\\luiz.santos\\documents\\fiap grupo\\tech challenge\\.venv\\lib\\site-packages (from pandas) (2024.1)\n",
      "Requirement already satisfied: tzdata>=2022.7 in c:\\users\\luiz.santos\\documents\\fiap grupo\\tech challenge\\.venv\\lib\\site-packages (from pandas) (2024.1)\n",
      "Requirement already satisfied: scipy>=1.6.0 in c:\\users\\luiz.santos\\documents\\fiap grupo\\tech challenge\\.venv\\lib\\site-packages (from scikit-learn) (1.13.0)\n",
      "Requirement already satisfied: joblib>=1.2.0 in c:\\users\\luiz.santos\\documents\\fiap grupo\\tech challenge\\.venv\\lib\\site-packages (from scikit-learn) (1.3.2)\n",
      "Requirement already satisfied: threadpoolctl>=2.0.0 in c:\\users\\luiz.santos\\documents\\fiap grupo\\tech challenge\\.venv\\lib\\site-packages (from scikit-learn) (3.4.0)\n",
      "Requirement already satisfied: alembic>=1.5.0 in c:\\users\\luiz.santos\\documents\\fiap grupo\\tech challenge\\.venv\\lib\\site-packages (from optuna) (1.13.1)\n",
      "Requirement already satisfied: colorlog in c:\\users\\luiz.santos\\documents\\fiap grupo\\tech challenge\\.venv\\lib\\site-packages (from optuna) (6.8.2)\n",
      "Requirement already satisfied: packaging>=20.0 in c:\\users\\luiz.santos\\documents\\fiap grupo\\tech challenge\\.venv\\lib\\site-packages (from optuna) (24.0)\n",
      "Requirement already satisfied: sqlalchemy>=1.3.0 in c:\\users\\luiz.santos\\documents\\fiap grupo\\tech challenge\\.venv\\lib\\site-packages (from optuna) (2.0.29)\n",
      "Requirement already satisfied: tqdm in c:\\users\\luiz.santos\\documents\\fiap grupo\\tech challenge\\.venv\\lib\\site-packages (from optuna) (4.66.2)\n",
      "Requirement already satisfied: PyYAML in c:\\users\\luiz.santos\\documents\\fiap grupo\\tech challenge\\.venv\\lib\\site-packages (from optuna) (6.0.1)\n",
      "Requirement already satisfied: matplotlib!=3.6.1,>=3.4 in c:\\users\\luiz.santos\\documents\\fiap grupo\\tech challenge\\.venv\\lib\\site-packages (from seaborn) (3.8.3)\n",
      "Requirement already satisfied: patsy>=0.5.4 in c:\\users\\luiz.santos\\documents\\fiap grupo\\tech challenge\\.venv\\lib\\site-packages (from statsmodels) (0.5.6)\n",
      "Requirement already satisfied: Mako in c:\\users\\luiz.santos\\documents\\fiap grupo\\tech challenge\\.venv\\lib\\site-packages (from alembic>=1.5.0->optuna) (1.3.2)\n",
      "Requirement already satisfied: typing-extensions>=4 in c:\\users\\luiz.santos\\documents\\fiap grupo\\tech challenge\\.venv\\lib\\site-packages (from alembic>=1.5.0->optuna) (4.11.0)\n",
      "Requirement already satisfied: contourpy>=1.0.1 in c:\\users\\luiz.santos\\documents\\fiap grupo\\tech challenge\\.venv\\lib\\site-packages (from matplotlib!=3.6.1,>=3.4->seaborn) (1.2.1)\n",
      "Requirement already satisfied: cycler>=0.10 in c:\\users\\luiz.santos\\documents\\fiap grupo\\tech challenge\\.venv\\lib\\site-packages (from matplotlib!=3.6.1,>=3.4->seaborn) (0.12.1)\n",
      "Requirement already satisfied: fonttools>=4.22.0 in c:\\users\\luiz.santos\\documents\\fiap grupo\\tech challenge\\.venv\\lib\\site-packages (from matplotlib!=3.6.1,>=3.4->seaborn) (4.50.0)\n",
      "Requirement already satisfied: kiwisolver>=1.3.1 in c:\\users\\luiz.santos\\documents\\fiap grupo\\tech challenge\\.venv\\lib\\site-packages (from matplotlib!=3.6.1,>=3.4->seaborn) (1.4.5)\n",
      "Requirement already satisfied: pillow>=8 in c:\\users\\luiz.santos\\documents\\fiap grupo\\tech challenge\\.venv\\lib\\site-packages (from matplotlib!=3.6.1,>=3.4->seaborn) (10.3.0)\n",
      "Requirement already satisfied: pyparsing>=2.3.1 in c:\\users\\luiz.santos\\documents\\fiap grupo\\tech challenge\\.venv\\lib\\site-packages (from matplotlib!=3.6.1,>=3.4->seaborn) (3.1.2)\n",
      "Requirement already satisfied: six in c:\\users\\luiz.santos\\documents\\fiap grupo\\tech challenge\\.venv\\lib\\site-packages (from patsy>=0.5.4->statsmodels) (1.16.0)\n",
      "Requirement already satisfied: greenlet!=0.4.17 in c:\\users\\luiz.santos\\documents\\fiap grupo\\tech challenge\\.venv\\lib\\site-packages (from sqlalchemy>=1.3.0->optuna) (3.0.3)\n",
      "Requirement already satisfied: colorama in c:\\users\\luiz.santos\\documents\\fiap grupo\\tech challenge\\.venv\\lib\\site-packages (from colorlog->optuna) (0.4.6)\n",
      "Requirement already satisfied: MarkupSafe>=0.9.2 in c:\\users\\luiz.santos\\documents\\fiap grupo\\tech challenge\\.venv\\lib\\site-packages (from Mako->alembic>=1.5.0->optuna) (2.1.5)\n"
     ]
    }
   ],
   "source": [
    "!pip install pandas scikit-learn optuna seaborn statsmodels"
   ]
  },
  {
   "cell_type": "code",
   "execution_count": 2,
   "id": "88537431-7a90-4c7c-a1d0-5eeb475c641e",
   "metadata": {},
   "outputs": [],
   "source": [
    "import pandas as pd\n",
    "import numpy as np\n",
    "import seaborn as sns\n",
    "import statsmodels.api as sm\n",
    "import matplotlib.pyplot as plt\n",
    "import optuna\n",
    "import os\n",
    "from include.utils import incrementar_dados_aleatorios_csv, categorizar_imc\n",
    "from include.utils import prever_encargos_futuros, segmentacao_de_risco, analise_de_sensibilidade, otimizacao_de_recursos, planejamento_estrategico"
   ]
  },
  {
   "cell_type": "code",
   "execution_count": 3,
   "id": "a2f178e3-93ea-45ca-8c37-9aeb74ea7184",
   "metadata": {},
   "outputs": [],
   "source": [
    "from sklearn.model_selection import train_test_split, cross_val_score\n",
    "from sklearn.ensemble import RandomForestRegressor\n",
    "from sklearn.linear_model import LinearRegression\n",
    "from sklearn.metrics import mean_squared_error\n",
    "from sklearn.preprocessing import OneHotEncoder, LabelEncoder, StandardScaler\n",
    "from sklearn.svm import SVR\n",
    "from sklearn.tree import DecisionTreeRegressor\n",
    "from sklearn.neighbors import KNeighborsRegressor\n",
    "from sklearn.ensemble import GradientBoostingRegressor"
   ]
  },
  {
   "cell_type": "markdown",
   "id": "320499db-f973-450a-9aab-316e6426be3a",
   "metadata": {},
   "source": [
    "**1. Engenharia de Recursos**"
   ]
  },
  {
   "cell_type": "markdown",
   "id": "2a110e58-c228-4985-a256-24ffc5dcc631",
   "metadata": {},
   "source": [
    "Novos recursos derivados dos dados existentes"
   ]
  },
  {
   "cell_type": "code",
   "execution_count": 4,
   "id": "31b10de9-2b41-4f53-b88d-2d46be3eb795",
   "metadata": {},
   "outputs": [
    {
     "name": "stdout",
     "output_type": "stream",
     "text": [
      "      Idade     Gênero    IMC  Filhos Fumante    Região  Encargos  \\\n",
      "0      56.0   feminino  29.77     2.0     sim  sudoeste  31109.89   \n",
      "1      46.0  masculino  25.86     1.0     não  nordeste  26650.70   \n",
      "2      32.0  masculino  23.01     0.0     não  sudoeste  21459.04   \n",
      "3      40.0   feminino  21.51     1.0     não  noroeste  29513.47   \n",
      "4      35.0   feminino  30.34     0.0     sim  sudoeste  24925.01   \n",
      "...     ...        ...    ...     ...     ...       ...       ...   \n",
      "1998    NaN        NaN    NaN     NaN     NaN       NaN       NaN   \n",
      "1999   36.0   feminino  31.84     3.0     sim  nordeste  24787.02   \n",
      "2000   48.0  masculino  20.75     2.0     sim   sudeste  33152.85   \n",
      "2001   74.0  masculino  19.99     2.0     não  nordeste  43367.61   \n",
      "2002   46.0   feminino  29.59     1.0     não  noroeste  28691.27   \n",
      "\n",
      "       Categoria_IMC  \n",
      "0          Sobrepeso  \n",
      "1          Sobrepeso  \n",
      "2        Peso normal  \n",
      "3        Peso normal  \n",
      "4              Obeso  \n",
      "...              ...  \n",
      "1998  Valor Inválido  \n",
      "1999           Obeso  \n",
      "2000     Peso normal  \n",
      "2001     Peso normal  \n",
      "2002       Sobrepeso  \n",
      "\n",
      "[2003 rows x 8 columns]\n"
     ]
    }
   ],
   "source": [
    "# Obtém a largura do terminal - uso mais embaixo nos prints\n",
    "terminal_width = os.get_terminal_size().columns\n",
    "\n",
    "dados = pd.read_csv('../planilhas/2_dados_aleatorios_sobre_original.csv', encoding='latin-1')\n",
    "\n",
    "# Aplicar a função para categorizar IMC e criar uma nova coluna 'Categoria_IMC'\n",
    "dados['Categoria_IMC'] = dados['IMC'].apply(categorizar_imc)\n",
    "\n",
    "print(dados)"
   ]
  },
  {
   "cell_type": "markdown",
   "id": "eebb4b2f-58ca-4fa7-97d1-af96eb7d266d",
   "metadata": {},
   "source": [
    "**2. Limpeza de Dados**"
   ]
  },
  {
   "cell_type": "code",
   "execution_count": 5,
   "id": "7be726d7-f49f-4115-9c22-9bf83b87f4bf",
   "metadata": {},
   "outputs": [
    {
     "name": "stdout",
     "output_type": "stream",
     "text": [
      "      Idade     Gênero    IMC  Filhos Fumante    Região  Encargos  \\\n",
      "0        56   feminino  29.77       2     sim  sudoeste  31109.89   \n",
      "1        46  masculino  25.86       1     não  nordeste  26650.70   \n",
      "2        32  masculino  23.01       0     não  sudoeste  21459.04   \n",
      "3        40   feminino  21.51       1     não  noroeste  29513.47   \n",
      "4        35   feminino  30.34       0     sim  sudoeste  24925.01   \n",
      "...     ...        ...    ...     ...     ...       ...       ...   \n",
      "1997     23   feminino  29.45       0     sim  noroeste  15843.09   \n",
      "1999     36   feminino  31.84       3     sim  nordeste  24787.02   \n",
      "2000     48  masculino  20.75       2     sim   sudeste  33152.85   \n",
      "2001     74  masculino  19.99       2     não  nordeste  43367.61   \n",
      "2002     46   feminino  29.59       1     não  noroeste  28691.27   \n",
      "\n",
      "     Categoria_IMC  \n",
      "0        Sobrepeso  \n",
      "1        Sobrepeso  \n",
      "2      Peso normal  \n",
      "3      Peso normal  \n",
      "4            Obeso  \n",
      "...            ...  \n",
      "1997     Sobrepeso  \n",
      "1999         Obeso  \n",
      "2000   Peso normal  \n",
      "2001   Peso normal  \n",
      "2002     Sobrepeso  \n",
      "\n",
      "[1803 rows x 8 columns]\n"
     ]
    }
   ],
   "source": [
    "# Remover linhas com valores NaN\n",
    "dados = dados.dropna()\n",
    "\n",
    "# Substituir valores nulos por zero\n",
    "dados['Filhos'] = dados['Filhos'].fillna(0)\n",
    "dados['Filhos'] = dados['Filhos'].astype(int)\n",
    "dados['Idade'] = dados['Idade'].fillna(0)\n",
    "dados['Idade'] = dados['Idade'].astype(int)\n",
    "dados['Encargos'] = dados['Encargos'].fillna(0)\n",
    "\n",
    "dados['Gênero'] = dados['Gênero'].str.replace('nan', 'Não informado')\n",
    "\n",
    "print(dados)"
   ]
  },
  {
   "cell_type": "markdown",
   "id": "ad26fe86-4dd4-488f-90ee-3a86ac237459",
   "metadata": {},
   "source": [
    "**3. Pré-processamento**"
   ]
  },
  {
   "cell_type": "code",
   "execution_count": 6,
   "id": "969de9b6-fa98-4951-b1b6-cfb5ea261c58",
   "metadata": {},
   "outputs": [
    {
     "name": "stdout",
     "output_type": "stream",
     "text": [
      "      Idade  Gênero    IMC  Filhos  Fumante  Categoria_IMC  Região_noroeste  \\\n",
      "0        56       0  29.77       2        1              3              0.0   \n",
      "1        46       1  25.86       1        0              3              0.0   \n",
      "2        32       1  23.01       0        0              2              0.0   \n",
      "3        40       0  21.51       1        0              2              1.0   \n",
      "4        35       0  30.34       0        1              1              0.0   \n",
      "...     ...     ...    ...     ...      ...            ...              ...   \n",
      "1997     23       0  29.45       0        1              3              1.0   \n",
      "1999     36       0  31.84       3        1              1              0.0   \n",
      "2000     48       1  20.75       2        1              2              0.0   \n",
      "2001     74       1  19.99       2        0              2              0.0   \n",
      "2002     46       0  29.59       1        0              3              1.0   \n",
      "\n",
      "      Região_sudeste  Região_sudoeste  \n",
      "0                0.0              1.0  \n",
      "1                0.0              0.0  \n",
      "2                0.0              1.0  \n",
      "3                0.0              0.0  \n",
      "4                0.0              1.0  \n",
      "...              ...              ...  \n",
      "1997             0.0              0.0  \n",
      "1999             0.0              0.0  \n",
      "2000             1.0              0.0  \n",
      "2001             0.0              0.0  \n",
      "2002             0.0              0.0  \n",
      "\n",
      "[1803 rows x 9 columns]\n"
     ]
    }
   ],
   "source": [
    "# Dividir os dados em features (X) e target (y)\n",
    "X = dados.drop(['Encargos'], axis=1)  # descartando colunas não necessárias para o teste\n",
    "y = dados['Encargos']\n",
    "\n",
    "# Codificar variáveis categóricas usando one-hot encoding\n",
    "colunas_codificadas_via_one_hot = ['Região']\n",
    "encoder = OneHotEncoder(drop='first')\n",
    "X_encoded = encoder.fit_transform(X[colunas_codificadas_via_one_hot])\n",
    "\n",
    "# Concatenar features codificadas com as restantes\n",
    "X_encoded = pd.DataFrame(X_encoded.toarray(), columns=encoder.get_feature_names_out(colunas_codificadas_via_one_hot), index=X.index)\n",
    "X = pd.concat([X.drop(colunas_codificadas_via_one_hot, axis=1), X_encoded], axis=1)\n",
    "\n",
    "# Codificar variáveis com LabelEncoder\n",
    "label_encoder = LabelEncoder()\n",
    "X['Categoria_IMC'] = label_encoder.fit_transform(X['Categoria_IMC'])\n",
    "X['Gênero'] = label_encoder.fit_transform(X['Gênero'])\n",
    "X['Fumante'] = label_encoder.fit_transform(X['Fumante'])\n",
    "\n",
    "# Substituir valores 'sim' e 'não' por 1 e 0 (comentei porque o resultado é o mesmo no LabelEncoder\n",
    "#X['Fumante'] = X['Fumante'].map({'sim': 1, 'não': 0})\n",
    "\n",
    "print(X)"
   ]
  },
  {
   "cell_type": "code",
   "execution_count": 7,
   "id": "a17d1075-c010-4b2d-bb6a-1f63dc89cd3f",
   "metadata": {},
   "outputs": [
    {
     "name": "stdout",
     "output_type": "stream",
     "text": [
      "Visualizar a matriz de correlação:\n",
      "                    Idade    Gênero       IMC    Filhos   Fumante  \\\n",
      "Idade            1.000000 -0.008082  0.011023  0.002965  0.010998   \n",
      "Gênero          -0.008082  1.000000  0.017750  0.066610 -0.000096   \n",
      "IMC              0.011023  0.017750  1.000000 -0.055861  0.049012   \n",
      "Filhos           0.002965  0.066610 -0.055861  1.000000  0.030299   \n",
      "Fumante          0.010998 -0.000096  0.049012  0.030299  1.000000   \n",
      "Categoria_IMC   -0.017933  0.004381 -0.228550 -0.013393 -0.036806   \n",
      "Região_noroeste -0.028351  0.016284 -0.041607 -0.006568 -0.034140   \n",
      "Região_sudeste  -0.002943  0.014352  0.041544 -0.010253  0.062902   \n",
      "Região_sudoeste  0.029102 -0.027278 -0.004542 -0.010261  0.008973   \n",
      "\n",
      "                 Categoria_IMC  Região_noroeste  Região_sudeste  \\\n",
      "Idade                -0.017933        -0.028351       -0.002943   \n",
      "Gênero                0.004381         0.016284        0.014352   \n",
      "IMC                  -0.228550        -0.041607        0.041544   \n",
      "Filhos               -0.013393        -0.006568       -0.010253   \n",
      "Fumante              -0.036806        -0.034140        0.062902   \n",
      "Categoria_IMC         1.000000         0.007907       -0.010312   \n",
      "Região_noroeste       0.007907         1.000000       -0.327114   \n",
      "Região_sudeste       -0.010312        -0.327114        1.000000   \n",
      "Região_sudoeste       0.039985        -0.323508       -0.333940   \n",
      "\n",
      "                 Região_sudoeste  \n",
      "Idade                   0.029102  \n",
      "Gênero                 -0.027278  \n",
      "IMC                    -0.004542  \n",
      "Filhos                 -0.010261  \n",
      "Fumante                 0.008973  \n",
      "Categoria_IMC           0.039985  \n",
      "Região_noroeste        -0.323508  \n",
      "Região_sudeste         -0.333940  \n",
      "Região_sudoeste         1.000000  \n"
     ]
    }
   ],
   "source": [
    "# Dividir os dados em conjuntos de treinamento e teste\n",
    "X_train, X_test, y_train, y_test = train_test_split(X, y, test_size=0.2, random_state=7)\n",
    "\n",
    "# Inicializar o StandardScaler, que é usado para padronizar os recursos\n",
    "scaler = StandardScaler()\n",
    "\n",
    "# Aplicar a transformação de padronização nos dados de treinamento e ajustar o scaler aos dados\n",
    "X_train_scaled = scaler.fit_transform(X_train)\n",
    "\n",
    "# Aplicar a mesma transformação de padronização aos dados de teste\n",
    "X_test_scaled = scaler.transform(X_test)\n",
    "\n",
    "# Calcular a matriz de correlação dos dados de treinamento\n",
    "correlation_matrix = X_train.corr()\n",
    "print('Visualizar a matriz de correlação:')\n",
    "print(correlation_matrix)"
   ]
  },
  {
   "cell_type": "markdown",
   "id": "464d0f57-fd29-48b2-a59e-42e36e34e72d",
   "metadata": {},
   "source": [
    "**Validação estatística**"
   ]
  },
  {
   "cell_type": "markdown",
   "id": "64155550-918c-4280-b673-b8eb7e920084",
   "metadata": {},
   "source": [
    "Utilizando métricas estatísticas para validar a eficácia do modelo (p-value, intervalos de confiança):            "
   ]
  },
  {
   "cell_type": "code",
   "execution_count": 8,
   "id": "41e44b40-d5be-4983-8bf9-ed753892fcc1",
   "metadata": {},
   "outputs": [
    {
     "name": "stdout",
     "output_type": "stream",
     "text": [
      "P-values dos coeficientes:\n",
      "Idade      0.000000e+00\n",
      "Filhos     4.653095e-34\n",
      "Fumante    3.333993e-11\n",
      "Name: P>|t|, dtype: float64\n",
      "\n",
      "Intervalos de Confiança dos coeficientes:\n",
      "              0        1\n",
      "Idade    576.44   586.00\n",
      "Filhos   647.18   889.83\n",
      "Fumante  674.79  1236.61\n"
     ]
    }
   ],
   "source": [
    "dados_aux = dados.copy()\n",
    "\n",
    "dados_aux['Fumante'] = dados_aux['Fumante'].map({'sim': 1, 'não': 0})\n",
    "\n",
    "# Adicione uma coluna de intercepto aos dados\n",
    "dados_aux['Intercepto'] = 1\n",
    "\n",
    "# Dividindo os dados em variáveis independentes (X) e variável dependente (y)\n",
    "X = dados_aux[['Idade', 'Filhos', 'Fumante']]\n",
    "y = dados_aux['Encargos']\n",
    "\n",
    "# Ajustando o modelo de regressão linear usando OLS (Ordinary Least Squares)\n",
    "modelo = sm.OLS(y, X).fit()\n",
    "\n",
    "# Calculando os p-values dos coeficientes\n",
    "p_values = modelo.summary2().tables[1]['P>|t|']\n",
    "\n",
    "# Calculando os intervalos de confiança dos coeficientes\n",
    "conf_intervals = modelo.conf_int()\n",
    "\n",
    "# Imprima os resultados\n",
    "print(\"P-values dos coeficientes:\")\n",
    "print(p_values)\n",
    "print(\"\\nIntervalos de Confiança dos coeficientes:\")\n",
    "print(round(conf_intervals,2))"
   ]
  },
  {
   "cell_type": "markdown",
   "id": "d97c5862-6ad0-4e20-9e49-a447bfaa48c2",
   "metadata": {},
   "source": [
    "**4. Treinamento do Modelo**"
   ]
  },
  {
   "cell_type": "code",
   "execution_count": 9,
   "id": "be67531c-1538-4d5e-858f-7ab5406ffd2e",
   "metadata": {},
   "outputs": [
    {
     "name": "stdout",
     "output_type": "stream",
     "text": [
      "--------------------------------------------------------------------------------------------------------------------------------------------------------------\n",
      "Random Forest Regressor MSE: 8947601.49\n",
      "Acurácia média com validação cruzada para Random Forest Regressor: 0.91\n",
      "Importância das características para Random Forest Regressor:\n",
      "           Colunas  Importância\n",
      "0            Idade         0.93\n",
      "2              IMC         0.03\n",
      "3           Filhos         0.01\n",
      "4          Fumante         0.00\n",
      "1           Gênero         0.00\n",
      "7   Região_sudeste         0.00\n",
      "8  Região_sudoeste         0.00\n",
      "6  Região_noroeste         0.00\n",
      "5    Categoria_IMC         0.00\n",
      "--------------------------------------------------------------------------------------------------------------------------------------------------------------\n",
      "Linear Regression MSE: 7399729.94\n",
      "Acurácia média com validação cruzada para Linear Regression: 0.92\n",
      "Coeficientes das características para Linear Regression:\n",
      "           Colunas  Coeficiente\n",
      "0            Idade       502.65\n",
      "3           Filhos       155.95\n",
      "4          Fumante       109.47\n",
      "2              IMC        -0.46\n",
      "5    Categoria_IMC       -18.21\n",
      "1           Gênero       -47.08\n",
      "8  Região_sudoeste      -177.02\n",
      "6  Região_noroeste      -177.28\n",
      "7   Região_sudeste      -284.62\n",
      "--------------------------------------------------------------------------------------------------------------------------------------------------------------\n",
      "Support Vector Regression MSE: 83943679.55\n",
      "Acurácia média com validação cruzada para Support Vector Regression: 0.02\n",
      "Importância das características para Support Vector Regression:\n",
      "                         Colunas  Importância\n",
      "Idade                      Idade        48.76\n",
      "IMC                          IMC        26.43\n",
      "Categoria_IMC      Categoria_IMC         1.92\n",
      "Filhos                    Filhos         1.51\n",
      "Fumante                  Fumante         0.52\n",
      "Gênero                    Gênero         0.50\n",
      "Região_sudeste    Região_sudeste         0.25\n",
      "Região_sudoeste  Região_sudoeste         0.25\n",
      "Região_noroeste  Região_noroeste         0.24\n",
      "--------------------------------------------------------------------------------------------------------------------------------------------------------------\n",
      "Decision Tree Regressor MSE: 15335059.35\n",
      "Acurácia média com validação cruzada para Decision Tree Regressor: 0.84\n",
      "Importância das características para Decision Tree Regressor:\n",
      "           Colunas  Importância\n",
      "0            Idade         0.93\n",
      "2              IMC         0.04\n",
      "3           Filhos         0.01\n",
      "1           Gênero         0.00\n",
      "4          Fumante         0.00\n",
      "8  Região_sudoeste         0.00\n",
      "6  Região_noroeste         0.00\n",
      "5    Categoria_IMC         0.00\n",
      "7   Região_sudeste         0.00\n",
      "--------------------------------------------------------------------------------------------------------------------------------------------------------------\n",
      "K-Nearest Neighbors Regressor MSE: 9414196.75\n",
      "Acurácia média com validação cruzada para K-Nearest Neighbors Regressor: 0.91\n",
      "Não é possível calcular a importância das características para o modelo K-Nearest Neighbors Regressor\n",
      "--------------------------------------------------------------------------------------------------------------------------------------------------------------\n",
      "Gradient Boosting Regressor MSE: 7477075.0\n",
      "Acurácia média com validação cruzada para Gradient Boosting Regressor: 0.92\n",
      "Importância das características para Gradient Boosting Regressor:\n",
      "           Colunas  Importância\n",
      "0            Idade         0.99\n",
      "2              IMC         0.01\n",
      "3           Filhos         0.00\n",
      "7   Região_sudeste         0.00\n",
      "1           Gênero         0.00\n",
      "4          Fumante         0.00\n",
      "8  Região_sudoeste         0.00\n",
      "6  Região_noroeste         0.00\n",
      "5    Categoria_IMC         0.00\n"
     ]
    }
   ],
   "source": [
    "# Adicionando mais modelos ao dicionário de modelos\n",
    "models = {\n",
    "    'Random Forest Regressor': RandomForestRegressor(),\n",
    "    'Linear Regression': LinearRegression(),\n",
    "    'Support Vector Regression': SVR(),\n",
    "    'Decision Tree Regressor': DecisionTreeRegressor(),\n",
    "    'K-Nearest Neighbors Regressor': KNeighborsRegressor(),\n",
    "    'Gradient Boosting Regressor': GradientBoostingRegressor()\n",
    "}\n",
    "\n",
    "# Treinamento e avaliação dos modelos\n",
    "for name, model in models.items():\n",
    "    model.fit(X_train, y_train)\n",
    "    y_pred = model.predict(X_test)\n",
    "    mse = mean_squared_error(y_test, y_pred)\n",
    "\n",
    "    # Imprime uma linha separadora com base na largura do terminal\n",
    "    print('-' * terminal_width)\n",
    "    print(f'{name} MSE: {round(mse,2)}')\n",
    "    # Calcular acurácia média usando validação cruzada\n",
    "    scores = cross_val_score(model, X_train, y_train, cv=5)\n",
    "    print(f'Acurácia média com validação cruzada para {name}: {round(scores.mean(),2)}')\n",
    "    \n",
    "    # Calcula e exibe a importância das características para o modelo atual\n",
    "    if hasattr(model, 'feature_importances_'):\n",
    "        importance_df = pd.DataFrame({'Colunas': X_train.columns, 'Importância': model.feature_importances_})\n",
    "        importance_df = importance_df.sort_values(by='Importância', ascending=False)\n",
    "        print(f\"Importância das características para {name}:\")\n",
    "        print(round(importance_df,2))\n",
    "    elif isinstance(model, LinearRegression):\n",
    "        importance_df = pd.DataFrame({'Colunas': X_train.columns, 'Coeficiente': model.coef_})\n",
    "        importance_df = importance_df.sort_values(by='Coeficiente', ascending=False)\n",
    "        print(f\"Coeficientes das características para {name}:\")\n",
    "        print(round(importance_df,2))\n",
    "    elif isinstance(model, SVR):\n",
    "        support_indices = model.support_\n",
    "        support_features = X_train.iloc[support_indices]\n",
    "        feature_importance_svr = support_features.mean(axis=0)\n",
    "        importance_df = pd.DataFrame({'Colunas': X_train.columns, 'Importância': feature_importance_svr})\n",
    "        importance_df = importance_df.sort_values(by='Importância', ascending=False)\n",
    "        print(f\"Importância das características para {name}:\")\n",
    "        print(round(importance_df,2))\n",
    "    else:\n",
    "        print(f\"Não é possível calcular a importância das características para o modelo {name}\")"
   ]
  },
  {
   "cell_type": "markdown",
   "id": "48fb4ff9-f2ce-4114-bc95-28f313d6690f",
   "metadata": {},
   "source": [
    "**5. Comparação de Modelos**"
   ]
  },
  {
   "cell_type": "code",
   "execution_count": 10,
   "id": "955fbdea-faea-4285-8298-76b32a8bd648",
   "metadata": {},
   "outputs": [],
   "source": [
    "# Seleção de modelo com base na menor pontuação de validação cruzada\n",
    "best_model_name = min(models, key=lambda model: cross_val_score(models[model], X_train, y_train, cv=5).mean())"
   ]
  },
  {
   "cell_type": "markdown",
   "id": "d9684717-7ac2-4c36-a697-1f3a72d85d51",
   "metadata": {},
   "source": [
    "**6. Seleção de Modelo**"
   ]
  },
  {
   "cell_type": "code",
   "execution_count": 11,
   "id": "16947f1b-a506-4540-9068-99f278e9d558",
   "metadata": {},
   "outputs": [
    {
     "name": "stdout",
     "output_type": "stream",
     "text": [
      "Best Model: Support Vector Regression\n"
     ]
    }
   ],
   "source": [
    "best_model = models[best_model_name]\n",
    "print(f'Best Model: {best_model_name}')"
   ]
  },
  {
   "cell_type": "markdown",
   "id": "eb2c235a-b688-4d6b-8820-de8a50e3e4a8",
   "metadata": {},
   "source": [
    "**7. Otimização de Modelo**"
   ]
  },
  {
   "cell_type": "code",
   "execution_count": 12,
   "id": "e36479d9-807c-4862-bcd6-a1b06426edce",
   "metadata": {},
   "outputs": [
    {
     "name": "stderr",
     "output_type": "stream",
     "text": [
      "[I 2024-04-10 11:29:35,802] A new study created in memory with name: no-name-2e5b70a1-4c50-4147-b806-e8746b889134\n",
      "C:\\Users\\luiz.santos\\AppData\\Local\\Temp\\ipykernel_39120\\2137076851.py:20: FutureWarning: suggest_loguniform has been deprecated in v3.0.0. This feature will be removed in v6.0.0. See https://github.com/optuna/optuna/releases/tag/v3.0.0. Use suggest_float(..., log=True) instead.\n",
      "  C = trial.suggest_loguniform('C', 1e-3, 1e3)\n",
      "C:\\Users\\luiz.santos\\AppData\\Local\\Temp\\ipykernel_39120\\2137076851.py:21: FutureWarning: suggest_loguniform has been deprecated in v3.0.0. This feature will be removed in v6.0.0. See https://github.com/optuna/optuna/releases/tag/v3.0.0. Use suggest_float(..., log=True) instead.\n",
      "  epsilon = trial.suggest_loguniform('epsilon', 1e-3, 1e1)\n",
      "[I 2024-04-10 11:29:38,085] Trial 0 finished with value: -7733677.406283986 and parameters: {'C': 625.9916388635364, 'epsilon': 1.056444030126439, 'kernel': 'rbf'}. Best is trial 0 with value: -7733677.406283986.\n",
      "[I 2024-04-10 11:29:39,803] Trial 1 finished with value: -11909004.534877261 and parameters: {'C': 109.9837783619824, 'epsilon': 7.60476053753152, 'kernel': 'rbf'}. Best is trial 1 with value: -11909004.534877261.\n",
      "[I 2024-04-10 11:29:41,736] Trial 2 finished with value: -15588418.107796947 and parameters: {'C': 19.691084043768377, 'epsilon': 0.276668857835329, 'kernel': 'poly'}. Best is trial 2 with value: -15588418.107796947.\n",
      "[I 2024-04-10 11:29:41,818] Trial 3 finished with value: -51002412.791542105 and parameters: {'C': 2.517075335649575, 'epsilon': 1.137133603504527, 'kernel': 'poly'}. Best is trial 3 with value: -51002412.791542105.\n",
      "[I 2024-04-10 11:29:41,911] Trial 4 finished with value: -69920242.84697782 and parameters: {'C': 0.004300515503205106, 'epsilon': 0.06895993470875728, 'kernel': 'linear'}. Best is trial 4 with value: -69920242.84697782.\n",
      "[I 2024-04-10 11:29:42,009] Trial 5 finished with value: -13000919.229793591 and parameters: {'C': 262.5167633641977, 'epsilon': 0.20710445454538637, 'kernel': 'poly'}. Best is trial 4 with value: -69920242.84697782.\n",
      "[I 2024-04-10 11:29:42,097] Trial 6 finished with value: -88540275.92853314 and parameters: {'C': 0.009520129031906572, 'epsilon': 0.13101971426243705, 'kernel': 'poly'}. Best is trial 6 with value: -88540275.92853314.\n",
      "[I 2024-04-10 11:29:42,176] Trial 7 finished with value: -45096733.74289417 and parameters: {'C': 0.01149739417423849, 'epsilon': 0.2442666696967778, 'kernel': 'linear'}. Best is trial 6 with value: -88540275.92853314.\n",
      "[I 2024-04-10 11:29:42,257] Trial 8 finished with value: -79977484.07367317 and parameters: {'C': 0.0019242175952528494, 'epsilon': 0.0018687505761161066, 'kernel': 'linear'}. Best is trial 6 with value: -88540275.92853314.\n",
      "[I 2024-04-10 11:29:42,337] Trial 9 finished with value: -27028711.069666397 and parameters: {'C': 6.189600310981125, 'epsilon': 0.09114710559219481, 'kernel': 'poly'}. Best is trial 6 with value: -88540275.92853314.\n",
      "[I 2024-04-10 11:29:42,436] Trial 10 finished with value: -86977581.09915692 and parameters: {'C': 0.09363742440267778, 'epsilon': 0.009372294397247615, 'kernel': 'poly'}. Best is trial 6 with value: -88540275.92853314.\n",
      "[I 2024-04-10 11:29:42,535] Trial 11 finished with value: -87194556.13732973 and parameters: {'C': 0.08178105743983072, 'epsilon': 0.008526999894695244, 'kernel': 'poly'}. Best is trial 6 with value: -88540275.92853314.\n",
      "[I 2024-04-10 11:29:42,627] Trial 12 finished with value: -87128275.31267577 and parameters: {'C': 0.08540069572823297, 'epsilon': 0.014295590726379504, 'kernel': 'poly'}. Best is trial 6 with value: -88540275.92853314.\n",
      "[I 2024-04-10 11:29:42,717] Trial 13 finished with value: -85987004.84204058 and parameters: {'C': 0.14866818912103824, 'epsilon': 0.0010563670151356975, 'kernel': 'poly'}. Best is trial 6 with value: -88540275.92853314.\n",
      "[I 2024-04-10 11:29:42,805] Trial 14 finished with value: -88185782.7052831 and parameters: {'C': 0.028761641579530324, 'epsilon': 0.014453102329426138, 'kernel': 'poly'}. Best is trial 6 with value: -88540275.92853314.\n",
      "[I 2024-04-10 11:29:42,963] Trial 15 finished with value: -88669387.3639706 and parameters: {'C': 0.019512000566248817, 'epsilon': 0.027909409104153998, 'kernel': 'rbf'}. Best is trial 15 with value: -88669387.3639706.\n",
      "[I 2024-04-10 11:29:43,132] Trial 16 finished with value: -88712770.50803436 and parameters: {'C': 0.0010540715113522823, 'epsilon': 0.04378049499371675, 'kernel': 'rbf'}. Best is trial 16 with value: -88712770.50803436.\n",
      "[I 2024-04-10 11:29:43,310] Trial 17 finished with value: -88712827.68674459 and parameters: {'C': 0.0010297477402563709, 'epsilon': 0.03784535038893014, 'kernel': 'rbf'}. Best is trial 17 with value: -88712827.68674459.\n",
      "[I 2024-04-10 11:29:43,486] Trial 18 finished with value: -88712857.61182682 and parameters: {'C': 0.0010170176414354161, 'epsilon': 0.003982771959841254, 'kernel': 'rbf'}. Best is trial 18 with value: -88712857.61182682.\n",
      "[I 2024-04-10 11:29:43,657] Trial 19 finished with value: -87433974.9470019 and parameters: {'C': 0.5408193979552222, 'epsilon': 0.003650481314858812, 'kernel': 'rbf'}. Best is trial 18 with value: -88712857.61182682.\n",
      "[I 2024-04-10 11:29:43,832] Trial 20 finished with value: -88707300.36984484 and parameters: {'C': 0.0033811078773083323, 'epsilon': 0.0028838309465466236, 'kernel': 'rbf'}. Best is trial 18 with value: -88712857.61182682.\n",
      "[I 2024-04-10 11:29:43,997] Trial 21 finished with value: -88711756.37930219 and parameters: {'C': 0.001485482549490826, 'epsilon': 0.0350333197451351, 'kernel': 'rbf'}. Best is trial 18 with value: -88712857.61182682.\n",
      "[I 2024-04-10 11:29:44,193] Trial 22 finished with value: -88712758.56520097 and parameters: {'C': 0.001059151982987787, 'epsilon': 0.03258628837813799, 'kernel': 'rbf'}. Best is trial 18 with value: -88712857.61182682.\n",
      "[I 2024-04-10 11:29:44,369] Trial 23 finished with value: -88705190.57633777 and parameters: {'C': 0.00427865287963644, 'epsilon': 0.004684529610573005, 'kernel': 'rbf'}. Best is trial 18 with value: -88712857.61182682.\n",
      "[I 2024-04-10 11:29:44,530] Trial 24 finished with value: -88712560.03131227 and parameters: {'C': 0.0011436081997248076, 'epsilon': 0.047107807647956884, 'kernel': 'rbf'}. Best is trial 18 with value: -88712857.61182682.\n",
      "[I 2024-04-10 11:29:44,700] Trial 25 finished with value: -87466090.80414309 and parameters: {'C': 0.5270373331810356, 'epsilon': 0.47630756000646157, 'kernel': 'rbf'}. Best is trial 18 with value: -88712857.61182682.\n",
      "[I 2024-04-10 11:29:44,868] Trial 26 finished with value: -88700562.943098 and parameters: {'C': 0.006247379234470752, 'epsilon': 0.020249494132631083, 'kernel': 'rbf'}. Best is trial 18 with value: -88712857.61182682.\n",
      "[I 2024-04-10 11:29:45,013] Trial 27 finished with value: -88636170.98639563 and parameters: {'C': 0.033648099313056574, 'epsilon': 0.006417135286624521, 'kernel': 'rbf'}. Best is trial 18 with value: -88712857.61182682.\n",
      "[I 2024-04-10 11:29:45,187] Trial 28 finished with value: -88708465.50197174 and parameters: {'C': 0.0028854448447601464, 'epsilon': 0.0011695509437592364, 'kernel': 'rbf'}. Best is trial 18 with value: -88712857.61182682.\n",
      "[I 2024-04-10 11:29:45,349] Trial 29 finished with value: -88687601.43667024 and parameters: {'C': 0.011761907684271307, 'epsilon': 1.0603401206818936, 'kernel': 'rbf'}. Best is trial 18 with value: -88712857.61182682.\n",
      "[I 2024-04-10 11:29:45,425] Trial 30 finished with value: -83789508.98347934 and parameters: {'C': 0.0010743011362786391, 'epsilon': 2.9834100802671393, 'kernel': 'linear'}. Best is trial 18 with value: -88712857.61182682.\n",
      "[I 2024-04-10 11:29:45,576] Trial 31 finished with value: -88712689.20678028 and parameters: {'C': 0.0010886570071578447, 'epsilon': 0.06501373248301351, 'kernel': 'rbf'}. Best is trial 18 with value: -88712857.61182682.\n",
      "[I 2024-04-10 11:29:45,733] Trial 32 finished with value: -88705877.56549951 and parameters: {'C': 0.0039863936005205295, 'epsilon': 0.02611237159089013, 'kernel': 'rbf'}. Best is trial 18 with value: -88712857.61182682.\n",
      "[I 2024-04-10 11:29:45,891] Trial 33 finished with value: -88709223.30133648 and parameters: {'C': 0.00256306885044726, 'epsilon': 0.4886217198651834, 'kernel': 'rbf'}. Best is trial 18 with value: -88712857.61182682.\n",
      "[I 2024-04-10 11:29:46,055] Trial 34 finished with value: -13625344.375655042 and parameters: {'C': 86.71773459915862, 'epsilon': 0.10838642984503644, 'kernel': 'rbf'}. Best is trial 18 with value: -88712857.61182682.\n",
      "[I 2024-04-10 11:29:46,231] Trial 35 finished with value: -88695657.8197499 and parameters: {'C': 0.008334226700190463, 'epsilon': 0.042634127520789745, 'kernel': 'rbf'}. Best is trial 18 with value: -88712857.61182682.\n",
      "[I 2024-04-10 11:29:46,401] Trial 36 finished with value: -88712885.76810502 and parameters: {'C': 0.001005039992428583, 'epsilon': 0.013818384312473312, 'kernel': 'rbf'}. Best is trial 36 with value: -88712885.76810502.\n",
      "[I 2024-04-10 11:29:46,573] Trial 37 finished with value: -88709810.78245132 and parameters: {'C': 0.0023131492354045743, 'epsilon': 0.015446982076816796, 'kernel': 'rbf'}. Best is trial 36 with value: -88712885.76810502.\n",
      "[I 2024-04-10 11:29:46,856] Trial 38 finished with value: -7166015.147554751 and parameters: {'C': 640.7897863586578, 'epsilon': 0.007933879502809434, 'kernel': 'linear'}. Best is trial 36 with value: -88712885.76810502.\n",
      "[I 2024-04-10 11:29:47,055] Trial 39 finished with value: -88664129.25131689 and parameters: {'C': 0.02174951102915626, 'epsilon': 0.0023269819927604664, 'kernel': 'rbf'}. Best is trial 36 with value: -88712885.76810502.\n",
      "[I 2024-04-10 11:29:47,227] Trial 40 finished with value: -78044633.55662091 and parameters: {'C': 4.708920156625826, 'epsilon': 0.004912436467106697, 'kernel': 'rbf'}. Best is trial 36 with value: -88712885.76810502.\n",
      "[I 2024-04-10 11:29:47,386] Trial 41 finished with value: -88711119.12773918 and parameters: {'C': 0.0017565713402994375, 'epsilon': 0.057639026044497506, 'kernel': 'rbf'}. Best is trial 36 with value: -88712885.76810502.\n",
      "[I 2024-04-10 11:29:47,577] Trial 42 finished with value: -88698999.7207049 and parameters: {'C': 0.006912432622262865, 'epsilon': 0.15750012297469312, 'kernel': 'rbf'}. Best is trial 36 with value: -88712885.76810502.\n",
      "[I 2024-04-10 11:29:47,760] Trial 43 finished with value: -88712820.28903066 and parameters: {'C': 0.001032894720427725, 'epsilon': 0.012633445469992824, 'kernel': 'rbf'}. Best is trial 36 with value: -88712885.76810502.\n",
      "[I 2024-04-10 11:29:47,945] Trial 44 finished with value: -88703422.82991493 and parameters: {'C': 0.005030694861657164, 'epsilon': 0.00972744329771799, 'kernel': 'rbf'}. Best is trial 36 with value: -88712885.76810502.\n",
      "[I 2024-04-10 11:29:48,047] Trial 45 finished with value: -78249226.38247956 and parameters: {'C': 0.00231584990200911, 'epsilon': 0.021086214280214996, 'kernel': 'linear'}. Best is trial 36 with value: -88712885.76810502.\n",
      "[I 2024-04-10 11:29:48,216] Trial 46 finished with value: -88679101.86001976 and parameters: {'C': 0.015378358043456315, 'epsilon': 0.014082831169144034, 'kernel': 'rbf'}. Best is trial 36 with value: -88712885.76810502.\n",
      "[I 2024-04-10 11:29:48,397] Trial 47 finished with value: -21553275.28708295 and parameters: {'C': 51.52171823400655, 'epsilon': 0.0017479381231972724, 'kernel': 'rbf'}. Best is trial 36 with value: -88712885.76810502.\n",
      "[I 2024-04-10 11:29:48,480] Trial 48 finished with value: -11043338.82120706 and parameters: {'C': 0.054483287851660116, 'epsilon': 0.005686608549151384, 'kernel': 'linear'}. Best is trial 36 with value: -88712885.76810502.\n",
      "[I 2024-04-10 11:29:48,662] Trial 49 finished with value: -59398680.21601387 and parameters: {'C': 14.265094663777964, 'epsilon': 0.08393985671135772, 'kernel': 'rbf'}. Best is trial 36 with value: -88712885.76810502.\n",
      "[I 2024-04-10 11:29:48,887] Trial 50 finished with value: -88710426.92596029 and parameters: {'C': 0.002051037480060782, 'epsilon': 0.01294470072340597, 'kernel': 'rbf'}. Best is trial 36 with value: -88712885.76810502.\n",
      "[I 2024-04-10 11:29:49,067] Trial 51 finished with value: -88712879.80040723 and parameters: {'C': 0.0010075786441189887, 'epsilon': 0.032083223529914294, 'kernel': 'rbf'}. Best is trial 36 with value: -88712885.76810502.\n",
      "[I 2024-04-10 11:29:49,243] Trial 52 finished with value: -88712811.12640767 and parameters: {'C': 0.0010367924914558536, 'epsilon': 0.02045218772857591, 'kernel': 'rbf'}. Best is trial 36 with value: -88712885.76810502.\n",
      "[I 2024-04-10 11:29:49,428] Trial 53 finished with value: -88707126.33602066 and parameters: {'C': 0.0034551445736241498, 'epsilon': 0.020704944699515032, 'kernel': 'rbf'}. Best is trial 36 with value: -88712885.76810502.\n",
      "[I 2024-04-10 11:29:49,530] Trial 54 finished with value: -88684079.89031893 and parameters: {'C': 0.0016950417629681724, 'epsilon': 0.010076935825898194, 'kernel': 'poly'}. Best is trial 36 with value: -88712885.76810502.\n",
      "[I 2024-04-10 11:29:49,688] Trial 55 finished with value: -88699230.11563297 and parameters: {'C': 0.00681441353295855, 'epsilon': 0.003093098967407002, 'kernel': 'rbf'}. Best is trial 36 with value: -88712885.76810502.\n",
      "[I 2024-04-10 11:29:49,866] Trial 56 finished with value: -88710658.76267116 and parameters: {'C': 0.001952412812647811, 'epsilon': 0.02774259008950399, 'kernel': 'rbf'}. Best is trial 36 with value: -88712885.76810502.\n",
      "[I 2024-04-10 11:29:50,010] Trial 57 finished with value: -88712892.61649975 and parameters: {'C': 0.0010021266933924642, 'epsilon': 0.007547996833120491, 'kernel': 'rbf'}. Best is trial 57 with value: -88712892.61649975.\n",
      "[I 2024-04-10 11:29:50,120] Trial 58 finished with value: -88482103.83512206 and parameters: {'C': 0.012687697378073686, 'epsilon': 0.0040148512544198305, 'kernel': 'poly'}. Best is trial 57 with value: -88712892.61649975.\n",
      "[I 2024-04-10 11:29:50,276] Trial 59 finished with value: -88211213.14783804 and parameters: {'C': 0.2126496944227044, 'epsilon': 0.007341926757046987, 'kernel': 'rbf'}. Best is trial 57 with value: -88712892.61649975.\n",
      "[I 2024-04-10 11:29:50,427] Trial 60 finished with value: -88705544.37108219 and parameters: {'C': 0.004128141165456061, 'epsilon': 0.0015666492327263105, 'kernel': 'rbf'}. Best is trial 57 with value: -88712892.61649975.\n",
      "[I 2024-04-10 11:29:50,598] Trial 61 finished with value: -88711866.44034395 and parameters: {'C': 0.0014386623623041266, 'epsilon': 0.01041487855457519, 'kernel': 'rbf'}. Best is trial 57 with value: -88712892.61649975.\n",
      "[I 2024-04-10 11:29:50,786] Trial 62 finished with value: -88712738.71686246 and parameters: {'C': 0.001067595451026077, 'epsilon': 0.018806283269145498, 'kernel': 'rbf'}. Best is trial 57 with value: -88712892.61649975.\n",
      "[I 2024-04-10 11:29:50,971] Trial 63 finished with value: -88708878.539434 and parameters: {'C': 0.0027097340591848732, 'epsilon': 0.04327626817114404, 'kernel': 'rbf'}. Best is trial 57 with value: -88712892.61649975.\n",
      "[I 2024-04-10 11:29:51,154] Trial 64 finished with value: -88711532.82275634 and parameters: {'C': 0.0015805840609187686, 'epsilon': 0.033294900483483644, 'kernel': 'rbf'}. Best is trial 57 with value: -88712892.61649975.\n",
      "[I 2024-04-10 11:29:51,316] Trial 65 finished with value: -88702439.86596067 and parameters: {'C': 0.005448875432541225, 'epsilon': 0.006088766270733263, 'kernel': 'rbf'}. Best is trial 57 with value: -88712892.61649975.\n",
      "[I 2024-04-10 11:29:51,512] Trial 66 finished with value: -88708208.14186773 and parameters: {'C': 0.002994928984198987, 'epsilon': 0.011932077266175234, 'kernel': 'rbf'}. Best is trial 57 with value: -88712892.61649975.\n",
      "[I 2024-04-10 11:29:51,691] Trial 67 finished with value: -88712816.57723115 and parameters: {'C': 0.0010344737163692393, 'epsilon': 0.05536765934530709, 'kernel': 'rbf'}. Best is trial 57 with value: -88712892.61649975.\n",
      "[I 2024-04-10 11:29:51,778] Trial 68 finished with value: -81438298.09525949 and parameters: {'C': 0.0015898514274641437, 'epsilon': 8.9576315216656, 'kernel': 'linear'}. Best is trial 57 with value: -88712892.61649975.\n",
      "[I 2024-04-10 11:29:51,876] Trial 69 finished with value: -12884011.527213678 and parameters: {'C': 369.25766469711925, 'epsilon': 0.1839904561756246, 'kernel': 'poly'}. Best is trial 57 with value: -88712892.61649975.\n",
      "[I 2024-04-10 11:29:52,084] Trial 70 finished with value: -88705267.63772438 and parameters: {'C': 0.004245869315992986, 'epsilon': 0.07223396359396089, 'kernel': 'rbf'}. Best is trial 57 with value: -88712892.61649975.\n",
      "[I 2024-04-10 11:29:52,262] Trial 71 finished with value: -88712266.66341154 and parameters: {'C': 0.0012684069704410697, 'epsilon': 0.11189019356307363, 'kernel': 'rbf'}. Best is trial 57 with value: -88712892.61649975.\n",
      "[I 2024-04-10 11:29:52,432] Trial 72 finished with value: -88712782.77315478 and parameters: {'C': 0.0010488539395344582, 'epsilon': 0.02505874512775674, 'kernel': 'rbf'}. Best is trial 57 with value: -88712892.61649975.\n",
      "[I 2024-04-10 11:29:52,631] Trial 73 finished with value: -88712888.5576849 and parameters: {'C': 0.0010038533084461099, 'epsilon': 0.05204512232272, 'kernel': 'rbf'}. Best is trial 57 with value: -88712892.61649975.\n",
      "[I 2024-04-10 11:29:52,812] Trial 74 finished with value: -84051042.80486019 and parameters: {'C': 2.017503044419872, 'epsilon': 0.05557668992925507, 'kernel': 'rbf'}. Best is trial 57 with value: -88712892.61649975.\n",
      "[I 2024-04-10 11:29:52,989] Trial 75 finished with value: -88709317.37140824 and parameters: {'C': 0.0025230505490292346, 'epsilon': 0.03525623430608863, 'kernel': 'rbf'}. Best is trial 57 with value: -88712892.61649975.\n",
      "[I 2024-04-10 11:29:53,149] Trial 76 finished with value: -88693831.29912709 and parameters: {'C': 0.009111324156508595, 'epsilon': 0.08547501323574264, 'kernel': 'rbf'}. Best is trial 57 with value: -88712892.61649975.\n",
      "[I 2024-04-10 11:29:53,321] Trial 77 finished with value: -88711255.72377487 and parameters: {'C': 0.001698462862383191, 'epsilon': 0.016347126332628345, 'kernel': 'rbf'}. Best is trial 57 with value: -88712892.61649975.\n",
      "[I 2024-04-10 11:29:53,504] Trial 78 finished with value: -88707258.37934373 and parameters: {'C': 0.0033989712815676383, 'epsilon': 0.04852455575933305, 'kernel': 'rbf'}. Best is trial 57 with value: -88712892.61649975.\n",
      "[I 2024-04-10 11:29:53,655] Trial 79 finished with value: -88710000.82795124 and parameters: {'C': 0.0022323024319892463, 'epsilon': 0.0027569314002182732, 'kernel': 'rbf'}. Best is trial 57 with value: -88712892.61649975.\n",
      "[I 2024-04-10 11:29:53,747] Trial 80 finished with value: -84108229.07620238 and parameters: {'C': 0.0010036775032022072, 'epsilon': 0.004075894716866922, 'kernel': 'linear'}. Best is trial 57 with value: -88712892.61649975.\n",
      "[I 2024-04-10 11:29:53,913] Trial 81 finished with value: -88711853.51855664 and parameters: {'C': 0.0014441593146206646, 'epsilon': 0.02429313841747158, 'kernel': 'rbf'}. Best is trial 57 with value: -88712892.61649975.\n",
      "[I 2024-04-10 11:29:54,064] Trial 82 finished with value: -88711788.29991452 and parameters: {'C': 0.0014719034535275158, 'epsilon': 0.035379916975793735, 'kernel': 'rbf'}. Best is trial 57 with value: -88712892.61649975.\n",
      "[I 2024-04-10 11:29:54,238] Trial 83 finished with value: -88702236.78408802 and parameters: {'C': 0.005535272540167708, 'epsilon': 0.06563051581591159, 'kernel': 'rbf'}. Best is trial 57 with value: -88712892.61649975.\n",
      "[I 2024-04-10 11:29:54,400] Trial 84 finished with value: -88712827.62927525 and parameters: {'C': 0.0010297721876445956, 'epsilon': 0.32445377784718266, 'kernel': 'rbf'}. Best is trial 57 with value: -88712892.61649975.\n",
      "[I 2024-04-10 11:29:54,557] Trial 85 finished with value: -88709965.62976079 and parameters: {'C': 0.002247276002305842, 'epsilon': 0.7393211387569585, 'kernel': 'rbf'}. Best is trial 57 with value: -88712892.61649975.\n",
      "[I 2024-04-10 11:29:54,737] Trial 86 finished with value: -88707413.41706456 and parameters: {'C': 0.0033330158791888055, 'epsilon': 0.23725629862047123, 'kernel': 'rbf'}. Best is trial 57 with value: -88712892.61649975.\n",
      "[I 2024-04-10 11:29:54,900] Trial 87 finished with value: -88710520.69535829 and parameters: {'C': 0.0020111474208712697, 'epsilon': 0.006831061816213507, 'kernel': 'rbf'}. Best is trial 57 with value: -88712892.61649975.\n",
      "[I 2024-04-10 11:29:55,100] Trial 88 finished with value: -88712874.58859491 and parameters: {'C': 0.0010097957431288369, 'epsilon': 0.0165074081188576, 'kernel': 'rbf'}. Best is trial 57 with value: -88712892.61649975.\n",
      "[I 2024-04-10 11:29:55,200] Trial 89 finished with value: -88661369.12315318 and parameters: {'C': 0.0029303479468239264, 'epsilon': 0.14126260111521513, 'kernel': 'poly'}. Best is trial 57 with value: -88712892.61649975.\n",
      "[I 2024-04-10 11:29:55,381] Trial 90 finished with value: -88711487.78466393 and parameters: {'C': 0.001599743395429399, 'epsilon': 1.869913030561908, 'kernel': 'rbf'}. Best is trial 57 with value: -88712892.61649975.\n",
      "[I 2024-04-10 11:29:55,560] Trial 91 finished with value: -88712809.70193726 and parameters: {'C': 0.0010373984598209965, 'epsilon': 0.008679508008750779, 'kernel': 'rbf'}. Best is trial 57 with value: -88712892.61649975.\n",
      "[I 2024-04-10 11:29:55,737] Trial 92 finished with value: -7585781.967816313 and parameters: {'C': 970.8763599585511, 'epsilon': 0.01658852994140803, 'kernel': 'rbf'}. Best is trial 57 with value: -88712892.61649975.\n",
      "[I 2024-04-10 11:29:55,907] Trial 93 finished with value: -88712057.02204622 and parameters: {'C': 0.0013575886096784924, 'epsilon': 0.012190391914385729, 'kernel': 'rbf'}. Best is trial 57 with value: -88712892.61649975.\n",
      "[I 2024-04-10 11:29:56,090] Trial 94 finished with value: -88710539.87431699 and parameters: {'C': 0.0020029885810749974, 'epsilon': 0.004948820102651621, 'kernel': 'rbf'}. Best is trial 57 with value: -88712892.61649975.\n",
      "[I 2024-04-10 11:29:56,258] Trial 95 finished with value: -88705503.88085704 and parameters: {'C': 0.004145366538835955, 'epsilon': 0.4209353700808012, 'kernel': 'rbf'}. Best is trial 57 with value: -88712892.61649975.\n",
      "[I 2024-04-10 11:29:56,443] Trial 96 finished with value: -88712067.21042196 and parameters: {'C': 0.0013532544617942531, 'epsilon': 0.03086011977175562, 'kernel': 'rbf'}. Best is trial 57 with value: -88712892.61649975.\n",
      "[I 2024-04-10 11:29:56,618] Trial 97 finished with value: -88708714.86382543 and parameters: {'C': 0.0027793634452098447, 'epsilon': 0.3618442530250967, 'kernel': 'rbf'}. Best is trial 57 with value: -88712892.61649975.\n",
      "[I 2024-04-10 11:29:56,813] Trial 98 finished with value: -88696887.00416785 and parameters: {'C': 0.007749417785840482, 'epsilon': 5.706985763404301, 'kernel': 'rbf'}. Best is trial 57 with value: -88712892.61649975.\n",
      "[I 2024-04-10 11:29:56,908] Trial 99 finished with value: -80205876.84508014 and parameters: {'C': 0.0018717211595153116, 'epsilon': 0.03977672837292144, 'kernel': 'linear'}. Best is trial 57 with value: -88712892.61649975.\n"
     ]
    }
   ],
   "source": [
    "# Função para criar uma nova instância do modelo com hiperparâmetros definidos\n",
    "def create_model(trial):\n",
    "    if best_model_name == 'Random Forest Regressor':\n",
    "        n_estimators = trial.suggest_int('n_estimators', 10, 100)\n",
    "        max_depth = trial.suggest_int('max_depth', 2, 32)\n",
    "        min_samples_split = trial.suggest_int('min_samples_split', 2, 20)\n",
    "        min_samples_leaf = trial.suggest_int('min_samples_leaf', 1, 10)\n",
    "        model = RandomForestRegressor(n_estimators=n_estimators, \n",
    "                                       max_depth=max_depth, \n",
    "                                       min_samples_split=min_samples_split,\n",
    "                                       min_samples_leaf=min_samples_leaf)\n",
    "    elif best_model_name == 'Decision Tree Regressor':\n",
    "        max_depth = trial.suggest_int('max_depth', 2, 32)\n",
    "        min_samples_split = trial.suggest_int('min_samples_split', 2, 20)\n",
    "        min_samples_leaf = trial.suggest_int('min_samples_leaf', 1, 10)\n",
    "        model = DecisionTreeRegressor(max_depth=max_depth,\n",
    "                                       min_samples_split=min_samples_split,\n",
    "                                       min_samples_leaf=min_samples_leaf)\n",
    "    elif best_model_name == 'Support Vector Regression':\n",
    "        C = trial.suggest_loguniform('C', 1e-3, 1e3)\n",
    "        epsilon = trial.suggest_loguniform('epsilon', 1e-3, 1e1)\n",
    "        kernel = trial.suggest_categorical('kernel', ['linear', 'rbf', 'poly'])\n",
    "        model = SVR(C=C, epsilon=epsilon, kernel=kernel)\n",
    "    elif best_model_name == 'Linear Regression':\n",
    "        model = LinearRegression()\n",
    "    elif best_model_name == 'K-Nearest Neighbors Regressor':\n",
    "        n_neighbors = trial.suggest_int('n_neighbors', 1, 20)\n",
    "        model = KNeighborsRegressor(n_neighbors=n_neighbors)\n",
    "    elif best_model_name == 'Gradient Boosting Regressor':\n",
    "        learning_rate = trial.suggest_loguniform('learning_rate', 0.01, 0.1)\n",
    "        n_estimators = trial.suggest_int('n_estimators', 50, 200)\n",
    "        max_depth = trial.suggest_int('max_depth', 3, 10)\n",
    "        model = GradientBoostingRegressor(learning_rate=learning_rate, \n",
    "                                           n_estimators=n_estimators, \n",
    "                                           max_depth=max_depth)\n",
    "    else:\n",
    "        model = models[best_model_name]  # Usar os hiperparâmetros padrão para outros modelos\n",
    "    return model\n",
    "\n",
    "# Função para otimização de hiperparâmetros\n",
    "def objective(trial):\n",
    "    # Criar uma nova instância do modelo com hiperparâmetros definidos pelo Optuna\n",
    "    model = create_model(trial)\n",
    "    \n",
    "    # Avaliação do modelo utilizando validação cruzada\n",
    "    score = cross_val_score(model, X_train, y_train, n_jobs=-1, cv=3, scoring='neg_mean_squared_error').mean()\n",
    "    return score\n",
    "\n",
    "# Criar o objeto de estudo Optuna\n",
    "study = optuna.create_study(direction='minimize')\n",
    "\n",
    "# Realizar a otimização dos hiperparâmetros\n",
    "study.optimize(objective, n_trials=100)"
   ]
  },
  {
   "cell_type": "code",
   "execution_count": 13,
   "id": "4c466152-7210-4ae6-bbe2-50bbd3fcd988",
   "metadata": {},
   "outputs": [
    {
     "name": "stdout",
     "output_type": "stream",
     "text": [
      "Optimized Support Vector Regression MSE: 87397541.42\n",
      "X_test:\n",
      "      Idade  Gênero    IMC  Filhos  Fumante  Categoria_IMC  Região_noroeste  \\\n",
      "1728     24       0  28.58       2        0              3              0.0   \n",
      "153      66       0  18.91       2        0              2              0.0   \n",
      "38       18       0  31.89       1        0              1              0.0   \n",
      "382      42       0  23.98       0        0              2              1.0   \n",
      "1124     60       1  18.56       3        1              2              0.0   \n",
      "...     ...     ...    ...     ...      ...            ...              ...   \n",
      "191      51       1  33.59       2        0              1              1.0   \n",
      "276      21       0  32.70       1        1              1              0.0   \n",
      "1531     62       0  27.09       0        1              3              1.0   \n",
      "1188     68       1  22.95       0        1              2              0.0   \n",
      "224      60       1  27.16       1        1              3              0.0   \n",
      "\n",
      "      Região_sudeste  Região_sudoeste  \n",
      "1728             1.0              0.0  \n",
      "153              1.0              0.0  \n",
      "38               0.0              1.0  \n",
      "382              0.0              0.0  \n",
      "1124             0.0              0.0  \n",
      "...              ...              ...  \n",
      "191              0.0              0.0  \n",
      "276              0.0              1.0  \n",
      "1531             0.0              0.0  \n",
      "1188             0.0              0.0  \n",
      "224              0.0              0.0  \n",
      "\n",
      "[361 rows x 9 columns]\n",
      "--------------------------------------------------------------------------------------------------------------------------------------------------------------\n",
      "y_test:\n",
      "1728    18373.43\n",
      "153     43238.16\n",
      "38      13760.83\n",
      "382     26972.99\n",
      "1124    40591.17\n",
      "          ...   \n",
      "191     30133.99\n",
      "276     16037.13\n",
      "1531    33769.20\n",
      "1188    37526.91\n",
      "224     33949.10\n",
      "Name: Encargos, Length: 361, dtype: float64\n",
      "--------------------------------------------------------------------------------------------------------------------------------------------------------------\n",
      "y_pred:\n",
      "[30651.48768233 30651.95872129 30651.45931418 30651.66853712\n",
      " 30651.89574839 30651.66958969 30651.56409549 30651.799268\n",
      " 30651.53526964 30651.87479582 30651.91740594 30651.59748989\n",
      " 30651.61066156 30651.5639618  30651.57736616 30651.53481727\n",
      " 30651.53515613 30651.65771093 30651.50193735 30651.91870353\n",
      " 30651.82510874 30651.58787336 30651.73336748 30651.55457996\n",
      " 30651.55380329 30651.49432326 30651.98472429 30651.53475923\n",
      " 30652.01964545 30651.69426739 30651.56685097 30651.47589948\n",
      " 30651.82492744 30651.74657331 30651.84854436 30651.72022294\n",
      " 30651.88401917 30651.96269571 30652.05096024 30651.87491413\n",
      " 30651.62086467 30651.46525348 30651.51858233 30651.95930493\n",
      " 30651.54803618 30651.49867012 30651.87274237 30651.51141517\n",
      " 30652.0258516  30651.83799136 30651.66849112 30651.67032389\n",
      " 30651.77294852 30652.03522441 30651.97225905 30651.58569601\n",
      " 30651.7070565  30651.99313414 30651.49138264 30651.93859665\n",
      " 30651.94774716 30651.61957581 30651.86297239 30651.59760042\n",
      " 30651.95840399 30651.57629942 30651.65778533 30652.04154762\n",
      " 30651.94904192 30651.95908414 30651.88599551 30651.64365513\n",
      " 30651.72018708 30651.5641141  30652.02642142 30651.99688039\n",
      " 30651.61061587 30651.90982068 30651.68119919 30651.9070507\n",
      " 30651.99766765 30651.63225231 30651.73338959 30651.82505049\n",
      " 30651.82358518 30651.67050876 30651.99581791 30651.47759914\n",
      " 30651.66835095 30651.53635371 30651.68142484 30652.03217513\n",
      " 30651.58613854 30651.62176368 30651.50224586 30651.4751486\n",
      " 30651.49042529 30651.58614628 30651.77301553 30651.50135746\n",
      " 30651.67009043 30651.98038731 30651.47547112 30651.68136589\n",
      " 30651.47478108 30652.01082235 30651.96138409 30652.03192494\n",
      " 30651.54629381 30651.74665474 30651.95921442 30651.83751849\n",
      " 30651.66875103 30651.83754205 30651.87443824 30651.81222487\n",
      " 30651.95744244 30651.46591114 30651.58525592 30651.46083811\n",
      " 30651.46459361 30652.02405699 30651.74651293 30651.47537671\n",
      " 30651.78608452 30651.73339949 30651.60771481 30652.00976117\n",
      " 30651.56545936 30651.46926901 30651.78557187 30651.56564234\n",
      " 30652.00654398 30651.89855283 30651.98961538 30652.02959573\n",
      " 30651.73364447 30651.50073406 30651.96085046 30651.96130563\n",
      " 30651.9581134  30651.50973787 30651.59753874 30651.94925397\n",
      " 30651.73343175 30651.55549081 30652.0121436  30651.98955059\n",
      " 30651.62078474 30651.63130972 30651.6812379  30651.72049854\n",
      " 30651.95161264 30651.63124202 30651.73338168 30651.50983674\n",
      " 30651.56502502 30651.95034888 30652.03940904 30651.5374986\n",
      " 30651.46991686 30651.98980686 30651.77289975 30651.8628755\n",
      " 30651.89526692 30651.94284475 30651.74650239 30651.4816945\n",
      " 30651.98096458 30651.69432359 30652.04153127 30651.59832945\n",
      " 30651.81230565 30652.03458579 30651.93907922 30651.91026345\n",
      " 30651.9783014  30651.60853532 30651.57637349 30651.53626803\n",
      " 30651.57557979 30651.46197914 30651.49493389 30652.01991533\n",
      " 30651.85042855 30651.48785338 30651.65712257 30652.05084957\n",
      " 30651.46543585 30651.46584552 30651.65635775 30651.93228788\n",
      " 30651.68117982 30652.03736038 30651.74651294 30651.82507509\n",
      " 30651.82483574 30651.9189287  30651.46714809 30651.45908485\n",
      " 30651.78582998 30652.03022722 30651.46728591 30651.733516\n",
      " 30651.99597928 30651.54700084 30651.50943878 30652.03234171\n",
      " 30651.77293783 30651.69427522 30651.6584843  30651.95260676\n",
      " 30652.0306938  30652.01845723 30651.75964704 30651.94949682\n",
      " 30652.00966601 30651.82409742 30652.01955135 30651.4898985\n",
      " 30651.61074157 30651.84926641 30651.65741028 30652.02838965\n",
      " 30651.8987553  30651.4925335  30651.9876824  30651.50219936\n",
      " 30651.60805736 30651.75979263 30651.96183127 30651.97202065\n",
      " 30652.0260464  30651.46269434 30651.55694566 30651.93999833\n",
      " 30652.03574605 30651.45731056 30651.54675051 30651.518177\n",
      " 30652.0373096  30651.57875351 30651.49868442 30651.6312792\n",
      " 30651.91795182 30651.68228039 30651.89753345 30651.97054654\n",
      " 30651.89716663 30651.47389874 30651.68123062 30651.75964441\n",
      " 30652.01788996 30651.87353315 30651.55453576 30651.65737512\n",
      " 30651.89886715 30652.00552477 30651.55595507 30651.92762327\n",
      " 30651.56836108 30652.02646141 30651.83689103 30652.03237275\n",
      " 30651.48903592 30651.74652194 30651.95009286 30651.58650319\n",
      " 30651.85053133 30651.97627208 30651.469703   30651.62177921\n",
      " 30651.54396724 30651.57444426 30651.88655185 30651.98112434\n",
      " 30651.46156055 30651.66887578 30651.47170144 30651.52916672\n",
      " 30651.63138356 30651.94123237 30651.92915401 30652.01450562\n",
      " 30651.51829913 30651.4622642  30651.72099989 30651.66898963\n",
      " 30651.79816892 30651.50052524 30651.5053902  30651.94123559\n",
      " 30651.81214178 30651.73352939 30651.66854544 30651.47427431\n",
      " 30652.00328142 30651.88442054 30651.97217923 30651.77297001\n",
      " 30652.04948985 30651.73354627 30651.48397687 30651.4952537\n",
      " 30651.46042406 30651.50243158 30651.69505786 30651.75972828\n",
      " 30651.92075479 30651.77287548 30651.65790481 30651.89613409\n",
      " 30651.47546322 30651.86152345 30651.52734089 30651.79827176\n",
      " 30651.52578655 30651.53523744 30652.00902038 30651.47206766\n",
      " 30651.9528657  30651.73346295 30651.85043536 30651.74664683\n",
      " 30651.87492989 30651.5387769  30651.50163184 30651.5962249\n",
      " 30651.9626018  30651.8748121  30651.94268022 30651.9805372\n",
      " 30651.48111871 30651.92156488 30651.51725929 30651.46493191\n",
      " 30651.96789885 30651.48222526 30651.63185585 30651.99760801\n",
      " 30651.6106451  30651.70714205 30651.75966708 30651.54581685\n",
      " 30652.01946949 30652.00362997 30651.91027267 30651.55453942\n",
      " 30652.0021157  30651.89869527 30651.87526529 30651.93888274\n",
      " 30651.92142362 30651.57570272 30651.87510919 30651.6945996\n",
      " 30651.78562708 30651.47365177 30651.92140992 30651.98026284\n",
      " 30651.89896567]\n"
     ]
    }
   ],
   "source": [
    "# Obtenha os melhores parâmetros do estudo Optuna\n",
    "best_params = study.best_params\n",
    "\n",
    "# Configure o modelo com os melhores parâmetros\n",
    "best_model.set_params(**best_params)\n",
    "\n",
    "# Ajuste o modelo aos dados de treinamento\n",
    "best_model.fit(X_train, y_train)\n",
    "\n",
    "y_pred = best_model.predict(X_test)\n",
    "mse = mean_squared_error(y_test, y_pred)\n",
    "print(f'Optimized {best_model_name} MSE: {round(mse,2)}')\n",
    "\n",
    "print(\"X_test:\")\n",
    "print(X_test)\n",
    "print('-' * terminal_width)\n",
    "print(\"y_test:\")\n",
    "print(y_test)\n",
    "print('-' * terminal_width)\n",
    "print(\"y_pred:\")\n",
    "print(y_pred)"
   ]
  },
  {
   "cell_type": "code",
   "execution_count": 14,
   "id": "33547ecc-41db-4611-b112-781aa8ad267f",
   "metadata": {},
   "outputs": [
    {
     "name": "stdout",
     "output_type": "stream",
     "text": [
      "O modelo selecionado não suporta o cálculo de importância das características.\n"
     ]
    }
   ],
   "source": [
    "# Obter a importância das características apenas para modelos que suportam esse atributo\n",
    "if hasattr(best_model, 'feature_importances_'):\n",
    "    # Obter a importância das características do modelo\n",
    "    feature_importances = best_model.feature_importances_\n",
    "    \n",
    "    # Criar um DataFrame para visualizar a importância das características\n",
    "    importance_df = pd.DataFrame({'Colunas': X_train.columns, 'Importância': feature_importances})\n",
    "\n",
    "    # Ordenar as características por importância\n",
    "    importance_df = importance_df.sort_values(by='Importância', ascending=False)\n",
    "    \n",
    "    print(\"\\nQuais características individuais têm maior impacto nos custos médicos cobrados pelo seguro de saúde?\")\n",
    "    print(round(importance_df,2))\n",
    "\n",
    "    # Selecionar as características mais importantes (por exemplo, as 10 mais importantes)\n",
    "    top_features = importance_df.head(10)['Colunas'].tolist()  # Ajuste o número conforme necessário\n",
    "    \n",
    "    # Calcular a matriz de correlação apenas para as características mais importantes\n",
    "    correlation_matrix = X_train[top_features].corr()\n",
    "    \n",
    "    # Visualizar a matriz de correlação\n",
    "    print(\"\\nExiste alguma correlação entre certas características (por exemplo, idade, IMC) e os custos médicos?\")\n",
    "    print(correlation_matrix)\n",
    "else:\n",
    "    print(\"O modelo selecionado não suporta o cálculo de importância das características.\")"
   ]
  },
  {
   "cell_type": "code",
   "execution_count": 15,
   "id": "88a03c62-b587-404f-a8bd-5f6ae92ba516",
   "metadata": {},
   "outputs": [
    {
     "name": "stdout",
     "output_type": "stream",
     "text": [
      "MSE no conjunto de treinamento: 88060457.13430461\n",
      "MSE no conjunto de teste: 87548771.82306352\n"
     ]
    }
   ],
   "source": [
    "# Validação cruzada para detecção de overfitting\n",
    "def overfitting_detection(model, X, y, cv=5):\n",
    "    train_mse = -cross_val_score(model, X, y, cv=cv, scoring='neg_mean_squared_error').mean()\n",
    "    model.fit(X, y)\n",
    "    y_pred_train = model.predict(X)\n",
    "    test_mse = np.mean((y - y_pred_train) ** 2)\n",
    "    return train_mse, test_mse\n",
    "\n",
    "# Exemplo de uso\n",
    "train_mse, test_mse = overfitting_detection(best_model, X_train_scaled, y_train)\n",
    "\n",
    "print(\"MSE no conjunto de treinamento:\", train_mse)\n",
    "print(\"MSE no conjunto de teste:\", test_mse)"
   ]
  },
  {
   "cell_type": "code",
   "execution_count": 16,
   "id": "3ff98bdc-0c3b-47f8-8286-bfe6f7e6425d",
   "metadata": {},
   "outputs": [
    {
     "name": "stdout",
     "output_type": "stream",
     "text": [
      "      Idade    Gênero       IMC    Filhos   Fumante  Categoria_IMC  \\\n",
      "0  0.081436  0.091819  0.694291  0.265315  0.555358       0.170983   \n",
      "1  0.439401  0.189352  0.518227  0.588160  0.792135       0.645597   \n",
      "2  0.022221  0.403191  0.176598  0.503059  0.966123       0.793968   \n",
      "3  0.944198  0.488478  0.863797  0.782026  0.784444       0.144339   \n",
      "4  0.183258  0.872499  0.117140  0.930116  0.299697       0.713864   \n",
      "\n",
      "   Região_noroeste  Região_sudeste  Região_sudoeste  \n",
      "0         0.494631        0.676111         0.226936  \n",
      "1         0.487473        0.596064         0.437120  \n",
      "2         0.897546        0.847968         0.093373  \n",
      "3         0.086973        0.404111         0.297228  \n",
      "4         0.702587        0.948167         0.007898  \n"
     ]
    }
   ],
   "source": [
    "# Definição de dados futuros - 200 linhas\n",
    "dados_futuros = pd.DataFrame(np.random.rand(200, len(X_test.columns)), columns=X_test.columns)\n",
    "print(dados_futuros.head())"
   ]
  },
  {
   "cell_type": "markdown",
   "id": "5b6d667b-d351-4280-acc0-e3eadcd2691a",
   "metadata": {},
   "source": [
    "Modelo treinado para fazer previsões dos encargos futuros:"
   ]
  },
  {
   "cell_type": "code",
   "execution_count": 17,
   "id": "ef157340-e0fe-40af-99cf-c51dc182c8d8",
   "metadata": {},
   "outputs": [
    {
     "name": "stderr",
     "output_type": "stream",
     "text": [
      "C:\\Users\\luiz.santos\\Documents\\FIAP Grupo\\Tech Challenge\\.venv\\Lib\\site-packages\\sklearn\\base.py:486: UserWarning: X has feature names, but SVR was fitted without feature names\n",
      "  warnings.warn(\n"
     ]
    }
   ],
   "source": [
    "encargos_futuros = prever_encargos_futuros(best_model, dados_futuros)"
   ]
  },
  {
   "cell_type": "markdown",
   "id": "5a705801-4d0c-49a5-b8c2-0179edc79268",
   "metadata": {},
   "source": [
    "Grupos de indivíduos com diferentes níveis de risco"
   ]
  },
  {
   "cell_type": "code",
   "execution_count": 18,
   "id": "9fca20a5-19a3-4b6e-813a-8e3bc3eff4b0",
   "metadata": {},
   "outputs": [
    {
     "name": "stderr",
     "output_type": "stream",
     "text": [
      "C:\\Users\\luiz.santos\\Documents\\FIAP Grupo\\Tech Challenge\\.venv\\Lib\\site-packages\\sklearn\\base.py:486: UserWarning: X has feature names, but SVR was fitted without feature names\n",
      "  warnings.warn(\n"
     ]
    }
   ],
   "source": [
    "grupos_risco = segmentacao_de_risco(best_model, dados_futuros)"
   ]
  },
  {
   "cell_type": "markdown",
   "id": "e0f827ad-ea14-449f-ac30-740f7847e0ad",
   "metadata": {},
   "source": [
    "Análises de sensibilidade para entender o impacto das mudanças nas características dos segurados nos encargos previstos:"
   ]
  },
  {
   "cell_type": "code",
   "execution_count": 19,
   "id": "8e827e0d-72e5-4bbf-b458-7bab84abfdcb",
   "metadata": {},
   "outputs": [
    {
     "name": "stderr",
     "output_type": "stream",
     "text": [
      "C:\\Users\\luiz.santos\\Documents\\FIAP Grupo\\Tech Challenge\\.venv\\Lib\\site-packages\\sklearn\\base.py:486: UserWarning: X has feature names, but SVR was fitted without feature names\n",
      "  warnings.warn(\n"
     ]
    }
   ],
   "source": [
    "custos_previstos_alterados = analise_de_sensibilidade(best_model, dados_futuros, 'Idade', novo_valor=40)"
   ]
  },
  {
   "cell_type": "markdown",
   "id": "c38da1be-74f3-4fc5-9ab3-da6447d943ef",
   "metadata": {},
   "source": [
    "Utilizando as previsões dos encargos para otimizar a alocação de recursos:"
   ]
  },
  {
   "cell_type": "code",
   "execution_count": 20,
   "id": "3740e3ff-fcdf-416f-9aa4-3f54b5d2f539",
   "metadata": {},
   "outputs": [],
   "source": [
    "recursos_otimizados = otimizacao_de_recursos(encargos_futuros)"
   ]
  },
  {
   "cell_type": "markdown",
   "id": "a6e3345c-a5d0-4a2c-aa64-7c675cf967d6",
   "metadata": {},
   "source": [
    "Utilizando as informações obtidas com o modelo para desenvolver planos estratégicos:"
   ]
  },
  {
   "cell_type": "code",
   "execution_count": 21,
   "id": "160d53a4-3d2b-4a41-af3b-cbbbf91116c8",
   "metadata": {},
   "outputs": [
    {
     "name": "stderr",
     "output_type": "stream",
     "text": [
      "C:\\Users\\luiz.santos\\Documents\\FIAP Grupo\\Tech Challenge\\.venv\\Lib\\site-packages\\sklearn\\base.py:486: UserWarning: X has feature names, but SVR was fitted without feature names\n",
      "  warnings.warn(\n",
      "C:\\Users\\luiz.santos\\Documents\\FIAP Grupo\\Tech Challenge\\.venv\\Lib\\site-packages\\sklearn\\base.py:486: UserWarning: X has feature names, but SVR was fitted without feature names\n",
      "  warnings.warn(\n"
     ]
    }
   ],
   "source": [
    "planos_estrategicos = planejamento_estrategico(best_model, dados_futuros)"
   ]
  },
  {
   "cell_type": "code",
   "execution_count": 22,
   "id": "b5651aad-ab93-4e5d-9119-62173d584776",
   "metadata": {},
   "outputs": [],
   "source": [
    "# Adicionando as novas colunas na planilha dados futuros\n",
    "dados_futuros['Encargo Futuro'] = encargos_futuros\n",
    "dados_futuros['Grupos Risco'] = grupos_risco\n",
    "dados_futuros['Recursos Otimizados'] = custos_previstos_alterados\n",
    "dados_futuros['Planos estratégicos'] = planos_estrategicos\n",
    "dados_futuros['Encargos'] = np.nan\n",
    "\n",
    "# Salvar os dados randômicos futuros\n",
    "dados_futuros.to_csv(\"../planilhas/4_dados_futuros.csv\", index=False, encoding='latin1')"
   ]
  },
  {
   "cell_type": "code",
   "execution_count": 23,
   "id": "34520248-7ad9-4789-88c9-d3e48b98ffcb",
   "metadata": {},
   "outputs": [
    {
     "data": {
      "image/png": "[encoded data removed]",
      "text/plain": [
       "<Figure size 1500x500 with 1 Axes>"
      ]
     },
     "metadata": {},
     "output_type": "display_data"
    }
   ],
   "source": [
    "fig, axs = plt.subplots(figsize=(15, 5))\n",
    "\n",
    "# Criar gráfico\n",
    "plt.plot(dados_futuros['Encargo Futuro'], label='Previsões', color='blue', marker='o')\n",
    "plt.plot(dados_futuros['Encargos'], label='Valores Reais', color='green', marker='x')\n",
    "\n",
    "# Adicionar rótulos e legenda\n",
    "plt.xlabel('Período')\n",
    "plt.ylabel('Valor')\n",
    "plt.legend()\n",
    "\n",
    "# Exibir gráfico\n",
    "plt.title('Previsões vs. Valores Reais')\n",
    "plt.show()"
   ]
  }
 ],
 "metadata": {
  "kernelspec": {
   "display_name": "Python 3 (ipykernel)",
   "language": "python",
   "name": "python3"
  },
  "language_info": {
   "codemirror_mode": {
    "name": "ipython",
    "version": 3
   },
   "file_extension": ".py",
   "mimetype": "text/x-python",
   "name": "python",
   "nbconvert_exporter": "python",
   "pygments_lexer": "ipython3",
   "version": "3.12.2"
  }
 },
 "nbformat": 4,
 "nbformat_minor": 5
}

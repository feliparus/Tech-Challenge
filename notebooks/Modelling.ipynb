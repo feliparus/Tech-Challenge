{
 "cells": [
  {
   "cell_type": "code",
   "execution_count": 1,
   "id": "dbc0af4c-ddf6-4729-8cea-952f3c7d1104",
   "metadata": {},
   "outputs": [
    {
     "name": "stdout",
     "output_type": "stream",
     "text": [
      "Requirement already satisfied: pandas in c:\\users\\luiz.santos\\documents\\fiap grupo\\tech challenge\\.venv\\lib\\site-packages (2.2.1)\n",
      "Requirement already satisfied: scikit-learn in c:\\users\\luiz.santos\\documents\\fiap grupo\\tech challenge\\.venv\\lib\\site-packages (1.4.1.post1)\n",
      "Requirement already satisfied: optuna in c:\\users\\luiz.santos\\documents\\fiap grupo\\tech challenge\\.venv\\lib\\site-packages (3.6.1)\n",
      "Requirement already satisfied: numpy<2,>=1.26.0 in c:\\users\\luiz.santos\\documents\\fiap grupo\\tech challenge\\.venv\\lib\\site-packages (from pandas) (1.26.4)\n",
      "Requirement already satisfied: python-dateutil>=2.8.2 in c:\\users\\luiz.santos\\documents\\fiap grupo\\tech challenge\\.venv\\lib\\site-packages (from pandas) (2.9.0.post0)\n",
      "Requirement already satisfied: pytz>=2020.1 in c:\\users\\luiz.santos\\documents\\fiap grupo\\tech challenge\\.venv\\lib\\site-packages (from pandas) (2024.1)\n",
      "Requirement already satisfied: tzdata>=2022.7 in c:\\users\\luiz.santos\\documents\\fiap grupo\\tech challenge\\.venv\\lib\\site-packages (from pandas) (2024.1)\n",
      "Requirement already satisfied: scipy>=1.6.0 in c:\\users\\luiz.santos\\documents\\fiap grupo\\tech challenge\\.venv\\lib\\site-packages (from scikit-learn) (1.13.0)\n",
      "Requirement already satisfied: joblib>=1.2.0 in c:\\users\\luiz.santos\\documents\\fiap grupo\\tech challenge\\.venv\\lib\\site-packages (from scikit-learn) (1.3.2)\n",
      "Requirement already satisfied: threadpoolctl>=2.0.0 in c:\\users\\luiz.santos\\documents\\fiap grupo\\tech challenge\\.venv\\lib\\site-packages (from scikit-learn) (3.4.0)\n",
      "Requirement already satisfied: alembic>=1.5.0 in c:\\users\\luiz.santos\\documents\\fiap grupo\\tech challenge\\.venv\\lib\\site-packages (from optuna) (1.13.1)\n",
      "Requirement already satisfied: colorlog in c:\\users\\luiz.santos\\documents\\fiap grupo\\tech challenge\\.venv\\lib\\site-packages (from optuna) (6.8.2)\n",
      "Requirement already satisfied: packaging>=20.0 in c:\\users\\luiz.santos\\documents\\fiap grupo\\tech challenge\\.venv\\lib\\site-packages (from optuna) (24.0)\n",
      "Requirement already satisfied: sqlalchemy>=1.3.0 in c:\\users\\luiz.santos\\documents\\fiap grupo\\tech challenge\\.venv\\lib\\site-packages (from optuna) (2.0.29)\n",
      "Requirement already satisfied: tqdm in c:\\users\\luiz.santos\\documents\\fiap grupo\\tech challenge\\.venv\\lib\\site-packages (from optuna) (4.66.2)\n",
      "Requirement already satisfied: PyYAML in c:\\users\\luiz.santos\\documents\\fiap grupo\\tech challenge\\.venv\\lib\\site-packages (from optuna) (6.0.1)\n",
      "Requirement already satisfied: Mako in c:\\users\\luiz.santos\\documents\\fiap grupo\\tech challenge\\.venv\\lib\\site-packages (from alembic>=1.5.0->optuna) (1.3.2)\n",
      "Requirement already satisfied: typing-extensions>=4 in c:\\users\\luiz.santos\\documents\\fiap grupo\\tech challenge\\.venv\\lib\\site-packages (from alembic>=1.5.0->optuna) (4.11.0)\n",
      "Requirement already satisfied: six>=1.5 in c:\\users\\luiz.santos\\documents\\fiap grupo\\tech challenge\\.venv\\lib\\site-packages (from python-dateutil>=2.8.2->pandas) (1.16.0)\n",
      "Requirement already satisfied: greenlet!=0.4.17 in c:\\users\\luiz.santos\\documents\\fiap grupo\\tech challenge\\.venv\\lib\\site-packages (from sqlalchemy>=1.3.0->optuna) (3.0.3)\n",
      "Requirement already satisfied: colorama in c:\\users\\luiz.santos\\documents\\fiap grupo\\tech challenge\\.venv\\lib\\site-packages (from colorlog->optuna) (0.4.6)\n",
      "Requirement already satisfied: MarkupSafe>=0.9.2 in c:\\users\\luiz.santos\\documents\\fiap grupo\\tech challenge\\.venv\\lib\\site-packages (from Mako->alembic>=1.5.0->optuna) (2.1.5)\n"
     ]
    }
   ],
   "source": [
    "!pip install pandas scikit-learn optuna"
   ]
  },
  {
   "cell_type": "code",
   "execution_count": 2,
   "id": "88537431-7a90-4c7c-a1d0-5eeb475c641e",
   "metadata": {},
   "outputs": [],
   "source": [
    "import pandas as pd\n",
    "from include.utils import incrementar_dados_aleatorios_csv, categorizar_imc\n",
    "from sklearn.model_selection import train_test_split, cross_val_score\n",
    "from sklearn.ensemble import RandomForestRegressor\n",
    "from sklearn.linear_model import LinearRegression\n",
    "from sklearn.metrics import mean_squared_error\n",
    "from sklearn.preprocessing import OneHotEncoder, LabelEncoder, StandardScaler\n",
    "import optuna"
   ]
  },
  {
   "cell_type": "markdown",
   "id": "320499db-f973-450a-9aab-316e6426be3a",
   "metadata": {},
   "source": [
    "**1. Engenharia de Recursos**"
   ]
  },
  {
   "cell_type": "markdown",
   "id": "2a110e58-c228-4985-a256-24ffc5dcc631",
   "metadata": {},
   "source": [
    "Novos recursos derivados dos dados existentes"
   ]
  },
  {
   "cell_type": "code",
   "execution_count": 3,
   "id": "f33739b5-0572-464a-af36-3a517bad8e10",
   "metadata": {},
   "outputs": [],
   "source": [
    "# leia os dados CSV indicados no site da FIAP\n",
    "dados = pd.read_csv('../base_dados.csv', encoding='latin-1')\n",
    "\n",
    "# aqui chamo a função incrementar_dados_aleatorios, para aumentar o volume da variável dados\n",
    "dados = incrementar_dados_aleatorios_csv(dados)\n",
    "\n",
    "# Aplicar a função para categorizar IMC e criar uma nova coluna 'Categoria IMC'\n",
    "dados['Categoria IMC'] = dados['IMC'].apply(categorizar_imc)"
   ]
  },
  {
   "cell_type": "markdown",
   "id": "eebb4b2f-58ca-4fa7-97d1-af96eb7d266d",
   "metadata": {},
   "source": [
    "**2. Limpeza de Dados**"
   ]
  },
  {
   "cell_type": "code",
   "execution_count": 4,
   "id": "7be726d7-f49f-4115-9c22-9bf83b87f4bf",
   "metadata": {},
   "outputs": [],
   "source": [
    "# Remover linhas com valores NaN\n",
    "dados = dados.dropna()\n",
    "\n",
    "# Substituir valores nulos por zero\n",
    "dados['Filhos'] = dados['Filhos'].fillna(0)\n",
    "dados['Filhos'] = dados['Filhos'].astype(int)\n",
    "dados['Idade'] = dados['Idade'].fillna(0)\n",
    "dados['Idade'] = dados['Idade'].astype(int)\n",
    "dados['Encargos'] = dados['Encargos'].fillna(0)\n",
    "\n",
    "dados['Gênero'] = dados['Gênero'].str.replace('nan', 'Não informado')"
   ]
  },
  {
   "cell_type": "markdown",
   "id": "ad26fe86-4dd4-488f-90ee-3a86ac237459",
   "metadata": {},
   "source": [
    "**3. Pré-processamento**"
   ]
  },
  {
   "cell_type": "code",
   "execution_count": 5,
   "id": "969de9b6-fa98-4951-b1b6-cfb5ea261c58",
   "metadata": {},
   "outputs": [],
   "source": [
    "# Dividir os dados em features (X) e target (y)\n",
    "X = dados.drop('Encargos', axis=1)  # Substitua 'target_column_name' pelo nome da coluna alvo\n",
    "y = dados['Encargos']\n",
    "\n",
    "# Codificar variáveis categóricas usando one-hot encoding\n",
    "encoder = OneHotEncoder(drop='first')\n",
    "X_encoded = encoder.fit_transform(X[['Gênero', 'Região']])\n",
    "\n",
    "# Concatenar features codificadas com as restantes\n",
    "X_encoded = pd.DataFrame(X_encoded.toarray(), columns=encoder.get_feature_names_out(['Gênero', 'Região']), index=X.index)\n",
    "X = pd.concat([X.drop(['Gênero', 'Região'], axis=1), X_encoded], axis=1)\n",
    "\n",
    "# Codificar variável categórica 'IMC' com LabelEncoder\n",
    "label_encoder = LabelEncoder()\n",
    "X['Categoria IMC'] = label_encoder.fit_transform(X['Categoria IMC'])\n",
    "\n",
    "# Substituir valores 'sim' e 'não' por 1 e 0\n",
    "X['Fumante'] = X['Fumante'].map({'sim': 1, 'não': 0})\n",
    "\n",
    "# Dividir os dados em conjuntos de treinamento e teste\n",
    "X_train, X_test, y_train, y_test = train_test_split(X, y, test_size=0.2, random_state=42)"
   ]
  },
  {
   "cell_type": "code",
   "execution_count": 6,
   "id": "766f9565-948e-4563-8f7f-e16ccf5f029a",
   "metadata": {},
   "outputs": [],
   "source": [
    "scaler = StandardScaler()\n",
    "X_train_scaled = scaler.fit_transform(X_train)\n",
    "X_test_scaled = scaler.transform(X_test)"
   ]
  },
  {
   "cell_type": "markdown",
   "id": "d97c5862-6ad0-4e20-9e49-a447bfaa48c2",
   "metadata": {},
   "source": [
    "**4. Treinamento do Modelo**"
   ]
  },
  {
   "cell_type": "code",
   "execution_count": 7,
   "id": "be67531c-1538-4d5e-858f-7ab5406ffd2e",
   "metadata": {},
   "outputs": [
    {
     "name": "stdout",
     "output_type": "stream",
     "text": [
      "Random Forest Regressor MSE: 42686568.27\n",
      "Acurácia média com validação cruzada para Random Forest Regressor: 0.65\n",
      "Linear Regression MSE: 17734922.84\n",
      "Acurácia média com validação cruzada para Linear Regression: 0.73\n"
     ]
    }
   ],
   "source": [
    "# Treinar e avaliar os modelos de regressão\n",
    "models = {\n",
    "    'Random Forest Regressor': RandomForestRegressor(),\n",
    "    'Linear Regression': LinearRegression()\n",
    "}\n",
    "\n",
    "for name, model in models.items():\n",
    "    model.fit(X_train, y_train)\n",
    "    y_pred = model.predict(X_test)\n",
    "    mse = mean_squared_error(y_test, y_pred)\n",
    "    print(f'{name} MSE: {round(mse,2)}')\n",
    "    # Calcular acurácia média usando validação cruzada\n",
    "    scores = cross_val_score(model, X_train, y_train, cv=5)\n",
    "    print(f'Acurácia média com validação cruzada para {name}: {round(scores.mean(),2)}')"
   ]
  },
  {
   "cell_type": "markdown",
   "id": "48fb4ff9-f2ce-4114-bc95-28f313d6690f",
   "metadata": {},
   "source": [
    "**5. Comparação de Modelos**"
   ]
  },
  {
   "cell_type": "code",
   "execution_count": 8,
   "id": "955fbdea-faea-4285-8298-76b32a8bd648",
   "metadata": {},
   "outputs": [],
   "source": [
    "# Seleção de modelo com base na menor pontuação de validação cruzada\n",
    "best_model_name = min(models, key=lambda model: cross_val_score(models[model], X_train, y_train, cv=5).mean())"
   ]
  },
  {
   "cell_type": "markdown",
   "id": "d9684717-7ac2-4c36-a697-1f3a72d85d51",
   "metadata": {},
   "source": [
    "**6. Seleção de Modelo**"
   ]
  },
  {
   "cell_type": "code",
   "execution_count": 9,
   "id": "16947f1b-a506-4540-9068-99f278e9d558",
   "metadata": {},
   "outputs": [
    {
     "name": "stdout",
     "output_type": "stream",
     "text": [
      "Best Model: Random Forest Regressor\n"
     ]
    }
   ],
   "source": [
    "best_model = models[best_model_name]\n",
    "print(f'Best Model: {best_model_name}')"
   ]
  },
  {
   "cell_type": "markdown",
   "id": "eb2c235a-b688-4d6b-8820-de8a50e3e4a8",
   "metadata": {},
   "source": [
    "**7. Otimização de Modelo**"
   ]
  },
  {
   "cell_type": "code",
   "execution_count": 10,
   "id": "e36479d9-807c-4862-bcd6-a1b06426edce",
   "metadata": {},
   "outputs": [
    {
     "name": "stderr",
     "output_type": "stream",
     "text": [
      "[I 2024-04-06 12:37:37,796] A new study created in memory with name: no-name-705ccbd9-fa22-453c-a2d6-bf353d34196b\n",
      "[I 2024-04-06 12:37:40,129] Trial 0 finished with value: -204612060.29724202 and parameters: {'n_estimators': 97, 'max_depth': 27}. Best is trial 0 with value: -204612060.29724202.\n",
      "[I 2024-04-06 12:37:42,091] Trial 1 finished with value: -210963917.82232925 and parameters: {'n_estimators': 56, 'max_depth': 5}. Best is trial 1 with value: -210963917.82232925.\n",
      "[I 2024-04-06 12:37:43,803] Trial 2 finished with value: -207104501.47195038 and parameters: {'n_estimators': 35, 'max_depth': 25}. Best is trial 1 with value: -210963917.82232925.\n",
      "[I 2024-04-06 12:37:43,926] Trial 3 finished with value: -229304955.86360577 and parameters: {'n_estimators': 71, 'max_depth': 2}. Best is trial 3 with value: -229304955.86360577.\n",
      "[I 2024-04-06 12:37:44,026] Trial 4 finished with value: -233256890.6862544 and parameters: {'n_estimators': 44, 'max_depth': 16}. Best is trial 4 with value: -233256890.6862544.\n",
      "[I 2024-04-06 12:37:44,230] Trial 5 finished with value: -214597676.39835835 and parameters: {'n_estimators': 100, 'max_depth': 26}. Best is trial 4 with value: -233256890.6862544.\n",
      "[I 2024-04-06 12:37:44,356] Trial 6 finished with value: -202572328.13585243 and parameters: {'n_estimators': 58, 'max_depth': 6}. Best is trial 4 with value: -233256890.6862544.\n",
      "[I 2024-04-06 12:37:44,515] Trial 7 finished with value: -207752309.49960348 and parameters: {'n_estimators': 70, 'max_depth': 11}. Best is trial 4 with value: -233256890.6862544.\n",
      "[I 2024-04-06 12:37:44,710] Trial 8 finished with value: -217254867.04914907 and parameters: {'n_estimators': 93, 'max_depth': 7}. Best is trial 4 with value: -233256890.6862544.\n",
      "[I 2024-04-06 12:37:44,782] Trial 9 finished with value: -213086616.52626315 and parameters: {'n_estimators': 21, 'max_depth': 15}. Best is trial 4 with value: -233256890.6862544.\n",
      "[I 2024-04-06 12:37:44,894] Trial 10 finished with value: -211438920.57016435 and parameters: {'n_estimators': 35, 'max_depth': 20}. Best is trial 4 with value: -233256890.6862544.\n",
      "[I 2024-04-06 12:37:45,054] Trial 11 finished with value: -214711833.33103073 and parameters: {'n_estimators': 74, 'max_depth': 32}. Best is trial 4 with value: -233256890.6862544.\n",
      "[I 2024-04-06 12:37:45,146] Trial 12 finished with value: -226296463.20673457 and parameters: {'n_estimators': 39, 'max_depth': 2}. Best is trial 4 with value: -233256890.6862544.\n",
      "[I 2024-04-06 12:37:45,319] Trial 13 finished with value: -203374575.28914157 and parameters: {'n_estimators': 78, 'max_depth': 14}. Best is trial 4 with value: -233256890.6862544.\n",
      "[I 2024-04-06 12:37:45,373] Trial 14 finished with value: -184277814.72485223 and parameters: {'n_estimators': 11, 'max_depth': 19}. Best is trial 4 with value: -233256890.6862544.\n",
      "[I 2024-04-06 12:37:45,480] Trial 15 finished with value: -231803783.37143412 and parameters: {'n_estimators': 47, 'max_depth': 10}. Best is trial 4 with value: -233256890.6862544.\n",
      "[I 2024-04-06 12:37:45,616] Trial 16 finished with value: -205387630.74562868 and parameters: {'n_estimators': 48, 'max_depth': 10}. Best is trial 4 with value: -233256890.6862544.\n",
      "[I 2024-04-06 12:37:45,733] Trial 17 finished with value: -212281032.93028975 and parameters: {'n_estimators': 47, 'max_depth': 12}. Best is trial 4 with value: -233256890.6862544.\n",
      "[I 2024-04-06 12:37:45,814] Trial 18 finished with value: -191368387.5318272 and parameters: {'n_estimators': 22, 'max_depth': 21}. Best is trial 4 with value: -233256890.6862544.\n",
      "[I 2024-04-06 12:37:45,953] Trial 19 finished with value: -218784122.2561516 and parameters: {'n_estimators': 63, 'max_depth': 15}. Best is trial 4 with value: -233256890.6862544.\n",
      "[I 2024-04-06 12:37:46,054] Trial 20 finished with value: -205660965.28801402 and parameters: {'n_estimators': 44, 'max_depth': 9}. Best is trial 4 with value: -233256890.6862544.\n",
      "[I 2024-04-06 12:37:46,210] Trial 21 finished with value: -234360704.03290644 and parameters: {'n_estimators': 85, 'max_depth': 2}. Best is trial 21 with value: -234360704.03290644.\n",
      "[I 2024-04-06 12:37:46,378] Trial 22 finished with value: -203638498.38396323 and parameters: {'n_estimators': 80, 'max_depth': 17}. Best is trial 21 with value: -234360704.03290644.\n",
      "[I 2024-04-06 12:37:46,465] Trial 23 finished with value: -205152952.82074693 and parameters: {'n_estimators': 30, 'max_depth': 5}. Best is trial 21 with value: -234360704.03290644.\n",
      "[I 2024-04-06 12:37:46,666] Trial 24 finished with value: -212991956.88029906 and parameters: {'n_estimators': 89, 'max_depth': 9}. Best is trial 21 with value: -234360704.03290644.\n",
      "[I 2024-04-06 12:37:46,824] Trial 25 finished with value: -215854843.54241237 and parameters: {'n_estimators': 63, 'max_depth': 13}. Best is trial 21 with value: -234360704.03290644.\n",
      "[I 2024-04-06 12:37:46,953] Trial 26 finished with value: -217051262.99814543 and parameters: {'n_estimators': 51, 'max_depth': 17}. Best is trial 21 with value: -234360704.03290644.\n",
      "[I 2024-04-06 12:37:47,135] Trial 27 finished with value: -223469023.5344976 and parameters: {'n_estimators': 86, 'max_depth': 3}. Best is trial 21 with value: -234360704.03290644.\n",
      "[I 2024-04-06 12:37:47,283] Trial 28 finished with value: -232904278.98868528 and parameters: {'n_estimators': 63, 'max_depth': 22}. Best is trial 21 with value: -234360704.03290644.\n",
      "[I 2024-04-06 12:37:47,460] Trial 29 finished with value: -209212799.40871802 and parameters: {'n_estimators': 84, 'max_depth': 24}. Best is trial 21 with value: -234360704.03290644.\n",
      "[I 2024-04-06 12:37:47,611] Trial 30 finished with value: -212373994.09574965 and parameters: {'n_estimators': 65, 'max_depth': 29}. Best is trial 21 with value: -234360704.03290644.\n",
      "[I 2024-04-06 12:37:47,729] Trial 31 finished with value: -228815523.62570193 and parameters: {'n_estimators': 41, 'max_depth': 22}. Best is trial 21 with value: -234360704.03290644.\n",
      "[I 2024-04-06 12:37:47,867] Trial 32 finished with value: -223432664.32700992 and parameters: {'n_estimators': 54, 'max_depth': 23}. Best is trial 21 with value: -234360704.03290644.\n",
      "[I 2024-04-06 12:37:47,998] Trial 33 finished with value: -203044525.76737928 and parameters: {'n_estimators': 57, 'max_depth': 18}. Best is trial 21 with value: -234360704.03290644.\n",
      "[I 2024-04-06 12:37:48,099] Trial 34 finished with value: -190066992.46959114 and parameters: {'n_estimators': 31, 'max_depth': 28}. Best is trial 21 with value: -234360704.03290644.\n",
      "[I 2024-04-06 12:37:48,299] Trial 35 finished with value: -206685067.17341694 and parameters: {'n_estimators': 95, 'max_depth': 7}. Best is trial 21 with value: -234360704.03290644.\n",
      "[I 2024-04-06 12:37:48,456] Trial 36 finished with value: -200531011.11267343 and parameters: {'n_estimators': 69, 'max_depth': 16}. Best is trial 21 with value: -234360704.03290644.\n",
      "[I 2024-04-06 12:37:48,631] Trial 37 finished with value: -205897129.9590982 and parameters: {'n_estimators': 53, 'max_depth': 20}. Best is trial 21 with value: -234360704.03290644.\n",
      "[I 2024-04-06 12:37:48,801] Trial 38 finished with value: -207635066.9831703 and parameters: {'n_estimators': 58, 'max_depth': 25}. Best is trial 21 with value: -234360704.03290644.\n",
      "[I 2024-04-06 12:37:48,983] Trial 39 finished with value: -206771359.5190659 and parameters: {'n_estimators': 100, 'max_depth': 4}. Best is trial 21 with value: -234360704.03290644.\n",
      "[I 2024-04-06 12:37:49,092] Trial 40 finished with value: -198545173.00438166 and parameters: {'n_estimators': 40, 'max_depth': 6}. Best is trial 21 with value: -234360704.03290644.\n",
      "[I 2024-04-06 12:37:49,237] Trial 41 finished with value: -221526385.28716502 and parameters: {'n_estimators': 73, 'max_depth': 3}. Best is trial 21 with value: -234360704.03290644.\n",
      "[I 2024-04-06 12:37:49,364] Trial 42 finished with value: -230812573.54561555 and parameters: {'n_estimators': 66, 'max_depth': 2}. Best is trial 21 with value: -234360704.03290644.\n",
      "[I 2024-04-06 12:37:49,513] Trial 43 finished with value: -210394507.87206832 and parameters: {'n_estimators': 66, 'max_depth': 8}. Best is trial 21 with value: -234360704.03290644.\n",
      "[I 2024-04-06 12:37:49,640] Trial 44 finished with value: -227981154.57269847 and parameters: {'n_estimators': 60, 'max_depth': 2}. Best is trial 21 with value: -234360704.03290644.\n",
      "[I 2024-04-06 12:37:49,795] Trial 45 finished with value: -203231139.7753215 and parameters: {'n_estimators': 76, 'max_depth': 5}. Best is trial 21 with value: -234360704.03290644.\n",
      "[I 2024-04-06 12:37:49,914] Trial 46 finished with value: -224688331.17264953 and parameters: {'n_estimators': 48, 'max_depth': 11}. Best is trial 21 with value: -234360704.03290644.\n",
      "[I 2024-04-06 12:37:50,031] Trial 47 finished with value: -205940542.3405762 and parameters: {'n_estimators': 37, 'max_depth': 13}. Best is trial 21 with value: -234360704.03290644.\n",
      "[I 2024-04-06 12:37:50,169] Trial 48 finished with value: -231077055.37436876 and parameters: {'n_estimators': 68, 'max_depth': 4}. Best is trial 21 with value: -234360704.03290644.\n",
      "[I 2024-04-06 12:37:50,338] Trial 49 finished with value: -205136449.0241643 and parameters: {'n_estimators': 80, 'max_depth': 4}. Best is trial 21 with value: -234360704.03290644.\n",
      "[I 2024-04-06 12:37:50,488] Trial 50 finished with value: -238173064.38627997 and parameters: {'n_estimators': 70, 'max_depth': 7}. Best is trial 50 with value: -238173064.38627997.\n",
      "[I 2024-04-06 12:37:50,665] Trial 51 finished with value: -217028558.78593588 and parameters: {'n_estimators': 70, 'max_depth': 7}. Best is trial 50 with value: -238173064.38627997.\n",
      "[I 2024-04-06 12:37:50,807] Trial 52 finished with value: -193253672.84650934 and parameters: {'n_estimators': 61, 'max_depth': 6}. Best is trial 50 with value: -238173064.38627997.\n",
      "[I 2024-04-06 12:37:50,922] Trial 53 finished with value: -210364696.99236584 and parameters: {'n_estimators': 44, 'max_depth': 10}. Best is trial 50 with value: -238173064.38627997.\n",
      "[I 2024-04-06 12:37:51,037] Trial 54 finished with value: -211364664.97155383 and parameters: {'n_estimators': 51, 'max_depth': 8}. Best is trial 50 with value: -238173064.38627997.\n",
      "[I 2024-04-06 12:37:51,231] Trial 55 finished with value: -208916179.88767704 and parameters: {'n_estimators': 90, 'max_depth': 5}. Best is trial 50 with value: -238173064.38627997.\n",
      "[I 2024-04-06 12:37:51,388] Trial 56 finished with value: -219801002.52848467 and parameters: {'n_estimators': 74, 'max_depth': 4}. Best is trial 50 with value: -238173064.38627997.\n",
      "[I 2024-04-06 12:37:51,565] Trial 57 finished with value: -209585171.1335353 and parameters: {'n_estimators': 80, 'max_depth': 11}. Best is trial 50 with value: -238173064.38627997.\n",
      "[I 2024-04-06 12:37:51,659] Trial 58 finished with value: -197031156.41969597 and parameters: {'n_estimators': 32, 'max_depth': 9}. Best is trial 50 with value: -238173064.38627997.\n",
      "[I 2024-04-06 12:37:51,850] Trial 59 finished with value: -205460830.10800543 and parameters: {'n_estimators': 84, 'max_depth': 19}. Best is trial 50 with value: -238173064.38627997.\n",
      "[I 2024-04-06 12:37:52,020] Trial 60 finished with value: -219227607.33458316 and parameters: {'n_estimators': 69, 'max_depth': 15}. Best is trial 50 with value: -238173064.38627997.\n",
      "[I 2024-04-06 12:37:52,154] Trial 61 finished with value: -230107018.6162807 and parameters: {'n_estimators': 67, 'max_depth': 2}. Best is trial 50 with value: -238173064.38627997.\n",
      "[I 2024-04-06 12:37:52,297] Trial 62 finished with value: -230797129.76492944 and parameters: {'n_estimators': 63, 'max_depth': 3}. Best is trial 50 with value: -238173064.38627997.\n",
      "[I 2024-04-06 12:37:52,423] Trial 63 finished with value: -243064143.09931183 and parameters: {'n_estimators': 44, 'max_depth': 3}. Best is trial 63 with value: -243064143.09931183.\n",
      "[I 2024-04-06 12:37:52,540] Trial 64 finished with value: -210159305.11328372 and parameters: {'n_estimators': 44, 'max_depth': 5}. Best is trial 63 with value: -243064143.09931183.\n",
      "[I 2024-04-06 12:37:52,663] Trial 65 finished with value: -204167440.25344297 and parameters: {'n_estimators': 51, 'max_depth': 7}. Best is trial 63 with value: -243064143.09931183.\n",
      "[I 2024-04-06 12:37:52,771] Trial 66 finished with value: -240617027.6567262 and parameters: {'n_estimators': 47, 'max_depth': 3}. Best is trial 63 with value: -243064143.09931183.\n",
      "[I 2024-04-06 12:37:52,853] Trial 67 finished with value: -251320171.51978716 and parameters: {'n_estimators': 34, 'max_depth': 3}. Best is trial 67 with value: -251320171.51978716.\n",
      "[I 2024-04-06 12:37:52,938] Trial 68 finished with value: -202649237.42786762 and parameters: {'n_estimators': 26, 'max_depth': 32}. Best is trial 67 with value: -251320171.51978716.\n",
      "[I 2024-04-06 12:37:53,028] Trial 69 finished with value: -227250185.78401777 and parameters: {'n_estimators': 34, 'max_depth': 3}. Best is trial 67 with value: -251320171.51978716.\n",
      "[I 2024-04-06 12:37:53,119] Trial 70 finished with value: -214223547.86726856 and parameters: {'n_estimators': 43, 'max_depth': 3}. Best is trial 67 with value: -251320171.51978716.\n",
      "[I 2024-04-06 12:37:53,204] Trial 71 finished with value: -244336123.57330382 and parameters: {'n_estimators': 36, 'max_depth': 6}. Best is trial 67 with value: -251320171.51978716.\n",
      "[I 2024-04-06 12:37:53,286] Trial 72 finished with value: -203791399.06598452 and parameters: {'n_estimators': 27, 'max_depth': 6}. Best is trial 67 with value: -251320171.51978716.\n",
      "[I 2024-04-06 12:37:53,388] Trial 73 finished with value: -207988803.44204926 and parameters: {'n_estimators': 36, 'max_depth': 27}. Best is trial 67 with value: -251320171.51978716.\n",
      "[I 2024-04-06 12:37:53,479] Trial 74 finished with value: -229860343.12990317 and parameters: {'n_estimators': 38, 'max_depth': 4}. Best is trial 67 with value: -251320171.51978716.\n",
      "[I 2024-04-06 12:37:53,592] Trial 75 finished with value: -234491269.60501754 and parameters: {'n_estimators': 41, 'max_depth': 2}. Best is trial 67 with value: -251320171.51978716.\n",
      "[I 2024-04-06 12:37:53,695] Trial 76 finished with value: -235190143.2318248 and parameters: {'n_estimators': 41, 'max_depth': 2}. Best is trial 67 with value: -251320171.51978716.\n",
      "[I 2024-04-06 12:37:53,820] Trial 77 finished with value: -225208751.11540106 and parameters: {'n_estimators': 47, 'max_depth': 2}. Best is trial 67 with value: -251320171.51978716.\n",
      "[I 2024-04-06 12:37:53,884] Trial 78 finished with value: -249755754.16593114 and parameters: {'n_estimators': 20, 'max_depth': 2}. Best is trial 67 with value: -251320171.51978716.\n",
      "[I 2024-04-06 12:37:53,953] Trial 79 finished with value: -248820053.72780192 and parameters: {'n_estimators': 24, 'max_depth': 3}. Best is trial 67 with value: -251320171.51978716.\n",
      "[I 2024-04-06 12:37:54,015] Trial 80 finished with value: -216952942.66524437 and parameters: {'n_estimators': 18, 'max_depth': 6}. Best is trial 67 with value: -251320171.51978716.\n",
      "[I 2024-04-06 12:37:54,074] Trial 81 finished with value: -195869530.54127812 and parameters: {'n_estimators': 16, 'max_depth': 3}. Best is trial 67 with value: -251320171.51978716.\n",
      "[I 2024-04-06 12:37:54,160] Trial 82 finished with value: -247311503.5381329 and parameters: {'n_estimators': 27, 'max_depth': 4}. Best is trial 67 with value: -251320171.51978716.\n",
      "[I 2024-04-06 12:37:54,253] Trial 83 finished with value: -233958564.0237565 and parameters: {'n_estimators': 27, 'max_depth': 5}. Best is trial 67 with value: -251320171.51978716.\n",
      "[I 2024-04-06 12:37:54,334] Trial 84 finished with value: -223695906.85011443 and parameters: {'n_estimators': 23, 'max_depth': 4}. Best is trial 67 with value: -251320171.51978716.\n",
      "[I 2024-04-06 12:37:54,386] Trial 85 finished with value: -239567544.86831716 and parameters: {'n_estimators': 13, 'max_depth': 3}. Best is trial 67 with value: -251320171.51978716.\n",
      "[I 2024-04-06 12:37:54,450] Trial 86 finished with value: -243480347.3693199 and parameters: {'n_estimators': 14, 'max_depth': 3}. Best is trial 67 with value: -251320171.51978716.\n",
      "[I 2024-04-06 12:37:54,508] Trial 87 finished with value: -246186214.7197523 and parameters: {'n_estimators': 10, 'max_depth': 3}. Best is trial 67 with value: -251320171.51978716.\n",
      "[I 2024-04-06 12:37:54,561] Trial 88 finished with value: -226139372.6461682 and parameters: {'n_estimators': 10, 'max_depth': 4}. Best is trial 67 with value: -251320171.51978716.\n",
      "[I 2024-04-06 12:37:54,632] Trial 89 finished with value: -205929114.56745887 and parameters: {'n_estimators': 20, 'max_depth': 5}. Best is trial 67 with value: -251320171.51978716.\n",
      "[I 2024-04-06 12:37:54,680] Trial 90 finished with value: -246524790.30732235 and parameters: {'n_estimators': 13, 'max_depth': 3}. Best is trial 67 with value: -251320171.51978716.\n",
      "[I 2024-04-06 12:37:54,728] Trial 91 finished with value: -249524526.41273353 and parameters: {'n_estimators': 14, 'max_depth': 3}. Best is trial 67 with value: -251320171.51978716.\n",
      "[I 2024-04-06 12:37:54,829] Trial 92 finished with value: -213271075.9945823 and parameters: {'n_estimators': 14, 'max_depth': 4}. Best is trial 67 with value: -251320171.51978716.\n",
      "[I 2024-04-06 12:37:54,916] Trial 93 finished with value: -210814733.5252312 and parameters: {'n_estimators': 24, 'max_depth': 6}. Best is trial 67 with value: -251320171.51978716.\n",
      "[I 2024-04-06 12:37:55,004] Trial 94 finished with value: -234991282.07928646 and parameters: {'n_estimators': 19, 'max_depth': 2}. Best is trial 67 with value: -251320171.51978716.\n",
      "[I 2024-04-06 12:37:55,073] Trial 95 finished with value: -206422059.64056244 and parameters: {'n_estimators': 16, 'max_depth': 3}. Best is trial 67 with value: -251320171.51978716.\n",
      "[I 2024-04-06 12:37:55,158] Trial 96 finished with value: -250725129.4024694 and parameters: {'n_estimators': 29, 'max_depth': 5}. Best is trial 67 with value: -251320171.51978716.\n",
      "[I 2024-04-06 12:37:55,211] Trial 97 finished with value: -221010103.66816673 and parameters: {'n_estimators': 12, 'max_depth': 5}. Best is trial 67 with value: -251320171.51978716.\n",
      "[I 2024-04-06 12:37:55,311] Trial 98 finished with value: -200881139.32850143 and parameters: {'n_estimators': 29, 'max_depth': 8}. Best is trial 67 with value: -251320171.51978716.\n",
      "[I 2024-04-06 12:37:55,373] Trial 99 finished with value: -208118211.54516473 and parameters: {'n_estimators': 16, 'max_depth': 4}. Best is trial 67 with value: -251320171.51978716.\n"
     ]
    },
    {
     "name": "stdout",
     "output_type": "stream",
     "text": [
      "Optimized Random Forest Regressor MSE: 78102083.88\n"
     ]
    }
   ],
   "source": [
    "# Otimização de hiperparâmetros com Optuna (exemplo com RandomForestRegressor)\n",
    "def objective(trial):\n",
    "    n_estimators = trial.suggest_int('n_estimators', 10, 100)\n",
    "    max_depth = trial.suggest_int('max_depth', 2, 32)\n",
    "    model = RandomForestRegressor(n_estimators=n_estimators, max_depth=max_depth)\n",
    "    score = cross_val_score(model, X_train, y_train, n_jobs=-1, cv=3, scoring='neg_mean_squared_error').mean()\n",
    "    return score\n",
    "\n",
    "study = optuna.create_study(direction='minimize')\n",
    "study.optimize(objective, n_trials=100)\n",
    "\n",
    "best_params = study.best_params\n",
    "best_model.set_params(**best_params)\n",
    "best_model.fit(X_train, y_train)\n",
    "y_pred = best_model.predict(X_test)\n",
    "mse = mean_squared_error(y_test, y_pred)\n",
    "print(f'Optimized {best_model_name} MSE: {round(mse,2)}')"
   ]
  }
 ],
 "metadata": {
  "kernelspec": {
   "display_name": "Python 3 (ipykernel)",
   "language": "python",
   "name": "python3"
  },
  "language_info": {
   "codemirror_mode": {
    "name": "ipython",
    "version": 3
   },
   "file_extension": ".py",
   "mimetype": "text/x-python",
   "name": "python",
   "nbconvert_exporter": "python",
   "pygments_lexer": "ipython3",
   "version": "3.12.2"
  }
 },
 "nbformat": 4,
 "nbformat_minor": 5
}

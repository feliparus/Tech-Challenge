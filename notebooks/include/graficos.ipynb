{
 "cells": [
  {
   "cell_type": "code",
   "execution_count": null,
   "id": "9e362871-32c3-48bc-a703-37f995722a2f",
   "metadata": {},
   "outputs": [],
   "source": [
    "!pip install pandas matplotlib"
   ]
  },
  {
   "cell_type": "code",
   "execution_count": null,
   "id": "e8e99428-aec0-480c-b659-688a0aae1336",
   "metadata": {},
   "outputs": [],
   "source": [
    "def montar_graficos(dados):\n",
    "    # Contar o número de ocorrências de algumas colunas\n",
    "    distribuicao_genero = dados['Gênero'].value_counts().sort_index()\n",
    "    distribuicao_imc = dados['Categoria IMC'].value_counts().sort_index()\n",
    "    distribuicao_filhos = dados['Filhos'].value_counts().sort_index()\n",
    "    \n",
    "    # Criar uma figura e uma grade de subplots\n",
    "    fig, axs = plt.subplots(2, 2, figsize=(20, 10))\n",
    "    \n",
    "    # Ajustar o espaçamento entre os subplots\n",
    "    plt.subplots_adjust(left=0.1, right=0.9, bottom=0.1, top=0.9, wspace=0.4, hspace=0.8)\n",
    "    \n",
    "    montar_grafico_barra_vertical(distribuicao_genero, axs[0, 0], 'Distribuição de Gênero', 'Número de Pessoas', 'Gênero')\n",
    "    \n",
    "    montar_grafico_barra_horizontal(distribuicao_imc, axs[0, 1], 'Distribuição de IMC', 'Número de Pessoas', 'Categoria')\n",
    "    \n",
    "    montar_grafico_histograma_idade(dados, axs[1, 0], 'Distribuição de Idade com Linha de Tendência', 'Idade', 'Densidade')\n",
    "    \n",
    "    montar_grafico_barra_horizontal(distribuicao_filhos, axs[1, 1], 'Distribuição do Número de Filhos', 'Número de Pessoas', 'Qtd. de Filhos')\n",
    "    \n",
    "    # Mostra os gráficos\n",
    "    plt.show()"
   ]
  }
 ],
 "metadata": {
  "kernelspec": {
   "display_name": "Python 3 (ipykernel)",
   "language": "python",
   "name": "python3"
  },
  "language_info": {
   "codemirror_mode": {
    "name": "ipython",
    "version": 3
   },
   "file_extension": ".py",
   "mimetype": "text/x-python",
   "name": "python",
   "nbconvert_exporter": "python",
   "pygments_lexer": "ipython3",
   "version": "3.12.2"
  }
 },
 "nbformat": 4,
 "nbformat_minor": 5
}

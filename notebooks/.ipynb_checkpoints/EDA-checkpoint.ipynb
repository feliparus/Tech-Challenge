{
 "cells": [
  {
   "cell_type": "code",
   "execution_count": 1,
   "id": "2eb2f7cd-7baf-4426-bd34-3150ea36bc73",
   "metadata": {},
   "outputs": [
    {
     "name": "stdout",
     "output_type": "stream",
     "text": [
      "Requirement already satisfied: pandas in c:\\users\\luiz.santos\\documents\\fiap grupo\\tech challenge\\.venv\\lib\\site-packages (2.2.1)\n",
      "Requirement already satisfied: scikit-learn in c:\\users\\luiz.santos\\documents\\fiap grupo\\tech challenge\\.venv\\lib\\site-packages (1.4.1.post1)\n",
      "Requirement already satisfied: numpy<2,>=1.26.0 in c:\\users\\luiz.santos\\documents\\fiap grupo\\tech challenge\\.venv\\lib\\site-packages (from pandas) (1.26.4)\n",
      "Requirement already satisfied: python-dateutil>=2.8.2 in c:\\users\\luiz.santos\\documents\\fiap grupo\\tech challenge\\.venv\\lib\\site-packages (from pandas) (2.9.0.post0)\n",
      "Requirement already satisfied: pytz>=2020.1 in c:\\users\\luiz.santos\\documents\\fiap grupo\\tech challenge\\.venv\\lib\\site-packages (from pandas) (2024.1)\n",
      "Requirement already satisfied: tzdata>=2022.7 in c:\\users\\luiz.santos\\documents\\fiap grupo\\tech challenge\\.venv\\lib\\site-packages (from pandas) (2024.1)\n",
      "Requirement already satisfied: scipy>=1.6.0 in c:\\users\\luiz.santos\\documents\\fiap grupo\\tech challenge\\.venv\\lib\\site-packages (from scikit-learn) (1.13.0)\n",
      "Requirement already satisfied: joblib>=1.2.0 in c:\\users\\luiz.santos\\documents\\fiap grupo\\tech challenge\\.venv\\lib\\site-packages (from scikit-learn) (1.3.2)\n",
      "Requirement already satisfied: threadpoolctl>=2.0.0 in c:\\users\\luiz.santos\\documents\\fiap grupo\\tech challenge\\.venv\\lib\\site-packages (from scikit-learn) (3.4.0)\n",
      "Requirement already satisfied: six>=1.5 in c:\\users\\luiz.santos\\documents\\fiap grupo\\tech challenge\\.venv\\lib\\site-packages (from python-dateutil>=2.8.2->pandas) (1.16.0)\n"
     ]
    }
   ],
   "source": [
    "!pip install pandas scikit-learn"
   ]
  },
  {
   "cell_type": "code",
   "execution_count": 2,
   "id": "fbe8ccbd-7e7e-4e6a-af15-ceb3d3ebf8e4",
   "metadata": {},
   "outputs": [],
   "source": [
    "import pandas as pd\n",
    "import matplotlib.pyplot as plt\n",
    "import numpy as np\n",
    "from include.utils import incrementar_dados_aleatorios_csv, categorizar_imc, montar_graficos, montar_grafico_correlacao, dados_especificos_coluna\n",
    "from sklearn.model_selection import train_test_split\n",
    "from sklearn.preprocessing import OneHotEncoder, LabelEncoder"
   ]
  },
  {
   "cell_type": "markdown",
   "id": "1b7d27ca-50a3-454c-9cb9-ebcbbf9d05a6",
   "metadata": {},
   "source": [
    "**1. Definição do Problema de Negócios**"
   ]
  },
  {
   "cell_type": "markdown",
   "id": "fce7a4ac-654d-4da3-a5ac-b337cbf893dd",
   "metadata": {},
   "source": [
    "**Contexto do Problema:**\n",
    "\n",
    "O contexto do problema é a construção de um modelo preditivo de regressão para prever os custos médicos individuais cobrados pelo seguro de saúde.\n",
    "Isso envolve analisar um conjunto de dados que contém informações sobre características individuais, como idade, gênero, IMC (índice de massa corporal), número de filhos, fumante ou não, região, entre outros, e os custos médicos correspondentes.\n",
    "\n",
    "**Objetivos da Análise:**\n",
    "\n",
    "- Desenvolver um modelo preditivo de regressão que possa fazer previsões confiáveis dos custos médicos individuais com base nas características fornecidas.\n",
    "- Avaliar a importância das diferentes características no modelo de previsão de custos médicos.\n",
    "- Identificar padrões e relacionamentos nos dados que possam ajudar a melhorar a precisão das previsões.\n",
    "- Fornecer insights para ajudar a entender os principais fatores que influenciam os custos médicos individuais.\n",
    "\n",
    "**Perguntas de Negócios:**\n",
    "\n",
    "- Quais características individuais têm maior impacto nos custos médicos cobrados pelo seguro de saúde?\n",
    "- Existe alguma correlação entre certas características (por exemplo, idade, IMC) e os custos médicos?\n",
    "- O número de filhos influencia significativamente nos custos médicos?\n",
    "- Há uma diferença significativa nos custos médicos entre fumantes e não fumantes?\n",
    "- Qual é o impacto da região de residência no custo médico individual?\n",
    "- Como o modelo pode ser utilizado para prever e planejar os custos médicos futuros?\n",
    "\n",
    "**Benefícios Esperados:**\n",
    "\n",
    "- Melhor compreensão dos fatores que contribuem para os custos médicos individuais.\n",
    "- Desenvolvimento de um modelo preditivo preciso que possa ser usado para prever custos médicos futuros com base em diferentes características individuais.\n",
    "- Melhoria na precificação do seguro de saúde, permitindo uma cobrança mais precisa e justa dos prêmios.\n",
    "- Potencial economia de custos para seguradoras e segurados, evitando subestimação ou superestimação dos custos médicos.\n",
    "\n",
    "**Descrição dos dados disponíveis**\n",
    "    \n",
    "Os dados disponíveis consistem em um conjunto de informações sobre segurados de um plano de saúde. Cada entrada no conjunto de dados contém as seguintes características:\n",
    "\n",
    "- **Idade (int):** A idade do segurado.\n",
    "- **Gênero (string):** O gênero do segurado (masculino ou feminino).\n",
    "- **IMC (float):** O índice de massa corporal do segurado.\n",
    "- **Número de Filhos (int):** O número de filhos do segurado.\n",
    "- **Fumante (string):** Indicação se o segurado é fumante ou não.\n",
    "- **Região (string):** A região geográfica onde o segurado reside.\n",
    "- **Encargos (float):** Os custos médicos individuais cobrados pelo seguro de saúde.\n",
    "\n",
    "Esses dados serão utilizados para desenvolver um modelo preditivo de regressão para prever os custos médicos individuais com base nas características fornecidas."
   ]
  },
  {
   "cell_type": "markdown",
   "id": "cfa81fcc-d427-4524-84f5-fe9e9d2d3a3e",
   "metadata": {},
   "source": [
    "**2. Análise dos Dados**"
   ]
  },
  {
   "cell_type": "markdown",
   "id": "04d437cf-2a72-46ae-b094-228c9e3d3a48",
   "metadata": {},
   "source": [
    "**Sumário dos Dados:**"
   ]
  },
  {
   "cell_type": "code",
   "execution_count": 3,
   "id": "879334fe-2922-44d2-bfa9-12bd5104a8a9",
   "metadata": {},
   "outputs": [
    {
     "name": "stdout",
     "output_type": "stream",
     "text": [
      "Ocorreu uma exceção: ufunc 'isnan' not supported for the input types, and the inputs could not be safely coerced to any supported types according to the casting rule ''safe''\n"
     ]
    },
    {
     "ename": "AttributeError",
     "evalue": "'NoneType' object has no attribute 'head'",
     "output_type": "error",
     "traceback": [
      "\u001b[1;31m---------------------------------------------------------------------------\u001b[0m",
      "\u001b[1;31mAttributeError\u001b[0m                            Traceback (most recent call last)",
      "Cell \u001b[1;32mIn[3], line 11\u001b[0m\n\u001b[0;32m      5\u001b[0m dados \u001b[38;5;241m=\u001b[39m incrementar_dados_aleatorios_csv(dados)\n\u001b[0;32m      7\u001b[0m \u001b[38;5;66;03m# Aplicar a função para categorizar IMC e criar uma nova coluna 'Categoria IMC'\u001b[39;00m\n\u001b[0;32m      8\u001b[0m \u001b[38;5;66;03m#dados['Categoria IMC'] = dados['IMC'].apply(categorizar_imc)\u001b[39;00m\n\u001b[0;32m      9\u001b[0m \n\u001b[0;32m     10\u001b[0m \u001b[38;5;66;03m#print(\"\\nLista de todas colunas:\\n\\n\", list(dados))\u001b[39;00m\n\u001b[1;32m---> 11\u001b[0m \u001b[38;5;28mprint\u001b[39m(\u001b[38;5;124m\"\u001b[39m\u001b[38;5;130;01m\\n\u001b[39;00m\u001b[38;5;124mAmostra dos dados:\u001b[39m\u001b[38;5;130;01m\\n\u001b[39;00m\u001b[38;5;130;01m\\n\u001b[39;00m\u001b[38;5;124m\"\u001b[39m, \u001b[43mdados\u001b[49m\u001b[38;5;241;43m.\u001b[39;49m\u001b[43mhead\u001b[49m())\n\u001b[0;32m     12\u001b[0m \u001b[38;5;28mprint\u001b[39m(\u001b[38;5;124mf\u001b[39m\u001b[38;5;124m\"\u001b[39m\u001b[38;5;130;01m\\n\u001b[39;00m\u001b[38;5;124mQuantidade de linhas: \u001b[39m\u001b[38;5;132;01m{\u001b[39;00mdados\u001b[38;5;241m.\u001b[39mshape[\u001b[38;5;241m0\u001b[39m]\u001b[38;5;132;01m}\u001b[39;00m\u001b[38;5;124m. Quantidade de colunas: \u001b[39m\u001b[38;5;132;01m{\u001b[39;00mdados\u001b[38;5;241m.\u001b[39mshape[\u001b[38;5;241m1\u001b[39m]\u001b[38;5;132;01m}\u001b[39;00m\u001b[38;5;124m\"\u001b[39m)\n\u001b[0;32m     13\u001b[0m \u001b[38;5;28mprint\u001b[39m(\u001b[38;5;124m\"\u001b[39m\u001b[38;5;130;01m\\n\u001b[39;00m\u001b[38;5;124mTipos de dados das colunas:\u001b[39m\u001b[38;5;130;01m\\n\u001b[39;00m\u001b[38;5;130;01m\\n\u001b[39;00m\u001b[38;5;124m\"\u001b[39m, dados\u001b[38;5;241m.\u001b[39mdtypes)\n",
      "\u001b[1;31mAttributeError\u001b[0m: 'NoneType' object has no attribute 'head'"
     ]
    }
   ],
   "source": [
    "# leia os dados CSV indicados no site da FIAP\n",
    "dados = pd.read_csv('../base_dados.csv', encoding='latin-1')\n",
    "\n",
    "# aqui chamo a função incrementar_dados_aleatorios, para aumentar o volume da variável dados\n",
    "dados = incrementar_dados_aleatorios_csv(dados)\n",
    "\n",
    "# Aplicar a função para categorizar IMC e criar uma nova coluna 'Categoria IMC'\n",
    "dados['Categoria IMC'] = dados['IMC'].apply(categorizar_imc)\n",
    "\n",
    "print(\"\\nLista de todas colunas:\\n\\n\", list(dados))\n",
    "print(\"\\nAmostra dos dados:\\n\\n\", dados.head())\n",
    "print(f\"\\nQuantidade de linhas: {dados.shape[0]}. Quantidade de colunas: {dados.shape[1]}\")\n",
    "print(\"\\nTipos de dados das colunas:\\n\\n\", dados.dtypes)\n",
    "print(\"\\nQuantidade de valores ausentes por coluna:\\n\\n\", dados.isnull().sum())"
   ]
  },
  {
   "cell_type": "markdown",
   "id": "a7abe60c-f720-4efa-8d66-d6855eb638bb",
   "metadata": {},
   "source": [
    "**Visualização dos Dados:** gráficos para entender a distribuição e padrões nos dados."
   ]
  },
  {
   "cell_type": "code",
   "execution_count": null,
   "id": "4b1c5d14-c458-41e9-ab40-e5afa6250370",
   "metadata": {},
   "outputs": [],
   "source": [
    "montar_graficos(dados)"
   ]
  },
  {
   "cell_type": "markdown",
   "id": "ea8968b7-40aa-4a68-88fc-e457e243464f",
   "metadata": {},
   "source": [
    "**3. Separação dos Dados em Treino e Teste**"
   ]
  },
  {
   "cell_type": "code",
   "execution_count": null,
   "id": "b1fd369c-c1e5-4f13-94ee-bbe684b01aae",
   "metadata": {},
   "outputs": [],
   "source": [
    "# Dividir os dados em features (X) e target (y)\n",
    "X = dados.drop('Encargos', axis=1)  # Substitua 'target_column_name' pelo nome da coluna alvo\n",
    "y = dados['Encargos']\n",
    "\n",
    "# Codificar variáveis categóricas usando one-hot encoding\n",
    "encoder = OneHotEncoder(drop='first')\n",
    "X_encoded = encoder.fit_transform(X[['Gênero', 'Região']])\n",
    "\n",
    "# Concatenar features codificadas com as restantes\n",
    "X_encoded = pd.DataFrame(X_encoded.toarray(), columns=encoder.get_feature_names_out(['Gênero', 'Região']), index=X.index)\n",
    "X = pd.concat([X.drop(['Gênero', 'Região'], axis=1), X_encoded], axis=1)\n",
    "\n",
    "# Codificar variável categórica 'IMC' com LabelEncoder\n",
    "label_encoder = LabelEncoder()\n",
    "X['Categoria IMC'] = label_encoder.fit_transform(X['Categoria IMC'])\n",
    "\n",
    "# Substituir valores 'sim' e 'não' por 1 e 0\n",
    "X['Fumante'] = X['Fumante'].map({'sim': 1, 'não': 0})\n",
    "\n",
    "# Dividir os dados em conjuntos de treinamento e teste\n",
    "X_train, X_test, y_train, y_test = train_test_split(X, y, test_size=0.2, random_state=42)"
   ]
  },
  {
   "cell_type": "markdown",
   "id": "047add22-d11f-4371-9bac-5cc87ed10181",
   "metadata": {},
   "source": [
    "**4. Análise Exploratória de Dados**"
   ]
  },
  {
   "cell_type": "markdown",
   "id": "c4916fde-8cc1-4f3a-8c44-f34bbba00b7b",
   "metadata": {},
   "source": [
    "**Resumo Estatístico:**"
   ]
  },
  {
   "cell_type": "code",
   "execution_count": null,
   "id": "637ff201-c2ec-4388-9094-6f4e99de3e9c",
   "metadata": {},
   "outputs": [],
   "source": [
    "print(\"\\nInformações adicionais sobre os dados:\\n\\n\", dados.describe())\n",
    "\n",
    "dados_especificos_coluna(dados, \"Idade\")\n",
    "dados_especificos_coluna(dados, \"IMC\")\n",
    "dados_especificos_coluna(dados, \"Filhos\")\n",
    "dados_especificos_coluna(dados, \"Encargos\")"
   ]
  },
  {
   "cell_type": "markdown",
   "id": "787d368e-4481-4a03-924f-165dadbe3fc8",
   "metadata": {},
   "source": [
    "**Identificação de Outliers:** "
   ]
  },
  {
   "cell_type": "code",
   "execution_count": null,
   "id": "dc4b0c83-e992-496f-9533-16792b30542e",
   "metadata": {},
   "outputs": [],
   "source": [
    "for coluna in dados.columns:\n",
    "    # quartis só funcionam em colunas numéricas\n",
    "    if dados[coluna].dtype in ['int64', 'float64']:\n",
    "        # Calcular os quartis para a coluna atual\n",
    "        quartis = dados[coluna].quantile([0.25, 0.5, 0.75])\n",
    "        \n",
    "        # Exibir os quartis\n",
    "        print(\"Quartis para a coluna\", coluna)\n",
    "        print(quartis)\n",
    "        print()\n",
    "\n",
    "        \"\"\"\n",
    "        # Calcular os quartis\n",
    "        Q1 = dados[coluna].quantile(0.25)\n",
    "        Q3 = dados[coluna].quantile(0.75)\n",
    "        \n",
    "        # Calcular o intervalo interquartil (IQR)\n",
    "        IQR = Q3 - Q1\n",
    "        \n",
    "        # Definir o limite inferior e superior para identificar outliers\n",
    "        limite_inferior = Q1 - 1.5 * IQR\n",
    "        limite_superior = Q3 + 1.5 * IQR\n",
    "        \n",
    "        # Identificar outliers\n",
    "        outliers = dados[(dados[coluna] < limite_inferior) | (dados[coluna] > limite_superior)]\n",
    "    \n",
    "        # Exibir os outliers identificados\n",
    "        print(\"Outliers:\")\n",
    "        print(outliers)\n",
    "        \"\"\""
   ]
  },
  {
   "cell_type": "markdown",
   "id": "83ca757a-c305-46ed-8e71-bfe18b2a0ac6",
   "metadata": {},
   "source": [
    "**Visualizações Gráficas:** Visualizações gráficas para entender a distribuição e relacionamentos entre as variáveis"
   ]
  },
  {
   "cell_type": "code",
   "execution_count": null,
   "id": "21454e9e-fd69-43f5-8827-5e78cb4a804a",
   "metadata": {},
   "outputs": [],
   "source": [
    "fig, axs = plt.subplots(1, 2, figsize=(20, 10))\n",
    "\n",
    "montar_grafico_correlacao(dados['Idade'], dados['Encargos'], axs[0],\n",
    "                          'Correlação entre Idade e Encargos Médicos', 'Idade', 'Encargos Médicos')\n",
    "\n",
    "montar_grafico_correlacao(dados['Filhos'], dados['Encargos'], axs[1],\n",
    "                          'Correlação entre Número de Filhos e Encargos Médicos', 'Número de Filhos', 'Encargos Médicos')\n",
    "\n",
    "# Mostra os gráficos\n",
    "plt.show()\n",
    "\n",
    "# Calcula a correlação\n",
    "#correlacao_filhos_encargos = dados['Filhos'].corr(dados['Encargos'])\n",
    "#print(\"\\nCorrelação entre Número de Filhos e Encargos Médicos:\\n\", correlacao_filhos_encargos)\n",
    "#print('-' * 100)"
   ]
  }
 ],
 "metadata": {
  "kernelspec": {
   "display_name": "Python 3 (ipykernel)",
   "language": "python",
   "name": "python3"
  },
  "language_info": {
   "codemirror_mode": {
    "name": "ipython",
    "version": 3
   },
   "file_extension": ".py",
   "mimetype": "text/x-python",
   "name": "python",
   "nbconvert_exporter": "python",
   "pygments_lexer": "ipython3",
   "version": "3.12.2"
  }
 },
 "nbformat": 4,
 "nbformat_minor": 5
}

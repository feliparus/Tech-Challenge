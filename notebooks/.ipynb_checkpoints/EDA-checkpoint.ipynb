{
 "cells": [
  {
   "cell_type": "code",
   "execution_count": 1,
   "id": "2eb2f7cd-7baf-4426-bd34-3150ea36bc73",
   "metadata": {},
   "outputs": [
    {
     "name": "stdout",
     "output_type": "stream",
     "text": [
      "Requirement already satisfied: pandas in c:\\users\\luiz.santos\\documents\\fiap grupo\\tech challenge\\.venv\\lib\\site-packages (2.2.1)\n",
      "Requirement already satisfied: scikit-learn in c:\\users\\luiz.santos\\documents\\fiap grupo\\tech challenge\\.venv\\lib\\site-packages (1.4.1.post1)\n",
      "Requirement already satisfied: numpy<2,>=1.26.0 in c:\\users\\luiz.santos\\documents\\fiap grupo\\tech challenge\\.venv\\lib\\site-packages (from pandas) (1.26.4)\n",
      "Requirement already satisfied: python-dateutil>=2.8.2 in c:\\users\\luiz.santos\\documents\\fiap grupo\\tech challenge\\.venv\\lib\\site-packages (from pandas) (2.9.0.post0)\n",
      "Requirement already satisfied: pytz>=2020.1 in c:\\users\\luiz.santos\\documents\\fiap grupo\\tech challenge\\.venv\\lib\\site-packages (from pandas) (2024.1)\n",
      "Requirement already satisfied: tzdata>=2022.7 in c:\\users\\luiz.santos\\documents\\fiap grupo\\tech challenge\\.venv\\lib\\site-packages (from pandas) (2024.1)\n",
      "Requirement already satisfied: scipy>=1.6.0 in c:\\users\\luiz.santos\\documents\\fiap grupo\\tech challenge\\.venv\\lib\\site-packages (from scikit-learn) (1.13.0)\n",
      "Requirement already satisfied: joblib>=1.2.0 in c:\\users\\luiz.santos\\documents\\fiap grupo\\tech challenge\\.venv\\lib\\site-packages (from scikit-learn) (1.3.2)\n",
      "Requirement already satisfied: threadpoolctl>=2.0.0 in c:\\users\\luiz.santos\\documents\\fiap grupo\\tech challenge\\.venv\\lib\\site-packages (from scikit-learn) (3.4.0)\n",
      "Requirement already satisfied: six>=1.5 in c:\\users\\luiz.santos\\documents\\fiap grupo\\tech challenge\\.venv\\lib\\site-packages (from python-dateutil>=2.8.2->pandas) (1.16.0)\n"
     ]
    }
   ],
   "source": [
    "!pip install pandas scikit-learn"
   ]
  },
  {
   "cell_type": "code",
   "execution_count": 2,
   "id": "fbe8ccbd-7e7e-4e6a-af15-ceb3d3ebf8e4",
   "metadata": {},
   "outputs": [],
   "source": [
    "from include.graficos import *\n",
    "from include.utils import *\n",
    "import matplotlib.pyplot as plt\n",
    "import numpy as np\n",
    "import os\n",
    "import pandas as pd\n",
    "import seaborn as sns\n",
    "from sklearn.model_selection import train_test_split\n",
    "from sklearn.preprocessing import OneHotEncoder, LabelEncoder"
   ]
  },
  {
   "cell_type": "markdown",
   "id": "1b7d27ca-50a3-454c-9cb9-ebcbbf9d05a6",
   "metadata": {},
   "source": [
    "**1. Definição do Problema de Negócios**"
   ]
  },
  {
   "cell_type": "markdown",
   "id": "fce7a4ac-654d-4da3-a5ac-b337cbf893dd",
   "metadata": {},
   "source": [
    "**Contexto do Problema:**\n",
    "\n",
    "O contexto do problema é a construção de um modelo preditivo para prever os custos médicos individuais cobrados pelo seguro de saúde.\n",
    "Isso envolve analisar um conjunto de dados que contém informações sobre características individuais, como idade, gênero, IMC (índice de massa corporal), número de filhos, fumante ou não, região, entre outros, e os custos médicos correspondentes.\n",
    "\n",
    "**Objetivos da Análise:**\n",
    "\n",
    "- Considerar na escolha do modelo aquele que entregar a melhor acurácia.\n",
    "- Desenvolver um modelo preditivo que possa fazer previsões confiáveis dos custos médicos individuais com base nas características fornecidas.\n",
    "- Avaliar a importância das diferentes características no modelo de previsão de custos médicos.\n",
    "- Identificar padrões e relacionamentos nos dados que possam ajudar a melhorar a precisão das previsões.\n",
    "- Fornecer insights para ajudar a entender os principais fatores que influenciam os custos médicos individuais.\n",
    "\n",
    "**Perguntas de Negócios:**\n",
    "\n",
    "- Quais características individuais têm maior impacto nos custos médicos cobrados pelo seguro de saúde?\n",
    "- Existe alguma correlação entre certas características (por exemplo, idade, IMC) e os custos médicos?\n",
    "- O número de filhos influencia significativamente nos custos médicos?\n",
    "- Há uma diferença significativa nos custos médicos entre fumantes e não fumantes?\n",
    "- Como o modelo pode ser utilizado para prever e planejar os custos médicos futuros?\n",
    "\n",
    "**Benefícios Esperados:**\n",
    "\n",
    "- Melhor compreensão dos fatores que contribuem para os custos médicos individuais.\n",
    "- Desenvolvimento de um modelo preditivo preciso que possa ser usado para prever custos médicos futuros com base em diferentes características individuais.\n",
    "- Melhoria na precificação do seguro de saúde, permitindo uma cobrança mais precisa e justa dos prêmios.\n",
    "- Potencial economia de custos para seguradoras e segurados, evitando subestimação ou superestimação dos custos médicos.\n",
    "\n",
    "**Descrição dos dados disponíveis**\n",
    "    \n",
    "Os dados disponíveis consistem em um conjunto de informações sobre segurados de um plano de saúde. Cada entrada no conjunto de dados contém as seguintes características:\n",
    "\n",
    "- **Idade (int):** A idade do segurado.\n",
    "- **Gênero (string):** O gênero do segurado (masculino ou feminino).\n",
    "- **IMC (float):** O índice de massa corporal do segurado.\n",
    "- **Número de Filhos (int):** O número de filhos do segurado.\n",
    "- **Fumante (string):** Indicação se o segurado é fumante ou não.\n",
    "- **Região (string):** A região geográfica onde o segurado reside.\n",
    "- **Encargos (float):** Os custos médicos individuais cobrados pelo seguro de saúde.\n",
    "\n",
    "Durante o processamento, os dados são salvos em 7 planilhas (pasta planilhas):\n",
    "- **1_dados_sinteticos.csv:** Esta planilha é gerada com dados embaralhados, contendo dados nan em colunas distintas e também de forma aleatória\n",
    "- **2_dados_processados_treino.csv:** Esta planilha é gerada na etapa \"Separação dos Dados em Treino e Teste\". Nesta planilha estão contidos o conjunto dos treinos\n",
    "- **3_dados_processados_teste.csv:** Esta planilha é gerada na etapa \"Separação dos Dados em Treino e Teste\". Nesta planilha estão contidos o conjunto dos testes\n",
    "- **4_dados_processados_treino_target.csv:** Esta planilha é gerada na etapa \"Separação dos Dados em Treino e Teste\". Nesta planilha estão contidos os alvos dos treinos\n",
    "- **5_dados_processados_teste_target.csv:** Esta planilha é gerada na etapa \"Separação dos Dados em Treino e Teste\". Nesta planilha estão contidos os alvos dos testes\n",
    "- **6_dados_com_outliers.csv:** Esta planilha demostra os outliers para cada coluna\n",
    "- **7_dados_futuros.csv:** Esta planilha é gerada para realizar previsões futuras, após escolha do melhor modelo\n",
    "\n",
    "Esses dados serão utilizados para desenvolver um modelo preditivo para prever os custos médicos individuais com base nas características fornecidas. Para alcançar esse objetivo, a avaliação dos modelos será realizada com base em métricas como R² (coeficiente de determinação) e MAE (erro absoluto médio) para medir a acurácia dos modelos. A seleção do melhor modelo será feita com base na acurácia média com validação cruzada, e a otimização de hiperparâmetros será direcionada para maximizar a acurácia do modelo selecionado."
   ]
  },
  {
   "cell_type": "markdown",
   "id": "cfa81fcc-d427-4524-84f5-fe9e9d2d3a3e",
   "metadata": {},
   "source": [
    "**2. Análise dos Dados**"
   ]
  },
  {
   "cell_type": "markdown",
   "id": "04d437cf-2a72-46ae-b094-228c9e3d3a48",
   "metadata": {},
   "source": [
    "**Sumário dos Dados:**"
   ]
  },
  {
   "cell_type": "code",
   "execution_count": 3,
   "id": "b9c82d51-faa0-450b-8140-1cecbbaa9791",
   "metadata": {},
   "outputs": [],
   "source": [
    "# Obtém a largura do terminal - uso mais embaixo nos prints\n",
    "terminal_width = os.get_terminal_size().columns\n",
    "\n",
    "# Variáveis necessárias para geração da planilha 1_dados_sinteticos.csv\n",
    "quantidade_linhas = 10000\n",
    "quantidade_ausencia_dados = 500\n",
    "\n",
    "# Criando o csv que será usado neste Tech Challenge\n",
    "dados = obter_csv_dados_aleatorios(quantidade_linhas, quantidade_ausencia_dados)"
   ]
  },
  {
   "cell_type": "code",
   "execution_count": 4,
   "id": "879334fe-2922-44d2-bfa9-12bd5104a8a9",
   "metadata": {},
   "outputs": [
    {
     "name": "stdout",
     "output_type": "stream",
     "text": [
      "--------------------------------------------------------------------------------------------------------------------------------------------------------------------------------------------\n",
      "\n",
      "Lista de todas colunas:\n",
      "\n",
      " ['Idade', 'Gênero', 'IMC', 'Categoria_IMC', 'Filhos', 'Fumante', 'Região', 'Fumante_Numero', 'Encargos']\n",
      "--------------------------------------------------------------------------------------------------------------------------------------------------------------------------------------------\n",
      "\n",
      "Amostra dos dados:\n",
      "\n",
      "    Idade     Gênero    IMC      Categoria_IMC  Filhos Fumante    Região  \\\n",
      "0   <NA>  masculino  24.09        Peso normal       3     não  sudoeste   \n",
      "1     48        NaN  20.97        Peso normal       3     sim  sudoeste   \n",
      "2     34  masculino    NaN  IMC Não informado       0     não  noroeste   \n",
      "3     63   feminino  19.91        Peso normal       2     sim  nordeste   \n",
      "4     45  masculino  21.41        Peso normal       2     sim  nordeste   \n",
      "\n",
      "   Fumante_Numero  Encargos  \n",
      "0             0.0   2363.64  \n",
      "1             1.0   5934.27  \n",
      "2             0.0   3056.15  \n",
      "3             1.0   6610.67  \n",
      "4             1.0   4819.53  \n",
      "--------------------------------------------------------------------------------------------------------------------------------------------------------------------------------------------\n",
      "\n",
      "Quantidade de linhas: 10000. Quantidade de colunas: 9\n",
      "--------------------------------------------------------------------------------------------------------------------------------------------------------------------------------------------\n",
      "\n",
      "Tipos de dados das colunas:\n",
      "\n",
      " Idade               Int64\n",
      "Gênero             object\n",
      "IMC               float64\n",
      "Categoria_IMC      object\n",
      "Filhos              Int64\n",
      "Fumante            object\n",
      "Região             object\n",
      "Fumante_Numero    float64\n",
      "Encargos          float64\n",
      "dtype: object\n",
      "--------------------------------------------------------------------------------------------------------------------------------------------------------------------------------------------\n",
      "\n",
      "Quantidade de valores ausentes por coluna:\n",
      "\n",
      " Idade             500\n",
      "Gênero            500\n",
      "IMC               500\n",
      "Categoria_IMC       0\n",
      "Filhos            500\n",
      "Fumante           500\n",
      "Região            500\n",
      "Fumante_Numero    500\n",
      "Encargos            0\n",
      "dtype: int64\n"
     ]
    }
   ],
   "source": [
    "# Criando uma nova coluna 'Categoria_IMC' depois da coluna 'IMC'\n",
    "dados.insert(dados.columns.get_loc('IMC') + 1, 'Categoria_IMC', dados['IMC'].apply(categorizar_imc))\n",
    "\n",
    "# Criando mais uma coluna fumante_numero, para usar mais pra frente na correlação (depois será removido)\n",
    "mapeamento_fumante = dados['Fumante'].map({'sim': 1, 'não': 0})\n",
    "\n",
    "# Criar uma nova coluna 'Fumante_Numero' antes da coluna 'Encargos'\n",
    "dados.insert(dados.columns.get_loc('Encargos'), 'Fumante_Numero', mapeamento_fumante)\n",
    "\n",
    "# Imprimindo detalhes necessários\n",
    "print('-' * terminal_width)\n",
    "print(\"\\nLista de todas colunas:\\n\\n\", list(dados))\n",
    "print('-' * terminal_width)\n",
    "print(\"\\nAmostra dos dados:\\n\\n\", dados.head(10))\n",
    "print('-' * terminal_width)\n",
    "print(f\"\\nQuantidade de linhas: {dados.shape[0]}. Quantidade de colunas: {dados.shape[1]}\")\n",
    "print('-' * terminal_width)\n",
    "print(\"\\nTipos de dados das colunas:\\n\\n\", dados.dtypes)\n",
    "print('-' * terminal_width)\n",
    "print(\"\\nQuantidade de valores ausentes por coluna:\\n\\n\", dados.isnull().sum())"
   ]
  },
  {
   "cell_type": "markdown",
   "id": "a7abe60c-f720-4efa-8d66-d6855eb638bb",
   "metadata": {},
   "source": [
    "**Visualização dos Dados:** gráficos para entender a distribuição e padrões nos dados."
   ]
  },
  {
   "cell_type": "code",
   "execution_count": null,
   "id": "b4f86cc9-b24d-48a0-a875-7eb9eaf15d39",
   "metadata": {},
   "outputs": [],
   "source": [
    "montar_grafico_histograma_idade(dados, 'Distribuição de Idade', 'Idade', 'Número de Pessoas')"
   ]
  },
  {
   "cell_type": "code",
   "execution_count": null,
   "id": "4b1c5d14-c458-41e9-ab40-e5afa6250370",
   "metadata": {
    "scrolled": true
   },
   "outputs": [],
   "source": [
    "montar_graficos_visualizacao_inicial(dados)"
   ]
  },
  {
   "cell_type": "markdown",
   "id": "ea8968b7-40aa-4a68-88fc-e457e243464f",
   "metadata": {},
   "source": [
    "**3. Separação dos Dados em Treino e Teste**"
   ]
  },
  {
   "cell_type": "code",
   "execution_count": null,
   "id": "82720d20-942e-42db-9d54-f9e0709fa7ea",
   "metadata": {},
   "outputs": [],
   "source": [
    "# Dividindo os dados em features (X) e target (y)\n",
    "X = dados.drop(['Encargos','Gênero','Região','Categoria_IMC','Fumante_Numero'], axis=1)  # descartando colunas não necessárias para o teste\n",
    "colunas_descartadas = dados[['Gênero','Região','Categoria_IMC']]\n",
    "\n",
    "y = dados['Encargos']\n",
    "\n",
    "# Codificando variáveis com LabelEncoder\n",
    "label_encoder = LabelEncoder()\n",
    "X['Fumante'] = label_encoder.fit_transform(X['Fumante'])\n",
    "\n",
    "# Substituindo valores 'sim' e 'não' por 1 e 0 (comentando porque o resultado é o mesmo no LabelEncoder\n",
    "#X['Fumante'] = X['Fumante'].map({'sim': 1, 'não': 0})\n",
    "\n",
    "print(\"\\nAmostra dos primeiros 20 registros:\\n\\n\", X.head(20))"
   ]
  },
  {
   "cell_type": "code",
   "execution_count": null,
   "id": "b1fd369c-c1e5-4f13-94ee-bbe684b01aae",
   "metadata": {},
   "outputs": [],
   "source": [
    "# Comentado todo bloco abaixo que usava OneHotEncoder, durante o desenvolvimento decidimos outras estratégias (mas mantivemos para estudos futuros)\n",
    "# Dividir os dados em features (X) e target (y)\n",
    "#X = dados.drop(['Encargos'], axis=1)  # descartando colunas não necessárias para o teste\n",
    "#y = dados['Encargos']\n",
    "\n",
    "# Codificar variáveis categóricas usando one-hot encoding\n",
    "#colunas_codificadas_via_one_hot = ['Região']\n",
    "#encoder = OneHotEncoder(drop='first')\n",
    "#X_encoded = encoder.fit_transform(X[colunas_codificadas_via_one_hot])\n",
    "\n",
    "# Concatenar features codificadas com as restantes\n",
    "#X_encoded = pd.DataFrame(X_encoded.toarray(), columns=encoder.get_feature_names_out(colunas_codificadas_via_one_hot), index=X.index)\n",
    "#X = pd.concat([X.drop(colunas_codificadas_via_one_hot, axis=1), X_encoded], axis=1)\n",
    "\n",
    "# Codificar variáveis com LabelEncoder\n",
    "#label_encoder = LabelEncoder()\n",
    "#X['Gênero'] = label_encoder.fit_transform(X['Gênero'])\n",
    "#X['Fumante'] = label_encoder.fit_transform(X['Fumante'])\n",
    "\n",
    "#X['Categoria_IMC'] = label_encoder.fit_transform(X['Categoria_IMC'])"
   ]
  },
  {
   "cell_type": "code",
   "execution_count": null,
   "id": "372734fa-086e-4f8a-b7cd-a0f7bcd1e7f5",
   "metadata": {},
   "outputs": [],
   "source": [
    "# Dividindo os dados em conjuntos de treinamento e teste\n",
    "X_train, X_test, y_train, y_test = train_test_split(X, y, test_size=0.2, random_state=42)\n",
    "\n",
    "# Inserindo as colunas descartadas em X_train\n",
    "for coluna in colunas_descartadas.columns:\n",
    "    X_train.insert(loc=len(X_train.columns), column=coluna, value=colunas_descartadas[coluna])\n",
    "\n",
    "# Inserindo as colunas descartadas em X_test\n",
    "for coluna in colunas_descartadas.columns:\n",
    "    X_test.insert(loc=len(X_test.columns), column=coluna, value=colunas_descartadas[coluna])\n",
    "\n",
    "# Salvando o conjunto dos treinos\n",
    "X_train.to_csv(\"../planilhas/2_dados_processados_treino.csv\", index=False, encoding='latin1')\n",
    "\n",
    "# Salvando o conjunto dos testes\n",
    "X_test.to_csv(\"../planilhas/3_dados_processados_teste.csv\", index=False, encoding='latin1')\n",
    "\n",
    "# Salvando o conjunto dos alvos do treino\n",
    "y_train.to_csv(\"../planilhas/4_dados_processados_treino_target.csv\", index=False, encoding='latin1')\n",
    "\n",
    "# Salvando o conjunto dos alvos do teste\n",
    "y_test.to_csv(\"../planilhas/5_dados_processados_teste_target.csv\", index=False, encoding='latin1')"
   ]
  },
  {
   "cell_type": "markdown",
   "id": "047add22-d11f-4371-9bac-5cc87ed10181",
   "metadata": {},
   "source": [
    "**4. Análise Exploratória de Dados**"
   ]
  },
  {
   "cell_type": "markdown",
   "id": "c4916fde-8cc1-4f3a-8c44-f34bbba00b7b",
   "metadata": {},
   "source": [
    "**Resumo Estatístico:**"
   ]
  },
  {
   "cell_type": "code",
   "execution_count": null,
   "id": "637ff201-c2ec-4388-9094-6f4e99de3e9c",
   "metadata": {},
   "outputs": [],
   "source": [
    "print(\"\\nResumo Estatístico sobre todos os dados:\\n\\n\", dados.describe())\n",
    "print('-' * terminal_width)\n",
    "print(\"\\nResumo Estatístico sobre a feature Gênero:\\n\\n\", dados.groupby(\"Gênero\").describe())\n",
    "print('-' * terminal_width)\n",
    "print(\"\\nResumo Estatístico sobre a feature Categoria IMC:\\n\\n\", dados.groupby(\"Categoria_IMC\").describe())\n",
    "print('-' * terminal_width)\n",
    "print(\"\\nResumo Estatístico sobre a feature Fumante:\\n\\n\", dados.groupby(\"Fumante\").describe())\n",
    "print('-' * terminal_width)\n",
    "print(\"\\nResumo Estatístico sobre a feature Região:\\n\\n\", dados.groupby(\"Região\").describe())"
   ]
  },
  {
   "cell_type": "code",
   "execution_count": null,
   "id": "b54aad73-36c7-49e9-b7ff-1620db633007",
   "metadata": {},
   "outputs": [],
   "source": [
    "# Imprindo dados mais específicos de algumas colunas\n",
    "dados_especificos_coluna(dados, \"Idade\")\n",
    "dados_especificos_coluna(dados, \"IMC\")\n",
    "dados_especificos_coluna(dados, \"Filhos\")\n",
    "dados_especificos_coluna(dados, \"Encargos\")"
   ]
  },
  {
   "cell_type": "code",
   "execution_count": null,
   "id": "13c00f8a-6329-4e51-b013-5b329f6baaa5",
   "metadata": {
    "scrolled": true
   },
   "outputs": [],
   "source": [
    "# Gerando gráfico de mapa de calor\n",
    "numeric_columns = dados.select_dtypes(include='number')\n",
    "\n",
    "correlation_matrix = numeric_columns.corr().round(2)\n",
    "\n",
    "fig, ax = plt.subplots(figsize=(20,20))\n",
    "sns.heatmap(data=correlation_matrix, annot=True, linewidths=.5, ax=ax, cmap=\"coolwarm\")\n",
    "\n",
    "# Removendo a coluna Fumante_Numero, não mais necessária (coluna Fumante mantida)\n",
    "dados.drop(columns=['Fumante_Numero'], inplace=True)"
   ]
  },
  {
   "cell_type": "markdown",
   "id": "787d368e-4481-4a03-924f-165dadbe3fc8",
   "metadata": {},
   "source": [
    "**Identificação de Outliers:** "
   ]
  },
  {
   "cell_type": "code",
   "execution_count": null,
   "id": "40436065-a5ae-4b2b-8ac5-0b1bc4a3102b",
   "metadata": {},
   "outputs": [],
   "source": [
    "# Loop sobre as colunas\n",
    "for coluna in dados.columns:\n",
    "    # Quartis só funcionam em colunas numéricas\n",
    "    if dados[coluna].dtype in ['int32','int64', 'float64']:\n",
    "        # Calculando os quartis para a coluna atual\n",
    "        quartis = dados[coluna].quantile([0.25, 0.75])\n",
    "        \n",
    "        # Calculando o intervalo interquartil (IQR)\n",
    "        iqr = quartis[0.75] - quartis[0.25]\n",
    "        \n",
    "        # Definindo limites para identificar outliers\n",
    "        limite_inferior = quartis[0.25] - 1.5 * iqr\n",
    "        limite_superior = quartis[0.75] + 1.5 * iqr\n",
    "        \n",
    "        # Marcando os outliers como NaN\n",
    "        dados['outlier_mask_' + coluna] = ((dados[coluna] < limite_inferior) | (dados[coluna] > limite_superior)).astype(int)\n",
    "        dados[coluna] = dados[coluna].mask(dados['outlier_mask_' + coluna] == 1)\n",
    "\n",
    "# Salvando os dados com os outliers\n",
    "dados.to_csv(\"../planilhas/6_dados_com_outliers.csv\", index=False, encoding='latin1')\n",
    "        \n",
    "# Removendo colunas de máscara de outliers\n",
    "dados.drop(columns=[col for col in dados.columns if 'outlier_mask_' in col], inplace=True)\n",
    "\n",
    "# Definindo o tamanho da figura para expandir a área do gráfico\n",
    "fig, ax = plt.subplots(figsize=(12, 8))\n",
    "\n",
    "# Plotando o boxplot\n",
    "sns.boxplot(data=dados, ax=ax)"
   ]
  },
  {
   "cell_type": "markdown",
   "id": "83ca757a-c305-46ed-8e71-bfe18b2a0ac6",
   "metadata": {},
   "source": [
    "**Visualizações Gráficas:** Visualizações gráficas para entender a distribuição e relacionamentos entre as variáveis"
   ]
  },
  {
   "cell_type": "code",
   "execution_count": null,
   "id": "58f42196-ad3c-40a5-a79a-c9ebb270c0e4",
   "metadata": {},
   "outputs": [],
   "source": [
    "# Exibindo gráficos que demonstram a correlação entr features e o target (Encargos)\n",
    "montar_graficos_relacionamento_encargos(dados)"
   ]
  }
 ],
 "metadata": {
  "kernelspec": {
   "display_name": "Python 3 (ipykernel)",
   "language": "python",
   "name": "python3"
  },
  "language_info": {
   "codemirror_mode": {
    "name": "ipython",
    "version": 3
   },
   "file_extension": ".py",
   "mimetype": "text/x-python",
   "name": "python",
   "nbconvert_exporter": "python",
   "pygments_lexer": "ipython3",
   "version": "3.12.2"
  }
 },
 "nbformat": 4,
 "nbformat_minor": 5
}

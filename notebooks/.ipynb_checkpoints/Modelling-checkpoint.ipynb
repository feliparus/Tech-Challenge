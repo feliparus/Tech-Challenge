{
 "cells": [
  {
   "cell_type": "code",
   "execution_count": 1,
   "id": "dbc0af4c-ddf6-4729-8cea-952f3c7d1104",
   "metadata": {},
   "outputs": [
    {
     "name": "stdout",
     "output_type": "stream",
     "text": [
      "Requirement already satisfied: pandas in c:\\users\\luiz.santos\\documents\\fiap grupo\\tech challenge\\.venv\\lib\\site-packages (2.2.1)\n",
      "Requirement already satisfied: scikit-learn in c:\\users\\luiz.santos\\documents\\fiap grupo\\tech challenge\\.venv\\lib\\site-packages (1.4.1.post1)\n",
      "Requirement already satisfied: optuna in c:\\users\\luiz.santos\\documents\\fiap grupo\\tech challenge\\.venv\\lib\\site-packages (3.6.1)\n",
      "Requirement already satisfied: numpy<2,>=1.26.0 in c:\\users\\luiz.santos\\documents\\fiap grupo\\tech challenge\\.venv\\lib\\site-packages (from pandas) (1.26.4)\n",
      "Requirement already satisfied: python-dateutil>=2.8.2 in c:\\users\\luiz.santos\\documents\\fiap grupo\\tech challenge\\.venv\\lib\\site-packages (from pandas) (2.9.0.post0)\n",
      "Requirement already satisfied: pytz>=2020.1 in c:\\users\\luiz.santos\\documents\\fiap grupo\\tech challenge\\.venv\\lib\\site-packages (from pandas) (2024.1)\n",
      "Requirement already satisfied: tzdata>=2022.7 in c:\\users\\luiz.santos\\documents\\fiap grupo\\tech challenge\\.venv\\lib\\site-packages (from pandas) (2024.1)\n",
      "Requirement already satisfied: scipy>=1.6.0 in c:\\users\\luiz.santos\\documents\\fiap grupo\\tech challenge\\.venv\\lib\\site-packages (from scikit-learn) (1.13.0)\n",
      "Requirement already satisfied: joblib>=1.2.0 in c:\\users\\luiz.santos\\documents\\fiap grupo\\tech challenge\\.venv\\lib\\site-packages (from scikit-learn) (1.3.2)\n",
      "Requirement already satisfied: threadpoolctl>=2.0.0 in c:\\users\\luiz.santos\\documents\\fiap grupo\\tech challenge\\.venv\\lib\\site-packages (from scikit-learn) (3.4.0)\n",
      "Requirement already satisfied: alembic>=1.5.0 in c:\\users\\luiz.santos\\documents\\fiap grupo\\tech challenge\\.venv\\lib\\site-packages (from optuna) (1.13.1)\n",
      "Requirement already satisfied: colorlog in c:\\users\\luiz.santos\\documents\\fiap grupo\\tech challenge\\.venv\\lib\\site-packages (from optuna) (6.8.2)\n",
      "Requirement already satisfied: packaging>=20.0 in c:\\users\\luiz.santos\\documents\\fiap grupo\\tech challenge\\.venv\\lib\\site-packages (from optuna) (24.0)\n",
      "Requirement already satisfied: sqlalchemy>=1.3.0 in c:\\users\\luiz.santos\\documents\\fiap grupo\\tech challenge\\.venv\\lib\\site-packages (from optuna) (2.0.29)\n",
      "Requirement already satisfied: tqdm in c:\\users\\luiz.santos\\documents\\fiap grupo\\tech challenge\\.venv\\lib\\site-packages (from optuna) (4.66.2)\n",
      "Requirement already satisfied: PyYAML in c:\\users\\luiz.santos\\documents\\fiap grupo\\tech challenge\\.venv\\lib\\site-packages (from optuna) (6.0.1)\n",
      "Requirement already satisfied: Mako in c:\\users\\luiz.santos\\documents\\fiap grupo\\tech challenge\\.venv\\lib\\site-packages (from alembic>=1.5.0->optuna) (1.3.2)\n",
      "Requirement already satisfied: typing-extensions>=4 in c:\\users\\luiz.santos\\documents\\fiap grupo\\tech challenge\\.venv\\lib\\site-packages (from alembic>=1.5.0->optuna) (4.11.0)\n",
      "Requirement already satisfied: six>=1.5 in c:\\users\\luiz.santos\\documents\\fiap grupo\\tech challenge\\.venv\\lib\\site-packages (from python-dateutil>=2.8.2->pandas) (1.16.0)\n",
      "Requirement already satisfied: greenlet!=0.4.17 in c:\\users\\luiz.santos\\documents\\fiap grupo\\tech challenge\\.venv\\lib\\site-packages (from sqlalchemy>=1.3.0->optuna) (3.0.3)\n",
      "Requirement already satisfied: colorama in c:\\users\\luiz.santos\\documents\\fiap grupo\\tech challenge\\.venv\\lib\\site-packages (from colorlog->optuna) (0.4.6)\n",
      "Requirement already satisfied: MarkupSafe>=0.9.2 in c:\\users\\luiz.santos\\documents\\fiap grupo\\tech challenge\\.venv\\lib\\site-packages (from Mako->alembic>=1.5.0->optuna) (2.1.5)\n"
     ]
    }
   ],
   "source": [
    "!pip install pandas scikit-learn optuna"
   ]
  },
  {
   "cell_type": "code",
   "execution_count": 2,
   "id": "88537431-7a90-4c7c-a1d0-5eeb475c641e",
   "metadata": {},
   "outputs": [],
   "source": [
    "import pandas as pd\n",
    "from include.utils import incrementar_dados_aleatorios_csv, categorizar_imc\n",
    "from sklearn.model_selection import train_test_split, cross_val_score\n",
    "from sklearn.ensemble import RandomForestRegressor\n",
    "from sklearn.linear_model import LinearRegression\n",
    "from sklearn.metrics import mean_squared_error\n",
    "from sklearn.preprocessing import OneHotEncoder, LabelEncoder, StandardScaler\n",
    "import optuna"
   ]
  },
  {
   "cell_type": "markdown",
   "id": "320499db-f973-450a-9aab-316e6426be3a",
   "metadata": {},
   "source": [
    "**1. Engenharia de Recursos**"
   ]
  },
  {
   "cell_type": "markdown",
   "id": "2a110e58-c228-4985-a256-24ffc5dcc631",
   "metadata": {},
   "source": [
    "Novos recursos derivados dos dados existentes"
   ]
  },
  {
   "cell_type": "code",
   "execution_count": 3,
   "id": "f33739b5-0572-464a-af36-3a517bad8e10",
   "metadata": {},
   "outputs": [],
   "source": [
    "# leia os dados CSV indicados no site da FIAP\n",
    "dados = pd.read_csv('../base_dados.csv', encoding='latin-1')\n",
    "\n",
    "# aqui chamo a função incrementar_dados_aleatorios, para aumentar o volume da variável dados\n",
    "dados = incrementar_dados_aleatorios_csv(dados)\n",
    "\n",
    "# Aplicar a função para categorizar IMC e criar uma nova coluna 'Categoria IMC'\n",
    "dados['Categoria IMC'] = dados['IMC'].apply(categorizar_imc)"
   ]
  },
  {
   "cell_type": "markdown",
   "id": "eebb4b2f-58ca-4fa7-97d1-af96eb7d266d",
   "metadata": {},
   "source": [
    "**2. Limpeza de Dados**"
   ]
  },
  {
   "cell_type": "code",
   "execution_count": 4,
   "id": "7be726d7-f49f-4115-9c22-9bf83b87f4bf",
   "metadata": {},
   "outputs": [],
   "source": [
    "# Remover linhas com valores NaN\n",
    "dados = dados.dropna()\n",
    "\n",
    "# Substituir valores nulos por zero\n",
    "dados['Filhos'] = dados['Filhos'].fillna(0)\n",
    "dados['Filhos'] = dados['Filhos'].astype(int)\n",
    "dados['Idade'] = dados['Idade'].fillna(0)\n",
    "dados['Idade'] = dados['Idade'].astype(int)\n",
    "dados['Encargos'] = dados['Encargos'].fillna(0)\n",
    "\n",
    "dados['Gênero'] = dados['Gênero'].str.replace('nan', 'Não informado')"
   ]
  },
  {
   "cell_type": "markdown",
   "id": "ad26fe86-4dd4-488f-90ee-3a86ac237459",
   "metadata": {},
   "source": [
    "**3. Pré-processamento**"
   ]
  },
  {
   "cell_type": "code",
   "execution_count": 5,
   "id": "969de9b6-fa98-4951-b1b6-cfb5ea261c58",
   "metadata": {},
   "outputs": [],
   "source": [
    "# Dividir os dados em features (X) e target (y)\n",
    "X = dados.drop('Encargos', axis=1)  # Substitua 'target_column_name' pelo nome da coluna alvo\n",
    "y = dados['Encargos']\n",
    "\n",
    "# Codificar variáveis categóricas usando one-hot encoding\n",
    "encoder = OneHotEncoder(drop='first')\n",
    "X_encoded = encoder.fit_transform(X[['Gênero', 'Região']])\n",
    "\n",
    "# Concatenar features codificadas com as restantes\n",
    "X_encoded = pd.DataFrame(X_encoded.toarray(), columns=encoder.get_feature_names_out(['Gênero', 'Região']), index=X.index)\n",
    "X = pd.concat([X.drop(['Gênero', 'Região'], axis=1), X_encoded], axis=1)\n",
    "\n",
    "# Codificar variável categórica 'IMC' com LabelEncoder\n",
    "label_encoder = LabelEncoder()\n",
    "X['Categoria IMC'] = label_encoder.fit_transform(X['Categoria IMC'])\n",
    "\n",
    "# Substituir valores 'sim' e 'não' por 1 e 0\n",
    "X['Fumante'] = X['Fumante'].map({'sim': 1, 'não': 0})\n",
    "\n",
    "# Dividir os dados em conjuntos de treinamento e teste\n",
    "X_train, X_test, y_train, y_test = train_test_split(X, y, test_size=0.2, random_state=42)"
   ]
  },
  {
   "cell_type": "code",
   "execution_count": 6,
   "id": "766f9565-948e-4563-8f7f-e16ccf5f029a",
   "metadata": {},
   "outputs": [],
   "source": [
    "scaler = StandardScaler()\n",
    "X_train_scaled = scaler.fit_transform(X_train)\n",
    "X_test_scaled = scaler.transform(X_test)"
   ]
  },
  {
   "cell_type": "markdown",
   "id": "d97c5862-6ad0-4e20-9e49-a447bfaa48c2",
   "metadata": {},
   "source": [
    "**4. Treinamento do Modelo**"
   ]
  },
  {
   "cell_type": "code",
   "execution_count": 7,
   "id": "be67531c-1538-4d5e-858f-7ab5406ffd2e",
   "metadata": {},
   "outputs": [
    {
     "name": "stdout",
     "output_type": "stream",
     "text": [
      "Random Forest Regressor MSE: 35424987.88546846\n",
      "Acurácia média com validação cruzada para Random Forest Regressor: 0.649965679170944\n",
      "Linear Regression MSE: 21932777.210777488\n",
      "Acurácia média com validação cruzada para Linear Regression: 0.7440114926815193\n"
     ]
    }
   ],
   "source": [
    "# Treinar e avaliar os modelos de regressão\n",
    "models = {\n",
    "    'Random Forest Regressor': RandomForestRegressor(),\n",
    "    'Linear Regression': LinearRegression()\n",
    "}\n",
    "\n",
    "for name, model in models.items():\n",
    "    model.fit(X_train, y_train)\n",
    "    y_pred = model.predict(X_test)\n",
    "    mse = mean_squared_error(y_test, y_pred)\n",
    "    print(f'{name} MSE: {round(mse,2)}')\n",
    "    # Calcular acurácia média usando validação cruzada\n",
    "    scores = cross_val_score(model, X_train, y_train, cv=5)\n",
    "    print(f'Acurácia média com validação cruzada para {name}: {round(scores.mean(),2)}')"
   ]
  },
  {
   "cell_type": "markdown",
   "id": "48fb4ff9-f2ce-4114-bc95-28f313d6690f",
   "metadata": {},
   "source": [
    "**5. Comparação de Modelos**"
   ]
  },
  {
   "cell_type": "code",
   "execution_count": 8,
   "id": "955fbdea-faea-4285-8298-76b32a8bd648",
   "metadata": {},
   "outputs": [],
   "source": [
    "# Seleção de modelo com base na menor pontuação de validação cruzada\n",
    "best_model_name = min(models, key=lambda model: cross_val_score(models[model], X_train, y_train, cv=5).mean())"
   ]
  },
  {
   "cell_type": "markdown",
   "id": "d9684717-7ac2-4c36-a697-1f3a72d85d51",
   "metadata": {},
   "source": [
    "**6. Seleção de Modelo**"
   ]
  },
  {
   "cell_type": "code",
   "execution_count": 9,
   "id": "16947f1b-a506-4540-9068-99f278e9d558",
   "metadata": {},
   "outputs": [
    {
     "name": "stdout",
     "output_type": "stream",
     "text": [
      "Best Model: Random Forest Regressor\n"
     ]
    }
   ],
   "source": [
    "best_model = models[best_model_name]\n",
    "print(f'Best Model: {best_model_name}')"
   ]
  },
  {
   "cell_type": "markdown",
   "id": "eb2c235a-b688-4d6b-8820-de8a50e3e4a8",
   "metadata": {},
   "source": [
    "**7. Otimização de Modelo**"
   ]
  },
  {
   "cell_type": "code",
   "execution_count": 10,
   "id": "e36479d9-807c-4862-bcd6-a1b06426edce",
   "metadata": {},
   "outputs": [
    {
     "name": "stderr",
     "output_type": "stream",
     "text": [
      "[I 2024-04-06 12:33:07,926] A new study created in memory with name: no-name-3f527303-5bff-423e-b1ee-01f3bf0be66a\n",
      "[I 2024-04-06 12:33:10,338] Trial 0 finished with value: -199166561.77096713 and parameters: {'n_estimators': 100, 'max_depth': 17}. Best is trial 0 with value: -199166561.77096713.\n",
      "[I 2024-04-06 12:33:12,229] Trial 1 finished with value: -187923053.72437873 and parameters: {'n_estimators': 40, 'max_depth': 17}. Best is trial 0 with value: -199166561.77096713.\n",
      "[I 2024-04-06 12:33:14,130] Trial 2 finished with value: -186608264.1683996 and parameters: {'n_estimators': 75, 'max_depth': 21}. Best is trial 0 with value: -199166561.77096713.\n",
      "[I 2024-04-06 12:33:14,285] Trial 3 finished with value: -189939505.77610707 and parameters: {'n_estimators': 76, 'max_depth': 26}. Best is trial 0 with value: -199166561.77096713.\n",
      "[I 2024-04-06 12:33:14,437] Trial 4 finished with value: -196545270.24390754 and parameters: {'n_estimators': 78, 'max_depth': 14}. Best is trial 0 with value: -199166561.77096713.\n",
      "[I 2024-04-06 12:33:14,551] Trial 5 finished with value: -202729038.92533672 and parameters: {'n_estimators': 50, 'max_depth': 5}. Best is trial 5 with value: -202729038.92533672.\n",
      "[I 2024-04-06 12:33:14,759] Trial 6 finished with value: -192862798.16560116 and parameters: {'n_estimators': 84, 'max_depth': 7}. Best is trial 5 with value: -202729038.92533672.\n",
      "[I 2024-04-06 12:33:14,861] Trial 7 finished with value: -200914977.27694723 and parameters: {'n_estimators': 42, 'max_depth': 21}. Best is trial 5 with value: -202729038.92533672.\n",
      "[I 2024-04-06 12:33:15,013] Trial 8 finished with value: -198166898.08051133 and parameters: {'n_estimators': 78, 'max_depth': 12}. Best is trial 5 with value: -202729038.92533672.\n",
      "[I 2024-04-06 12:33:15,116] Trial 9 finished with value: -194505140.00086117 and parameters: {'n_estimators': 41, 'max_depth': 18}. Best is trial 5 with value: -202729038.92533672.\n",
      "[I 2024-04-06 12:33:15,163] Trial 10 finished with value: -220666099.5537757 and parameters: {'n_estimators': 12, 'max_depth': 4}. Best is trial 10 with value: -220666099.5537757.\n",
      "[I 2024-04-06 12:33:15,210] Trial 11 finished with value: -222283914.1481658 and parameters: {'n_estimators': 11, 'max_depth': 2}. Best is trial 11 with value: -222283914.1481658.\n",
      "[I 2024-04-06 12:33:15,256] Trial 12 finished with value: -222379140.40250245 and parameters: {'n_estimators': 11, 'max_depth': 2}. Best is trial 12 with value: -222379140.40250245.\n",
      "[I 2024-04-06 12:33:15,303] Trial 13 finished with value: -193010882.95909345 and parameters: {'n_estimators': 12, 'max_depth': 9}. Best is trial 12 with value: -222379140.40250245.\n",
      "[I 2024-04-06 12:33:15,371] Trial 14 finished with value: -200371445.72401857 and parameters: {'n_estimators': 20, 'max_depth': 32}. Best is trial 12 with value: -222379140.40250245.\n",
      "[I 2024-04-06 12:33:15,449] Trial 15 finished with value: -220399508.74912333 and parameters: {'n_estimators': 27, 'max_depth': 2}. Best is trial 12 with value: -222379140.40250245.\n",
      "[I 2024-04-06 12:33:15,535] Trial 16 finished with value: -193337915.366073 and parameters: {'n_estimators': 27, 'max_depth': 10}. Best is trial 12 with value: -222379140.40250245.\n",
      "[I 2024-04-06 12:33:15,621] Trial 17 finished with value: -225011509.92394045 and parameters: {'n_estimators': 26, 'max_depth': 2}. Best is trial 17 with value: -225011509.92394045.\n",
      "[I 2024-04-06 12:33:15,755] Trial 18 finished with value: -194197095.06008568 and parameters: {'n_estimators': 61, 'max_depth': 7}. Best is trial 17 with value: -225011509.92394045.\n",
      "[I 2024-04-06 12:33:15,841] Trial 19 finished with value: -203208008.82886174 and parameters: {'n_estimators': 28, 'max_depth': 6}. Best is trial 17 with value: -225011509.92394045.\n",
      "[I 2024-04-06 12:33:15,914] Trial 20 finished with value: -181246490.13827822 and parameters: {'n_estimators': 20, 'max_depth': 13}. Best is trial 17 with value: -225011509.92394045.\n",
      "[I 2024-04-06 12:33:15,964] Trial 21 finished with value: -210857442.66824034 and parameters: {'n_estimators': 12, 'max_depth': 2}. Best is trial 17 with value: -225011509.92394045.\n",
      "[I 2024-04-06 12:33:16,032] Trial 22 finished with value: -212413418.06942043 and parameters: {'n_estimators': 21, 'max_depth': 2}. Best is trial 17 with value: -225011509.92394045.\n",
      "[I 2024-04-06 12:33:16,122] Trial 23 finished with value: -200808422.24504647 and parameters: {'n_estimators': 31, 'max_depth': 9}. Best is trial 17 with value: -225011509.92394045.\n",
      "[I 2024-04-06 12:33:16,168] Trial 24 finished with value: -201812906.18550506 and parameters: {'n_estimators': 10, 'max_depth': 4}. Best is trial 17 with value: -225011509.92394045.\n",
      "[I 2024-04-06 12:33:16,266] Trial 25 finished with value: -197604233.14700687 and parameters: {'n_estimators': 36, 'max_depth': 5}. Best is trial 17 with value: -225011509.92394045.\n",
      "[I 2024-04-06 12:33:16,335] Trial 26 finished with value: -216176977.5916948 and parameters: {'n_estimators': 19, 'max_depth': 2}. Best is trial 17 with value: -225011509.92394045.\n",
      "[I 2024-04-06 12:33:16,478] Trial 27 finished with value: -178784300.3058528 and parameters: {'n_estimators': 52, 'max_depth': 8}. Best is trial 17 with value: -225011509.92394045.\n",
      "[I 2024-04-06 12:33:16,643] Trial 28 finished with value: -185682947.53415594 and parameters: {'n_estimators': 61, 'max_depth': 11}. Best is trial 17 with value: -225011509.92394045.\n",
      "[I 2024-04-06 12:33:16,701] Trial 29 finished with value: -208056479.71806207 and parameters: {'n_estimators': 16, 'max_depth': 15}. Best is trial 17 with value: -225011509.92394045.\n",
      "[I 2024-04-06 12:33:16,878] Trial 30 finished with value: -198856960.35975444 and parameters: {'n_estimators': 97, 'max_depth': 4}. Best is trial 17 with value: -225011509.92394045.\n",
      "[I 2024-04-06 12:33:16,925] Trial 31 finished with value: -198022405.7061008 and parameters: {'n_estimators': 10, 'max_depth': 4}. Best is trial 17 with value: -225011509.92394045.\n",
      "[I 2024-04-06 12:33:16,986] Trial 32 finished with value: -198240149.70046607 and parameters: {'n_estimators': 16, 'max_depth': 4}. Best is trial 17 with value: -225011509.92394045.\n",
      "[I 2024-04-06 12:33:17,065] Trial 33 finished with value: -192759759.306169 and parameters: {'n_estimators': 24, 'max_depth': 6}. Best is trial 17 with value: -225011509.92394045.\n",
      "[I 2024-04-06 12:33:17,133] Trial 34 finished with value: -212116028.89106253 and parameters: {'n_estimators': 15, 'max_depth': 2}. Best is trial 17 with value: -225011509.92394045.\n",
      "[I 2024-04-06 12:33:17,208] Trial 35 finished with value: -193735673.18497327 and parameters: {'n_estimators': 23, 'max_depth': 29}. Best is trial 17 with value: -225011509.92394045.\n",
      "[I 2024-04-06 12:33:17,308] Trial 36 finished with value: -218743734.65143755 and parameters: {'n_estimators': 36, 'max_depth': 24}. Best is trial 17 with value: -225011509.92394045.\n",
      "[I 2024-04-06 12:33:17,397] Trial 37 finished with value: -189973666.22410214 and parameters: {'n_estimators': 31, 'max_depth': 7}. Best is trial 17 with value: -225011509.92394045.\n",
      "[I 2024-04-06 12:33:17,455] Trial 38 finished with value: -192186620.5896803 and parameters: {'n_estimators': 16, 'max_depth': 4}. Best is trial 17 with value: -225011509.92394045.\n",
      "[I 2024-04-06 12:33:17,530] Trial 39 finished with value: -204502407.9054153 and parameters: {'n_estimators': 15, 'max_depth': 16}. Best is trial 17 with value: -225011509.92394045.\n",
      "[I 2024-04-06 12:33:17,619] Trial 40 finished with value: -199145691.08067504 and parameters: {'n_estimators': 36, 'max_depth': 19}. Best is trial 17 with value: -225011509.92394045.\n",
      "[I 2024-04-06 12:33:17,695] Trial 41 finished with value: -207332543.39809608 and parameters: {'n_estimators': 26, 'max_depth': 2}. Best is trial 17 with value: -225011509.92394045.\n",
      "[I 2024-04-06 12:33:17,817] Trial 42 finished with value: -204629422.61504713 and parameters: {'n_estimators': 48, 'max_depth': 3}. Best is trial 17 with value: -225011509.92394045.\n",
      "[I 2024-04-06 12:33:17,910] Trial 43 finished with value: -193831242.78745282 and parameters: {'n_estimators': 31, 'max_depth': 6}. Best is trial 17 with value: -225011509.92394045.\n",
      "[I 2024-04-06 12:33:18,018] Trial 44 finished with value: -195211835.844206 and parameters: {'n_estimators': 47, 'max_depth': 5}. Best is trial 17 with value: -225011509.92394045.\n",
      "[I 2024-04-06 12:33:18,090] Trial 45 finished with value: -197873289.966467 and parameters: {'n_estimators': 19, 'max_depth': 3}. Best is trial 17 with value: -225011509.92394045.\n",
      "[I 2024-04-06 12:33:18,137] Trial 46 finished with value: -206169146.27894393 and parameters: {'n_estimators': 10, 'max_depth': 8}. Best is trial 17 with value: -225011509.92394045.\n",
      "[I 2024-04-06 12:33:18,263] Trial 47 finished with value: -201078211.85221553 and parameters: {'n_estimators': 68, 'max_depth': 3}. Best is trial 17 with value: -225011509.92394045.\n",
      "[I 2024-04-06 12:33:18,351] Trial 48 finished with value: -192020815.00975582 and parameters: {'n_estimators': 28, 'max_depth': 6}. Best is trial 17 with value: -225011509.92394045.\n",
      "[I 2024-04-06 12:33:18,428] Trial 49 finished with value: -185862730.36298227 and parameters: {'n_estimators': 24, 'max_depth': 9}. Best is trial 17 with value: -225011509.92394045.\n",
      "[I 2024-04-06 12:33:18,541] Trial 50 finished with value: -200847781.27296174 and parameters: {'n_estimators': 43, 'max_depth': 11}. Best is trial 17 with value: -225011509.92394045.\n",
      "[I 2024-04-06 12:33:18,651] Trial 51 finished with value: -192701714.40053415 and parameters: {'n_estimators': 37, 'max_depth': 26}. Best is trial 17 with value: -225011509.92394045.\n",
      "[I 2024-04-06 12:33:18,752] Trial 52 finished with value: -192527547.82909885 and parameters: {'n_estimators': 33, 'max_depth': 28}. Best is trial 17 with value: -225011509.92394045.\n",
      "[I 2024-04-06 12:33:18,825] Trial 53 finished with value: -205853659.05549943 and parameters: {'n_estimators': 14, 'max_depth': 19}. Best is trial 17 with value: -225011509.92394045.\n",
      "[I 2024-04-06 12:33:18,900] Trial 54 finished with value: -211602003.71353975 and parameters: {'n_estimators': 20, 'max_depth': 23}. Best is trial 17 with value: -225011509.92394045.\n",
      "[I 2024-04-06 12:33:18,996] Trial 55 finished with value: -233872893.55430126 and parameters: {'n_estimators': 18, 'max_depth': 22}. Best is trial 55 with value: -233872893.55430126.\n",
      "[I 2024-04-06 12:33:19,047] Trial 56 finished with value: -187391314.57604703 and parameters: {'n_estimators': 13, 'max_depth': 5}. Best is trial 55 with value: -233872893.55430126.\n",
      "[I 2024-04-06 12:33:19,137] Trial 57 finished with value: -186954499.98271582 and parameters: {'n_estimators': 18, 'max_depth': 23}. Best is trial 55 with value: -233872893.55430126.\n",
      "[I 2024-04-06 12:33:19,228] Trial 58 finished with value: -214158588.69527748 and parameters: {'n_estimators': 22, 'max_depth': 3}. Best is trial 55 with value: -233872893.55430126.\n",
      "[I 2024-04-06 12:33:19,307] Trial 59 finished with value: -210848907.60474148 and parameters: {'n_estimators': 26, 'max_depth': 2}. Best is trial 55 with value: -233872893.55430126.\n",
      "[I 2024-04-06 12:33:19,375] Trial 60 finished with value: -217512914.1519167 and parameters: {'n_estimators': 12, 'max_depth': 20}. Best is trial 55 with value: -233872893.55430126.\n",
      "[I 2024-04-06 12:33:19,471] Trial 61 finished with value: -198794375.91448915 and parameters: {'n_estimators': 28, 'max_depth': 24}. Best is trial 55 with value: -233872893.55430126.\n",
      "[I 2024-04-06 12:33:19,549] Trial 62 finished with value: -206269188.30785906 and parameters: {'n_estimators': 19, 'max_depth': 25}. Best is trial 55 with value: -233872893.55430126.\n",
      "[I 2024-04-06 12:33:19,610] Trial 63 finished with value: -195302152.64061114 and parameters: {'n_estimators': 10, 'max_depth': 22}. Best is trial 55 with value: -233872893.55430126.\n",
      "[I 2024-04-06 12:33:19,678] Trial 64 finished with value: -214309507.87729216 and parameters: {'n_estimators': 23, 'max_depth': 27}. Best is trial 55 with value: -233872893.55430126.\n",
      "[I 2024-04-06 12:33:19,776] Trial 65 finished with value: -209877568.7911652 and parameters: {'n_estimators': 39, 'max_depth': 3}. Best is trial 55 with value: -233872893.55430126.\n",
      "[I 2024-04-06 12:33:19,868] Trial 66 finished with value: -198134046.04628757 and parameters: {'n_estimators': 33, 'max_depth': 30}. Best is trial 55 with value: -233872893.55430126.\n",
      "[I 2024-04-06 12:33:19,934] Trial 67 finished with value: -216968014.9894621 and parameters: {'n_estimators': 18, 'max_depth': 5}. Best is trial 55 with value: -233872893.55430126.\n",
      "[I 2024-04-06 12:33:20,005] Trial 68 finished with value: -207293206.30087006 and parameters: {'n_estimators': 14, 'max_depth': 17}. Best is trial 55 with value: -233872893.55430126.\n",
      "[I 2024-04-06 12:33:20,125] Trial 69 finished with value: -212474359.77350903 and parameters: {'n_estimators': 56, 'max_depth': 2}. Best is trial 55 with value: -233872893.55430126.\n",
      "[I 2024-04-06 12:33:20,201] Trial 70 finished with value: -204594590.66730094 and parameters: {'n_estimators': 17, 'max_depth': 21}. Best is trial 55 with value: -233872893.55430126.\n",
      "[I 2024-04-06 12:33:20,261] Trial 71 finished with value: -210249112.24282098 and parameters: {'n_estimators': 12, 'max_depth': 20}. Best is trial 55 with value: -233872893.55430126.\n",
      "[I 2024-04-06 12:33:20,321] Trial 72 finished with value: -199377062.70812893 and parameters: {'n_estimators': 13, 'max_depth': 21}. Best is trial 55 with value: -233872893.55430126.\n",
      "[I 2024-04-06 12:33:20,379] Trial 73 finished with value: -208180699.5995786 and parameters: {'n_estimators': 12, 'max_depth': 24}. Best is trial 55 with value: -233872893.55430126.\n",
      "[I 2024-04-06 12:33:20,449] Trial 74 finished with value: -196712103.35007027 and parameters: {'n_estimators': 21, 'max_depth': 22}. Best is trial 55 with value: -233872893.55430126.\n",
      "[I 2024-04-06 12:33:20,520] Trial 75 finished with value: -202002281.8822386 and parameters: {'n_estimators': 16, 'max_depth': 20}. Best is trial 55 with value: -233872893.55430126.\n",
      "[I 2024-04-06 12:33:20,580] Trial 76 finished with value: -217457983.45469654 and parameters: {'n_estimators': 10, 'max_depth': 14}. Best is trial 55 with value: -233872893.55430126.\n",
      "[I 2024-04-06 12:33:20,663] Trial 77 finished with value: -190648637.1223863 and parameters: {'n_estimators': 25, 'max_depth': 18}. Best is trial 55 with value: -233872893.55430126.\n",
      "[I 2024-04-06 12:33:20,733] Trial 78 finished with value: -195579667.94312397 and parameters: {'n_estimators': 30, 'max_depth': 4}. Best is trial 55 with value: -233872893.55430126.\n",
      "[I 2024-04-06 12:33:20,901] Trial 79 finished with value: -206773858.21112013 and parameters: {'n_estimators': 96, 'max_depth': 3}. Best is trial 55 with value: -233872893.55430126.\n",
      "[I 2024-04-06 12:33:20,980] Trial 80 finished with value: -214889343.18669805 and parameters: {'n_estimators': 22, 'max_depth': 2}. Best is trial 55 with value: -233872893.55430126.\n",
      "[I 2024-04-06 12:33:21,035] Trial 81 finished with value: -195077681.6956248 and parameters: {'n_estimators': 10, 'max_depth': 13}. Best is trial 55 with value: -233872893.55430126.\n",
      "[I 2024-04-06 12:33:21,094] Trial 82 finished with value: -196495736.32420722 and parameters: {'n_estimators': 15, 'max_depth': 16}. Best is trial 55 with value: -233872893.55430126.\n",
      "[I 2024-04-06 12:33:21,146] Trial 83 finished with value: -209805996.36951503 and parameters: {'n_estimators': 12, 'max_depth': 4}. Best is trial 55 with value: -233872893.55430126.\n",
      "[I 2024-04-06 12:33:21,219] Trial 84 finished with value: -198712412.4956943 and parameters: {'n_estimators': 17, 'max_depth': 22}. Best is trial 55 with value: -233872893.55430126.\n",
      "[I 2024-04-06 12:33:21,294] Trial 85 finished with value: -194575257.60101655 and parameters: {'n_estimators': 21, 'max_depth': 7}. Best is trial 55 with value: -233872893.55430126.\n",
      "[I 2024-04-06 12:33:21,358] Trial 86 finished with value: -205964608.0762645 and parameters: {'n_estimators': 12, 'max_depth': 24}. Best is trial 55 with value: -233872893.55430126.\n",
      "[I 2024-04-06 12:33:21,422] Trial 87 finished with value: -199846674.1574761 and parameters: {'n_estimators': 18, 'max_depth': 14}. Best is trial 55 with value: -233872893.55430126.\n",
      "[I 2024-04-06 12:33:21,487] Trial 88 finished with value: -201606847.23206982 and parameters: {'n_estimators': 14, 'max_depth': 20}. Best is trial 55 with value: -233872893.55430126.\n",
      "[I 2024-04-06 12:33:21,571] Trial 89 finished with value: -196027972.00516716 and parameters: {'n_estimators': 34, 'max_depth': 25}. Best is trial 55 with value: -233872893.55430126.\n",
      "[I 2024-04-06 12:33:21,644] Trial 90 finished with value: -207162659.2410876 and parameters: {'n_estimators': 25, 'max_depth': 3}. Best is trial 55 with value: -233872893.55430126.\n",
      "[I 2024-04-06 12:33:21,722] Trial 91 finished with value: -182938673.0959626 and parameters: {'n_estimators': 18, 'max_depth': 5}. Best is trial 55 with value: -233872893.55430126.\n",
      "[I 2024-04-06 12:33:21,777] Trial 92 finished with value: -202677116.0122036 and parameters: {'n_estimators': 10, 'max_depth': 5}. Best is trial 55 with value: -233872893.55430126.\n",
      "[I 2024-04-06 12:33:21,838] Trial 93 finished with value: -203131946.9374989 and parameters: {'n_estimators': 15, 'max_depth': 6}. Best is trial 55 with value: -233872893.55430126.\n",
      "[I 2024-04-06 12:33:21,951] Trial 94 finished with value: -210424748.0887206 and parameters: {'n_estimators': 44, 'max_depth': 4}. Best is trial 55 with value: -233872893.55430126.\n",
      "[I 2024-04-06 12:33:22,029] Trial 95 finished with value: -213464339.60075894 and parameters: {'n_estimators': 17, 'max_depth': 2}. Best is trial 55 with value: -233872893.55430126.\n",
      "[I 2024-04-06 12:33:22,103] Trial 96 finished with value: -198795832.79899633 and parameters: {'n_estimators': 20, 'max_depth': 23}. Best is trial 55 with value: -233872893.55430126.\n",
      "[I 2024-04-06 12:33:22,185] Trial 97 finished with value: -218507854.18841866 and parameters: {'n_estimators': 30, 'max_depth': 3}. Best is trial 55 with value: -233872893.55430126.\n",
      "[I 2024-04-06 12:33:22,264] Trial 98 finished with value: -216574457.79057574 and parameters: {'n_estimators': 29, 'max_depth': 2}. Best is trial 55 with value: -233872893.55430126.\n",
      "[I 2024-04-06 12:33:22,352] Trial 99 finished with value: -205176080.0526594 and parameters: {'n_estimators': 26, 'max_depth': 3}. Best is trial 55 with value: -233872893.55430126.\n"
     ]
    },
    {
     "name": "stdout",
     "output_type": "stream",
     "text": [
      "Optimized Random Forest Regressor MSE: 26057957.27118376\n"
     ]
    }
   ],
   "source": [
    "# Otimização de hiperparâmetros com Optuna (exemplo com RandomForestRegressor)\n",
    "def objective(trial):\n",
    "    n_estimators = trial.suggest_int('n_estimators', 10, 100)\n",
    "    max_depth = trial.suggest_int('max_depth', 2, 32)\n",
    "    model = RandomForestRegressor(n_estimators=n_estimators, max_depth=max_depth)\n",
    "    score = cross_val_score(model, X_train, y_train, n_jobs=-1, cv=3, scoring='neg_mean_squared_error').mean()\n",
    "    return score\n",
    "\n",
    "study = optuna.create_study(direction='minimize')\n",
    "study.optimize(objective, n_trials=100)\n",
    "\n",
    "best_params = study.best_params\n",
    "best_model.set_params(**best_params)\n",
    "best_model.fit(X_train, y_train)\n",
    "y_pred = best_model.predict(X_test)\n",
    "mse = mean_squared_error(y_test, y_pred)\n",
    "print(f'Optimized {best_model_name} MSE: {round(mse,2)}')"
   ]
  }
 ],
 "metadata": {
  "kernelspec": {
   "display_name": "Python 3 (ipykernel)",
   "language": "python",
   "name": "python3"
  },
  "language_info": {
   "codemirror_mode": {
    "name": "ipython",
    "version": 3
   },
   "file_extension": ".py",
   "mimetype": "text/x-python",
   "name": "python",
   "nbconvert_exporter": "python",
   "pygments_lexer": "ipython3",
   "version": "3.12.2"
  }
 },
 "nbformat": 4,
 "nbformat_minor": 5
}

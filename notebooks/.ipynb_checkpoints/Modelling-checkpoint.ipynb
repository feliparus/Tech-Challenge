{
 "cells": [
  {
   "cell_type": "code",
   "execution_count": 1,
   "id": "dbc0af4c-ddf6-4729-8cea-952f3c7d1104",
   "metadata": {},
   "outputs": [
    {
     "name": "stdout",
     "output_type": "stream",
     "text": [
      "Requirement already satisfied: pandas in c:\\users\\luiz.santos\\documents\\fiap grupo\\tech challenge\\.venv\\lib\\site-packages (2.2.1)\n",
      "Requirement already satisfied: scikit-learn in c:\\users\\luiz.santos\\documents\\fiap grupo\\tech challenge\\.venv\\lib\\site-packages (1.4.1.post1)\n",
      "Requirement already satisfied: optuna in c:\\users\\luiz.santos\\documents\\fiap grupo\\tech challenge\\.venv\\lib\\site-packages (3.6.1)\n",
      "Requirement already satisfied: seaborn in c:\\users\\luiz.santos\\documents\\fiap grupo\\tech challenge\\.venv\\lib\\site-packages (0.13.2)\n",
      "Requirement already satisfied: statsmodels in c:\\users\\luiz.santos\\documents\\fiap grupo\\tech challenge\\.venv\\lib\\site-packages (0.14.1)\n",
      "Requirement already satisfied: numpy<2,>=1.26.0 in c:\\users\\luiz.santos\\documents\\fiap grupo\\tech challenge\\.venv\\lib\\site-packages (from pandas) (1.26.4)\n",
      "Requirement already satisfied: python-dateutil>=2.8.2 in c:\\users\\luiz.santos\\documents\\fiap grupo\\tech challenge\\.venv\\lib\\site-packages (from pandas) (2.9.0.post0)\n",
      "Requirement already satisfied: pytz>=2020.1 in c:\\users\\luiz.santos\\documents\\fiap grupo\\tech challenge\\.venv\\lib\\site-packages (from pandas) (2024.1)\n",
      "Requirement already satisfied: tzdata>=2022.7 in c:\\users\\luiz.santos\\documents\\fiap grupo\\tech challenge\\.venv\\lib\\site-packages (from pandas) (2024.1)\n",
      "Requirement already satisfied: scipy>=1.6.0 in c:\\users\\luiz.santos\\documents\\fiap grupo\\tech challenge\\.venv\\lib\\site-packages (from scikit-learn) (1.13.0)\n",
      "Requirement already satisfied: joblib>=1.2.0 in c:\\users\\luiz.santos\\documents\\fiap grupo\\tech challenge\\.venv\\lib\\site-packages (from scikit-learn) (1.3.2)\n",
      "Requirement already satisfied: threadpoolctl>=2.0.0 in c:\\users\\luiz.santos\\documents\\fiap grupo\\tech challenge\\.venv\\lib\\site-packages (from scikit-learn) (3.4.0)\n",
      "Requirement already satisfied: alembic>=1.5.0 in c:\\users\\luiz.santos\\documents\\fiap grupo\\tech challenge\\.venv\\lib\\site-packages (from optuna) (1.13.1)\n",
      "Requirement already satisfied: colorlog in c:\\users\\luiz.santos\\documents\\fiap grupo\\tech challenge\\.venv\\lib\\site-packages (from optuna) (6.8.2)\n",
      "Requirement already satisfied: packaging>=20.0 in c:\\users\\luiz.santos\\documents\\fiap grupo\\tech challenge\\.venv\\lib\\site-packages (from optuna) (24.0)\n",
      "Requirement already satisfied: sqlalchemy>=1.3.0 in c:\\users\\luiz.santos\\documents\\fiap grupo\\tech challenge\\.venv\\lib\\site-packages (from optuna) (2.0.29)\n",
      "Requirement already satisfied: tqdm in c:\\users\\luiz.santos\\documents\\fiap grupo\\tech challenge\\.venv\\lib\\site-packages (from optuna) (4.66.2)\n",
      "Requirement already satisfied: PyYAML in c:\\users\\luiz.santos\\documents\\fiap grupo\\tech challenge\\.venv\\lib\\site-packages (from optuna) (6.0.1)\n",
      "Requirement already satisfied: matplotlib!=3.6.1,>=3.4 in c:\\users\\luiz.santos\\documents\\fiap grupo\\tech challenge\\.venv\\lib\\site-packages (from seaborn) (3.8.3)\n",
      "Requirement already satisfied: patsy>=0.5.4 in c:\\users\\luiz.santos\\documents\\fiap grupo\\tech challenge\\.venv\\lib\\site-packages (from statsmodels) (0.5.6)\n",
      "Requirement already satisfied: Mako in c:\\users\\luiz.santos\\documents\\fiap grupo\\tech challenge\\.venv\\lib\\site-packages (from alembic>=1.5.0->optuna) (1.3.2)\n",
      "Requirement already satisfied: typing-extensions>=4 in c:\\users\\luiz.santos\\documents\\fiap grupo\\tech challenge\\.venv\\lib\\site-packages (from alembic>=1.5.0->optuna) (4.11.0)\n",
      "Requirement already satisfied: contourpy>=1.0.1 in c:\\users\\luiz.santos\\documents\\fiap grupo\\tech challenge\\.venv\\lib\\site-packages (from matplotlib!=3.6.1,>=3.4->seaborn) (1.2.1)\n",
      "Requirement already satisfied: cycler>=0.10 in c:\\users\\luiz.santos\\documents\\fiap grupo\\tech challenge\\.venv\\lib\\site-packages (from matplotlib!=3.6.1,>=3.4->seaborn) (0.12.1)\n",
      "Requirement already satisfied: fonttools>=4.22.0 in c:\\users\\luiz.santos\\documents\\fiap grupo\\tech challenge\\.venv\\lib\\site-packages (from matplotlib!=3.6.1,>=3.4->seaborn) (4.50.0)\n",
      "Requirement already satisfied: kiwisolver>=1.3.1 in c:\\users\\luiz.santos\\documents\\fiap grupo\\tech challenge\\.venv\\lib\\site-packages (from matplotlib!=3.6.1,>=3.4->seaborn) (1.4.5)\n",
      "Requirement already satisfied: pillow>=8 in c:\\users\\luiz.santos\\documents\\fiap grupo\\tech challenge\\.venv\\lib\\site-packages (from matplotlib!=3.6.1,>=3.4->seaborn) (10.3.0)\n",
      "Requirement already satisfied: pyparsing>=2.3.1 in c:\\users\\luiz.santos\\documents\\fiap grupo\\tech challenge\\.venv\\lib\\site-packages (from matplotlib!=3.6.1,>=3.4->seaborn) (3.1.2)\n",
      "Requirement already satisfied: six in c:\\users\\luiz.santos\\documents\\fiap grupo\\tech challenge\\.venv\\lib\\site-packages (from patsy>=0.5.4->statsmodels) (1.16.0)\n",
      "Requirement already satisfied: greenlet!=0.4.17 in c:\\users\\luiz.santos\\documents\\fiap grupo\\tech challenge\\.venv\\lib\\site-packages (from sqlalchemy>=1.3.0->optuna) (3.0.3)\n",
      "Requirement already satisfied: colorama in c:\\users\\luiz.santos\\documents\\fiap grupo\\tech challenge\\.venv\\lib\\site-packages (from colorlog->optuna) (0.4.6)\n",
      "Requirement already satisfied: MarkupSafe>=0.9.2 in c:\\users\\luiz.santos\\documents\\fiap grupo\\tech challenge\\.venv\\lib\\site-packages (from Mako->alembic>=1.5.0->optuna) (2.1.5)\n"
     ]
    }
   ],
   "source": [
    "!pip install pandas scikit-learn optuna seaborn statsmodels"
   ]
  },
  {
   "cell_type": "code",
   "execution_count": 2,
   "id": "88537431-7a90-4c7c-a1d0-5eeb475c641e",
   "metadata": {},
   "outputs": [],
   "source": [
    "import pandas as pd\n",
    "import numpy as np\n",
    "import seaborn as sns\n",
    "import statsmodels.api as sm\n",
    "import matplotlib.pyplot as plt\n",
    "import optuna\n",
    "import os\n",
    "from include.utils import incrementar_dados_aleatorios_csv, categorizar_imc\n",
    "from include.utils import prever_encargos_futuros, segmentacao_de_risco, analise_de_sensibilidade, otimizacao_de_recursos, planejamento_estrategico"
   ]
  },
  {
   "cell_type": "code",
   "execution_count": 3,
   "id": "a2f178e3-93ea-45ca-8c37-9aeb74ea7184",
   "metadata": {},
   "outputs": [],
   "source": [
    "from sklearn.model_selection import train_test_split, cross_val_score\n",
    "from sklearn.ensemble import RandomForestRegressor\n",
    "from sklearn.linear_model import LinearRegression\n",
    "from sklearn.metrics import mean_squared_error\n",
    "from sklearn.preprocessing import OneHotEncoder, LabelEncoder, StandardScaler\n",
    "from sklearn.svm import SVR\n",
    "from sklearn.tree import DecisionTreeRegressor\n",
    "from sklearn.neighbors import KNeighborsRegressor\n",
    "from sklearn.ensemble import GradientBoostingRegressor"
   ]
  },
  {
   "cell_type": "markdown",
   "id": "320499db-f973-450a-9aab-316e6426be3a",
   "metadata": {},
   "source": [
    "**1. Engenharia de Recursos**"
   ]
  },
  {
   "cell_type": "markdown",
   "id": "2a110e58-c228-4985-a256-24ffc5dcc631",
   "metadata": {},
   "source": [
    "Novos recursos derivados dos dados existentes"
   ]
  },
  {
   "cell_type": "code",
   "execution_count": 4,
   "id": "31b10de9-2b41-4f53-b88d-2d46be3eb795",
   "metadata": {},
   "outputs": [
    {
     "name": "stdout",
     "output_type": "stream",
     "text": [
      "      Idade     Gênero    IMC  Filhos Fumante    Região  Encargos  \\\n",
      "0      56.0   feminino  29.77     2.0     sim  sudoeste  31109.89   \n",
      "1      46.0  masculino  25.86     1.0     não  nordeste  26650.70   \n",
      "2      32.0  masculino  23.01     0.0     não  sudoeste  21459.04   \n",
      "3      39.0   feminino  28.54     2.0     não   sudeste  29996.29   \n",
      "4      45.0  masculino  22.26     2.0     sim  noroeste  31594.72   \n",
      "...     ...        ...    ...     ...     ...       ...       ...   \n",
      "1998   39.0   feminino  24.72     2.0     sim   sudeste  28482.43   \n",
      "1999   68.0   feminino  21.66     1.0     sim  sudoeste  38822.71   \n",
      "2000   61.0   feminino  19.49     2.0     sim  nordeste  38162.29   \n",
      "2001   53.0  masculino  34.78     1.0     sim   sudeste  30091.75   \n",
      "2002    NaN        NaN    NaN     NaN     NaN       NaN       NaN   \n",
      "\n",
      "       Categoria IMC  \n",
      "0          Sobrepeso  \n",
      "1          Sobrepeso  \n",
      "2        Peso normal  \n",
      "3          Sobrepeso  \n",
      "4        Peso normal  \n",
      "...              ...  \n",
      "1998     Peso normal  \n",
      "1999     Peso normal  \n",
      "2000     Peso normal  \n",
      "2001           Obeso  \n",
      "2002  Valor Inválido  \n",
      "\n",
      "[2003 rows x 8 columns]\n"
     ]
    }
   ],
   "source": [
    "# Obtém a largura do terminal - uso mais embaixo nos prints\n",
    "terminal_width = os.get_terminal_size().columns\n",
    "\n",
    "dados = pd.read_csv('../planilhas/2_dados_aleatorios_sobre_original.csv', encoding='latin-1')\n",
    "\n",
    "# Aplicar a função para categorizar IMC e criar uma nova coluna 'Categoria IMC'\n",
    "dados['Categoria IMC'] = dados['IMC'].apply(categorizar_imc)\n",
    "\n",
    "print(dados)"
   ]
  },
  {
   "cell_type": "code",
   "execution_count": 5,
   "id": "f33739b5-0572-464a-af36-3a517bad8e10",
   "metadata": {},
   "outputs": [],
   "source": [
    "# Mapeamento das regiões para valores numéricos\n",
    "regiao_numerica = {'sudoeste': 1, 'sudeste': 2, 'nordeste': 3, 'noroeste': 4}\n",
    "\n",
    "# Convertendo os valores da coluna 'Região' para valores numéricos usando o mapeamento\n",
    "dados['Região_numerica'] = dados['Região'].map(regiao_numerica)"
   ]
  },
  {
   "cell_type": "markdown",
   "id": "eebb4b2f-58ca-4fa7-97d1-af96eb7d266d",
   "metadata": {},
   "source": [
    "**2. Limpeza de Dados**"
   ]
  },
  {
   "cell_type": "code",
   "execution_count": 6,
   "id": "7be726d7-f49f-4115-9c22-9bf83b87f4bf",
   "metadata": {},
   "outputs": [],
   "source": [
    "# Remover linhas com valores NaN\n",
    "dados = dados.dropna()\n",
    "\n",
    "# Substituir valores nulos por zero\n",
    "dados['Filhos'] = dados['Filhos'].fillna(0)\n",
    "dados['Filhos'] = dados['Filhos'].astype(int)\n",
    "dados['Idade'] = dados['Idade'].fillna(0)\n",
    "dados['Idade'] = dados['Idade'].astype(int)\n",
    "dados['Encargos'] = dados['Encargos'].fillna(0)\n",
    "\n",
    "dados['Gênero'] = dados['Gênero'].str.replace('nan', 'Não informado')"
   ]
  },
  {
   "cell_type": "markdown",
   "id": "ad26fe86-4dd4-488f-90ee-3a86ac237459",
   "metadata": {},
   "source": [
    "**3. Pré-processamento**"
   ]
  },
  {
   "cell_type": "code",
   "execution_count": 7,
   "id": "969de9b6-fa98-4951-b1b6-cfb5ea261c58",
   "metadata": {},
   "outputs": [],
   "source": [
    "# Dividir os dados em features (X) e target (y)\n",
    "X = dados.drop('Encargos', axis=1)  # descartando colunas não necessárias para o teste\n",
    "y = dados['Encargos']\n",
    "\n",
    "# Codificar variáveis categóricas usando one-hot encoding\n",
    "colunas_codificadas_via_one_hot = ['Gênero', 'Região']\n",
    "encoder = OneHotEncoder(drop='first')\n",
    "X_encoded = encoder.fit_transform(X[colunas_codificadas_via_one_hot])\n",
    "\n",
    "# Concatenar features codificadas com as restantes\n",
    "X_encoded = pd.DataFrame(X_encoded.toarray(), columns=encoder.get_feature_names_out(colunas_codificadas_via_one_hot), index=X.index)\n",
    "X = pd.concat([X.drop(colunas_codificadas_via_one_hot, axis=1), X_encoded], axis=1)\n",
    "\n",
    "# Codificar variável categórica 'IMC' com LabelEncoder\n",
    "label_encoder = LabelEncoder()\n",
    "X['Categoria IMC'] = label_encoder.fit_transform(X['Categoria IMC'])\n",
    "\n",
    "# Substituir valores 'sim' e 'não' por 1 e 0\n",
    "X['Fumante'] = X['Fumante'].map({'sim': 1, 'não': 0})\n",
    "\n",
    "# Dividir os dados em conjuntos de treinamento e teste\n",
    "X_train, X_test, y_train, y_test = train_test_split(X, y, test_size=0.2, random_state=7)"
   ]
  },
  {
   "cell_type": "code",
   "execution_count": 8,
   "id": "766f9565-948e-4563-8f7f-e16ccf5f029a",
   "metadata": {},
   "outputs": [
    {
     "name": "stdout",
     "output_type": "stream",
     "text": [
      "Visualizar a matriz de correlação:\n",
      "                     Idade       IMC    Filhos   Fumante  Categoria IMC  \\\n",
      "Idade             1.000000  0.039183  0.000045 -0.003769      -0.052839   \n",
      "IMC               0.039183  1.000000 -0.054940  0.000288      -0.288376   \n",
      "Filhos            0.000045 -0.054940  1.000000 -0.043190       0.016010   \n",
      "Fumante          -0.003769  0.000288 -0.043190  1.000000      -0.030890   \n",
      "Categoria IMC    -0.052839 -0.288376  0.016010 -0.030890       1.000000   \n",
      "Região_numerica  -0.029334 -0.028151  0.015860  0.027000      -0.055491   \n",
      "Gênero_masculino  0.016950  0.015223 -0.023022  0.012767      -0.018499   \n",
      "Região_noroeste  -0.024409 -0.006173 -0.011653  0.042747      -0.078787   \n",
      "Região_sudeste    0.017327 -0.013235 -0.005903 -0.027553       0.027459   \n",
      "Região_sudoeste   0.017272  0.039930 -0.023609  0.000047       0.018776   \n",
      "\n",
      "                  Região_numerica  Gênero_masculino  Região_noroeste  \\\n",
      "Idade                   -0.029334          0.016950        -0.024409   \n",
      "IMC                     -0.028151          0.015223        -0.006173   \n",
      "Filhos                   0.015860         -0.023022        -0.011653   \n",
      "Fumante                  0.027000          0.012767         0.042747   \n",
      "Categoria IMC           -0.055491         -0.018499        -0.078787   \n",
      "Região_numerica          1.000000         -0.010293         0.770952   \n",
      "Gênero_masculino        -0.010293          1.000000         0.003680   \n",
      "Região_noroeste          0.770952          0.003680         1.000000   \n",
      "Região_sudeste          -0.259732          0.015075        -0.323814   \n",
      "Região_sudoeste         -0.781824          0.007851        -0.336994   \n",
      "\n",
      "                  Região_sudeste  Região_sudoeste  \n",
      "Idade                   0.017327         0.017272  \n",
      "IMC                    -0.013235         0.039930  \n",
      "Filhos                 -0.005903        -0.023609  \n",
      "Fumante                -0.027553         0.000047  \n",
      "Categoria IMC           0.027459         0.018776  \n",
      "Região_numerica        -0.259732        -0.781824  \n",
      "Gênero_masculino        0.015075         0.007851  \n",
      "Região_noroeste        -0.323814        -0.336994  \n",
      "Região_sudeste          1.000000        -0.316163  \n",
      "Região_sudoeste        -0.316163         1.000000  \n"
     ]
    }
   ],
   "source": [
    "# Inicializar o StandardScaler, que é usado para padronizar os recursos\n",
    "scaler = StandardScaler()\n",
    "\n",
    "# Aplicar a transformação de padronização nos dados de treinamento e ajustar o scaler aos dados\n",
    "X_train_scaled = scaler.fit_transform(X_train)\n",
    "\n",
    "# Aplicar a mesma transformação de padronização aos dados de teste\n",
    "X_test_scaled = scaler.transform(X_test)\n",
    "\n",
    "# Calcular a matriz de correlação dos dados de treinamento\n",
    "correlation_matrix = X_train.corr()\n",
    "print('Visualizar a matriz de correlação:')\n",
    "print(correlation_matrix)"
   ]
  },
  {
   "cell_type": "markdown",
   "id": "464d0f57-fd29-48b2-a59e-42e36e34e72d",
   "metadata": {},
   "source": [
    "**Validação estatística**"
   ]
  },
  {
   "cell_type": "markdown",
   "id": "64155550-918c-4280-b673-b8eb7e920084",
   "metadata": {},
   "source": [
    "Utilizando métricas estatísticas para validar a eficácia do modelo (p-value, intervalos de confiança):            "
   ]
  },
  {
   "cell_type": "code",
   "execution_count": 9,
   "id": "41e44b40-d5be-4983-8bf9-ed753892fcc1",
   "metadata": {},
   "outputs": [
    {
     "name": "stdout",
     "output_type": "stream",
     "text": [
      "P-values dos coeficientes:\n",
      "Idade      0.000000e+00\n",
      "Filhos     1.396528e-55\n",
      "Fumante    9.612381e-22\n",
      "Name: P>|t|, dtype: float64\n",
      "\n",
      "Intervalos de Confiança dos coeficientes:\n",
      "               0        1\n",
      "Idade     566.40   575.83\n",
      "Filhos    846.37  1078.53\n",
      "Fumante  1059.78  1596.56\n"
     ]
    }
   ],
   "source": [
    "dados_aux = dados.copy()\n",
    "\n",
    "dados_aux['Fumante'] = dados_aux['Fumante'].map({'sim': 1, 'não': 0})\n",
    "\n",
    "# Adicione uma coluna de intercepto aos dados\n",
    "dados_aux['Intercepto'] = 1\n",
    "\n",
    "# Dividindo os dados em variáveis independentes (X) e variável dependente (y)\n",
    "X = dados_aux[['Idade', 'Filhos', 'Fumante']]\n",
    "y = dados_aux['Encargos']\n",
    "\n",
    "# Ajustando o modelo de regressão linear usando OLS (Ordinary Least Squares)\n",
    "modelo = sm.OLS(y, X).fit()\n",
    "\n",
    "# Calculando os p-values dos coeficientes\n",
    "p_values = modelo.summary2().tables[1]['P>|t|']\n",
    "\n",
    "# Calculando os intervalos de confiança dos coeficientes\n",
    "conf_intervals = modelo.conf_int()\n",
    "\n",
    "# Imprima os resultados\n",
    "print(\"P-values dos coeficientes:\")\n",
    "print(p_values)\n",
    "print(\"\\nIntervalos de Confiança dos coeficientes:\")\n",
    "print(round(conf_intervals,2))"
   ]
  },
  {
   "cell_type": "markdown",
   "id": "d97c5862-6ad0-4e20-9e49-a447bfaa48c2",
   "metadata": {},
   "source": [
    "**4. Treinamento do Modelo**"
   ]
  },
  {
   "cell_type": "code",
   "execution_count": 10,
   "id": "be67531c-1538-4d5e-858f-7ab5406ffd2e",
   "metadata": {},
   "outputs": [
    {
     "name": "stdout",
     "output_type": "stream",
     "text": [
      "--------------------------------------------------------------------------------------------------------------------------------------------------------------\n",
      "Random Forest Regressor MSE: 7401679.44\n",
      "Acurácia média com validação cruzada para Random Forest Regressor: 0.91\n",
      "Importância das características para Random Forest Regressor:\n",
      "            Colunas  Importância\n",
      "0             Idade         0.93\n",
      "1               IMC         0.04\n",
      "2            Filhos         0.01\n",
      "5   Região_numerica         0.00\n",
      "6  Gênero_masculino         0.00\n",
      "3           Fumante         0.00\n",
      "4     Categoria IMC         0.00\n",
      "8    Região_sudeste         0.00\n",
      "7   Região_noroeste         0.00\n",
      "9   Região_sudoeste         0.00\n",
      "--------------------------------------------------------------------------------------------------------------------------------------------------------------\n",
      "Linear Regression MSE: 6463940.65\n",
      "Acurácia média com validação cruzada para Linear Regression: 0.92\n",
      "Coeficientes das características para Linear Regression:\n",
      "            Colunas  Coeficiente\n",
      "0             Idade       495.90\n",
      "3           Fumante       369.85\n",
      "2            Filhos       347.46\n",
      "9   Região_sudoeste       111.83\n",
      "6  Gênero_masculino        89.64\n",
      "4     Categoria IMC       -10.76\n",
      "1               IMC       -28.32\n",
      "5   Região_numerica       -63.48\n",
      "7   Região_noroeste      -146.16\n",
      "8    Região_sudeste      -306.33\n",
      "--------------------------------------------------------------------------------------------------------------------------------------------------------------\n",
      "Support Vector Regression MSE: 87402190.0\n",
      "Acurácia média com validação cruzada para Support Vector Regression: 0.03\n",
      "Importância das características para Support Vector Regression:\n",
      "                           Colunas  Importância\n",
      "Idade                        Idade        48.08\n",
      "IMC                            IMC        26.55\n",
      "Região_numerica    Região_numerica         2.53\n",
      "Categoria IMC        Categoria IMC         1.91\n",
      "Filhos                      Filhos         1.53\n",
      "Fumante                    Fumante         0.50\n",
      "Gênero_masculino  Gênero_masculino         0.48\n",
      "Região_noroeste    Região_noroeste         0.26\n",
      "Região_sudoeste    Região_sudoeste         0.25\n",
      "Região_sudeste      Região_sudeste         0.23\n",
      "--------------------------------------------------------------------------------------------------------------------------------------------------------------\n",
      "Decision Tree Regressor MSE: 12811771.62\n",
      "Acurácia média com validação cruzada para Decision Tree Regressor: 0.84\n",
      "Importância das características para Decision Tree Regressor:\n",
      "            Colunas  Importância\n",
      "0             Idade         0.93\n",
      "1               IMC         0.04\n",
      "2            Filhos         0.01\n",
      "6  Gênero_masculino         0.01\n",
      "5   Região_numerica         0.01\n",
      "3           Fumante         0.00\n",
      "8    Região_sudeste         0.00\n",
      "7   Região_noroeste         0.00\n",
      "4     Categoria IMC         0.00\n",
      "9   Região_sudoeste         0.00\n",
      "--------------------------------------------------------------------------------------------------------------------------------------------------------------\n",
      "K-Nearest Neighbors Regressor MSE: 7553737.25\n",
      "Acurácia média com validação cruzada para K-Nearest Neighbors Regressor: 0.91\n",
      "Não é possível calcular a importância das características para o modelo K-Nearest Neighbors Regressor\n",
      "--------------------------------------------------------------------------------------------------------------------------------------------------------------\n",
      "Gradient Boosting Regressor MSE: 6660761.53\n",
      "Acurácia média com validação cruzada para Gradient Boosting Regressor: 0.91\n",
      "Importância das características para Gradient Boosting Regressor:\n",
      "            Colunas  Importância\n",
      "0             Idade         0.99\n",
      "1               IMC         0.01\n",
      "2            Filhos         0.00\n",
      "5   Região_numerica         0.00\n",
      "3           Fumante         0.00\n",
      "8    Região_sudeste         0.00\n",
      "9   Região_sudoeste         0.00\n",
      "6  Gênero_masculino         0.00\n",
      "4     Categoria IMC         0.00\n",
      "7   Região_noroeste         0.00\n"
     ]
    }
   ],
   "source": [
    "# Adicionando mais modelos ao dicionário de modelos\n",
    "models = {\n",
    "    'Random Forest Regressor': RandomForestRegressor(),\n",
    "    'Linear Regression': LinearRegression(),\n",
    "    'Support Vector Regression': SVR(),\n",
    "    'Decision Tree Regressor': DecisionTreeRegressor(),\n",
    "    'K-Nearest Neighbors Regressor': KNeighborsRegressor(),\n",
    "    'Gradient Boosting Regressor': GradientBoostingRegressor()\n",
    "}\n",
    "\n",
    "# Treinamento e avaliação dos modelos\n",
    "for name, model in models.items():\n",
    "    model.fit(X_train, y_train)\n",
    "    y_pred = model.predict(X_test)\n",
    "    mse = mean_squared_error(y_test, y_pred)\n",
    "\n",
    "    # Imprime uma linha separadora com base na largura do terminal\n",
    "    print('-' * terminal_width)\n",
    "    print(f'{name} MSE: {round(mse,2)}')\n",
    "    # Calcular acurácia média usando validação cruzada\n",
    "    scores = cross_val_score(model, X_train, y_train, cv=5)\n",
    "    print(f'Acurácia média com validação cruzada para {name}: {round(scores.mean(),2)}')\n",
    "    \n",
    "    # Calcula e exibe a importância das características para o modelo atual\n",
    "    if hasattr(model, 'feature_importances_'):\n",
    "        importance_df = pd.DataFrame({'Colunas': X_train.columns, 'Importância': model.feature_importances_})\n",
    "        importance_df = importance_df.sort_values(by='Importância', ascending=False)\n",
    "        print(f\"Importância das características para {name}:\")\n",
    "        print(round(importance_df,2))\n",
    "    elif isinstance(model, LinearRegression):\n",
    "        importance_df = pd.DataFrame({'Colunas': X_train.columns, 'Coeficiente': model.coef_})\n",
    "        importance_df = importance_df.sort_values(by='Coeficiente', ascending=False)\n",
    "        print(f\"Coeficientes das características para {name}:\")\n",
    "        print(round(importance_df,2))\n",
    "    elif isinstance(model, SVR):\n",
    "        support_indices = model.support_\n",
    "        support_features = X_train.iloc[support_indices]\n",
    "        feature_importance_svr = support_features.mean(axis=0)\n",
    "        importance_df = pd.DataFrame({'Colunas': X_train.columns, 'Importância': feature_importance_svr})\n",
    "        importance_df = importance_df.sort_values(by='Importância', ascending=False)\n",
    "        print(f\"Importância das características para {name}:\")\n",
    "        print(round(importance_df,2))\n",
    "    else:\n",
    "        print(f\"Não é possível calcular a importância das características para o modelo {name}\")"
   ]
  },
  {
   "cell_type": "markdown",
   "id": "48fb4ff9-f2ce-4114-bc95-28f313d6690f",
   "metadata": {},
   "source": [
    "**5. Comparação de Modelos**"
   ]
  },
  {
   "cell_type": "code",
   "execution_count": 11,
   "id": "955fbdea-faea-4285-8298-76b32a8bd648",
   "metadata": {},
   "outputs": [],
   "source": [
    "# Seleção de modelo com base na menor pontuação de validação cruzada\n",
    "best_model_name = min(models, key=lambda model: cross_val_score(models[model], X_train, y_train, cv=5).mean())"
   ]
  },
  {
   "cell_type": "markdown",
   "id": "d9684717-7ac2-4c36-a697-1f3a72d85d51",
   "metadata": {},
   "source": [
    "**6. Seleção de Modelo**"
   ]
  },
  {
   "cell_type": "code",
   "execution_count": 12,
   "id": "16947f1b-a506-4540-9068-99f278e9d558",
   "metadata": {},
   "outputs": [
    {
     "name": "stdout",
     "output_type": "stream",
     "text": [
      "Best Model: Support Vector Regression\n"
     ]
    }
   ],
   "source": [
    "best_model = models[best_model_name]\n",
    "print(f'Best Model: {best_model_name}')"
   ]
  },
  {
   "cell_type": "markdown",
   "id": "eb2c235a-b688-4d6b-8820-de8a50e3e4a8",
   "metadata": {},
   "source": [
    "**7. Otimização de Modelo**"
   ]
  },
  {
   "cell_type": "code",
   "execution_count": 13,
   "id": "e36479d9-807c-4862-bcd6-a1b06426edce",
   "metadata": {},
   "outputs": [
    {
     "name": "stderr",
     "output_type": "stream",
     "text": [
      "[I 2024-04-09 23:49:18,282] A new study created in memory with name: no-name-a3445113-2c5c-4c76-b702-756f688192a9\n",
      "[I 2024-04-09 23:49:23,293] Trial 0 finished with value: -83058087.75647253 and parameters: {}. Best is trial 0 with value: -83058087.75647253.\n",
      "[I 2024-04-09 23:49:27,275] Trial 1 finished with value: -83058087.75647253 and parameters: {}. Best is trial 0 with value: -83058087.75647253.\n",
      "[I 2024-04-09 23:49:30,955] Trial 2 finished with value: -83058087.75647253 and parameters: {}. Best is trial 0 with value: -83058087.75647253.\n",
      "[I 2024-04-09 23:49:31,237] Trial 3 finished with value: -83058087.75647253 and parameters: {}. Best is trial 0 with value: -83058087.75647253.\n",
      "[I 2024-04-09 23:49:31,495] Trial 4 finished with value: -83058087.75647253 and parameters: {}. Best is trial 0 with value: -83058087.75647253.\n",
      "[I 2024-04-09 23:49:31,795] Trial 5 finished with value: -83058087.75647253 and parameters: {}. Best is trial 0 with value: -83058087.75647253.\n",
      "[I 2024-04-09 23:49:32,083] Trial 6 finished with value: -83058087.75647253 and parameters: {}. Best is trial 0 with value: -83058087.75647253.\n",
      "[I 2024-04-09 23:49:32,384] Trial 7 finished with value: -83058087.75647253 and parameters: {}. Best is trial 0 with value: -83058087.75647253.\n",
      "[I 2024-04-09 23:49:32,673] Trial 8 finished with value: -83058087.75647253 and parameters: {}. Best is trial 0 with value: -83058087.75647253.\n",
      "[I 2024-04-09 23:49:32,953] Trial 9 finished with value: -83058087.75647253 and parameters: {}. Best is trial 0 with value: -83058087.75647253.\n",
      "[I 2024-04-09 23:49:33,246] Trial 10 finished with value: -83058087.75647253 and parameters: {}. Best is trial 0 with value: -83058087.75647253.\n",
      "[I 2024-04-09 23:49:33,530] Trial 11 finished with value: -83058087.75647253 and parameters: {}. Best is trial 0 with value: -83058087.75647253.\n",
      "[I 2024-04-09 23:49:33,833] Trial 12 finished with value: -83058087.75647253 and parameters: {}. Best is trial 0 with value: -83058087.75647253.\n",
      "[I 2024-04-09 23:49:34,141] Trial 13 finished with value: -83058087.75647253 and parameters: {}. Best is trial 0 with value: -83058087.75647253.\n",
      "[I 2024-04-09 23:49:34,397] Trial 14 finished with value: -83058087.75647253 and parameters: {}. Best is trial 0 with value: -83058087.75647253.\n",
      "[I 2024-04-09 23:49:34,673] Trial 15 finished with value: -83058087.75647253 and parameters: {}. Best is trial 0 with value: -83058087.75647253.\n",
      "[I 2024-04-09 23:49:34,929] Trial 16 finished with value: -83058087.75647253 and parameters: {}. Best is trial 0 with value: -83058087.75647253.\n",
      "[I 2024-04-09 23:49:35,206] Trial 17 finished with value: -83058087.75647253 and parameters: {}. Best is trial 0 with value: -83058087.75647253.\n",
      "[I 2024-04-09 23:49:35,473] Trial 18 finished with value: -83058087.75647253 and parameters: {}. Best is trial 0 with value: -83058087.75647253.\n",
      "[I 2024-04-09 23:49:35,752] Trial 19 finished with value: -83058087.75647253 and parameters: {}. Best is trial 0 with value: -83058087.75647253.\n",
      "[I 2024-04-09 23:49:36,021] Trial 20 finished with value: -83058087.75647253 and parameters: {}. Best is trial 0 with value: -83058087.75647253.\n",
      "[I 2024-04-09 23:49:36,278] Trial 21 finished with value: -83058087.75647253 and parameters: {}. Best is trial 0 with value: -83058087.75647253.\n",
      "[I 2024-04-09 23:49:36,522] Trial 22 finished with value: -83058087.75647253 and parameters: {}. Best is trial 0 with value: -83058087.75647253.\n",
      "[I 2024-04-09 23:49:36,811] Trial 23 finished with value: -83058087.75647253 and parameters: {}. Best is trial 0 with value: -83058087.75647253.\n",
      "[I 2024-04-09 23:49:37,142] Trial 24 finished with value: -83058087.75647253 and parameters: {}. Best is trial 0 with value: -83058087.75647253.\n",
      "[I 2024-04-09 23:49:37,390] Trial 25 finished with value: -83058087.75647253 and parameters: {}. Best is trial 0 with value: -83058087.75647253.\n",
      "[I 2024-04-09 23:49:37,666] Trial 26 finished with value: -83058087.75647253 and parameters: {}. Best is trial 0 with value: -83058087.75647253.\n",
      "[I 2024-04-09 23:49:37,943] Trial 27 finished with value: -83058087.75647253 and parameters: {}. Best is trial 0 with value: -83058087.75647253.\n",
      "[I 2024-04-09 23:49:38,242] Trial 28 finished with value: -83058087.75647253 and parameters: {}. Best is trial 0 with value: -83058087.75647253.\n",
      "[I 2024-04-09 23:49:38,541] Trial 29 finished with value: -83058087.75647253 and parameters: {}. Best is trial 0 with value: -83058087.75647253.\n",
      "[I 2024-04-09 23:49:38,829] Trial 30 finished with value: -83058087.75647253 and parameters: {}. Best is trial 0 with value: -83058087.75647253.\n",
      "[I 2024-04-09 23:49:39,126] Trial 31 finished with value: -83058087.75647253 and parameters: {}. Best is trial 0 with value: -83058087.75647253.\n",
      "[I 2024-04-09 23:49:39,426] Trial 32 finished with value: -83058087.75647253 and parameters: {}. Best is trial 0 with value: -83058087.75647253.\n",
      "[I 2024-04-09 23:49:39,712] Trial 33 finished with value: -83058087.75647253 and parameters: {}. Best is trial 0 with value: -83058087.75647253.\n",
      "[I 2024-04-09 23:49:39,990] Trial 34 finished with value: -83058087.75647253 and parameters: {}. Best is trial 0 with value: -83058087.75647253.\n",
      "[I 2024-04-09 23:49:40,276] Trial 35 finished with value: -83058087.75647253 and parameters: {}. Best is trial 0 with value: -83058087.75647253.\n",
      "[I 2024-04-09 23:49:40,553] Trial 36 finished with value: -83058087.75647253 and parameters: {}. Best is trial 0 with value: -83058087.75647253.\n",
      "[I 2024-04-09 23:49:40,860] Trial 37 finished with value: -83058087.75647253 and parameters: {}. Best is trial 0 with value: -83058087.75647253.\n",
      "[I 2024-04-09 23:49:41,151] Trial 38 finished with value: -83058087.75647253 and parameters: {}. Best is trial 0 with value: -83058087.75647253.\n",
      "[I 2024-04-09 23:49:41,429] Trial 39 finished with value: -83058087.75647253 and parameters: {}. Best is trial 0 with value: -83058087.75647253.\n",
      "[I 2024-04-09 23:49:41,716] Trial 40 finished with value: -83058087.75647253 and parameters: {}. Best is trial 0 with value: -83058087.75647253.\n",
      "[I 2024-04-09 23:49:42,043] Trial 41 finished with value: -83058087.75647253 and parameters: {}. Best is trial 0 with value: -83058087.75647253.\n",
      "[I 2024-04-09 23:49:42,278] Trial 42 finished with value: -83058087.75647253 and parameters: {}. Best is trial 0 with value: -83058087.75647253.\n",
      "[I 2024-04-09 23:49:42,536] Trial 43 finished with value: -83058087.75647253 and parameters: {}. Best is trial 0 with value: -83058087.75647253.\n",
      "[I 2024-04-09 23:49:42,802] Trial 44 finished with value: -83058087.75647253 and parameters: {}. Best is trial 0 with value: -83058087.75647253.\n",
      "[I 2024-04-09 23:49:43,072] Trial 45 finished with value: -83058087.75647253 and parameters: {}. Best is trial 0 with value: -83058087.75647253.\n",
      "[I 2024-04-09 23:49:43,347] Trial 46 finished with value: -83058087.75647253 and parameters: {}. Best is trial 0 with value: -83058087.75647253.\n",
      "[I 2024-04-09 23:49:43,646] Trial 47 finished with value: -83058087.75647253 and parameters: {}. Best is trial 0 with value: -83058087.75647253.\n",
      "[I 2024-04-09 23:49:43,924] Trial 48 finished with value: -83058087.75647253 and parameters: {}. Best is trial 0 with value: -83058087.75647253.\n",
      "[I 2024-04-09 23:49:44,189] Trial 49 finished with value: -83058087.75647253 and parameters: {}. Best is trial 0 with value: -83058087.75647253.\n",
      "[I 2024-04-09 23:49:44,476] Trial 50 finished with value: -83058087.75647253 and parameters: {}. Best is trial 0 with value: -83058087.75647253.\n",
      "[I 2024-04-09 23:49:44,755] Trial 51 finished with value: -83058087.75647253 and parameters: {}. Best is trial 0 with value: -83058087.75647253.\n",
      "[I 2024-04-09 23:49:45,041] Trial 52 finished with value: -83058087.75647253 and parameters: {}. Best is trial 0 with value: -83058087.75647253.\n",
      "[I 2024-04-09 23:49:45,317] Trial 53 finished with value: -83058087.75647253 and parameters: {}. Best is trial 0 with value: -83058087.75647253.\n",
      "[I 2024-04-09 23:49:45,613] Trial 54 finished with value: -83058087.75647253 and parameters: {}. Best is trial 0 with value: -83058087.75647253.\n",
      "[I 2024-04-09 23:49:45,893] Trial 55 finished with value: -83058087.75647253 and parameters: {}. Best is trial 0 with value: -83058087.75647253.\n",
      "[I 2024-04-09 23:49:46,171] Trial 56 finished with value: -83058087.75647253 and parameters: {}. Best is trial 0 with value: -83058087.75647253.\n",
      "[I 2024-04-09 23:49:46,480] Trial 57 finished with value: -83058087.75647253 and parameters: {}. Best is trial 0 with value: -83058087.75647253.\n",
      "[I 2024-04-09 23:49:46,746] Trial 58 finished with value: -83058087.75647253 and parameters: {}. Best is trial 0 with value: -83058087.75647253.\n",
      "[I 2024-04-09 23:49:47,024] Trial 59 finished with value: -83058087.75647253 and parameters: {}. Best is trial 0 with value: -83058087.75647253.\n",
      "[I 2024-04-09 23:49:47,299] Trial 60 finished with value: -83058087.75647253 and parameters: {}. Best is trial 0 with value: -83058087.75647253.\n",
      "[I 2024-04-09 23:49:47,607] Trial 61 finished with value: -83058087.75647253 and parameters: {}. Best is trial 0 with value: -83058087.75647253.\n",
      "[I 2024-04-09 23:49:47,862] Trial 62 finished with value: -83058087.75647253 and parameters: {}. Best is trial 0 with value: -83058087.75647253.\n",
      "[I 2024-04-09 23:49:48,154] Trial 63 finished with value: -83058087.75647253 and parameters: {}. Best is trial 0 with value: -83058087.75647253.\n",
      "[I 2024-04-09 23:49:48,433] Trial 64 finished with value: -83058087.75647253 and parameters: {}. Best is trial 0 with value: -83058087.75647253.\n",
      "[I 2024-04-09 23:49:48,750] Trial 65 finished with value: -83058087.75647253 and parameters: {}. Best is trial 0 with value: -83058087.75647253.\n",
      "[I 2024-04-09 23:49:49,049] Trial 66 finished with value: -83058087.75647253 and parameters: {}. Best is trial 0 with value: -83058087.75647253.\n",
      "[I 2024-04-09 23:49:49,285] Trial 67 finished with value: -83058087.75647253 and parameters: {}. Best is trial 0 with value: -83058087.75647253.\n",
      "[I 2024-04-09 23:49:49,552] Trial 68 finished with value: -83058087.75647253 and parameters: {}. Best is trial 0 with value: -83058087.75647253.\n",
      "[I 2024-04-09 23:49:49,832] Trial 69 finished with value: -83058087.75647253 and parameters: {}. Best is trial 0 with value: -83058087.75647253.\n",
      "[I 2024-04-09 23:49:50,111] Trial 70 finished with value: -83058087.75647253 and parameters: {}. Best is trial 0 with value: -83058087.75647253.\n",
      "[I 2024-04-09 23:49:50,410] Trial 71 finished with value: -83058087.75647253 and parameters: {}. Best is trial 0 with value: -83058087.75647253.\n",
      "[I 2024-04-09 23:49:50,730] Trial 72 finished with value: -83058087.75647253 and parameters: {}. Best is trial 0 with value: -83058087.75647253.\n",
      "[I 2024-04-09 23:49:51,055] Trial 73 finished with value: -83058087.75647253 and parameters: {}. Best is trial 0 with value: -83058087.75647253.\n",
      "[I 2024-04-09 23:49:51,378] Trial 74 finished with value: -83058087.75647253 and parameters: {}. Best is trial 0 with value: -83058087.75647253.\n",
      "[I 2024-04-09 23:49:51,682] Trial 75 finished with value: -83058087.75647253 and parameters: {}. Best is trial 0 with value: -83058087.75647253.\n",
      "[I 2024-04-09 23:49:52,006] Trial 76 finished with value: -83058087.75647253 and parameters: {}. Best is trial 0 with value: -83058087.75647253.\n",
      "[I 2024-04-09 23:49:52,340] Trial 77 finished with value: -83058087.75647253 and parameters: {}. Best is trial 0 with value: -83058087.75647253.\n",
      "[I 2024-04-09 23:49:52,639] Trial 78 finished with value: -83058087.75647253 and parameters: {}. Best is trial 0 with value: -83058087.75647253.\n",
      "[I 2024-04-09 23:49:52,952] Trial 79 finished with value: -83058087.75647253 and parameters: {}. Best is trial 0 with value: -83058087.75647253.\n",
      "[I 2024-04-09 23:49:53,251] Trial 80 finished with value: -83058087.75647253 and parameters: {}. Best is trial 0 with value: -83058087.75647253.\n",
      "[I 2024-04-09 23:49:53,542] Trial 81 finished with value: -83058087.75647253 and parameters: {}. Best is trial 0 with value: -83058087.75647253.\n",
      "[I 2024-04-09 23:49:53,830] Trial 82 finished with value: -83058087.75647253 and parameters: {}. Best is trial 0 with value: -83058087.75647253.\n",
      "[I 2024-04-09 23:49:54,117] Trial 83 finished with value: -83058087.75647253 and parameters: {}. Best is trial 0 with value: -83058087.75647253.\n",
      "[I 2024-04-09 23:49:54,425] Trial 84 finished with value: -83058087.75647253 and parameters: {}. Best is trial 0 with value: -83058087.75647253.\n",
      "[I 2024-04-09 23:49:54,714] Trial 85 finished with value: -83058087.75647253 and parameters: {}. Best is trial 0 with value: -83058087.75647253.\n",
      "[I 2024-04-09 23:49:55,000] Trial 86 finished with value: -83058087.75647253 and parameters: {}. Best is trial 0 with value: -83058087.75647253.\n",
      "[I 2024-04-09 23:49:55,286] Trial 87 finished with value: -83058087.75647253 and parameters: {}. Best is trial 0 with value: -83058087.75647253.\n",
      "[I 2024-04-09 23:49:55,564] Trial 88 finished with value: -83058087.75647253 and parameters: {}. Best is trial 0 with value: -83058087.75647253.\n",
      "[I 2024-04-09 23:49:55,862] Trial 89 finished with value: -83058087.75647253 and parameters: {}. Best is trial 0 with value: -83058087.75647253.\n",
      "[I 2024-04-09 23:49:56,151] Trial 90 finished with value: -83058087.75647253 and parameters: {}. Best is trial 0 with value: -83058087.75647253.\n",
      "[I 2024-04-09 23:49:56,439] Trial 91 finished with value: -83058087.75647253 and parameters: {}. Best is trial 0 with value: -83058087.75647253.\n",
      "[I 2024-04-09 23:49:56,726] Trial 92 finished with value: -83058087.75647253 and parameters: {}. Best is trial 0 with value: -83058087.75647253.\n",
      "[I 2024-04-09 23:49:57,044] Trial 93 finished with value: -83058087.75647253 and parameters: {}. Best is trial 0 with value: -83058087.75647253.\n",
      "[I 2024-04-09 23:49:57,324] Trial 94 finished with value: -83058087.75647253 and parameters: {}. Best is trial 0 with value: -83058087.75647253.\n",
      "[I 2024-04-09 23:49:57,657] Trial 95 finished with value: -83058087.75647253 and parameters: {}. Best is trial 0 with value: -83058087.75647253.\n",
      "[I 2024-04-09 23:49:57,947] Trial 96 finished with value: -83058087.75647253 and parameters: {}. Best is trial 0 with value: -83058087.75647253.\n",
      "[I 2024-04-09 23:49:58,224] Trial 97 finished with value: -83058087.75647253 and parameters: {}. Best is trial 0 with value: -83058087.75647253.\n",
      "[I 2024-04-09 23:49:58,512] Trial 98 finished with value: -83058087.75647253 and parameters: {}. Best is trial 0 with value: -83058087.75647253.\n",
      "[I 2024-04-09 23:49:58,809] Trial 99 finished with value: -83058087.75647253 and parameters: {}. Best is trial 0 with value: -83058087.75647253.\n"
     ]
    }
   ],
   "source": [
    "# Otimização de hiperparâmetros com Optuna (exemplo com RandomForestRegressor)\n",
    "def objective(trial):\n",
    "    if best_model_name == 'Random Forest Regressor':\n",
    "        n_estimators = trial.suggest_int('n_estimators', 10, 100)\n",
    "        max_depth = trial.suggest_int('max_depth', 2, 32)\n",
    "        model = RandomForestRegressor(n_estimators=n_estimators, max_depth=max_depth)\n",
    "    elif best_model_name == 'Decision Tree Regressor':\n",
    "        max_depth = trial.suggest_int('max_depth', 2, 32)\n",
    "        model = DecisionTreeRegressor(max_depth=max_depth)\n",
    "    else:\n",
    "        model = models[best_model_name]  # Use the default hyperparameters for other models\n",
    "    score = cross_val_score(model, X_train, y_train, n_jobs=-1, cv=3, scoring='neg_mean_squared_error').mean()\n",
    "    return score\n",
    "\n",
    "study = optuna.create_study(direction='minimize')\n",
    "study.optimize(objective, n_trials=100)"
   ]
  },
  {
   "cell_type": "code",
   "execution_count": 14,
   "id": "4c466152-7210-4ae6-bbe2-50bbd3fcd988",
   "metadata": {},
   "outputs": [
    {
     "name": "stdout",
     "output_type": "stream",
     "text": [
      "Optimized Support Vector Regression MSE: 87402190.0\n"
     ]
    }
   ],
   "source": [
    "# Obtenha os melhores parâmetros do estudo Optuna\n",
    "best_params = study.best_params\n",
    "\n",
    "# Configure o modelo com os melhores parâmetros\n",
    "best_model.set_params(**best_params)\n",
    "\n",
    "# Ajuste o modelo aos dados de treinamento\n",
    "best_model.fit(X_train, y_train)\n",
    "\n",
    "y_pred = best_model.predict(X_test)\n",
    "mse = mean_squared_error(y_test, y_pred)\n",
    "print(f'Optimized {best_model_name} MSE: {round(mse,2)}')"
   ]
  },
  {
   "cell_type": "code",
   "execution_count": 15,
   "id": "33547ecc-41db-4611-b112-781aa8ad267f",
   "metadata": {},
   "outputs": [
    {
     "name": "stdout",
     "output_type": "stream",
     "text": [
      "O modelo selecionado não suporta o cálculo de importância das características.\n"
     ]
    }
   ],
   "source": [
    "# Obter a importância das características apenas para modelos que suportam esse atributo\n",
    "if hasattr(best_model, 'feature_importances_'):\n",
    "    # Obter a importância das características do modelo\n",
    "    feature_importances = best_model.feature_importances_\n",
    "    \n",
    "    # Criar um DataFrame para visualizar a importância das características\n",
    "    importance_df = pd.DataFrame({'Colunas': X_train.columns, 'Importância': feature_importances})\n",
    "\n",
    "    # Ordenar as características por importância\n",
    "    importance_df = importance_df.sort_values(by='Importância', ascending=False)\n",
    "    \n",
    "    print(\"\\nQuais características individuais têm maior impacto nos custos médicos cobrados pelo seguro de saúde?\")\n",
    "    print(round(importance_df,2))\n",
    "\n",
    "    # Selecionar as características mais importantes (por exemplo, as 10 mais importantes)\n",
    "    top_features = importance_df.head(10)['Colunas'].tolist()  # Ajuste o número conforme necessário\n",
    "    \n",
    "    # Calcular a matriz de correlação apenas para as características mais importantes\n",
    "    correlation_matrix = X_train[top_features].corr()\n",
    "    \n",
    "    # Visualizar a matriz de correlação\n",
    "    print(\"\\nExiste alguma correlação entre certas características (por exemplo, idade, IMC) e os custos médicos?\")\n",
    "    print(correlation_matrix)\n",
    "else:\n",
    "    print(\"O modelo selecionado não suporta o cálculo de importância das características.\")"
   ]
  },
  {
   "cell_type": "code",
   "execution_count": 32,
   "id": "3ff98bdc-0c3b-47f8-8286-bfe6f7e6425d",
   "metadata": {},
   "outputs": [
    {
     "name": "stdout",
     "output_type": "stream",
     "text": [
      "      Idade       IMC    Filhos   Fumante  Categoria IMC  Região_numerica  \\\n",
      "0  0.793905  0.736270  0.789553  0.760057       0.774865         0.930916   \n",
      "1  0.923147  0.080789  0.346248  0.295428       0.061012         0.742059   \n",
      "2  0.890172  0.749384  0.579582  0.909149       0.120879         0.421084   \n",
      "3  0.229472  0.561321  0.490302  0.441156       0.255694         0.045428   \n",
      "4  0.808833  0.866511  0.441727  0.265073       0.174172         0.886599   \n",
      "\n",
      "   Gênero_masculino  Região_noroeste  Região_sudeste  Região_sudoeste  \n",
      "0          0.459833         0.755869        0.591641         0.057620  \n",
      "1          0.993005         0.822021        0.884151         0.503712  \n",
      "2          0.094662         0.367988        0.952450         0.651979  \n",
      "3          0.025215         0.680752        0.621632         0.813916  \n",
      "4          0.611215         0.474088        0.287061         0.983622  \n",
      "\n",
      "Modelo treinado para fazer previsões dos encargos futuros:\n",
      "[29698.51, 29701.5, 29698.66, 29701.2, 29698.16, 29703.06, 29699.8, 29703.5, 29699.48, 29699.82, 29700.71, 29703.14, 29699.27, 29701.35, 29698.38, 29698.14, 29700.47, 29701.08, 29698.92, 29699.88, 29700.14, 29699.7, 29703.76, 29699.86, 29698.18, 29701.65, 29699.22, 29699.67, 29701.47, 29700.41, 29702.7, 29703.23, 29699.76, 29701.82, 29702.53, 29700.6, 29698.39, 29701.56, 29699.16, 29701.32, 29700.11, 29700.15, 29702.6, 29702.13, 29700.26, 29699.95, 29699.99, 29700.48, 29698.94, 29700.54, 29701.29, 29699.47, 29699.39, 29698.36, 29701.52, 29698.83, 29697.16, 29699.5, 29702.92, 29700.1, 29700.01, 29700.14, 29701.31, 29701.67, 29699.75, 29700.07, 29700.05, 29697.92, 29697.68, 29703.05, 29698.94, 29700.96, 29702.2, 29701.95, 29699.29, 29699.01, 29698.57, 29700.25, 29699.74, 29699.2, 29701.96, 29700.88, 29700.36, 29701.58, 29701.04, 29700.24, 29699.89, 29702.21, 29700.66, 29697.85, 29700.59, 29700.28, 29701.55, 29699.01, 29698.33, 29699.86, 29698.38, 29700.06, 29703.11, 29701.84, 29699.79, 29702.29, 29701.47, 29702.22, 29701.14, 29699.48, 29700.63, 29701.95, 29699.53, 29701.94, 29702.04, 29700.36, 29701.58, 29702.13, 29699.85, 29701.8, 29702.45, 29700.0, 29702.43, 29702.69, 29701.18, 29700.42, 29701.96, 29700.99, 29699.95, 29699.03, 29700.06, 29702.1, 29701.31, 29701.46, 29700.78, 29697.57, 29697.65, 29700.39, 29701.83, 29700.11, 29697.87, 29700.09, 29703.0, 29701.13, 29698.45, 29701.78, 29703.25, 29702.94, 29700.98, 29700.63, 29700.73, 29703.11, 29701.04, 29700.93, 29698.44, 29700.67, 29700.62, 29699.96, 29701.91, 29699.34, 29700.26, 29699.37, 29700.4, 29697.76, 29698.75, 29698.54, 29701.85, 29698.94, 29701.12, 29703.02, 29697.58, 29702.19, 29701.0, 29699.71, 29699.72, 29699.74, 29697.75, 29699.37, 29698.6, 29700.01, 29699.99, 29699.21, 29698.4, 29700.36, 29701.81, 29697.85, 29703.17, 29701.75, 29697.96, 29701.35, 29701.45, 29700.47, 29702.74, 29700.07, 29700.16, 29702.82, 29700.3, 29701.21, 29702.14, 29700.01, 29700.31, 29702.55, 29701.38, 29703.12]\n",
      "\n",
      "Grupos de indivíduos com diferentes níveis de risco:\n",
      "['Baixo Risco', 'Alto Risco', 'Baixo Risco', 'Alto Risco', 'Baixo Risco', 'Alto Risco', 'Baixo Risco', 'Alto Risco', 'Baixo Risco', 'Baixo Risco', 'Alto Risco', 'Alto Risco', 'Baixo Risco', 'Alto Risco', 'Baixo Risco', 'Baixo Risco', 'Baixo Risco', 'Alto Risco', 'Baixo Risco', 'Baixo Risco', 'Baixo Risco', 'Baixo Risco', 'Alto Risco', 'Baixo Risco', 'Baixo Risco', 'Alto Risco', 'Baixo Risco', 'Baixo Risco', 'Alto Risco', 'Baixo Risco', 'Alto Risco', 'Alto Risco', 'Baixo Risco', 'Alto Risco', 'Alto Risco', 'Alto Risco', 'Baixo Risco', 'Alto Risco', 'Baixo Risco', 'Alto Risco', 'Baixo Risco', 'Baixo Risco', 'Alto Risco', 'Alto Risco', 'Baixo Risco', 'Baixo Risco', 'Baixo Risco', 'Baixo Risco', 'Baixo Risco', 'Alto Risco', 'Alto Risco', 'Baixo Risco', 'Baixo Risco', 'Baixo Risco', 'Alto Risco', 'Baixo Risco', 'Baixo Risco', 'Baixo Risco', 'Alto Risco', 'Baixo Risco', 'Baixo Risco', 'Baixo Risco', 'Alto Risco', 'Alto Risco', 'Baixo Risco', 'Baixo Risco', 'Baixo Risco', 'Baixo Risco', 'Baixo Risco', 'Alto Risco', 'Baixo Risco', 'Alto Risco', 'Alto Risco', 'Alto Risco', 'Baixo Risco', 'Baixo Risco', 'Baixo Risco', 'Baixo Risco', 'Baixo Risco', 'Baixo Risco', 'Alto Risco', 'Alto Risco', 'Baixo Risco', 'Alto Risco', 'Alto Risco', 'Baixo Risco', 'Baixo Risco', 'Alto Risco', 'Alto Risco', 'Baixo Risco', 'Alto Risco', 'Baixo Risco', 'Alto Risco', 'Baixo Risco', 'Baixo Risco', 'Baixo Risco', 'Baixo Risco', 'Baixo Risco', 'Alto Risco', 'Alto Risco', 'Baixo Risco', 'Alto Risco', 'Alto Risco', 'Alto Risco', 'Alto Risco', 'Baixo Risco', 'Alto Risco', 'Alto Risco', 'Baixo Risco', 'Alto Risco', 'Alto Risco', 'Baixo Risco', 'Alto Risco', 'Alto Risco', 'Baixo Risco', 'Alto Risco', 'Alto Risco', 'Baixo Risco', 'Alto Risco', 'Alto Risco', 'Alto Risco', 'Baixo Risco', 'Alto Risco', 'Alto Risco', 'Baixo Risco', 'Baixo Risco', 'Baixo Risco', 'Alto Risco', 'Alto Risco', 'Alto Risco', 'Alto Risco', 'Baixo Risco', 'Baixo Risco', 'Baixo Risco', 'Alto Risco', 'Baixo Risco', 'Baixo Risco', 'Baixo Risco', 'Alto Risco', 'Alto Risco', 'Baixo Risco', 'Alto Risco', 'Alto Risco', 'Alto Risco', 'Alto Risco', 'Alto Risco', 'Alto Risco', 'Alto Risco', 'Alto Risco', 'Alto Risco', 'Baixo Risco', 'Alto Risco', 'Alto Risco', 'Baixo Risco', 'Alto Risco', 'Baixo Risco', 'Baixo Risco', 'Baixo Risco', 'Baixo Risco', 'Baixo Risco', 'Baixo Risco', 'Baixo Risco', 'Alto Risco', 'Baixo Risco', 'Alto Risco', 'Alto Risco', 'Baixo Risco', 'Alto Risco', 'Alto Risco', 'Baixo Risco', 'Baixo Risco', 'Baixo Risco', 'Baixo Risco', 'Baixo Risco', 'Baixo Risco', 'Baixo Risco', 'Baixo Risco', 'Baixo Risco', 'Baixo Risco', 'Baixo Risco', 'Alto Risco', 'Baixo Risco', 'Alto Risco', 'Alto Risco', 'Baixo Risco', 'Alto Risco', 'Alto Risco', 'Baixo Risco', 'Alto Risco', 'Baixo Risco', 'Baixo Risco', 'Alto Risco', 'Baixo Risco', 'Alto Risco', 'Alto Risco', 'Baixo Risco', 'Baixo Risco', 'Alto Risco', 'Alto Risco', 'Alto Risco']\n",
      "\n",
      "Análises de sensibilidade para entender o impacto das mudanças nas características dos segurados nos encargos previstos:\n",
      "[29849.62, 29850.81, 29849.78, 29850.11, 29849.53, 29850.62, 29849.88, 29850.9, 29849.75, 29849.88, 29849.83, 29850.63, 29849.36, 29850.48, 29849.37, 29849.67, 29850.07, 29850.56, 29849.76, 29849.93, 29850.13, 29849.77, 29850.82, 29850.12, 29849.47, 29850.4, 29849.64, 29849.86, 29850.28, 29849.88, 29850.68, 29850.76, 29850.16, 29850.8, 29850.7, 29849.88, 29849.37, 29850.56, 29849.58, 29850.71, 29849.96, 29849.74, 29850.47, 29850.6, 29849.69, 29849.66, 29850.16, 29849.86, 29849.52, 29849.88, 29850.42, 29849.42, 29849.56, 29849.47, 29850.52, 29849.76, 29849.3, 29849.66, 29850.83, 29850.34, 29850.24, 29850.32, 29849.93, 29850.26, 29849.42, 29850.09, 29850.07, 29849.25, 29849.41, 29850.64, 29849.79, 29850.22, 29850.37, 29850.84, 29849.59, 29849.96, 29849.52, 29850.13, 29849.89, 29849.69, 29850.18, 29850.12, 29850.21, 29850.58, 29850.44, 29850.31, 29850.09, 29850.43, 29849.96, 29849.46, 29849.71, 29850.33, 29850.71, 29849.66, 29849.41, 29849.74, 29849.63, 29850.34, 29850.86, 29850.16, 29849.77, 29850.83, 29850.48, 29850.26, 29850.01, 29849.74, 29850.53, 29850.35, 29849.56, 29850.38, 29850.32, 29850.07, 29850.24, 29850.25, 29849.75, 29850.56, 29850.75, 29849.75, 29850.34, 29850.62, 29850.74, 29850.14, 29850.98, 29849.99, 29849.69, 29849.81, 29849.93, 29850.48, 29850.24, 29850.15, 29850.09, 29849.35, 29849.35, 29849.88, 29850.62, 29850.27, 29849.28, 29849.8, 29850.64, 29850.58, 29849.59, 29850.78, 29850.8, 29850.83, 29850.38, 29850.42, 29849.85, 29850.86, 29849.97, 29850.6, 29849.54, 29850.42, 29850.29, 29850.21, 29850.5, 29849.29, 29850.0, 29849.42, 29850.26, 29849.46, 29849.72, 29849.44, 29850.24, 29849.7, 29850.39, 29850.86, 29849.42, 29850.39, 29850.24, 29850.17, 29850.18, 29850.11, 29849.45, 29849.67, 29849.55, 29850.24, 29849.87, 29849.61, 29849.71, 29849.67, 29850.12, 29849.38, 29850.98, 29850.36, 29849.3, 29850.43, 29850.78, 29849.9, 29850.53, 29849.89, 29850.25, 29850.54, 29850.29, 29850.11, 29850.7, 29849.58, 29850.17, 29850.52, 29850.62, 29850.68]\n",
      "\n",
      "Utilizando as previsões dos encargos para otimizar a alocação de recursos:\n",
      "['Alocar mais recursos', 'Alocar mais recursos', 'Alocar mais recursos', 'Alocar mais recursos', 'Alocar mais recursos', 'Alocar mais recursos', 'Alocar mais recursos', 'Alocar mais recursos', 'Alocar mais recursos', 'Alocar mais recursos', 'Alocar mais recursos', 'Alocar mais recursos', 'Alocar mais recursos', 'Alocar mais recursos', 'Alocar mais recursos', 'Alocar mais recursos', 'Alocar mais recursos', 'Alocar mais recursos', 'Alocar mais recursos', 'Alocar mais recursos', 'Alocar mais recursos', 'Alocar mais recursos', 'Alocar mais recursos', 'Alocar mais recursos', 'Alocar mais recursos', 'Alocar mais recursos', 'Alocar mais recursos', 'Alocar mais recursos', 'Alocar mais recursos', 'Alocar mais recursos', 'Alocar mais recursos', 'Alocar mais recursos', 'Alocar mais recursos', 'Alocar mais recursos', 'Alocar mais recursos', 'Alocar mais recursos', 'Alocar mais recursos', 'Alocar mais recursos', 'Alocar mais recursos', 'Alocar mais recursos', 'Alocar mais recursos', 'Alocar mais recursos', 'Alocar mais recursos', 'Alocar mais recursos', 'Alocar mais recursos', 'Alocar mais recursos', 'Alocar mais recursos', 'Alocar mais recursos', 'Alocar mais recursos', 'Alocar mais recursos', 'Alocar mais recursos', 'Alocar mais recursos', 'Alocar mais recursos', 'Alocar mais recursos', 'Alocar mais recursos', 'Alocar mais recursos', 'Alocar mais recursos', 'Alocar mais recursos', 'Alocar mais recursos', 'Alocar mais recursos', 'Alocar mais recursos', 'Alocar mais recursos', 'Alocar mais recursos', 'Alocar mais recursos', 'Alocar mais recursos', 'Alocar mais recursos', 'Alocar mais recursos', 'Alocar mais recursos', 'Alocar mais recursos', 'Alocar mais recursos', 'Alocar mais recursos', 'Alocar mais recursos', 'Alocar mais recursos', 'Alocar mais recursos', 'Alocar mais recursos', 'Alocar mais recursos', 'Alocar mais recursos', 'Alocar mais recursos', 'Alocar mais recursos', 'Alocar mais recursos', 'Alocar mais recursos', 'Alocar mais recursos', 'Alocar mais recursos', 'Alocar mais recursos', 'Alocar mais recursos', 'Alocar mais recursos', 'Alocar mais recursos', 'Alocar mais recursos', 'Alocar mais recursos', 'Alocar mais recursos', 'Alocar mais recursos', 'Alocar mais recursos', 'Alocar mais recursos', 'Alocar mais recursos', 'Alocar mais recursos', 'Alocar mais recursos', 'Alocar mais recursos', 'Alocar mais recursos', 'Alocar mais recursos', 'Alocar mais recursos', 'Alocar mais recursos', 'Alocar mais recursos', 'Alocar mais recursos', 'Alocar mais recursos', 'Alocar mais recursos', 'Alocar mais recursos', 'Alocar mais recursos', 'Alocar mais recursos', 'Alocar mais recursos', 'Alocar mais recursos', 'Alocar mais recursos', 'Alocar mais recursos', 'Alocar mais recursos', 'Alocar mais recursos', 'Alocar mais recursos', 'Alocar mais recursos', 'Alocar mais recursos', 'Alocar mais recursos', 'Alocar mais recursos', 'Alocar mais recursos', 'Alocar mais recursos', 'Alocar mais recursos', 'Alocar mais recursos', 'Alocar mais recursos', 'Alocar mais recursos', 'Alocar mais recursos', 'Alocar mais recursos', 'Alocar mais recursos', 'Alocar mais recursos', 'Alocar mais recursos', 'Alocar mais recursos', 'Alocar mais recursos', 'Alocar mais recursos', 'Alocar mais recursos', 'Alocar mais recursos', 'Alocar mais recursos', 'Alocar mais recursos', 'Alocar mais recursos', 'Alocar mais recursos', 'Alocar mais recursos', 'Alocar mais recursos', 'Alocar mais recursos', 'Alocar mais recursos', 'Alocar mais recursos', 'Alocar mais recursos', 'Alocar mais recursos', 'Alocar mais recursos', 'Alocar mais recursos', 'Alocar mais recursos', 'Alocar mais recursos', 'Alocar mais recursos', 'Alocar mais recursos', 'Alocar mais recursos', 'Alocar mais recursos', 'Alocar mais recursos', 'Alocar mais recursos', 'Alocar mais recursos', 'Alocar mais recursos', 'Alocar mais recursos', 'Alocar mais recursos', 'Alocar mais recursos', 'Alocar mais recursos', 'Alocar mais recursos', 'Alocar mais recursos', 'Alocar mais recursos', 'Alocar mais recursos', 'Alocar mais recursos', 'Alocar mais recursos', 'Alocar mais recursos', 'Alocar mais recursos', 'Alocar mais recursos', 'Alocar mais recursos', 'Alocar mais recursos', 'Alocar mais recursos', 'Alocar mais recursos', 'Alocar mais recursos', 'Alocar mais recursos', 'Alocar mais recursos', 'Alocar mais recursos', 'Alocar mais recursos', 'Alocar mais recursos', 'Alocar mais recursos', 'Alocar mais recursos', 'Alocar mais recursos', 'Alocar mais recursos', 'Alocar mais recursos', 'Alocar mais recursos', 'Alocar mais recursos', 'Alocar mais recursos', 'Alocar mais recursos', 'Alocar mais recursos', 'Alocar mais recursos', 'Alocar mais recursos', 'Alocar mais recursos', 'Alocar mais recursos', 'Alocar mais recursos', 'Alocar mais recursos', 'Alocar mais recursos', 'Alocar mais recursos', 'Alocar mais recursos']\n",
      "\n",
      "Utilizando as informações obtidas com o modelo para desenvolver planos estratégicos:\n",
      "{29697.16, 29698.16, 29698.51, 29698.66, 29701.2, 29701.5, 29703.06, 29699.8, 29703.5, 29699.48, 29699.82, 29700.71, 29703.14, 29701.35, 29703.76, 29703.23, 29700.16, 29699.72, 29701.83, 29701.45, 29699.71, 29699.21, 29701.94, 29702.82, 29702.14, 29700.24, 29700.66, 29700.59, 29700.06, 29700.63, 29700.99, 29700.09, 29700.98, 29700.73, 29700.62, 29698.6, 29698.4, 29697.65, 29697.87, 29697.76, 29697.58, 29697.75, 29697.96, 29698.94, 29698.36, 29698.83, 29698.57, 29698.33, 29698.45, 29698.44, 29698.75, 29698.54, 29701.91, 29701.78, 29699.27, 29699.88, 29699.7, 29699.86, 29699.22, 29699.67, 29699.76, 29699.29, 29699.01, 29699.74, 29700.41, 29700.6, 29700.54, 29700.1, 29700.01, 29700.07, 29700.05, 29700.25, 29700.88, 29700.36, 29701.13, 29701.38, 29701.56, 29701.32, 29701.29, 29701.52, 29701.31, 29701.67, 29701.96, 29701.58, 29701.04, 29699.89, 29701.55, 29699.79, 29699.53, 29699.85, 29699.03, 29699.96, 29701.12, 29702.2, 29702.21, 29702.29, 29702.22, 29702.04, 29702.45, 29702.43, 29702.69, 29702.1, 29702.94, 29700.31, 29700.3, 29703.02, 29703.17, 29703.12, 29701.84, 29701.46, 29701.21, 29702.19, 29702.74, 29702.55, 29700.28, 29700.0, 29700.42, 29700.78, 29700.39, 29700.93, 29700.67, 29700.4, 29701.81, 29701.18, 29701.8, 29697.92, 29697.68, 29697.85, 29701.14, 29697.57, 29698.38, 29698.14, 29698.92, 29698.18, 29698.39, 29699.16, 29699.95, 29699.99, 29699.47, 29699.39, 29699.5, 29699.75, 29700.96, 29700.11, 29700.15, 29701.95, 29700.26, 29700.48, 29700.47, 29700.14, 29701.08, 29701.65, 29701.47, 29701.82, 29702.7, 29702.53, 29702.6, 29702.13, 29702.92, 29703.05, 29699.2, 29703.11, 29703.0, 29703.25, 29699.34, 29699.37, 29701.0, 29701.75, 29701.85}\n"
     ]
    }
   ],
   "source": [
    "# Definição de dados futuros - 100 linhas\n",
    "dados_futuros = pd.DataFrame(np.random.rand(200, len(X_train.columns)), columns=X_train.columns)\n",
    "print(dados_futuros.head())"
   ]
  },
  {
   "cell_type": "markdown",
   "id": "5b6d667b-d351-4280-acc0-e3eadcd2691a",
   "metadata": {},
   "source": [
    "Modelo treinado para fazer previsões dos encargos futuros:"
   ]
  },
  {
   "cell_type": "code",
   "execution_count": null,
   "id": "ef157340-e0fe-40af-99cf-c51dc182c8d8",
   "metadata": {},
   "outputs": [],
   "source": [
    "encargos_futuros = prever_encargos_futuros(best_model, dados_futuros)"
   ]
  },
  {
   "cell_type": "markdown",
   "id": "5a705801-4d0c-49a5-b8c2-0179edc79268",
   "metadata": {},
   "source": [
    "Grupos de indivíduos com diferentes níveis de risco"
   ]
  },
  {
   "cell_type": "code",
   "execution_count": null,
   "id": "9fca20a5-19a3-4b6e-813a-8e3bc3eff4b0",
   "metadata": {},
   "outputs": [],
   "source": [
    "grupos_risco = segmentacao_de_risco(best_model, dados_futuros)"
   ]
  },
  {
   "cell_type": "markdown",
   "id": "e0f827ad-ea14-449f-ac30-740f7847e0ad",
   "metadata": {},
   "source": [
    "Análises de sensibilidade para entender o impacto das mudanças nas características dos segurados nos encargos previstos:"
   ]
  },
  {
   "cell_type": "code",
   "execution_count": null,
   "id": "8e827e0d-72e5-4bbf-b458-7bab84abfdcb",
   "metadata": {},
   "outputs": [],
   "source": [
    "custos_previstos_alterados = analise_de_sensibilidade(best_model, dados_futuros, 'Idade', novo_valor=40)"
   ]
  },
  {
   "cell_type": "markdown",
   "id": "c38da1be-74f3-4fc5-9ab3-da6447d943ef",
   "metadata": {},
   "source": [
    "Utilizando as previsões dos encargos para otimizar a alocação de recursos:"
   ]
  },
  {
   "cell_type": "code",
   "execution_count": null,
   "id": "3740e3ff-fcdf-416f-9aa4-3f54b5d2f539",
   "metadata": {},
   "outputs": [],
   "source": [
    "recursos_otimizados = otimizacao_de_recursos(encargos_futuros)"
   ]
  },
  {
   "cell_type": "code",
   "execution_count": null,
   "id": "3c817b6e-b435-4c2a-8bd4-8859f0cab519",
   "metadata": {},
   "outputs": [],
   "source": [
    "Utilizando as informações obtidas com o modelo para desenvolver planos estratégicos:"
   ]
  },
  {
   "cell_type": "code",
   "execution_count": null,
   "id": "160d53a4-3d2b-4a41-af3b-cbbbf91116c8",
   "metadata": {},
   "outputs": [],
   "source": [
    "planos_estrategicos = planejamento_estrategico(best_model, dados_futuros)"
   ]
  },
  {
   "cell_type": "code",
   "execution_count": null,
   "id": "b5651aad-ab93-4e5d-9119-62173d584776",
   "metadata": {},
   "outputs": [],
   "source": [
    "# Adicionando as novas colunas na planilha dados futuros\n",
    "dados_futuros['Encargo Futuro'] = encargos_futuros\n",
    "dados_futuros['Grupos Risco'] = grupos_risco\n",
    "dados_futuros['Recursos Otimizados'] = custos_previstos_alterados\n",
    "dados_futuros['Planos estratégicos'] = planos_estrategicos\n",
    "dados_futuros['Encargos'] = np.nan\n",
    "\n",
    "# Salvar os dados randômicos futuros\n",
    "dados_futuros.to_csv(\"../planilhas/4_dados_futuros.csv\", index=False, encoding='latin1')"
   ]
  },
  {
   "cell_type": "code",
   "execution_count": 28,
   "id": "34520248-7ad9-4789-88c9-d3e48b98ffcb",
   "metadata": {},
   "outputs": [
    {
     "data": {
      "image/png": "[encoded data removed]",
      "text/plain": [
       "<Figure size 1500x500 with 1 Axes>"
      ]
     },
     "metadata": {},
     "output_type": "display_data"
    }
   ],
   "source": [
    "fig, axs = plt.subplots(figsize=(15, 5))\n",
    "\n",
    "# Criar gráfico\n",
    "plt.plot(dados_futuros['Encargo Futuro'], label='Previsões', color='blue', marker='o')\n",
    "plt.plot(dados_futuros['Encargos'], label='Valores Reais', color='green', marker='x')\n",
    "\n",
    "# Adicionar rótulos e legenda\n",
    "plt.xlabel('Período')\n",
    "plt.ylabel('Valor')\n",
    "plt.legend()\n",
    "\n",
    "# Exibir gráfico\n",
    "plt.title('Previsões vs. Valores Reais')\n",
    "plt.show()"
   ]
  }
 ],
 "metadata": {
  "kernelspec": {
   "display_name": "Python 3 (ipykernel)",
   "language": "python",
   "name": "python3"
  },
  "language_info": {
   "codemirror_mode": {
    "name": "ipython",
    "version": 3
   },
   "file_extension": ".py",
   "mimetype": "text/x-python",
   "name": "python",
   "nbconvert_exporter": "python",
   "pygments_lexer": "ipython3",
   "version": "3.12.2"
  }
 },
 "nbformat": 4,
 "nbformat_minor": 5
}
